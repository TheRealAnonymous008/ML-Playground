{
 "cells": [
  {
   "cell_type": "code",
   "execution_count": 37,
   "metadata": {},
   "outputs": [
    {
     "name": "stdout",
     "output_type": "stream",
     "text": [
      "The autoreload extension is already loaded. To reload it, use:\n",
      "  %reload_ext autoreload\n"
     ]
    }
   ],
   "source": [
    "%load_ext autoreload\n",
    "%autoreload 2\n",
    "\n",
    "from dataset import VOCABULARY, NUM_MIDI_NOTES\n",
    "from model import NoteComposeNet\n",
    "\n",
    "import numpy as np\n",
    "import pretty_midi"
   ]
  },
  {
   "cell_type": "code",
   "execution_count": 8,
   "metadata": {},
   "outputs": [],
   "source": [
    "# Load model. Potentially load some weights as well.\n",
    "\n",
    "model = NoteComposeNet()"
   ]
  },
  {
   "cell_type": "code",
   "execution_count": 35,
   "metadata": {},
   "outputs": [
    {
     "name": "stdout",
     "output_type": "stream",
     "text": [
      "['C♯5', 'B8', 'A1', 'A-1', 'G2', 'C♯8', 'F9', 'G3', 'E1', 'D♯7']\n"
     ]
    }
   ],
   "source": [
    "toks = model.generate(np.array([VOCABULARY[\"EOS\"]], dtype=int), max_len=100)\n",
    "print(model.detokenize(toks))"
   ]
  },
  {
   "cell_type": "code",
   "execution_count": 39,
   "metadata": {},
   "outputs": [],
   "source": [
    "midi_file = pretty_midi.PrettyMIDI()\n",
    "\n",
    "piano = pretty_midi.Instrument(pretty_midi.instrument_name_to_program(\"Electric Piano 1\"))\n",
    "\n",
    "time = 0\n",
    "for tok in toks:\n",
    "    duration = .5\n",
    "\n",
    "    if tok < NUM_MIDI_NOTES:\n",
    "        note = pretty_midi.Note(velocity=100, pitch=tok, start=time, end=time + duration)\n",
    "    elif tok == VOCABULARY['EOS']:\n",
    "        break # Stop Generating for EOS\n",
    "    else:\n",
    "        time += duration # Simply add a new time\n",
    "\n",
    "    piano.notes.append(note)\n",
    "\n",
    "midi_file.instruments.append(piano)\n",
    "\n",
    "midi_file.write(\"my_midi.mid\")"
   ]
  }
 ],
 "metadata": {
  "kernelspec": {
   "display_name": "agienv",
   "language": "python",
   "name": "python3"
  },
  "language_info": {
   "codemirror_mode": {
    "name": "ipython",
    "version": 3
   },
   "file_extension": ".py",
   "mimetype": "text/x-python",
   "name": "python",
   "nbconvert_exporter": "python",
   "pygments_lexer": "ipython3",
   "version": "3.11.3"
  },
  "orig_nbformat": 4
 },
 "nbformat": 4,
 "nbformat_minor": 2
}
