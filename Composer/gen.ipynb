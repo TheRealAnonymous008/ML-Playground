{
 "cells": [
  {
   "cell_type": "code",
   "execution_count": 1,
   "metadata": {},
   "outputs": [],
   "source": [
    "%load_ext autoreload\n",
    "%autoreload 2\n",
    "\n",
    "from dataset import VOCABULARY, NUM_MIDI_NOTES\n",
    "from model import NoteComposeNet\n",
    "\n",
    "import numpy as np\n",
    "import pretty_midi\n",
    "import torch\n",
    "import matplotlib.pyplot as plt\n",
    "%matplotlib inline \n",
    "\n",
    "import librosa"
   ]
  },
  {
   "cell_type": "code",
   "execution_count": 2,
   "metadata": {},
   "outputs": [],
   "source": [
    "SKIP_EOS = True # If true, ignores any EOS tokens"
   ]
  },
  {
   "cell_type": "code",
   "execution_count": 6,
   "metadata": {},
   "outputs": [
    {
     "data": {
      "text/plain": [
       "<All keys matched successfully>"
      ]
     },
     "execution_count": 6,
     "metadata": {},
     "output_type": "execute_result"
    }
   ],
   "source": [
    "# Load model. Potentially load some weights as well.\n",
    "\n",
    "model = NoteComposeNet()\n",
    "\n",
    "PATH = r\"./checkpoints/model_20230801_173141_1\"\n",
    "model.load_state_dict(torch.load(PATH))"
   ]
  },
  {
   "cell_type": "code",
   "execution_count": null,
   "metadata": {},
   "outputs": [
    {
     "name": "stdout",
     "output_type": "stream",
     "text": [
      "['Acoustic Grand Piano', 'Bright Acoustic Piano', 'Electric Grand Piano', 'Honky-tonk Piano', 'Electric Piano 1', 'Electric Piano 2', 'Harpsichord', 'Clavinet', 'Celesta', 'Glockenspiel', 'Music Box', 'Vibraphone', 'Marimba', 'Xylophone', 'Tubular Bells', 'Dulcimer', 'Drawbar Organ', 'Percussive Organ', 'Rock Organ', 'Church Organ', 'Reed Organ', 'Accordion', 'Harmonica', 'Tango Accordion', 'Acoustic Guitar (nylon)', 'Acoustic Guitar (steel)', 'Electric Guitar (jazz)', 'Electric Guitar (clean)', 'Electric Guitar (muted)', 'Overdriven Guitar', 'Distortion Guitar', 'Guitar Harmonics', 'Acoustic Bass', 'Electric Bass (finger)', 'Electric Bass (pick)', 'Fretless Bass', 'Slap Bass 1', 'Slap Bass 2', 'Synth Bass 1', 'Synth Bass 2', 'Violin', 'Viola', 'Cello', 'Contrabass', 'Tremolo Strings', 'Pizzicato Strings', 'Orchestral Harp', 'Timpani', 'String Ensemble 1', 'String Ensemble 2', 'Synth Strings 1', 'Synth Strings 2', 'Choir Aahs', 'Voice Oohs', 'Synth Choir', 'Orchestra Hit', 'Trumpet', 'Trombone', 'Tuba', 'Muted Trumpet', 'French Horn', 'Brass Section', 'Synth Brass 1', 'Synth Brass 2', 'Soprano Sax', 'Alto Sax', 'Tenor Sax', 'Baritone Sax', 'Oboe', 'English Horn', 'Bassoon', 'Clarinet', 'Piccolo', 'Flute', 'Recorder', 'Pan Flute', 'Blown bottle', 'Shakuhachi', 'Whistle', 'Ocarina', 'Lead 1 (square)', 'Lead 2 (sawtooth)', 'Lead 3 (calliope)', 'Lead 4 chiff', 'Lead 5 (charang)', 'Lead 6 (voice)', 'Lead 7 (fifths)', 'Lead 8 (bass + lead)', 'Pad 1 (new age)', 'Pad 2 (warm)', 'Pad 3 (polysynth)', 'Pad 4 (choir)', 'Pad 5 (bowed)', 'Pad 6 (metallic)', 'Pad 7 (halo)', 'Pad 8 (sweep)', 'FX 1 (rain)', 'FX 2 (soundtrack)', 'FX 3 (crystal)', 'FX 4 (atmosphere)', 'FX 5 (brightness)', 'FX 6 (goblins)', 'FX 7 (echoes)', 'FX 8 (sci-fi)', 'Sitar', 'Banjo', 'Shamisen', 'Koto', 'Kalimba', 'Bagpipe', 'Fiddle', 'Shanai', 'Tinkle Bell', 'Agogo', 'Steel Drums', 'Woodblock', 'Taiko Drum', 'Melodic Tom', 'Synth Drum', 'Reverse Cymbal', 'Guitar Fret Noise', 'Breath Noise', 'Seashore', 'Bird Tweet', 'Telephone Ring', 'Helicopter', 'Applause', 'Gunshot']\n"
     ]
    }
   ],
   "source": [
    "print(pretty_midi.INSTRUMENT_MAP)"
   ]
  },
  {
   "cell_type": "code",
   "execution_count": 37,
   "metadata": {},
   "outputs": [
    {
     "name": "stdout",
     "output_type": "stream",
     "text": [
      "['SEP', 'SEP', 'G5', 'G8', 'SEP', 'SEP', 'G5', 'D-1', 'SEP', 'SEP', 'F♯9', 'SEP', 'SEP', 'F6', 'SEP', 'SEP', 'SEP', 'SEP', 'G5', 'SEP', 'SEP', 'SEP', 'SEP', 'A♯5', 'SEP', 'D♯1', 'SEP', 'SEP', 'A-1', 'G♯0', 'SEP', 'G5', 'SEP', 'A2', 'SEP', 'SEP', 'F♯-1', 'D♯1', 'SEP', 'MASK', 'SEP', 'F♯0', 'SEP', 'SEP', 'SEP', 'SEP', 'F6', 'F6', 'C0', 'SEP', 'SEP', 'SEP', 'SEP', 'G♯-1', 'SEP', 'SEP', 'G♯6', 'SEP', 'A7', 'D8', 'SEP', 'F♯7', 'SEP', 'SEP', 'G6', 'SEP', 'SEP', 'SEP', 'D3', 'SEP', 'SEP', 'SEP', 'G5', 'F6', 'SEP', 'SEP', 'SEP', 'SEP', 'SEP', 'F6', 'SEP', 'F6', 'G♯7', 'F6', 'SEP', 'G♯-1', 'SEP', 'SEP', 'SEP', 'G♯-1', 'SEP', 'SEP', 'SEP', 'SEP', 'SEP', 'SEP', 'A4', 'C0', 'F♯1', 'SEP', 'G5', 'C0', 'E2', 'SEP', 'SEP', 'SEP', 'SEP', 'SEP', 'SEP', 'SEP', 'SEP', 'SEP', 'SEP', 'D♯1', 'A8', 'SEP', 'SEP', 'SEP', 'SEP', 'SEP', 'D♯1', 'SEP', 'SEP', 'F3', 'SEP', 'G♯-1', 'SEP', 'G♯-1', 'SEP', 'G♯-1', 'SEP', 'SEP', 'SEP', 'F♯7', 'A7', 'F♯-1', 'SEP', 'SEP', 'SEP', 'SEP', 'F♯-1', 'SEP', 'SEP', 'F♯9', 'SEP', 'G♯-1', 'SEP', 'SEP', 'F6', 'C0', 'SEP', 'C5', 'SEP', 'SEP', 'SEP', 'SEP', 'G5', 'D3', 'SEP', 'SEP', 'SEP', 'SEP', 'SEP', 'SEP', 'G♯-1', 'SEP', 'G♯-1', 'SEP', 'G5', 'SEP', 'G5', 'SEP', 'D♯1', 'SEP', 'SEP', 'SEP', 'SEP', 'SEP', 'SEP', 'G5', 'SEP', 'G5', 'E2', 'SEP', 'E2', 'SEP', 'SEP', 'SEP', 'SEP', 'SEP', 'G5', 'G5', 'SEP', 'SEP', 'SEP', 'SEP', 'SEP', 'G5', 'G5', 'D♯1', 'F6', 'A7', 'SEP', 'SEP', 'SEP', 'SEP', 'C0', 'SEP', 'SEP', 'G5', 'SEP', 'A2', 'F6', 'SEP', 'G♯-1', 'SEP', 'E2', 'C0', 'SEP', 'F♯-1', 'SEP', 'SEP', 'SEP', 'SEP', 'G5', 'SEP', 'SEP', 'G♯-1', 'SEP', 'SEP', 'SEP', 'SEP', 'SEP', 'SEP', 'SEP', 'SEP', 'F6', 'SEP', 'SEP', 'SEP', 'SEP', 'SEP', 'A♯5', 'SEP', 'D1', 'F6', 'SEP', 'SEP', 'SEP', 'G5', 'D6', 'SEP', 'SEP', 'SEP', 'F6', 'SEP', 'SEP', 'SEP', 'SEP', 'SEP', 'SEP', 'F♯-1', 'SEP', 'D♯1', 'G♯6', 'SEP', 'SEP', 'SEP', 'SEP', 'G♯-1', 'SEP', 'SEP', 'SEP', 'C1', 'F♯-1', 'F6', 'SEP', 'SEP', 'SEP', 'SEP', 'G♯7', 'G♯-1', 'SEP', 'SEP', 'SEP', 'G5', 'SEP', 'SEP', 'SEP', 'G♯-1', 'SEP', 'SEP', 'SEP', 'SEP', 'SEP', 'G5', 'SEP', 'F6', 'SEP', 'SEP', 'SEP', 'SEP', 'SEP', 'SEP', 'G5', 'G6', 'SEP', 'C1', 'SEP', 'SEP', 'F♯-1', 'SEP', 'SEP', 'SEP', 'A♯-1', 'SEP', 'SEP', 'F♯7', 'E2', 'SEP', 'A2', 'SEP', 'F6', 'SEP', 'G♯7', 'D♯0', 'SEP', 'SEP', 'SEP', 'G♯-1', 'SEP', 'G5', 'SEP', 'G♯-1', 'SEP', 'G5', 'SEP', 'SEP', 'F♯7', 'SEP', 'SEP', 'SEP', 'SEP', 'SEP', 'SEP', 'A♯5', 'SEP', 'G♯6', 'SEP', 'SEP', 'G♯-1', 'SEP', 'SEP', 'SEP', 'D♯1', 'SEP', 'D♯1', 'G5', 'SEP', 'SEP', 'SEP', 'F6', 'SEP', 'SEP', 'F♯1', 'SEP', 'SEP', 'SEP', 'SEP', 'SEP', 'SEP', 'SEP', 'F♯-1', 'SEP', 'SEP', 'C1', 'SEP', 'SEP', 'SEP', 'SEP', 'SEP', 'G5', 'SEP', 'SEP', 'SEP', 'G5', 'SEP', 'D♯1', 'E2', 'SEP', 'SEP', 'D7', 'F6', 'SEP', 'SEP', 'F6', 'E2', 'E2', 'SEP', 'SEP', 'SEP', 'SEP', 'F♯9', 'SEP', 'SEP', 'SEP', 'C♯2', 'A7', 'SEP', 'SEP', 'SEP', 'SEP', 'F♯7', 'SEP', 'SEP', 'SEP', 'SEP', 'F6', 'C0', 'D6', 'SEP', 'SEP', 'SEP', 'A♯-1', 'SEP', 'SEP', 'G♯-1', 'SEP', 'SEP', 'D1', 'SEP', 'C5', 'SEP', 'SEP', 'SEP', 'G5', 'A7', 'A♯7', 'SEP', 'SEP', 'D♯1', 'G♯-1', 'SEP', 'F6', 'SEP', 'G5', 'A4', 'F♯7', 'SEP', 'D-1', 'SEP', 'F6', 'G♯-1', 'SEP', 'SEP', 'G♯-1', 'F6', 'SEP', 'SEP', 'F♯9', 'SEP', 'SEP', 'G♯-1', 'SEP', 'SEP', 'G5', 'A♯-1', 'SEP', 'G♯6', 'SEP', 'SEP', 'SEP', 'SEP', 'F♯-1', 'SEP', 'F6', 'SEP', 'D♯1', 'C0', 'SEP', 'SEP', 'SEP', 'SEP', 'SEP', 'SEP', 'SEP', 'D-1', 'SEP', 'SEP', 'F6', 'SEP', 'SEP', 'D4', 'SEP', 'SEP', 'SEP', 'G5', 'G5', 'SEP', 'F6']\n"
     ]
    }
   ],
   "source": [
    "toks = model.generate(np.array([VOCABULARY[\"C3\"]], dtype=int), max_len=500, temperature=0.01)\n",
    "print(model.detokenize(toks))"
   ]
  },
  {
   "cell_type": "code",
   "execution_count": 40,
   "metadata": {},
   "outputs": [],
   "source": [
    "midi_file = pretty_midi.PrettyMIDI()\n",
    "\n",
    "piano = pretty_midi.Instrument(0)\n",
    "\n",
    "time = 0\n",
    "for tok in toks:\n",
    "    duration = 0.2\n",
    "\n",
    "    if tok < NUM_MIDI_NOTES:\n",
    "        note = pretty_midi.Note(velocity=100, pitch=tok, start=time, end=time + duration)\n",
    "        piano.notes.append(note)\n",
    "    elif tok == VOCABULARY['EOS']:\n",
    "        if not SKIP_EOS:\n",
    "            break # Stop Generating for EOS\n",
    "        else:\n",
    "            continue\n",
    "            #time += duration\n",
    "    elif tok == VOCABULARY['SEP']:\n",
    "        time += duration # Simply add a new time    \n",
    "\n",
    "\n",
    "midi_file.instruments.append(piano)\n",
    "\n",
    "midi_file.write(\"my_midi.mid\")"
   ]
  },
  {
   "cell_type": "code",
   "execution_count": 41,
   "metadata": {},
   "outputs": [
    {
     "name": "stderr",
     "output_type": "stream",
     "text": [
      "C:\\Users\\Joaquin\\AppData\\Local\\Temp\\ipykernel_17792\\3232774524.py:4: UserWarning: Frequency axis exceeds Nyquist. Did you remember to set all spectrogram parameters in specshow?\n",
      "  librosa.display.specshow(midi_file.get_piano_roll(fs),\n"
     ]
    },
    {
     "data": {
      "image/png": "[encoded data removed]",
      "text/plain": [
       "<Figure size 800x400 with 1 Axes>"
      ]
     },
     "metadata": {},
     "output_type": "display_data"
    }
   ],
   "source": [
    "fs = 100\n",
    "\n",
    "plt.figure(figsize=(8, 4))\n",
    "librosa.display.specshow(midi_file.get_piano_roll(fs),\n",
    "                             hop_length=1, sr=fs, x_axis='time', y_axis='cqt_note')\n",
    "plt.show()\n"
   ]
  },
  {
   "cell_type": "code",
   "execution_count": null,
   "metadata": {},
   "outputs": [],
   "source": []
  }
 ],
 "metadata": {
  "kernelspec": {
   "display_name": "agienv",
   "language": "python",
   "name": "python3"
  },
  "language_info": {
   "codemirror_mode": {
    "name": "ipython",
    "version": 3
   },
   "file_extension": ".py",
   "mimetype": "text/x-python",
   "name": "python",
   "nbconvert_exporter": "python",
   "pygments_lexer": "ipython3",
   "version": "3.11.3"
  },
  "orig_nbformat": 4
 },
 "nbformat": 4,
 "nbformat_minor": 2
}
