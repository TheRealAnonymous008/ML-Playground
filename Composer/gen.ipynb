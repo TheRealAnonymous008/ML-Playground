{
 "cells": [
  {
   "cell_type": "code",
   "execution_count": 1,
   "metadata": {},
   "outputs": [],
   "source": [
    "%load_ext autoreload\n",
    "%autoreload 2\n",
    "\n",
    "from dataset import VOCABULARY, NUM_MIDI_NOTES\n",
    "from model import NoteComposeNet\n",
    "\n",
    "import numpy as np\n",
    "import pretty_midi\n",
    "import torch\n",
    "import matplotlib.pyplot as plt\n",
    "%matplotlib inline \n",
    "\n",
    "import librosa"
   ]
  },
  {
   "cell_type": "code",
   "execution_count": 2,
   "metadata": {},
   "outputs": [],
   "source": [
    "SKIP_EOS = True # If true, ignores any EOS tokens"
   ]
  },
  {
   "cell_type": "code",
   "execution_count": 3,
   "metadata": {},
   "outputs": [],
   "source": [
    "# Load model. Potentially load some weights as well.\n",
    "\n",
    "model = NoteComposeNet()\n",
    "\n",
    "# PATH = r\"./checkpoints/model_20230801_064431_0\"\n",
    "# model.load_state_dict(torch.load(PATH))"
   ]
  },
  {
   "cell_type": "code",
   "execution_count": 5,
   "metadata": {},
   "outputs": [
    {
     "name": "stdout",
     "output_type": "stream",
     "text": [
      "['B0', 'D5', 'G♯3', 'G6', 'A♯3', 'A♯-1', 'D1', 'D♯9', 'B3', 'C7', 'G0', 'G♯5', 'D4', 'G♯1', 'B6', 'G7', 'E2', 'G-1', 'A♯0', 'G7', 'G0', 'EOS', 'G♯5', 'C♯6', 'A♯7', 'C2', 'B3', 'G♯5', 'B3', 'A♯8', 'C6', 'SEP', 'E2', 'F8', 'D4', 'B5', 'MASK', 'A0', 'G3', 'F0', 'D♯1', 'F♯-1', 'F5', 'C♯5', 'C1', 'F-1', 'G♯5', 'A♯8', 'F♯8', 'D8', 'G-1', 'E7', 'C3', 'E9', 'EOS', 'C♯5', 'D7', 'A3', 'G♯4', 'F1', 'A5', 'C5', 'B6', 'E4', 'C♯3', 'B7', 'D♯0', 'D♯9', 'G5', 'B-1', 'D1', 'D♯0', 'B2', 'F0', 'D♯1', 'G♯-1', 'F5', 'B4', 'F♯8', 'EOS', 'B-1', 'C♯5', 'G♯3', 'G9', 'B2', 'G8', 'D0', 'C6', 'F♯2', 'F6', 'C♯6', 'E-1', 'F3', 'C6', 'D-1', 'F9', 'D7', 'E1', 'G6', 'F3', 'B3', 'E8', 'G♯2', 'G5', 'B7', 'BOS', 'E8', 'B3', 'F5', 'F6', 'D0', 'BOS', 'F♯1', 'D-1', 'E9', 'C♯-1', 'F♯5', 'G5', 'F4', 'G5', 'E3', 'G7', 'A♯0', 'B7', 'G4', 'C♯0', 'B6', 'C♯5', 'A0', 'A♯4', 'C♯8', 'C4', 'C6', 'D6', 'C♯5', 'A0', 'D9', 'F♯3', 'B5', 'E2', 'D♯3', 'E4', 'D7', 'D♯9', 'C♯5', 'F♯6', 'C6', 'G♯2', 'D♯1', 'F♯0', 'C3', 'G♯0', 'B8', 'A-1', 'G♯4', 'A♯8', 'A1', 'D9', 'F♯5', 'G1', 'B8', 'C♯2', 'G♯2', 'C♯5', 'D♯7', 'F3', 'F8', 'D♯-1', 'F9', 'D1', 'A♯1', 'G♯5', 'A8', 'C♯5', 'A5', 'A5', 'F0', 'E4', 'G4', 'E4', 'C6', 'E5', 'D-1', 'A♯4', 'D♯7', 'E9', 'F♯1', 'A♯1', 'A1', 'G-1', 'B8', 'C♯-1', 'F♯-1', 'D5', 'G4', 'A8', 'D♯0', 'C♯0', 'B7', 'C♯7', 'G0', 'A♯1', 'E-1', 'E0', 'D♯6', 'C♯5', 'F1', 'G5', 'A4', 'A♯4', 'F♯4', 'G♯2', 'D♯2', 'F9', 'A-1', 'G♯8', 'B2', 'D8', 'A1', 'C♯3', 'B3', 'C♯8', 'G♯1', 'D♯6', 'C♯0', 'F8', 'A-1', 'A4', 'D5', 'C♯7', 'E4', 'G♯4', 'A-1', 'D8', 'D♯9', 'A♯7', 'E6', 'A1', 'C♯0', 'C7', 'A1', 'A♯6', 'D0', 'MASK', 'G♯3', 'B3', 'G5', 'E-1', 'D0', 'C♯-1', 'G5', 'F4', 'A4', 'C-1', 'C♯1', 'C7', 'B8', 'E4', 'B2', 'A7', 'D2', 'A♯5', 'E1', 'G♯3', 'A♯2', 'D9', 'G5', 'D♯5', 'F4', 'C2', 'C1', 'G♯2', 'A♯5', 'G♯3', 'G1', 'G4', 'C1', 'F♯1', 'A-1', 'F♯8', 'MASK', 'A7', 'C♯9', 'F7', 'F3', 'D♯8', 'C7', 'G♯8', 'F♯6', 'C2', 'D8', 'B3', 'A♯3', 'G♯-1', 'G8', 'D0', 'G♯4', 'B8', 'C1', 'D♯0', 'A♯2', 'C♯0', 'EOS', 'G-1', 'F♯5', 'A-1', 'A1', 'A♯-1', 'A7', 'C♯-1', 'B7', 'EOS', 'B1', 'F3', 'G3', 'G2', 'A♯7', 'C♯-1', 'F2', 'F9', 'B5', 'G♯7', 'C♯6', 'D♯2', 'A-1', 'C4', 'C♯3', 'C4', 'F♯-1', 'G8', 'F♯5', 'B3', 'E6', 'C♯-1', 'B0', 'B3', 'C♯5', 'G7', 'A-1', 'F♯6', 'G♯8', 'C6', 'B2', 'A4', 'A4', 'C2', 'A♯1', 'B0', 'A♯1', 'F9', 'G0', 'D♯2', 'D♯6', 'B4', 'B7', 'A-1', 'D♯0', 'C-1', 'C♯7', 'F2', 'F2', 'D♯4', 'C2', 'B-1', 'A-1', 'C♯9', 'G♯5', 'G0', 'C0', 'F1', 'F3', 'E0', 'C4', 'D9', 'D3', 'C6', 'A0', 'D0', 'C♯-1', 'C♯7', 'G5', 'F9', 'E4', 'G♯1', 'A0', 'D♯4', 'E8', 'C8', 'A♯5', 'SEP', 'F6', 'MASK', 'D♯3', 'C0', 'F♯5', 'E3', 'E9', 'A7', 'G♯5', 'MASK', 'G7', 'C6', 'A♯-1', 'D♯5', 'G♯8', 'A♯1', 'D6', 'A♯3', 'F0', 'D4', 'A2', 'D♯6', 'B-1', 'C2', 'C♯3', 'C-1', 'A1', 'B4', 'D♯-1', 'A♯5', 'C♯6', 'D♯0', 'G♯4', 'A♯4', 'G4', 'C♯6', 'F-1', 'G♯-1', 'A♯2', 'A1', 'SEP', 'A5', 'G6', 'D8', 'C2', 'B7', 'G3', 'F7', 'E8', 'E2', 'F♯6', 'B6', 'A0', 'F0', 'F9', 'E4', 'B6', 'D♯0', 'D6', 'F♯2', 'A7', 'A1', 'D1', 'C♯0', 'C♯-1', 'MASK', 'F1', 'D♯9', 'B3', 'D♯3', 'D♯3', 'B6', 'C0', 'G♯4', 'C7', 'G8', 'F♯7', 'A3', 'A7', 'BOS', 'C♯1', 'G♯1', 'D3', 'G2', 'B2', 'G♯7', 'A♯0', 'D♯9', 'G1', 'D♯6', 'B7', 'G♯0', 'C-1', 'D♯2', 'B8', 'A1', 'C4', 'A♯3', 'G9', 'D-1', 'F♯-1', 'C9', 'B6', 'E4', 'F♯4', 'E3', 'D7', 'A6', 'D♯5', 'B-1', 'G♯-1', 'C8', 'F♯1', 'B6', 'B3', 'G5', 'C4', 'B5', 'G8', 'G3', 'F9', 'C9', 'G-1', 'C♯7', 'F6', 'A0', 'G♯4', 'C♯3', 'D♯5', 'D3', 'D♯9', 'C♯-1', 'A2', 'A7', 'D1', 'E4', 'E5', 'A7', 'B3', 'D♯-1', 'B2', 'G0', 'C♯0', 'G♯2', 'G♯5', 'A0', 'A♯6', 'MASK', 'C9', 'G♯-1', 'D0', 'C♯4', 'C7', 'D6', 'G4', 'F♯6', 'F9', 'D♯9', 'D7', 'G♯2', 'F♯8', 'C3', 'A5', 'C♯-1', 'D♯1', 'C0', 'E-1', 'F♯5', 'G♯-1', 'G♯7', 'B6', 'E6', 'A7', 'F♯7', 'F♯6', 'G5', 'D8', 'C♯2', 'C♯-1', 'A6', 'D-1', 'E6', 'C♯8', 'B3', 'C0', 'C2', 'A♯5', 'G♯2', 'C2', 'C2', 'F1', 'G3', 'G3', 'C5', 'D♯4', 'C♯-1', 'C♯5', 'D♯5', 'D8', 'G5', 'F♯4', 'D4', 'C♯5', 'A1', 'G6', 'D♯6', 'G♯2', 'F♯7', 'B3', 'F6', 'A♯7', 'C2', 'C♯7', 'B3', 'C♯0', 'A5', 'G6', 'D8', 'B8', 'G♯6', 'D4', 'A6', 'E6', 'A0', 'E5', 'C4', 'MASK', 'C♯0', 'C2', 'F9', 'E-1', 'F3', 'C♯7', 'F♯1', 'B7', 'F4', 'F♯4', 'E5', 'G♯3', 'C5', 'D-1', 'E4', 'B-1', 'B4', 'E8', 'E6', 'G7', 'D♯-1', 'F6', 'E8', 'B6', 'A5', 'A♯6', 'G8', 'C♯9', 'A♯3', 'D♯4', 'G9', 'F3', 'G♯3', 'B1', 'A4', 'C♯0', 'F0', 'D6', 'E3', 'D7', 'F♯1', 'D♯2', 'C2', 'E4', 'C2', 'B4', 'D♯7', 'A2', 'D♯3', 'G4', 'G3', 'D♯2', 'F♯-1', 'G7', 'E6', 'G♯1', 'A4', 'C3', 'G♯-1', 'D♯-1', 'F♯2', 'D8', 'C8', 'F♯0', 'G6', 'C♯4', 'C6', 'C0', 'A♯3', 'G♯6', 'G1', 'D9', 'D6', 'F8', 'C7', 'G♯4', 'SEP', 'F8', 'F8', 'E5', 'F2', 'F♯3', 'A2', 'E4', 'D-1', 'F♯5', 'C♯3', 'G3', 'E6', 'C-1', 'C4', 'G8', 'E-1', 'A♯3', 'B-1', 'A4', 'B6', 'A-1', 'F-1', 'G3', 'F6', 'F♯1', 'G1', 'G♯7', 'F♯0', 'D1', 'D0', 'C♯9', 'F♯6', 'D3', 'G4', 'EOS', 'SEP', 'F7', 'F♯-1', 'D5', 'A3', 'A0', 'B1', 'E9', 'F5', 'A♯2', 'EOS', 'E8', 'C♯3', 'A♯4', 'C♯5', 'D♯5', 'E0', 'C♯0', 'G7', 'C-1', 'D8', 'F♯6', 'F♯8', 'E9', 'F♯-1', 'A♯1', 'G♯5', 'C4', 'D♯9', 'F♯6', 'B1', 'A♯6', 'E3', 'C3', 'D9', 'B6', 'C♯6', 'A4', 'C♯-1', 'C6', 'G5', 'G♯5', 'SEP', 'C♯5', 'G♯8', 'G♯1', 'A♯2', 'B3', 'A♯5', 'A1', 'D6', 'D♯7', 'D3', 'D9', 'G4', 'F9', 'C♯6', 'G♯-1', 'F♯9', 'A-1', 'F♯9', 'D6', 'D3', 'EOS', 'D♯7', 'A♯1', 'C2', 'A4', 'F♯1', 'D0', 'C7', 'F3', 'A4', 'A-1', 'A0', 'D♯-1', 'C♯-1', 'E5', 'A♯2', 'A6', 'C3', 'A♯4', 'F♯0', 'D♯1', 'F♯2', 'A4', 'C♯7', 'C♯0', 'F0', 'A1', 'F6', 'A♯3', 'F♯1', 'G2', 'G♯3', 'B7', 'D♯9', 'A7', 'A4', 'G0', 'G♯1', 'D♯-1', 'G-1', 'D0', 'D♯8', 'D8', 'A2', 'F♯-1', 'D♯7', 'E3', 'F♯3', 'C♯3', 'C♯6', 'D♯-1', 'E4', 'A♯6', 'G2', 'C-1', 'F4', 'C8', 'C4', 'D♯9', 'C♯8', 'C♯4', 'C9', 'G7', 'G♯2', 'F0', 'G2', 'C1', 'E4', 'D♯9', 'C9', 'G♯-1', 'G♯5', 'C♯3', 'D♯1', 'C6', 'C♯1', 'D6', 'G3', 'F9', 'C♯8', 'E1', 'C♯5', 'A♯-1', 'G♯1', 'G♯1', 'D3', 'G♯7', 'A♯7', 'F3', 'D-1', 'MASK', 'SEP', 'C♯4', 'A♯4', 'C6', 'C1', 'A0', 'G♯4', 'G♯8', 'C6', 'B7', 'EOS', 'A7', 'A2', 'F♯0', 'A3', 'C5', 'F3', 'G♯5', 'F♯5', 'D♯2', 'B0', 'A1', 'C♯5', 'G9', 'D0', 'E4', 'A♯1', 'F1', 'C6', 'C4', 'C♯4', 'D0', 'EOS', 'D♯7', 'E6', 'G9', 'A4', 'D5', 'B3', 'C9', 'C♯6', 'A4', 'A♯1', 'F0', 'E6', 'A♯5', 'G♯4', 'A8', 'F6', 'C♯9', 'F♯1', 'G♯4', 'A♯2', 'C-1', 'EOS', 'A8', 'F♯-1', 'G4', 'B3', 'E8', 'G♯4', 'E1', 'C♯-1', 'D5', 'D9', 'F5', 'A5', 'F♯4', 'G♯1', 'G♯8', 'E9', 'C2', 'B2', 'A0', 'D2', 'E2', 'A7', 'MASK', 'F8', 'A0', 'A0', 'G8', 'E2', 'A♯7', 'D♯0', 'E2', 'A5', 'A♯3', 'D6', 'A♯3', 'A♯4', 'G1', 'G7', 'F♯3', 'B1', 'C8', 'G8', 'F♯5', 'F♯6', 'F♯-1', 'F♯7', 'E4', 'MASK', 'D♯5', 'E8', 'F0', 'D♯8', 'C♯9', 'D8', 'E4', 'C♯-1', 'MASK', 'F♯0', 'B1', 'C5', 'E4', 'E1']\n"
     ]
    }
   ],
   "source": [
    "toks = model.generate(np.array([VOCABULARY[\"BOS\"]], dtype=int), max_len=1000, temperature=1)\n",
    "print(model.detokenize(toks))"
   ]
  },
  {
   "cell_type": "code",
   "execution_count": null,
   "metadata": {},
   "outputs": [
    {
     "name": "stdout",
     "output_type": "stream",
     "text": [
      "['Acoustic Grand Piano', 'Bright Acoustic Piano', 'Electric Grand Piano', 'Honky-tonk Piano', 'Electric Piano 1', 'Electric Piano 2', 'Harpsichord', 'Clavinet', 'Celesta', 'Glockenspiel', 'Music Box', 'Vibraphone', 'Marimba', 'Xylophone', 'Tubular Bells', 'Dulcimer', 'Drawbar Organ', 'Percussive Organ', 'Rock Organ', 'Church Organ', 'Reed Organ', 'Accordion', 'Harmonica', 'Tango Accordion', 'Acoustic Guitar (nylon)', 'Acoustic Guitar (steel)', 'Electric Guitar (jazz)', 'Electric Guitar (clean)', 'Electric Guitar (muted)', 'Overdriven Guitar', 'Distortion Guitar', 'Guitar Harmonics', 'Acoustic Bass', 'Electric Bass (finger)', 'Electric Bass (pick)', 'Fretless Bass', 'Slap Bass 1', 'Slap Bass 2', 'Synth Bass 1', 'Synth Bass 2', 'Violin', 'Viola', 'Cello', 'Contrabass', 'Tremolo Strings', 'Pizzicato Strings', 'Orchestral Harp', 'Timpani', 'String Ensemble 1', 'String Ensemble 2', 'Synth Strings 1', 'Synth Strings 2', 'Choir Aahs', 'Voice Oohs', 'Synth Choir', 'Orchestra Hit', 'Trumpet', 'Trombone', 'Tuba', 'Muted Trumpet', 'French Horn', 'Brass Section', 'Synth Brass 1', 'Synth Brass 2', 'Soprano Sax', 'Alto Sax', 'Tenor Sax', 'Baritone Sax', 'Oboe', 'English Horn', 'Bassoon', 'Clarinet', 'Piccolo', 'Flute', 'Recorder', 'Pan Flute', 'Blown bottle', 'Shakuhachi', 'Whistle', 'Ocarina', 'Lead 1 (square)', 'Lead 2 (sawtooth)', 'Lead 3 (calliope)', 'Lead 4 chiff', 'Lead 5 (charang)', 'Lead 6 (voice)', 'Lead 7 (fifths)', 'Lead 8 (bass + lead)', 'Pad 1 (new age)', 'Pad 2 (warm)', 'Pad 3 (polysynth)', 'Pad 4 (choir)', 'Pad 5 (bowed)', 'Pad 6 (metallic)', 'Pad 7 (halo)', 'Pad 8 (sweep)', 'FX 1 (rain)', 'FX 2 (soundtrack)', 'FX 3 (crystal)', 'FX 4 (atmosphere)', 'FX 5 (brightness)', 'FX 6 (goblins)', 'FX 7 (echoes)', 'FX 8 (sci-fi)', 'Sitar', 'Banjo', 'Shamisen', 'Koto', 'Kalimba', 'Bagpipe', 'Fiddle', 'Shanai', 'Tinkle Bell', 'Agogo', 'Steel Drums', 'Woodblock', 'Taiko Drum', 'Melodic Tom', 'Synth Drum', 'Reverse Cymbal', 'Guitar Fret Noise', 'Breath Noise', 'Seashore', 'Bird Tweet', 'Telephone Ring', 'Helicopter', 'Applause', 'Gunshot']\n"
     ]
    }
   ],
   "source": [
    "print(pretty_midi.INSTRUMENT_MAP)"
   ]
  },
  {
   "cell_type": "code",
   "execution_count": 15,
   "metadata": {},
   "outputs": [],
   "source": [
    "midi_file = pretty_midi.PrettyMIDI()\n",
    "\n",
    "piano = pretty_midi.Instrument(0)\n",
    "\n",
    "time = 0\n",
    "for tok in toks:\n",
    "    duration = .125\n",
    "\n",
    "    if tok < NUM_MIDI_NOTES:\n",
    "        note = pretty_midi.Note(velocity=100, pitch=tok, start=time, end=time + duration)\n",
    "    elif tok == VOCABULARY['EOS']:\n",
    "        if not SKIP_EOS:\n",
    "            break # Stop Generating for EOS\n",
    "        else:\n",
    "            time += duration\n",
    "    elif tok == VOCABULARY['SEP']:\n",
    "        time += duration # Simply add a new time    \n",
    "    else:\n",
    "        continue\n",
    "\n",
    "    piano.notes.append(note)\n",
    "\n",
    "midi_file.instruments.append(piano)\n",
    "\n",
    "midi_file.write(\"my_midi.mid\")"
   ]
  },
  {
   "cell_type": "code",
   "execution_count": 16,
   "metadata": {},
   "outputs": [
    {
     "name": "stderr",
     "output_type": "stream",
     "text": [
      "C:\\Users\\Joaquin\\AppData\\Local\\Temp\\ipykernel_14956\\3232774524.py:4: UserWarning: Frequency axis exceeds Nyquist. Did you remember to set all spectrogram parameters in specshow?\n",
      "  librosa.display.specshow(midi_file.get_piano_roll(fs),\n"
     ]
    },
    {
     "data": {
      "image/png": "[encoded data removed]",
      "text/plain": [
       "<Figure size 800x400 with 1 Axes>"
      ]
     },
     "metadata": {},
     "output_type": "display_data"
    }
   ],
   "source": [
    "fs = 100\n",
    "\n",
    "plt.figure(figsize=(8, 4))\n",
    "librosa.display.specshow(midi_file.get_piano_roll(fs),\n",
    "                             hop_length=1, sr=fs, x_axis='time', y_axis='cqt_note')\n",
    "plt.show()\n"
   ]
  },
  {
   "cell_type": "code",
   "execution_count": null,
   "metadata": {},
   "outputs": [],
   "source": []
  }
 ],
 "metadata": {
  "kernelspec": {
   "display_name": "agienv",
   "language": "python",
   "name": "python3"
  },
  "language_info": {
   "codemirror_mode": {
    "name": "ipython",
    "version": 3
   },
   "file_extension": ".py",
   "mimetype": "text/x-python",
   "name": "python",
   "nbconvert_exporter": "python",
   "pygments_lexer": "ipython3",
   "version": "3.11.3"
  },
  "orig_nbformat": 4
 },
 "nbformat": 4,
 "nbformat_minor": 2
}
