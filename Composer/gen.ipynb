{
 "cells": [
  {
   "cell_type": "code",
   "execution_count": 37,
   "metadata": {},
   "outputs": [
    {
     "name": "stdout",
     "output_type": "stream",
     "text": [
      "The autoreload extension is already loaded. To reload it, use:\n",
      "  %reload_ext autoreload\n"
     ]
    }
   ],
   "source": [
    "%load_ext autoreload\n",
    "%autoreload 2\n",
    "\n",
    "from dataset import VOCABULARY, NUM_MIDI_NOTES\n",
    "from model import NoteComposeNet\n",
    "\n",
    "import numpy as np\n",
    "import pretty_midi"
   ]
  },
  {
   "cell_type": "code",
   "execution_count": 42,
   "metadata": {},
   "outputs": [],
   "source": [
    "SKIP_EOS = False # If true, ignores any EOS tokens"
   ]
  },
  {
   "cell_type": "code",
   "execution_count": 8,
   "metadata": {},
   "outputs": [],
   "source": [
    "# Load model. Potentially load some weights as well.\n",
    "\n",
    "model = NoteComposeNet()"
   ]
  },
  {
   "cell_type": "code",
   "execution_count": 40,
   "metadata": {},
   "outputs": [
    {
     "name": "stdout",
     "output_type": "stream",
     "text": [
      "['C♯1', 'G1', 'G1', 'D♯1', 'A3', 'F♯6', 'REST', 'E4', 'D♯1', 'E7', 'G1', 'SEP', 'G7', 'C4', 'G3', 'A6', 'G6', 'A0', 'D♯3', 'D3', 'E6', 'A1', 'D-1', 'EOS', 'D7', 'G3', 'D♯3', 'F-1', 'A♯7', 'B-1', 'F♯4', 'B3', 'G♯-1', 'G5', 'A4', 'F6', 'D8', 'A-1', 'F5', 'D♯1', 'B5', 'A7', 'G♯3', 'F6', 'E3', 'E5', 'D0', 'G1', 'F♯9', 'D♯4', 'D6', 'C♯9', 'D3', 'D♯7', 'A4', 'F8', 'C♯9', 'A8', 'B-1', 'D♯9', 'D9', 'E8', 'EOS', 'B0', 'D9', 'F♯2', 'G0', 'A♯8', 'F2', 'B-1', 'C♯4', 'D♯1', 'C♯4', 'C6', 'D♯-1', 'D9', 'G♯4', 'A5', 'G4', 'G9', 'E4', 'A♯-1', 'B8', 'G2', 'F7', 'EOS', 'F0', 'B2', 'C♯-1', 'G3', 'A6', 'E8', 'D♯4', 'E3', 'A8', 'A♯3', 'D♯3', 'A♯6', 'F♯8', 'G4']\n"
     ]
    }
   ],
   "source": [
    "toks = model.generate(np.array([VOCABULARY[\"EOS\"]], dtype=int), max_len=100)\n",
    "print(model.detokenize(toks))"
   ]
  },
  {
   "cell_type": "code",
   "execution_count": 41,
   "metadata": {},
   "outputs": [],
   "source": [
    "midi_file = pretty_midi.PrettyMIDI()\n",
    "\n",
    "piano = pretty_midi.Instrument(pretty_midi.instrument_name_to_program(\"Electric Piano 1\"))\n",
    "\n",
    "time = 0\n",
    "for tok in toks:\n",
    "    duration = .5\n",
    "\n",
    "    if tok < NUM_MIDI_NOTES:\n",
    "        note = pretty_midi.Note(velocity=100, pitch=tok, start=time, end=time + duration)\n",
    "    elif tok == VOCABULARY['EOS']:\n",
    "        if not SKIP_EOS:\n",
    "            break # Stop Generating for EOS\n",
    "    else:\n",
    "        time += duration # Simply add a new time\n",
    "\n",
    "    piano.notes.append(note)\n",
    "\n",
    "midi_file.instruments.append(piano)\n",
    "\n",
    "midi_file.write(\"my_midi.mid\")"
   ]
  }
 ],
 "metadata": {
  "kernelspec": {
   "display_name": "agienv",
   "language": "python",
   "name": "python3"
  },
  "language_info": {
   "codemirror_mode": {
    "name": "ipython",
    "version": 3
   },
   "file_extension": ".py",
   "mimetype": "text/x-python",
   "name": "python",
   "nbconvert_exporter": "python",
   "pygments_lexer": "ipython3",
   "version": "3.11.3"
  },
  "orig_nbformat": 4
 },
 "nbformat": 4,
 "nbformat_minor": 2
}
