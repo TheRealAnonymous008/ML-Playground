{
 "cells": [
  {
   "cell_type": "code",
   "execution_count": 1,
   "metadata": {},
   "outputs": [],
   "source": [
    "%load_ext autoreload\n",
    "%autoreload 2"
   ]
  },
  {
   "attachments": {},
   "cell_type": "markdown",
   "metadata": {},
   "source": [
    "# Dataset Creation"
   ]
  },
  {
   "cell_type": "code",
   "execution_count": 2,
   "metadata": {},
   "outputs": [],
   "source": [
    "from preprocess import make_dataset\n",
    "import pandas as pd\n",
    "import numpy as np\n",
    "import os"
   ]
  },
  {
   "cell_type": "code",
   "execution_count": 3,
   "metadata": {},
   "outputs": [],
   "source": [
    "# Extract all the midi files \n",
    "\n",
    "midi_files = []\n",
    "\n",
    "for path, subdirs, files in os.walk(r'./data/'):\n",
    "    for name in files:\n",
    "        if (name.endswith('.mid')):\n",
    "            midi_files.append(os.path.join(path, name))"
   ]
  },
  {
   "cell_type": "code",
   "execution_count": 20,
   "metadata": {},
   "outputs": [
    {
     "name": "stdout",
     "output_type": "stream",
     "text": [
      "\" ./data/.38 Special\\Caught Up In You.mid \"\n",
      "Tracks:  9\n",
      "\" ./data/.38 Special\\Fantasy Girl.mid \"\n",
      "Tracks:  7\n",
      "\" ./data/10,000 Maniacs\\A Campfire Song.mid \"\n",
      "Tracks:  8\n",
      "\" ./data/101 Strings\\Theme From The Godfather.mid \"\n",
      "Tracks:  10\n",
      "\" ./data/10cc\\Dreadlock Holiday.1.mid \"\n",
      "Tracks:  1\n",
      "\" ./data/10cc\\Dreadlock Holiday.2.mid \"\n",
      "Tracks:  12\n",
      "\" ./data/10cc\\Dreadlock Holiday.3.mid \"\n",
      "Tracks:  19\n",
      "\" ./data/10cc\\Dreadlock Holiday.4.mid \"\n",
      "Skipping corrupted file...\n",
      "\" ./data/10cc\\Dreadlock Holiday.mid \"\n",
      "Tracks:  11\n",
      "\" ./data/10cc\\I'm Not In Love.1.mid \"\n",
      "Tracks:  1\n",
      "\" ./data/10cc\\I'm Not In Love.2.mid \"\n",
      "Tracks:  14\n",
      "\" ./data/10cc\\I'm Not In Love.3.mid \"\n",
      "Tracks:  11\n",
      "\" ./data/10cc\\I'm Not In Love.mid \"\n",
      "Tracks:  1\n",
      "\" ./data/10cc\\The Things We Do for Love.mid \"\n",
      "Tracks:  9\n",
      "\" ./data/1910 Fruitgum Company\\Simon Says.1.mid \"\n",
      "Tracks:  12\n"
     ]
    }
   ],
   "source": [
    "TEST_FILE = r'Ode to Joy from the 9th Symphony.mid'\n",
    "df = make_dataset(midi_files[:15], file_name=\"midi-dataset-mini.csv\", verbose=True)\n"
   ]
  },
  {
   "cell_type": "code",
   "execution_count": 19,
   "metadata": {},
   "outputs": [
    {
     "name": "stdout",
     "output_type": "stream",
     "text": [
      "name                           .38 Special\\Caught Up In You.mid\n",
      "notes         [68, 128, 129, 66, 128, 129, 68, 128, 129, 64,...\n",
      "durations     [0.33333333 0.         0.16666667 ... 0.25    ...\n",
      "velocities                              [79  0  0 ... 79  0  0]\n",
      "Name: 0, dtype: object\n"
     ]
    }
   ],
   "source": [
    "print(df.iloc[0])"
   ]
  },
  {
   "cell_type": "code",
   "execution_count": 3,
   "metadata": {},
   "outputs": [
    {
     "ename": "NameError",
     "evalue": "name 'df' is not defined",
     "output_type": "error",
     "traceback": [
      "\u001b[1;31m---------------------------------------------------------------------------\u001b[0m",
      "\u001b[1;31mNameError\u001b[0m                                 Traceback (most recent call last)",
      "Cell \u001b[1;32mIn[3], line 1\u001b[0m\n\u001b[1;32m----> 1\u001b[0m \u001b[39mprint\u001b[39m(\u001b[39mlen\u001b[39m(np\u001b[39m.\u001b[39mfrombuffer(df\u001b[39m.\u001b[39miloc[\u001b[39m0\u001b[39m][\u001b[39m\"\u001b[39m\u001b[39mnotes\u001b[39m\u001b[39m\"\u001b[39m], dtype\u001b[39m=\u001b[39mnp\u001b[39m.\u001b[39mint32)))\n",
      "\u001b[1;31mNameError\u001b[0m: name 'df' is not defined"
     ]
    }
   ],
   "source": [
    "print(len(np.frombuffer(df.iloc[0][\"notes\"], dtype=np.int32)))"
   ]
  },
  {
   "cell_type": "code",
   "execution_count": 7,
   "metadata": {},
   "outputs": [],
   "source": [
    "df = pd.read_csv(\"midi-dataset-mini.csv\")"
   ]
  },
  {
   "cell_type": "markdown",
   "metadata": {},
   "source": [
    "# Dataset Analysis"
   ]
  },
  {
   "cell_type": "code",
   "execution_count": null,
   "metadata": {},
   "outputs": [],
   "source": [
    "import matplotlib.pyplot as plt\n",
    "import numpy as np"
   ]
  },
  {
   "cell_type": "code",
   "execution_count": null,
   "metadata": {},
   "outputs": [],
   "source": [
    "df = pd.read_csv(\"midi-dataset.csv\")"
   ]
  },
  {
   "cell_type": "code",
   "execution_count": null,
   "metadata": {},
   "outputs": [],
   "source": [
    "df['notes'] = df.notes.apply(lambda x: [int(y) for y in str(x).removeprefix('[').removesuffix(']').split(' ') if y.isnumeric()])\n",
    "df['velocities'] = df.velocities.apply(lambda x: [int(y) for y in str(x).removeprefix('[').removesuffix(']').split(' ') if y.isnumeric()])\n",
    "df['times'] = df.times.apply(lambda x: [float(y) for y in str(x).removeprefix('[').removesuffix(']').split(' ') if y.replace('.', '').replace('e+', '').replace('e-','').isnumeric()])\n",
    "df['durations'] = df.durations.apply(lambda x: [float(y) for y in str(x).removeprefix('[').removesuffix(']').split(' ') if y.replace('.', '').replace('e+', '').replace('e-','').isnumeric()])"
   ]
  },
  {
   "cell_type": "code",
   "execution_count": null,
   "metadata": {},
   "outputs": [],
   "source": [
    "print(df.iloc[11088])\n",
    "\n",
    "plt.plot(df['times'][11088])"
   ]
  },
  {
   "cell_type": "code",
   "execution_count": null,
   "metadata": {},
   "outputs": [],
   "source": [
    "note_bins = [0 for i in range(0, 200)]\n",
    "velocity_bins = [0 for i in range(0, 128)]\n",
    "duration_means = []\n",
    "duration_std = []\n",
    "\n",
    "time_means = []\n",
    "time_std = []\n",
    "\n",
    "for i in range(0, len(df['notes'])):\n",
    "    for x in df['notes'][i]:\n",
    "        note_bins[x] += 1\n",
    "\n",
    "    for x in df['velocities'][i]:\n",
    "        velocity_bins[x] += 1\n",
    "    \n",
    "    duration_means.append(np.mean(df['durations'][i]))\n",
    "    duration_std.append(np.std(df['durations'][i]))\n",
    "\n",
    "    time_means.append(np.mean(df['times'][i]))\n",
    "    time_std.append(np.std(df['times'][i]))\n"
   ]
  },
  {
   "cell_type": "code",
   "execution_count": null,
   "metadata": {},
   "outputs": [],
   "source": [
    "plt.plot(note_bins)\n",
    "plt.xlim((0, 127))\n",
    "plt.ylim(0, max(note_bins[0:128]))\n",
    "plt.show()"
   ]
  },
  {
   "cell_type": "code",
   "execution_count": null,
   "metadata": {},
   "outputs": [],
   "source": [
    "p = duration_means\n",
    "q = duration_std\n",
    "p[np.argmax(duration_means)] = 0\n",
    "q[np.argmax(duration_std)] = 0\n",
    "\n",
    "plt.scatter(p, q)"
   ]
  },
  {
   "cell_type": "code",
   "execution_count": null,
   "metadata": {},
   "outputs": [],
   "source": [
    "p = time_means\n",
    "q = time_std\n",
    "p[np.argmax(time_means)] = 0\n",
    "p[np.argmax(time_means)] = 0\n",
    "\n",
    "q[np.argmax(time_std)] = 0\n",
    "q[np.argmax(time_std)] = 0\n",
    "\n",
    "plt.scatter(p,q)"
   ]
  },
  {
   "cell_type": "code",
   "execution_count": null,
   "metadata": {},
   "outputs": [],
   "source": [
    "plt.plot(velocity_bins)\n",
    "plt.xlim((0, 127))\n",
    "plt.ylim(0, max(velocity_bins[0:128]))\n",
    "plt.show()"
   ]
  },
  {
   "cell_type": "code",
   "execution_count": null,
   "metadata": {},
   "outputs": [],
   "source": [
    "# Analysis specific to duration.\n",
    "# We want to determine if we can quantize it some Gaussian noise\n",
    "\n",
    "vals = []\n",
    "losses_mean = []\n",
    "losses_std = []\n",
    "D = 32\n",
    "\n",
    "for D in [1, 2, 4, 8, 16, 32, 64, 128, 256, 512, 1024]:\n",
    "    L = []\n",
    "    for track in df['durations']:\n",
    "        p = np.array(track)\n",
    "        l = D * p - np.trunc(D * p) \n",
    "\n",
    "        L.append(np.mean(l))\n",
    "    L = np.array(L)\n",
    "    losses_mean.append(np.mean(L))\n",
    "    losses_std.append(np.std(L))\n",
    "\n",
    "        "
   ]
  },
  {
   "cell_type": "code",
   "execution_count": null,
   "metadata": {},
   "outputs": [],
   "source": [
    "plt.plot(losses_mean)\n",
    "plt.plot(losses_std)"
   ]
  }
 ],
 "metadata": {
  "kernelspec": {
   "display_name": "agienv",
   "language": "python",
   "name": "python3"
  },
  "language_info": {
   "codemirror_mode": {
    "name": "ipython",
    "version": 3
   },
   "file_extension": ".py",
   "mimetype": "text/x-python",
   "name": "python",
   "nbconvert_exporter": "python",
   "pygments_lexer": "ipython3",
   "version": "3.11.3"
  },
  "orig_nbformat": 4
 },
 "nbformat": 4,
 "nbformat_minor": 2
}
