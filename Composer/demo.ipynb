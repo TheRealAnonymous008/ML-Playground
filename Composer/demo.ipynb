{
 "cells": [
  {
   "cell_type": "code",
   "execution_count": 1,
   "metadata": {},
   "outputs": [],
   "source": [
    "# TODO: Data Loader module see \n",
    "# https://towardsdatascience.com/how-to-use-datasets-and-dataloader-in-pytorch-for-custom-text-data-270eed7f7c00\n",
    "\n",
    "%load_ext autoreload\n",
    "%autoreload 2"
   ]
  },
  {
   "cell_type": "code",
   "execution_count": 27,
   "metadata": {},
   "outputs": [],
   "source": [
    "from torch.utils.data import Dataset, DataLoader\n",
    "import torch\n",
    "import librosa\n",
    "import mido\n",
    "import numpy as np \n",
    "import pandas as pd\n",
    "import matplotlib.pyplot as plt\n",
    "import os"
   ]
  },
  {
   "cell_type": "code",
   "execution_count": 3,
   "metadata": {},
   "outputs": [],
   "source": [
    "BUNDLE_SEPARATOR = 128\n",
    "EOS = 129"
   ]
  },
  {
   "cell_type": "code",
   "execution_count": 4,
   "metadata": {},
   "outputs": [],
   "source": [
    "# Bundle all note events together based on their time offset from each other\n",
    "# Returns an array with dimensions (tracks, bundles per track)\n",
    "def bundle_events(midi_file : mido.MidiFile):\n",
    "    track_bundles = []\n",
    "\n",
    "    for i, track in enumerate(midi_file.tracks):\n",
    "        bundle = []\n",
    "        bundles = []\n",
    "        for msg in track:\n",
    "            attrs = msg.dict()\n",
    "            type = attrs[\"type\"]\n",
    "\n",
    "            if type == 'note_on' or type == 'note_off':\n",
    "                if attrs['time'] == 0 or len(bundle) == 0:\n",
    "                    bundle.append(attrs)\n",
    "                else:\n",
    "                    # Ensure that the first entry in the list has the time stamp info\n",
    "                    delta = bundle[0]['time']\n",
    "                    # Sort each entry in each bundle based on the note (in ascending order) \n",
    "                    sorted_bundle = sorted(bundle, key=lambda x: int(x['note']))\n",
    "\n",
    "                    # Set all bundle entries to have time = 0 except for the first entry\n",
    "                    for b in sorted_bundle:\n",
    "                        b['time'] = 0\n",
    "                    sorted_bundle[0]['time'] = delta \n",
    "\n",
    "                    bundles.append(sorted_bundle)\n",
    "\n",
    "                    bundle.clear()\n",
    "                    bundle.append(attrs)\n",
    "\n",
    "        track_bundles.append(bundles)\n",
    "\n",
    "    return track_bundles"
   ]
  },
  {
   "cell_type": "code",
   "execution_count": 5,
   "metadata": {},
   "outputs": [],
   "source": [
    "# Augment track bundles by removing note off / velocity = 0 events. \n",
    "def augment_track_bundles(track_bundles):\n",
    "    augmented_track_bundles = []\n",
    "\n",
    "    # entries are of the form\n",
    "    # note_id : {event, time_started, idx }\n",
    "    state = {}\n",
    "\n",
    "    for track in track_bundles:\n",
    "        aug = [[] for i in range(0, len(track))]\n",
    "        time = 0\n",
    "\n",
    "        for i, bundle in enumerate(track): \n",
    "            time += bundle[0]['time']\n",
    "            for event in bundle: \n",
    "                if event['type'] == 'note_off' or event['velocity'] == 0:\n",
    "                    info = state[event['note']]\n",
    "                    info['event']['duration'] = time - info['time']\n",
    "                    info['event']['time'] = info['time']\n",
    "\n",
    "                    if 'type' in info['event'].keys():\n",
    "                        del info['event']['type']\n",
    "\n",
    "                    aug[info['idx']].append(info['event']) \n",
    "                else: \n",
    "                    state[event['note']] = {'event': event, 'time': time, 'idx': i}\n",
    "\n",
    "        # Remove any empty entries\n",
    "        augmented_track_bundles.append(filter(lambda x : len(x) != 0, aug))\n",
    "\n",
    "    return augmented_track_bundles"
   ]
  },
  {
   "cell_type": "code",
   "execution_count": 6,
   "metadata": {},
   "outputs": [],
   "source": [
    "# Convert bundles to a list of notes, durations and velocities. \n",
    "# Each bundle note and velocity is separated from each other.\n",
    "# Each duration corresponds to the duration of the ntote\n",
    "# Each time corresponds to how far apart things are spaced. \n",
    "# Each velocity is normalized to be between 0 and 1 (by dividing by 127)\n",
    "\n",
    "def create_lists(track_bundles):    \n",
    "    track_notes = []\n",
    "    track_durations = []\n",
    "    track_times = []\n",
    "    track_velocities = []\n",
    "\n",
    "    for track in track_bundles:\n",
    "        notes = []\n",
    "        durations = []\n",
    "        times = []\n",
    "        velocities = []\n",
    "        \n",
    "        current_time = 0\n",
    "\n",
    "        for b in track:\n",
    "            time = b[0]['time'] - current_time\n",
    "            for x in b: \n",
    "                notes.append(x['note'])\n",
    "                durations.append(x['duration'])\n",
    "                velocities.append(x['velocity'] / 127)\n",
    "\n",
    "            notes.append(BUNDLE_SEPARATOR)\n",
    "            durations.append(0)\n",
    "            times.append(time)\n",
    "            velocities.append(0)\n",
    "\n",
    "            current_time = time\n",
    "\n",
    "        notes.append(EOS)\n",
    "        durations.append(0)\n",
    "        times.append(0)\n",
    "        velocities.append(0)\n",
    "\n",
    "        track_notes.append(notes)\n",
    "        track_durations.append(durations)\n",
    "        track_times.append(times)\n",
    "        track_velocities.append(velocities)\n",
    "\n",
    "    return np.array(track_notes), \\\n",
    "        np.array(track_durations), \\\n",
    "        np.array(track_times), \\\n",
    "        np.array(track_velocities)"
   ]
  },
  {
   "cell_type": "code",
   "execution_count": 7,
   "metadata": {},
   "outputs": [],
   "source": [
    "def normalize_to_beats(track_arr, ticks_per_beat):\n",
    "    return track_arr / ticks_per_beat"
   ]
  },
  {
   "cell_type": "code",
   "execution_count": 8,
   "metadata": {},
   "outputs": [],
   "source": [
    "def process_midi(path, logs = False):\n",
    "    midi_file = mido.MidiFile(path)\n",
    "\n",
    "    if logs:\n",
    "        print(path)\n",
    "        print(\"Samples: \", len(midi_file.tracks[0]))\n",
    "\n",
    "    track_bundles = bundle_events(midi_file)\n",
    "    augmented_bundles = augment_track_bundles(track_bundles)\n",
    "    track_notes, track_durations, track_times, track_velocities = create_lists(augmented_bundles)\n",
    "\n",
    "    track_durations = normalize_to_beats(track_durations, midi_file.ticks_per_beat)\n",
    "    track_times = normalize_to_beats(track_times, midi_file.ticks_per_beat)\n",
    "    \n",
    "    return track_notes[0], track_durations[0], track_times[0], track_velocities[0]"
   ]
  },
  {
   "attachments": {},
   "cell_type": "markdown",
   "metadata": {},
   "source": [
    "# Dataset Creation"
   ]
  },
  {
   "cell_type": "code",
   "execution_count": 9,
   "metadata": {},
   "outputs": [],
   "source": [
    "def make_dataset(midis) -> pd.DataFrame:\n",
    "\n",
    "    df = pd.DataFrame(columns=[\"notes\", \"durations\", \"times\", \"velocities\"])\n",
    "\n",
    "    for mid in midis:\n",
    "        n, d, t, v = process_midi(mid)\n",
    "        df.loc[len(df.index)] = [n, d, t, v]\n",
    "\n",
    "    return df"
   ]
  },
  {
   "cell_type": "code",
   "execution_count": 10,
   "metadata": {},
   "outputs": [],
   "source": [
    "class MidiDataset(Dataset):\n",
    "    def __init__(self, notes, durations, times, velocities):\n",
    "        self.notes = notes \n",
    "        self.durations = durations \n",
    "        self.times = times\n",
    "        self.velocities = velocities\n",
    "    \n",
    "    def __len__(self):\n",
    "        return len(self.notes)\n",
    "    \n",
    "    def __getitem__(self, idx):\n",
    "        notes = self.notes[idx]\n",
    "        durations = self.durations[idx]\n",
    "        times = self.times[idx]\n",
    "        velocities = self.velocities[idx]\n",
    "\n",
    "        sample = {\"notes\": notes, \"durations\": durations, \"times\": times, \"velocities\": velocities }\n",
    "        return sample"
   ]
  },
  {
   "cell_type": "code",
   "execution_count": 11,
   "metadata": {},
   "outputs": [],
   "source": [
    "MIDI_PATH = r\"data/Ludwig van Beethoven/Ode to Joy from the 9th Symphony.mid\"\n",
    "df = make_dataset([MIDI_PATH])"
   ]
  },
  {
   "cell_type": "code",
   "execution_count": 12,
   "metadata": {},
   "outputs": [],
   "source": [
    "midi = MidiDataset(df['notes'], df['durations'], df['times'], df['velocities'])"
   ]
  },
  {
   "cell_type": "code",
   "execution_count": 13,
   "metadata": {},
   "outputs": [
    {
     "data": {
      "image/png": "[encoded data removed]",
      "text/plain": [
       "<Figure size 640x480 with 1 Axes>"
      ]
     },
     "metadata": {},
     "output_type": "display_data"
    }
   ],
   "source": [
    "plt.hist([x for x in filter(lambda x : x > 0, df['notes'][0][:-2])], bins=88)\n",
    "plt.show()"
   ]
  },
  {
   "cell_type": "code",
   "execution_count": 14,
   "metadata": {},
   "outputs": [
    {
     "data": {
      "image/png": "[encoded data removed]",
      "text/plain": [
       "<Figure size 640x480 with 1 Axes>"
      ]
     },
     "metadata": {},
     "output_type": "display_data"
    }
   ],
   "source": [
    "plt.hist(df['durations'][0], bins=32)\n",
    "plt.show()"
   ]
  },
  {
   "cell_type": "code",
   "execution_count": 15,
   "metadata": {},
   "outputs": [
    {
     "data": {
      "image/png": "[encoded data removed]",
      "text/plain": [
       "<Figure size 640x480 with 1 Axes>"
      ]
     },
     "metadata": {},
     "output_type": "display_data"
    }
   ],
   "source": [
    "plt.hist(df['times'][0], bins=32)\n",
    "plt.show()"
   ]
  },
  {
   "cell_type": "code",
   "execution_count": 75,
   "metadata": {},
   "outputs": [],
   "source": [
    "train_loader = DataLoader(midi, batch_size=1)"
   ]
  },
  {
   "cell_type": "markdown",
   "metadata": {},
   "source": [
    "# Model"
   ]
  },
  {
   "cell_type": "code",
   "execution_count": 109,
   "metadata": {},
   "outputs": [
    {
     "name": "stdout",
     "output_type": "stream",
     "text": [
      "Input Tensor =  torch.Size([1, 255])\n",
      "Output Tensor =  (1, 131)\n",
      "Best Note =  C-1\n"
     ]
    }
   ],
   "source": [
    "from model import ComposeNet, VOCABULARY\n",
    "model = ComposeNet()\n",
    "\n",
    "note_tensor = next(iter(train_loader))['notes'][:, :model._context_len - 1]\n",
    "note_tensor[:, -1] = VOCABULARY['MASK']\n",
    "note_tensor = note_tensor.to(\"cuda\")\n",
    "\n",
    "print(\"Input Tensor = \", note_tensor.shape)\n",
    "\n",
    "output = model(note_tensor).cpu().detach().numpy()\n",
    "print(\"Output Tensor = \", output.shape)\n",
    "\n",
    "print(\"Best Note = \", librosa.midi_to_note(output[0][-1].argmax()))"
   ]
  }
 ],
 "metadata": {
  "kernelspec": {
   "display_name": "agienv",
   "language": "python",
   "name": "python3"
  },
  "language_info": {
   "codemirror_mode": {
    "name": "ipython",
    "version": 3
   },
   "file_extension": ".py",
   "mimetype": "text/x-python",
   "name": "python",
   "nbconvert_exporter": "python",
   "pygments_lexer": "ipython3",
   "version": "3.11.3"
  },
  "orig_nbformat": 4
 },
 "nbformat": 4,
 "nbformat_minor": 2
}
