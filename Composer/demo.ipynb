{
 "cells": [
  {
   "cell_type": "code",
   "execution_count": 2,
   "metadata": {},
   "outputs": [],
   "source": [
    "# TODO: Data Loader module see \n",
    "# https://towardsdatascience.com/how-to-use-datasets-and-dataloader-in-pytorch-for-custom-text-data-270eed7f7c00\n",
    "\n",
    "%load_ext autoreload\n",
    "%autoreload 2"
   ]
  },
  {
   "cell_type": "code",
   "execution_count": 3,
   "metadata": {},
   "outputs": [],
   "source": [
    "from torch.utils.data import Dataset, DataLoader\n",
    "import torch\n",
    "import librosa\n",
    "import mido\n",
    "import numpy as np \n",
    "import pandas as pd\n",
    "import matplotlib.pyplot as plt\n",
    "import os"
   ]
  },
  {
   "cell_type": "code",
   "execution_count": 4,
   "metadata": {},
   "outputs": [],
   "source": [
    "BUNDLE_SEPARATOR = 128\n",
    "EOS = 129"
   ]
  },
  {
   "cell_type": "code",
   "execution_count": 5,
   "metadata": {},
   "outputs": [],
   "source": [
    "# Bundle all note events together based on their time offset from each other\n",
    "# Returns an array with dimensions (tracks, bundles per track)\n",
    "def bundle_events(midi_file : mido.MidiFile):\n",
    "    track_bundles = []\n",
    "\n",
    "    for i, track in enumerate(midi_file.tracks):\n",
    "        bundle = []\n",
    "        bundles = []\n",
    "        for msg in track:\n",
    "            attrs = msg.dict()\n",
    "            type = attrs[\"type\"]\n",
    "\n",
    "            if type == 'note_on' or type == 'note_off':\n",
    "                if attrs['time'] == 0 or len(bundle) == 0:\n",
    "                    bundle.append(attrs)\n",
    "                else:\n",
    "                    # Ensure that the first entry in the list has the time stamp info\n",
    "                    delta = bundle[0]['time']\n",
    "                    # Sort each entry in each bundle based on the note (in ascending order) \n",
    "                    sorted_bundle = sorted(bundle, key=lambda x: int(x['note']))\n",
    "\n",
    "                    # Set all bundle entries to have time = 0 except for the first entry\n",
    "                    for b in sorted_bundle:\n",
    "                        b['time'] = 0\n",
    "                    sorted_bundle[0]['time'] = delta \n",
    "\n",
    "                    bundles.append(sorted_bundle)\n",
    "\n",
    "                    bundle.clear()\n",
    "                    bundle.append(attrs)\n",
    "\n",
    "        track_bundles.append(bundles)\n",
    "\n",
    "    return track_bundles"
   ]
  },
  {
   "cell_type": "code",
   "execution_count": 6,
   "metadata": {},
   "outputs": [],
   "source": [
    "# Augment track bundles by removing note off / velocity = 0 events. \n",
    "def augment_track_bundles(track_bundles):\n",
    "    augmented_track_bundles = []\n",
    "\n",
    "    # entries are of the form\n",
    "    # note_id : {event, time_started, idx }\n",
    "    state = {}\n",
    "\n",
    "    for track in track_bundles:\n",
    "        aug = [[] for i in range(0, len(track))]\n",
    "        time = 0\n",
    "\n",
    "        for i, bundle in enumerate(track): \n",
    "            time += bundle[0]['time']\n",
    "            for event in bundle: \n",
    "                if event['type'] == 'note_off' or event['velocity'] == 0:\n",
    "                    info = state[event['note']]\n",
    "                    info['event']['duration'] = time - info['time']\n",
    "                    info['event']['time'] = info['time']\n",
    "\n",
    "                    if 'type' in info['event'].keys():\n",
    "                        del info['event']['type']\n",
    "\n",
    "                    aug[info['idx']].append(info['event']) \n",
    "                else: \n",
    "                    state[event['note']] = {'event': event, 'time': time, 'idx': i}\n",
    "\n",
    "        # Remove any empty entries\n",
    "        augmented_track_bundles.append(filter(lambda x : len(x) != 0, aug))\n",
    "\n",
    "    return augmented_track_bundles"
   ]
  },
  {
   "cell_type": "code",
   "execution_count": 7,
   "metadata": {},
   "outputs": [],
   "source": [
    "# Convert bundles to a list of notes, durations and velocities. \n",
    "# Each bundle note and velocity is separated from each other.\n",
    "# Each duration corresponds to the duration of the ntote\n",
    "# Each time corresponds to how far apart things are spaced. \n",
    "# Each velocity is normalized to be between 0 and 1 (by dividing by 127)\n",
    "\n",
    "def create_lists(track_bundles):    \n",
    "    track_notes = []\n",
    "    track_durations = []\n",
    "    track_times = []\n",
    "    track_velocities = []\n",
    "\n",
    "    for track in track_bundles:\n",
    "        notes = []\n",
    "        durations = []\n",
    "        times = []\n",
    "        velocities = []\n",
    "        \n",
    "        current_time = 0\n",
    "\n",
    "        for b in track:\n",
    "            time = b[0]['time'] - current_time\n",
    "            for x in b: \n",
    "                notes.append(x['note'])\n",
    "                durations.append(x['duration'])\n",
    "                velocities.append(int(x['velocity']))\n",
    "\n",
    "            notes.append(BUNDLE_SEPARATOR)\n",
    "            durations.append(0)\n",
    "            times.append(time)\n",
    "            velocities.append(0)\n",
    "\n",
    "            current_time = time\n",
    "\n",
    "        notes.append(EOS)\n",
    "        durations.append(0)\n",
    "        times.append(0)\n",
    "        velocities.append(0)\n",
    "\n",
    "        track_notes.append(notes)\n",
    "        track_durations.append(durations)\n",
    "        track_times.append(times)\n",
    "        track_velocities.append(velocities)\n",
    "\n",
    "    return np.array(track_notes), \\\n",
    "        np.array(track_durations), \\\n",
    "        np.array(track_times), \\\n",
    "        np.array(track_velocities)"
   ]
  },
  {
   "cell_type": "code",
   "execution_count": 8,
   "metadata": {},
   "outputs": [],
   "source": [
    "def normalize_to_beats(track_arr, ticks_per_beat):\n",
    "    return track_arr / ticks_per_beat"
   ]
  },
  {
   "cell_type": "code",
   "execution_count": 9,
   "metadata": {},
   "outputs": [],
   "source": [
    "def process_midi(path, logs = False):\n",
    "    midi_file = mido.MidiFile(path)\n",
    "\n",
    "    if logs:\n",
    "        print(path)\n",
    "        print(\"Samples: \", len(midi_file.tracks[0]))\n",
    "\n",
    "    track_bundles = bundle_events(midi_file)\n",
    "    augmented_bundles = augment_track_bundles(track_bundles)\n",
    "    track_notes, track_durations, track_times, track_velocities = create_lists(augmented_bundles)\n",
    "\n",
    "    track_durations = normalize_to_beats(track_durations, midi_file.ticks_per_beat)\n",
    "    track_times = normalize_to_beats(track_times, midi_file.ticks_per_beat)\n",
    "    \n",
    "    return track_notes[0], track_durations[0], track_times[0], track_velocities[0]"
   ]
  },
  {
   "attachments": {},
   "cell_type": "markdown",
   "metadata": {},
   "source": [
    "# Dataset Creation"
   ]
  },
  {
   "cell_type": "code",
   "execution_count": 10,
   "metadata": {},
   "outputs": [],
   "source": [
    "def make_dataset(midis) -> pd.DataFrame:\n",
    "\n",
    "    df = pd.DataFrame(columns=[\"notes\", \"durations\", \"times\", \"velocities\"])\n",
    "\n",
    "    for mid in midis:\n",
    "        n, d, t, v = process_midi(mid)\n",
    "        df.loc[len(df.index)] = [n, d, t, v]\n",
    "\n",
    "    return df"
   ]
  },
  {
   "cell_type": "code",
   "execution_count": 11,
   "metadata": {},
   "outputs": [],
   "source": [
    "class MidiDataset(Dataset):\n",
    "    def __init__(self, notes, durations, times, velocities):\n",
    "        self.notes = notes \n",
    "        self.durations = durations \n",
    "        self.times = times\n",
    "        self.velocities = velocities\n",
    "    \n",
    "    def __len__(self):\n",
    "        return len(self.notes)\n",
    "    \n",
    "    def __getitem__(self, idx):\n",
    "        notes = self.notes[idx]\n",
    "        durations = self.durations[idx]\n",
    "        times = self.times[idx]\n",
    "        velocities = self.velocities[idx]\n",
    "\n",
    "        sample = {\"notes\": notes, \"durations\": durations, \"times\": times, \"velocities\": velocities }\n",
    "        return sample"
   ]
  },
  {
   "cell_type": "code",
   "execution_count": 12,
   "metadata": {},
   "outputs": [],
   "source": [
    "MIDI_PATH = r\"data/Ludwig van Beethoven/Ode to Joy from the 9th Symphony.mid\"\n",
    "df = make_dataset([MIDI_PATH])"
   ]
  },
  {
   "cell_type": "code",
   "execution_count": 13,
   "metadata": {},
   "outputs": [],
   "source": [
    "midi = MidiDataset(df['notes'], df['durations'], df['times'], df['velocities'])"
   ]
  },
  {
   "cell_type": "code",
   "execution_count": 14,
   "metadata": {},
   "outputs": [
    {
     "data": {
      "image/png": "[encoded data removed]",
      "text/plain": [
       "<Figure size 640x480 with 1 Axes>"
      ]
     },
     "metadata": {},
     "output_type": "display_data"
    }
   ],
   "source": [
    "plt.hist([x for x in filter(lambda x : x > 0, df['notes'][0][:-2])], bins=88)\n",
    "plt.show()"
   ]
  },
  {
   "cell_type": "code",
   "execution_count": 21,
   "metadata": {},
   "outputs": [
    {
     "data": {
      "image/png": "[encoded data removed]",
      "text/plain": [
       "<Figure size 640x480 with 1 Axes>"
      ]
     },
     "metadata": {},
     "output_type": "display_data"
    },
    {
     "name": "stdout",
     "output_type": "stream",
     "text": [
      "[0.00000000e+00 4.16666667e-03 8.33333333e-03 1.25000000e-02\n",
      " 1.66666667e-02 2.08333333e-02 2.50000000e-02 2.91666667e-02\n",
      " 3.33333333e-02 3.75000000e-02 4.16666667e-02 4.58333333e-02\n",
      " 5.00000000e-02 5.41666667e-02 5.83333333e-02 6.25000000e-02\n",
      " 6.66666667e-02 7.08333333e-02 7.50000000e-02 7.91666667e-02\n",
      " 8.33333333e-02 8.75000000e-02 9.16666667e-02 9.58333333e-02\n",
      " 1.00000000e-01 1.04166667e-01 1.08333333e-01 1.12500000e-01\n",
      " 1.16666667e-01 1.20833333e-01 1.25000000e-01 1.29166667e-01\n",
      " 1.33333333e-01 1.37500000e-01 1.41666667e-01 1.45833333e-01\n",
      " 1.50000000e-01 1.54166667e-01 1.58333333e-01 1.62500000e-01\n",
      " 1.66666667e-01 1.70833333e-01 1.75000000e-01 1.79166667e-01\n",
      " 1.83333333e-01 1.87500000e-01 1.91666667e-01 1.95833333e-01\n",
      " 2.00000000e-01 2.04166667e-01 2.08333333e-01 2.12500000e-01\n",
      " 2.16666667e-01 2.20833333e-01 2.25000000e-01 2.29166667e-01\n",
      " 2.33333333e-01 2.37500000e-01 2.41666667e-01 2.45833333e-01\n",
      " 2.50000000e-01 2.54166667e-01 2.58333333e-01 2.62500000e-01\n",
      " 2.66666667e-01 2.70833333e-01 2.75000000e-01 2.79166667e-01\n",
      " 2.83333333e-01 2.87500000e-01 2.91666667e-01 2.95833333e-01\n",
      " 3.00000000e-01 3.04166667e-01 3.08333333e-01 3.12500000e-01\n",
      " 3.16666667e-01 3.20833333e-01 3.25000000e-01 3.29166667e-01\n",
      " 3.33333333e-01 3.37500000e-01 3.41666667e-01 3.45833333e-01\n",
      " 3.50000000e-01 3.54166667e-01 3.58333333e-01 3.62500000e-01\n",
      " 3.66666667e-01 3.70833333e-01 3.75000000e-01 3.79166667e-01\n",
      " 3.83333333e-01 3.87500000e-01 3.91666667e-01 3.95833333e-01\n",
      " 4.00000000e-01 4.04166667e-01 4.08333333e-01 4.12500000e-01\n",
      " 4.16666667e-01 4.20833333e-01 4.25000000e-01 4.29166667e-01\n",
      " 4.33333333e-01 4.41666667e-01 4.45833333e-01 4.50000000e-01\n",
      " 4.54166667e-01 4.58333333e-01 4.62500000e-01 4.66666667e-01\n",
      " 4.70833333e-01 4.75000000e-01 4.79166667e-01 4.83333333e-01\n",
      " 4.87500000e-01 4.91666667e-01 4.95833333e-01 5.00000000e-01\n",
      " 5.04166667e-01 5.08333333e-01 5.12500000e-01 5.16666667e-01\n",
      " 5.20833333e-01 5.25000000e-01 5.29166667e-01 5.33333333e-01\n",
      " 5.37500000e-01 5.41666667e-01 5.45833333e-01 5.50000000e-01\n",
      " 5.54166667e-01 5.58333333e-01 5.62500000e-01 5.66666667e-01\n",
      " 5.70833333e-01 5.75000000e-01 5.79166667e-01 5.83333333e-01\n",
      " 5.87500000e-01 5.95833333e-01 6.00000000e-01 6.04166667e-01\n",
      " 6.08333333e-01 6.12500000e-01 6.16666667e-01 6.20833333e-01\n",
      " 6.25000000e-01 6.29166667e-01 6.33333333e-01 6.37500000e-01\n",
      " 6.41666667e-01 6.45833333e-01 6.50000000e-01 6.54166667e-01\n",
      " 6.58333333e-01 6.62500000e-01 6.66666667e-01 6.70833333e-01\n",
      " 6.75000000e-01 6.83333333e-01 6.87500000e-01 6.91666667e-01\n",
      " 6.95833333e-01 7.00000000e-01 7.04166667e-01 7.08333333e-01\n",
      " 7.12500000e-01 7.16666667e-01 7.20833333e-01 7.25000000e-01\n",
      " 7.29166667e-01 7.33333333e-01 7.37500000e-01 7.41666667e-01\n",
      " 7.45833333e-01 7.50000000e-01 7.54166667e-01 7.58333333e-01\n",
      " 7.66666667e-01 7.70833333e-01 7.75000000e-01 7.79166667e-01\n",
      " 7.83333333e-01 7.87500000e-01 7.91666667e-01 7.95833333e-01\n",
      " 8.00000000e-01 8.04166667e-01 8.08333333e-01 8.12500000e-01\n",
      " 8.16666667e-01 8.20833333e-01 8.25000000e-01 8.33333333e-01\n",
      " 8.37500000e-01 8.41666667e-01 8.45833333e-01 8.50000000e-01\n",
      " 8.54166667e-01 8.58333333e-01 8.62500000e-01 8.66666667e-01\n",
      " 8.70833333e-01 8.75000000e-01 8.79166667e-01 8.83333333e-01\n",
      " 8.91666667e-01 8.95833333e-01 9.04166667e-01 9.12500000e-01\n",
      " 9.16666667e-01 9.20833333e-01 9.25000000e-01 9.29166667e-01\n",
      " 9.33333333e-01 9.37500000e-01 9.41666667e-01 9.45833333e-01\n",
      " 9.54166667e-01 9.58333333e-01 9.62500000e-01 9.66666667e-01\n",
      " 9.75000000e-01 9.79166667e-01 9.83333333e-01 9.87500000e-01\n",
      " 9.91666667e-01 9.95833333e-01 1.00000000e+00 1.00416667e+00\n",
      " 1.00833333e+00 1.01250000e+00 1.01666667e+00 1.02500000e+00\n",
      " 1.02916667e+00 1.03750000e+00 1.04166667e+00 1.05000000e+00\n",
      " 1.05416667e+00 1.06250000e+00 1.06666667e+00 1.07083333e+00\n",
      " 1.07500000e+00 1.08333333e+00 1.08750000e+00 1.09166667e+00\n",
      " 1.09583333e+00 1.10000000e+00 1.10416667e+00 1.10833333e+00\n",
      " 1.11666667e+00 1.12083333e+00 1.12500000e+00 1.12916667e+00\n",
      " 1.13333333e+00 1.13750000e+00 1.14166667e+00 1.14583333e+00\n",
      " 1.15000000e+00 1.15416667e+00 1.15833333e+00 1.16250000e+00\n",
      " 1.16666667e+00 1.17083333e+00 1.17500000e+00 1.18333333e+00\n",
      " 1.19166667e+00 1.19583333e+00 1.20000000e+00 1.20416667e+00\n",
      " 1.20833333e+00 1.22083333e+00 1.23333333e+00 1.23750000e+00\n",
      " 1.24166667e+00 1.24583333e+00 1.25000000e+00 1.25833333e+00\n",
      " 1.26250000e+00 1.27083333e+00 1.27916667e+00 1.28333333e+00\n",
      " 1.28750000e+00 1.29166667e+00 1.29583333e+00 1.30000000e+00\n",
      " 1.30416667e+00 1.30833333e+00 1.31666667e+00 1.34166667e+00\n",
      " 1.34583333e+00 1.35833333e+00 1.36250000e+00 1.37083333e+00\n",
      " 1.37500000e+00 1.37916667e+00 1.38750000e+00 1.39166667e+00\n",
      " 1.39583333e+00 1.40000000e+00 1.40833333e+00 1.42083333e+00\n",
      " 1.42500000e+00 1.43750000e+00 1.44583333e+00 1.45833333e+00\n",
      " 1.47500000e+00 1.47916667e+00 1.48333333e+00 1.48750000e+00\n",
      " 1.49166667e+00 1.49583333e+00 1.50000000e+00 1.50833333e+00\n",
      " 1.51666667e+00 1.52083333e+00 1.52916667e+00 1.53750000e+00\n",
      " 1.54583333e+00 1.56250000e+00 1.57500000e+00 1.57916667e+00\n",
      " 1.59166667e+00 1.59583333e+00 1.60416667e+00 1.60833333e+00\n",
      " 1.61666667e+00 1.65000000e+00 1.66666667e+00 1.67083333e+00\n",
      " 1.67916667e+00 1.68333333e+00 1.69166667e+00 1.70416667e+00\n",
      " 1.72916667e+00 1.73750000e+00 1.74166667e+00 1.74583333e+00\n",
      " 1.75833333e+00 1.77083333e+00 1.79166667e+00 1.79583333e+00\n",
      " 1.80000000e+00 1.80416667e+00 1.80833333e+00 1.82500000e+00\n",
      " 1.84583333e+00 1.85416667e+00 1.86250000e+00 1.86666667e+00\n",
      " 1.87083333e+00 1.87916667e+00 1.88750000e+00 1.89166667e+00\n",
      " 1.89583333e+00 1.90000000e+00 1.91666667e+00 1.92083333e+00\n",
      " 1.92500000e+00 1.92916667e+00 1.94166667e+00 1.94583333e+00\n",
      " 1.95000000e+00 1.95416667e+00 1.95833333e+00 1.96666667e+00\n",
      " 1.97500000e+00 1.97916667e+00 1.98750000e+00 1.99166667e+00\n",
      " 1.99583333e+00 2.00000000e+00 2.02916667e+00 2.03750000e+00\n",
      " 2.05833333e+00 2.06250000e+00 2.07500000e+00 2.07916667e+00\n",
      " 2.08750000e+00 2.09583333e+00 2.12083333e+00 2.15000000e+00\n",
      " 2.15416667e+00 2.15833333e+00 2.23750000e+00 2.25000000e+00\n",
      " 2.25833333e+00 2.29166667e+00 2.30000000e+00 2.31666667e+00\n",
      " 2.32083333e+00 2.35416667e+00 2.35833333e+00 2.38750000e+00\n",
      " 2.39583333e+00 2.40000000e+00 2.41666667e+00 2.45833333e+00\n",
      " 2.46250000e+00 2.46666667e+00 2.47916667e+00 2.48333333e+00\n",
      " 2.49166667e+00 2.49583333e+00 2.50000000e+00 2.50416667e+00\n",
      " 2.50833333e+00 2.51666667e+00 2.52916667e+00 2.53750000e+00\n",
      " 2.54583333e+00 2.56250000e+00 2.57916667e+00 2.58333333e+00\n",
      " 2.60000000e+00 2.61250000e+00 2.61666667e+00 2.62500000e+00\n",
      " 2.65000000e+00 2.67083333e+00 2.68333333e+00 2.69166667e+00\n",
      " 2.72083333e+00 2.73333333e+00 2.73750000e+00 2.74166667e+00\n",
      " 2.74583333e+00 2.77500000e+00 2.79166667e+00 2.80000000e+00\n",
      " 2.80833333e+00 2.82500000e+00 2.84583333e+00 2.85000000e+00\n",
      " 2.87083333e+00 2.87916667e+00 2.88333333e+00 2.88750000e+00\n",
      " 2.90000000e+00 2.90416667e+00 2.91666667e+00 2.92083333e+00\n",
      " 2.92500000e+00 2.93333333e+00 2.94166667e+00 2.94583333e+00\n",
      " 2.95000000e+00 2.95833333e+00 2.99166667e+00 2.99583333e+00\n",
      " 3.04583333e+00 3.16666667e+00 3.18750000e+00 3.21666667e+00\n",
      " 3.25833333e+00 3.27916667e+00 3.28333333e+00 3.36666667e+00\n",
      " 3.40833333e+00 3.45000000e+00 3.49583333e+00 3.50000000e+00\n",
      " 3.60833333e+00 3.65416667e+00 3.75000000e+00 3.78333333e+00\n",
      " 3.88333333e+00 3.95833333e+00 3.96250000e+00 3.97500000e+00\n",
      " 3.99166667e+00 3.99583333e+00 4.04166667e+00 4.12083333e+00\n",
      " 4.16250000e+00 4.39166667e+00 4.45833333e+00 4.69166667e+00\n",
      " 4.81250000e+00 4.94583333e+00 4.95416667e+00 4.95833333e+00\n",
      " 4.96250000e+00 5.00000000e+00 5.04166667e+00 5.05416667e+00\n",
      " 5.08333333e+00 5.10416667e+00 5.16250000e+00 5.25833333e+00\n",
      " 5.35416667e+00 5.50000000e+00 5.51666667e+00 5.84583333e+00\n",
      " 5.95833333e+00 6.89166667e+00 7.66250000e+00 7.82500000e+00\n",
      " 8.00000000e+00 8.89166667e+00 8.95833333e+00 1.41125000e+01]\n"
     ]
    }
   ],
   "source": [
    "plt.hist(df['durations'][0], bins=32)\n",
    "plt.show()"
   ]
  },
  {
   "cell_type": "code",
   "execution_count": 16,
   "metadata": {},
   "outputs": [
    {
     "data": {
      "image/png": "[encoded data removed]",
      "text/plain": [
       "<Figure size 640x480 with 1 Axes>"
      ]
     },
     "metadata": {},
     "output_type": "display_data"
    }
   ],
   "source": [
    "plt.hist(df['times'][0], bins=32)\n",
    "plt.show()\n",
    "\n",
    "\n"
   ]
  },
  {
   "cell_type": "code",
   "execution_count": 17,
   "metadata": {},
   "outputs": [
    {
     "data": {
      "image/png": "[encoded data removed]",
      "text/plain": [
       "<Figure size 640x480 with 1 Axes>"
      ]
     },
     "metadata": {},
     "output_type": "display_data"
    }
   ],
   "source": [
    "plt.hist(df['velocities'][0], bins=128)\n",
    "plt.show()"
   ]
  },
  {
   "cell_type": "code",
   "execution_count": 18,
   "metadata": {},
   "outputs": [],
   "source": [
    "train_loader = DataLoader(midi, batch_size=1)"
   ]
  },
  {
   "cell_type": "markdown",
   "metadata": {},
   "source": [
    "# Model"
   ]
  },
  {
   "cell_type": "code",
   "execution_count": 73,
   "metadata": {},
   "outputs": [
    {
     "name": "stdout",
     "output_type": "stream",
     "text": [
      "Input Tensor =  torch.Size([1, 1024]) torch.Size([1, 1024]) torch.Size([1, 1024])\n",
      "Output Tensor =  (1, 131) (1, 128) (1, 1024, 1)\n",
      "Note =  G-1\n",
      "Velocity =  115\n",
      "Duration =  799\n"
     ]
    }
   ],
   "source": [
    "from model import ComposeNet, VOCABULARY\n",
    "model = ComposeNet()\n",
    "\n",
    "data = next(iter(train_loader))\n",
    "note_tensor = data['notes'][:, :model._context_len]\n",
    "note_tensor = note_tensor.to(\"cuda\")\n",
    "\n",
    "velocity_tensor = data['velocities'][:, :model._context_len ]\n",
    "velocity_tensor = velocity_tensor.to(\"cuda\")\n",
    "\n",
    "duration_tensor = data['durations'][:, :model._context_len ]\n",
    "duration_tensor = duration_tensor.to(\"cuda\")\n",
    "\n",
    "input = {\n",
    "    \"notes\": note_tensor,\n",
    "    \"velocities\": velocity_tensor,\n",
    "    \"durations\": duration_tensor \n",
    "}\n",
    "\n",
    "print(\"Input Tensor = \", note_tensor.shape, velocity_tensor.shape, duration_tensor.shape)\n",
    "\n",
    "output_notes, output_velocities, output_durations = model(input)\n",
    "\n",
    "output_notes = output_notes.cpu().detach().numpy()\n",
    "output_velocities = output_velocities.cpu().detach().numpy()\n",
    "output_durations = output_durations.cpu().detach().numpy()\n",
    "\n",
    "print(\"Output Tensor = \", output_notes.shape, output_velocities.shape, output_durations.shape)\n",
    "\n",
    "print(\"Note = \", librosa.midi_to_note(output_notes[0].argmax()))\n",
    "print(\"Velocity = \", output_velocities[0].argmax())\n",
    "print(\"Duration = \", output_durations[0].argmax())\n"
   ]
  },
  {
   "cell_type": "code",
   "execution_count": 20,
   "metadata": {},
   "outputs": [
    {
     "name": "stdout",
     "output_type": "stream",
     "text": [
      "model size: 0.119MB\n"
     ]
    }
   ],
   "source": [
    "# Model Specifications\n",
    "param_size = 0\n",
    "for param in model.parameters():\n",
    "    param_size += param.nelement() * param.element_size()\n",
    "buffer_size = 0\n",
    "for buffer in model.buffers():\n",
    "    buffer_size += buffer.nelement() * buffer.element_size()\n",
    "\n",
    "size_all_mb = (param_size + buffer_size) / 1024**2\n",
    "print('model size: {:.3f}MB'.format(size_all_mb))"
   ]
  },
  {
   "cell_type": "code",
   "execution_count": null,
   "metadata": {},
   "outputs": [],
   "source": [
    "plt.bar(np.linspace(0, len(VOCABULARY), len(VOCABULARY)), output_notes.reshape((-1,)))\n",
    "plt.show()"
   ]
  },
  {
   "cell_type": "code",
   "execution_count": null,
   "metadata": {},
   "outputs": [],
   "source": []
  }
 ],
 "metadata": {
  "kernelspec": {
   "display_name": "agienv",
   "language": "python",
   "name": "python3"
  },
  "language_info": {
   "codemirror_mode": {
    "name": "ipython",
    "version": 3
   },
   "file_extension": ".py",
   "mimetype": "text/x-python",
   "name": "python",
   "nbconvert_exporter": "python",
   "pygments_lexer": "ipython3",
   "version": "3.11.3"
  },
  "orig_nbformat": 4
 },
 "nbformat": 4,
 "nbformat_minor": 2
}
