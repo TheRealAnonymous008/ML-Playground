{
 "cells": [
  {
   "cell_type": "code",
   "execution_count": 3,
   "metadata": {},
   "outputs": [],
   "source": [
    "# TODO: Data Loader module see \n",
    "# https://towardsdatascience.com/how-to-use-datasets-and-dataloader-in-pytorch-for-custom-text-data-270eed7f7c00\n",
    "\n",
    "%load_ext autoreload\n",
    "%autoreload 2"
   ]
  },
  {
   "cell_type": "code",
   "execution_count": 65,
   "metadata": {},
   "outputs": [],
   "source": [
    "from torch.utils.data import Dataset, DataLoader\n",
    "import torch\n",
    "import mido\n",
    "import numpy as np \n",
    "import pandas as pd\n",
    "import matplotlib.pyplot as plt"
   ]
  },
  {
   "cell_type": "code",
   "execution_count": 40,
   "metadata": {},
   "outputs": [],
   "source": [
    "BUNDLE_SEPARATOR = -1\n",
    "EOS = 1024"
   ]
  },
  {
   "cell_type": "code",
   "execution_count": 36,
   "metadata": {},
   "outputs": [],
   "source": [
    "# Bundle all note events together based on their time offset from each other\n",
    "# Returns an array with dimensions (tracks, bundles per track)\n",
    "def bundle_events(midi_file : mido.MidiFile):\n",
    "    track_bundles = []\n",
    "\n",
    "    for i, track in enumerate(midi_file.tracks):\n",
    "        bundle = []\n",
    "        bundles = []\n",
    "        for msg in track:\n",
    "            attrs = msg.dict()\n",
    "            type = attrs[\"type\"]\n",
    "\n",
    "            if type == 'note_on' or type == 'note_off':\n",
    "                if attrs['time'] == 0 or len(bundle) == 0:\n",
    "                    bundle.append(attrs)\n",
    "                else:\n",
    "                    # Ensure that the first entry in the list has the time stamp info\n",
    "                    delta = bundle[0]['time']\n",
    "                    # Sort each entry in each bundle based on the note (in ascending order) \n",
    "                    sorted_bundle = sorted(bundle, key=lambda x: int(x['note']))\n",
    "\n",
    "                    # Set all bundle entries to have time = 0 except for the first entry\n",
    "                    for b in sorted_bundle:\n",
    "                        b['time'] = 0\n",
    "                    sorted_bundle[0]['time'] = delta \n",
    "\n",
    "                    bundles.append(sorted_bundle)\n",
    "\n",
    "                    bundle.clear()\n",
    "                    bundle.append(attrs)\n",
    "\n",
    "        track_bundles.append(bundles)\n",
    "    return track_bundles"
   ]
  },
  {
   "cell_type": "code",
   "execution_count": 57,
   "metadata": {},
   "outputs": [],
   "source": [
    "# Convert bundles to a list of notes, deltas and velocities. \n",
    "# Each bundle note and velocity is separated from each other.\n",
    "# Each delta only corresponds to each bundle separator\n",
    "# Each velocity is normalized to be between 0 and 1 (by dividing by 127)\n",
    "\n",
    "def create_lists(track_bundles):    \n",
    "    track_notes = []\n",
    "    track_deltas = []\n",
    "    track_velocities = []\n",
    "\n",
    "    for track in track_bundles:\n",
    "        notes = []\n",
    "        deltas = []\n",
    "        velocities = []\n",
    "\n",
    "        for b in track:\n",
    "            for x in b: \n",
    "                notes.append(x['note'])\n",
    "                velocities.append(x['velocity'] / 127)\n",
    "\n",
    "            notes.append(BUNDLE_SEPARATOR)\n",
    "            deltas.append(b[0]['time'])\n",
    "            velocities.append(0)\n",
    "\n",
    "        notes.append(EOS)\n",
    "        deltas.append(0)\n",
    "        velocities.append(0)\n",
    "\n",
    "        track_notes.append(notes)\n",
    "        track_deltas.append(deltas)\n",
    "        track_velocities.append(velocities)\n",
    "\n",
    "    return track_notes, track_deltas, track_velocities"
   ]
  },
  {
   "cell_type": "code",
   "execution_count": 59,
   "metadata": {},
   "outputs": [],
   "source": [
    "def process_midi(path, logs = False):\n",
    "    midi_file = mido.MidiFile(path)\n",
    "\n",
    "    if logs:\n",
    "        print(path)\n",
    "        print(\"Samples: \", len(midi_file.tracks[0]))\n",
    "\n",
    "    track_bundles = bundle_events(midi_file)\n",
    "    track_notes, track_deltas, track_velocities = create_lists(track_bundles)\n",
    "\n",
    "    return track_notes[0], track_deltas[0], track_velocities[0]"
   ]
  },
  {
   "attachments": {},
   "cell_type": "markdown",
   "metadata": {},
   "source": [
    "# Dataset Creation"
   ]
  },
  {
   "cell_type": "code",
   "execution_count": 68,
   "metadata": {},
   "outputs": [],
   "source": [
    "def make_dataset(midis) -> pd.DataFrame:\n",
    "\n",
    "    df = pd.DataFrame(columns=[\"notes\", \"deltas\", \"velocities\"])\n",
    "\n",
    "    for mid in midis:\n",
    "        n, d, v = process_midi(mid)\n",
    "        df.loc[len(df.index)] = [n, d, v]\n",
    "\n",
    "    return df"
   ]
  },
  {
   "cell_type": "code",
   "execution_count": 64,
   "metadata": {},
   "outputs": [],
   "source": [
    "class MidiDataset(Dataset):\n",
    "    def __init__(self, notes, deltas, velocities):\n",
    "        self.notes = notes \n",
    "        self.deltas = deltas \n",
    "        self.velocities = velocities\n",
    "    \n",
    "    def __len__(self):\n",
    "        return len(self.notes)\n",
    "    \n",
    "    def __getitem__(self, idx):\n",
    "        notes = self.notes[idx]\n",
    "        deltas = self.deltas[idx]\n",
    "        velocities = self.velocities[idx]\n",
    "\n",
    "        sample = {\"notes\": notes, \"deltas\": deltas, \"velocities\": velocities }\n",
    "        return sample"
   ]
  },
  {
   "cell_type": "code",
   "execution_count": 71,
   "metadata": {},
   "outputs": [
    {
     "name": "stdout",
     "output_type": "stream",
     "text": [
      "                                               notes  \\\n",
      "0  [57, 62, 65, 69, 70, 74, 77, 82, -1, 57, 62, 6...   \n",
      "\n",
      "                                              deltas  \\\n",
      "0  [480, 239, 1, 59, 1, 59, 1, 59, 1, 59, 1, 59, ...   \n",
      "\n",
      "                                          velocities  \n",
      "0  [1.0, 1.0, 1.0, 1.0, 1.0, 1.0, 1.0, 1.0, 0, 0....  \n"
     ]
    }
   ],
   "source": [
    "MIDI_PATH = r\"data/Ludwig van Beethoven/Ode to Joy from the 9th Symphony.mid\"\n",
    "df = make_dataset([MIDI_PATH])"
   ]
  },
  {
   "cell_type": "code",
   "execution_count": 74,
   "metadata": {},
   "outputs": [],
   "source": [
    "midi = MidiDataset(df['notes'], df['deltas'], df['velocities'])"
   ]
  }
 ],
 "metadata": {
  "kernelspec": {
   "display_name": "agienv",
   "language": "python",
   "name": "python3"
  },
  "language_info": {
   "codemirror_mode": {
    "name": "ipython",
    "version": 3
   },
   "file_extension": ".py",
   "mimetype": "text/x-python",
   "name": "python",
   "nbconvert_exporter": "python",
   "pygments_lexer": "ipython3",
   "version": "3.11.3"
  },
  "orig_nbformat": 4
 },
 "nbformat": 4,
 "nbformat_minor": 2
}
