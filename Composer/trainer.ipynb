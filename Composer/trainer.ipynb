{
 "cells": [
  {
   "cell_type": "markdown",
   "metadata": {},
   "source": [
    "# Training"
   ]
  },
  {
   "cell_type": "code",
   "execution_count": 1,
   "metadata": {},
   "outputs": [],
   "source": [
    "%load_ext autoreload\n",
    "%autoreload 2"
   ]
  },
  {
   "cell_type": "code",
   "execution_count": 2,
   "metadata": {},
   "outputs": [],
   "source": [
    "from models.data_split import MidiDataset, VOCABULARY\n",
    "from models.model import NoteComposeNet\n",
    "from torch.utils.data import DataLoader\n",
    "from train import TrainPipeline\n",
    "\n",
    "import torch\n",
    "import pandas as pd\n",
    "\n",
    "# PyTorch TensorBoard support\n",
    "from torch.utils.tensorboard import SummaryWriter\n",
    "from torch.optim.lr_scheduler import CosineAnnealingWarmRestarts\n",
    "from datetime import datetime\n",
    "\n",
    "import math"
   ]
  },
  {
   "cell_type": "code",
   "execution_count": 3,
   "metadata": {},
   "outputs": [],
   "source": [
    "BATCH_SIZE = 32\n",
    "TRAIN_SAMPLES_PER_TRACK = int(1e6)\n",
    "VALIDATE_SAMPLES_PER_TRACK = int(1e5)\n",
    "EPOCHS = 20\n",
    "EPOCHS_SO_FAR = 0\n",
    "GRADIENT_ACC = 32"
   ]
  },
  {
   "cell_type": "code",
   "execution_count": 4,
   "metadata": {},
   "outputs": [
    {
     "name": "stdout",
     "output_type": "stream",
     "text": [
      "model size: 16.297MB\n"
     ]
    }
   ],
   "source": [
    "CHECKPOINT = torch.load(r'./checkpoints/temps/model_6')\n",
    "model = NoteComposeNet()\n",
    "model.load_state_dict(CHECKPOINT)\n",
    "\n",
    "param_size = 0\n",
    "for param in model.parameters():\n",
    "    param_size += param.nelement() * param.element_size()\n",
    "buffer_size = 0\n",
    "for buffer in model.buffers():\n",
    "    buffer_size += buffer.nelement() * buffer.element_size()\n",
    "\n",
    "size_all_mb = (param_size + buffer_size) / 1024**2\n",
    "print('model size: {:.3f}MB'.format(size_all_mb))"
   ]
  },
  {
   "cell_type": "code",
   "execution_count": 5,
   "metadata": {},
   "outputs": [
    {
     "name": "stdout",
     "output_type": "stream",
     "text": [
      "16.376953125\n"
     ]
    }
   ],
   "source": [
    "torch.cuda.empty_cache()\n",
    "print(torch.cuda.memory_allocated() / 1024 ** 2)"
   ]
  },
  {
   "cell_type": "code",
   "execution_count": 6,
   "metadata": {},
   "outputs": [],
   "source": [
    "CSV_PATH = r'datasets/maestro.csv'\n",
    "df = pd.read_csv(CSV_PATH)\n",
    "train_midi = MidiDataset(df, context_len = model._context_len, train_samples=TRAIN_SAMPLES_PER_TRACK, validate_samples=VALIDATE_SAMPLES_PER_TRACK)\n",
    "del df"
   ]
  },
  {
   "cell_type": "code",
   "execution_count": 7,
   "metadata": {},
   "outputs": [],
   "source": [
    "loss_fn = torch.nn.CrossEntropyLoss(label_smoothing=0.1)\n",
    "\n",
    "optimizer = torch.optim.AdamW(\n",
    "    model.parameters(), \n",
    "    lr=0.0001,\n",
    "    weight_decay=0.1, \n",
    "    betas=(0.9, 0.95),\n",
    "    eps=1e-05,\n",
    "    amsgrad=False\n",
    "    )\n",
    "\n",
    "from torch.optim.lr_scheduler import CosineAnnealingWarmRestarts\n",
    "scheduler = CosineAnnealingWarmRestarts(\n",
    "    optimizer=optimizer, \n",
    "    T_0= int(math.ceil(len(train_midi) / (GRADIENT_ACC * BATCH_SIZE))),\n",
    "    eta_min=1e-6,\n",
    ")"
   ]
  },
  {
   "cell_type": "code",
   "execution_count": 8,
   "metadata": {},
   "outputs": [
    {
     "name": "stdout",
     "output_type": "stream",
     "text": [
      "Total samples:  20000000\n",
      "Total tokens: 40960000000\n",
      "Total updates per epoch 977\n"
     ]
    }
   ],
   "source": [
    "print(\"Total samples: \", EPOCHS * len(train_midi))\n",
    "print(\"Total tokens:\", EPOCHS * len(train_midi) * 2048)\n",
    "print(\"Total updates per epoch\", int(math.ceil(len(train_midi) / (GRADIENT_ACC * BATCH_SIZE))))"
   ]
  },
  {
   "cell_type": "code",
   "execution_count": 9,
   "metadata": {},
   "outputs": [
    {
     "name": "stderr",
     "output_type": "stream",
     "text": [
      "Epoch 1:  37%|███▋      | 11546/31250 [47:03<1:20:18,  4.09batch/s, train loss=4.26328, lr=[7.05219226899284e-05]] \n"
     ]
    },
    {
     "ename": "KeyboardInterrupt",
     "evalue": "",
     "output_type": "error",
     "traceback": [
      "\u001b[1;31m---------------------------------------------------------------------------\u001b[0m",
      "\u001b[1;31mKeyboardInterrupt\u001b[0m                         Traceback (most recent call last)",
      "Cell \u001b[1;32mIn[9], line 3\u001b[0m\n\u001b[0;32m      1\u001b[0m pipeline \u001b[39m=\u001b[39m TrainPipeline(train_midi, model, loss_fn, optimizer, validate\u001b[39m=\u001b[39m\u001b[39mTrue\u001b[39;00m, \n\u001b[0;32m      2\u001b[0m                          batch_size\u001b[39m=\u001b[39mBATCH_SIZE, scheduler \u001b[39m=\u001b[39m scheduler, grad_acc \u001b[39m=\u001b[39m GRADIENT_ACC)\n\u001b[1;32m----> 3\u001b[0m pipeline\u001b[39m.\u001b[39;49mtrain(EPOCHS)\n",
      "File \u001b[1;32mc:\\Users\\Joaquin\\Desktop\\Playground\\ML\\Composer\\train.py:120\u001b[0m, in \u001b[0;36mTrainPipeline.train\u001b[1;34m(self, epochs)\u001b[0m\n\u001b[0;32m    118\u001b[0m \u001b[39mself\u001b[39m\u001b[39m.\u001b[39mmodel\u001b[39m.\u001b[39mtrain(\u001b[39mTrue\u001b[39;00m)\n\u001b[0;32m    119\u001b[0m \u001b[39mself\u001b[39m\u001b[39m.\u001b[39mmidi\u001b[39m.\u001b[39mset_training()\n\u001b[1;32m--> 120\u001b[0m avg_loss \u001b[39m=\u001b[39m \u001b[39mself\u001b[39;49m\u001b[39m.\u001b[39;49mtrain_one_epoch(epoch_number, writer)\n\u001b[0;32m    122\u001b[0m \u001b[39m# Better to save the model first.\u001b[39;00m\n\u001b[0;32m    123\u001b[0m model_path \u001b[39m=\u001b[39m \u001b[39m'\u001b[39m\u001b[39mcheckpoints/model_\u001b[39m\u001b[39m{}\u001b[39;00m\u001b[39m_\u001b[39m\u001b[39m{}\u001b[39;00m\u001b[39m'\u001b[39m\u001b[39m.\u001b[39mformat(timestamp, epoch_number)\n",
      "File \u001b[1;32mc:\\Users\\Joaquin\\Desktop\\Playground\\ML\\Composer\\train.py:61\u001b[0m, in \u001b[0;36mTrainPipeline.train_one_epoch\u001b[1;34m(self, epoch_index, tb_writer)\u001b[0m\n\u001b[0;32m     58\u001b[0m     loss \u001b[39m=\u001b[39m \u001b[39mself\u001b[39m\u001b[39m.\u001b[39mloss_fn(output_logits, notes_gt)\n\u001b[0;32m     60\u001b[0m loss \u001b[39m/\u001b[39m\u001b[39m=\u001b[39m \u001b[39mself\u001b[39m\u001b[39m.\u001b[39mgrad_acc\n\u001b[1;32m---> 61\u001b[0m loss\u001b[39m.\u001b[39;49mbackward() \n\u001b[0;32m     62\u001b[0m \u001b[39m# Gather data and report\u001b[39;00m\n\u001b[0;32m     63\u001b[0m last_loss \u001b[39m+\u001b[39m\u001b[39m=\u001b[39m loss\u001b[39m.\u001b[39mdetach()\u001b[39m.\u001b[39mitem()\n",
      "File \u001b[1;32mc:\\Users\\Joaquin\\miniconda3\\envs\\agienv\\Lib\\site-packages\\torch\\_tensor.py:487\u001b[0m, in \u001b[0;36mTensor.backward\u001b[1;34m(self, gradient, retain_graph, create_graph, inputs)\u001b[0m\n\u001b[0;32m    477\u001b[0m \u001b[39mif\u001b[39;00m has_torch_function_unary(\u001b[39mself\u001b[39m):\n\u001b[0;32m    478\u001b[0m     \u001b[39mreturn\u001b[39;00m handle_torch_function(\n\u001b[0;32m    479\u001b[0m         Tensor\u001b[39m.\u001b[39mbackward,\n\u001b[0;32m    480\u001b[0m         (\u001b[39mself\u001b[39m,),\n\u001b[1;32m   (...)\u001b[0m\n\u001b[0;32m    485\u001b[0m         inputs\u001b[39m=\u001b[39minputs,\n\u001b[0;32m    486\u001b[0m     )\n\u001b[1;32m--> 487\u001b[0m torch\u001b[39m.\u001b[39;49mautograd\u001b[39m.\u001b[39;49mbackward(\n\u001b[0;32m    488\u001b[0m     \u001b[39mself\u001b[39;49m, gradient, retain_graph, create_graph, inputs\u001b[39m=\u001b[39;49minputs\n\u001b[0;32m    489\u001b[0m )\n",
      "File \u001b[1;32mc:\\Users\\Joaquin\\miniconda3\\envs\\agienv\\Lib\\site-packages\\torch\\autograd\\__init__.py:200\u001b[0m, in \u001b[0;36mbackward\u001b[1;34m(tensors, grad_tensors, retain_graph, create_graph, grad_variables, inputs)\u001b[0m\n\u001b[0;32m    195\u001b[0m     retain_graph \u001b[39m=\u001b[39m create_graph\n\u001b[0;32m    197\u001b[0m \u001b[39m# The reason we repeat same the comment below is that\u001b[39;00m\n\u001b[0;32m    198\u001b[0m \u001b[39m# some Python versions print out the first line of a multi-line function\u001b[39;00m\n\u001b[0;32m    199\u001b[0m \u001b[39m# calls in the traceback and some print out the last line\u001b[39;00m\n\u001b[1;32m--> 200\u001b[0m Variable\u001b[39m.\u001b[39;49m_execution_engine\u001b[39m.\u001b[39;49mrun_backward(  \u001b[39m# Calls into the C++ engine to run the backward pass\u001b[39;49;00m\n\u001b[0;32m    201\u001b[0m     tensors, grad_tensors_, retain_graph, create_graph, inputs,\n\u001b[0;32m    202\u001b[0m     allow_unreachable\u001b[39m=\u001b[39;49m\u001b[39mTrue\u001b[39;49;00m, accumulate_grad\u001b[39m=\u001b[39;49m\u001b[39mTrue\u001b[39;49;00m)\n",
      "\u001b[1;31mKeyboardInterrupt\u001b[0m: "
     ]
    }
   ],
   "source": [
    "pipeline = TrainPipeline(train_midi, model, loss_fn, optimizer, validate=True, \n",
    "                         batch_size=BATCH_SIZE, scheduler = scheduler, grad_acc = GRADIENT_ACC)\n",
    "pipeline.train(EPOCHS)"
   ]
  }
 ],
 "metadata": {
  "kernelspec": {
   "display_name": "agienv",
   "language": "python",
   "name": "python3"
  },
  "language_info": {
   "codemirror_mode": {
    "name": "ipython",
    "version": 3
   },
   "file_extension": ".py",
   "mimetype": "text/x-python",
   "name": "python",
   "nbconvert_exporter": "python",
   "pygments_lexer": "ipython3",
   "version": "3.11.3"
  },
  "orig_nbformat": 4
 },
 "nbformat": 4,
 "nbformat_minor": 2
}
