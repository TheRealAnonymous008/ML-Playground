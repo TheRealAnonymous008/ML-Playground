{
 "cells": [
  {
   "cell_type": "code",
   "execution_count": 51,
   "metadata": {},
   "outputs": [
    {
     "name": "stdout",
     "output_type": "stream",
     "text": [
      "The autoreload extension is already loaded. To reload it, use:\n",
      "  %reload_ext autoreload\n"
     ]
    }
   ],
   "source": [
    "%load_ext autoreload\n",
    "%autoreload 2"
   ]
  },
  {
   "cell_type": "code",
   "execution_count": 18,
   "metadata": {},
   "outputs": [],
   "source": [
    "from model import NoteComposeNet\n",
    "from dataset import MidiDataset, VOCABULARY\n",
    "from torch.utils.data import DataLoader\n",
    "\n",
    "import numpy as np\n",
    "import matplotlib.pyplot as plt\n",
    "import librosa \n",
    "import torch"
   ]
  },
  {
   "cell_type": "code",
   "execution_count": 53,
   "metadata": {},
   "outputs": [],
   "source": [
    "df = {\n",
    "    'notes': [torch.tensor([1 for i in range(0, 255)])],\n",
    "    'velocities': [torch.tensor([1 for i in range(0, 255)])],\n",
    "    'durations': [torch.tensor([1 for i in range(0, 255)])],\n",
    "    'times': [torch.tensor([1 for i in range(0, 255)])],     \n",
    "}"
   ]
  },
  {
   "cell_type": "code",
   "execution_count": 14,
   "metadata": {},
   "outputs": [],
   "source": [
    "model = NoteComposeNet()"
   ]
  },
  {
   "cell_type": "code",
   "execution_count": 16,
   "metadata": {},
   "outputs": [
    {
     "name": "stdout",
     "output_type": "stream",
     "text": [
      "model size: 0.079MB\n"
     ]
    }
   ],
   "source": [
    "# Model Specifications\n",
    "param_size = 0\n",
    "for param in model.parameters():\n",
    "    param_size += param.nelement() * param.element_size()\n",
    "buffer_size = 0\n",
    "for buffer in model.buffers():\n",
    "    buffer_size += buffer.nelement() * buffer.element_size()\n",
    "\n",
    "size_all_mb = (param_size + buffer_size) / 1024**2\n",
    "print('model size: {:.3f}MB'.format(size_all_mb))"
   ]
  },
  {
   "cell_type": "code",
   "execution_count": 17,
   "metadata": {},
   "outputs": [
    {
     "ename": "NameError",
     "evalue": "name 'df' is not defined",
     "output_type": "error",
     "traceback": [
      "\u001b[1;31m---------------------------------------------------------------------------\u001b[0m",
      "\u001b[1;31mNameError\u001b[0m                                 Traceback (most recent call last)",
      "Cell \u001b[1;32mIn[17], line 1\u001b[0m\n\u001b[1;32m----> 1\u001b[0m midi \u001b[39m=\u001b[39m MidiDataset(df, context_len \u001b[39m=\u001b[39m model\u001b[39m.\u001b[39m_context_len)\n\u001b[0;32m      2\u001b[0m train_loader \u001b[39m=\u001b[39m DataLoader(midi, batch_size\u001b[39m=\u001b[39m\u001b[39m1\u001b[39m)\n\u001b[0;32m      4\u001b[0m data \u001b[39m=\u001b[39m \u001b[39mnext\u001b[39m(\u001b[39miter\u001b[39m(train_loader))\n",
      "\u001b[1;31mNameError\u001b[0m: name 'df' is not defined"
     ]
    }
   ],
   "source": [
    "midi = MidiDataset(df, context_len = model._context_len)\n",
    "train_loader = DataLoader(midi, batch_size=1)\n",
    "\n",
    "data = next(iter(train_loader))\n",
    "note_tensor = data['notes'].to(\"cuda\")\n",
    "velocity_tensor = data['velocities'].to(\"cuda\")\n",
    "duration_tensor = data['durations'].to(\"cuda\")\n",
    "time_tensor = data['times'].to(\"cuda\")\n",
    "\n",
    "input = {\n",
    "    \"notes\": note_tensor,\n",
    "    \"velocities\": velocity_tensor,\n",
    "    \"durations\": duration_tensor ,\n",
    "    \"times\": time_tensor\n",
    "}"
   ]
  },
  {
   "cell_type": "code",
   "execution_count": 19,
   "metadata": {},
   "outputs": [
    {
     "name": "stderr",
     "output_type": "stream",
     "text": [
      "c:\\Users\\Joaquin\\Desktop\\Playground\\ML\\Composer\\model.py:114: UserWarning: Creating a tensor from a list of numpy.ndarrays is extremely slow. Please consider converting the list to a single numpy.ndarray with numpy.array() before converting to a tensor. (Triggered internally at C:\\cb\\pytorch_1000000000000\\work\\torch\\csrc\\utils\\tensor_new.cpp:248.)\n",
      "  def detokenize(self, inputs):\n"
     ]
    },
    {
     "name": "stdout",
     "output_type": "stream",
     "text": [
      "Note =  ['A♯-1', 'D♯8', '<EOS>', 'D♯5', 'A1', 'E9', 'A♯0', 'D♯8', 'B2', 'E1', 'A6', 'C♯5', 'G♯3', 'F9', 'C5', 'A6', 'C9', 'B3', 'E1', 'C1', 'C9', 'F5', 'E1', 'A6', 'C9', 'D♯5', 'A1', 'E1', 'D♯5', 'D♯8', 'D♯8', 'B7', 'C♯0', 'F♯9', 'B7', 'F♯1', 'F2', 'D♯5', 'C♯2', 'D7', 'G2', 'A♯0', 'C♯5', 'G5', 'F0', 'D1', 'G♯0', 'E1', 'G♯3', 'E1', 'A1', 'C7', 'F0', 'G0', 'C5', 'F5', 'B3', 'F5', 'E1', 'G2', 'G3', 'A6', 'F2', 'F0', 'B0', 'A6', 'C♯5', 'F♯6', 'C♯2', 'E1', 'A6', 'A1', 'A6', 'A1', 'A6', 'F5', 'G0', 'C5', 'G0', 'A6', 'F5', 'B3', 'D♯-1', 'A6', 'C♯5', 'B3', 'E3', 'A6', 'G0', 'A♯-1', 'F0', 'E0', 'B2', 'E1', 'D2', 'C♯5', 'C♯-1', 'F5', 'E1', 'A6']\n"
     ]
    }
   ],
   "source": [
    "test_inputs = np.random.randint(0, len(VOCABULARY), size=255, dtype=int)\n",
    "next_notes = model.generate(test_inputs, max_len=100)\n",
    "print(\"Note = \", model.detokenize(next_notes))"
   ]
  },
  {
   "cell_type": "markdown",
   "metadata": {},
   "source": [
    "# Training"
   ]
  },
  {
   "cell_type": "code",
   "execution_count": 1,
   "metadata": {},
   "outputs": [],
   "source": [
    "%load_ext autoreload\n",
    "%autoreload 2"
   ]
  },
  {
   "cell_type": "code",
   "execution_count": 2,
   "metadata": {},
   "outputs": [],
   "source": [
    "from model import NoteComposeNet\n",
    "from dataset import MidiDataset\n",
    "from torch.utils.data import DataLoader\n",
    "from train import TrainPipeline\n",
    "\n",
    "import torch\n",
    "import pandas as pd\n",
    "\n",
    "# PyTorch TensorBoard support\n",
    "from torch.utils.tensorboard import SummaryWriter\n",
    "from datetime import datetime"
   ]
  },
  {
   "cell_type": "code",
   "execution_count": 3,
   "metadata": {},
   "outputs": [],
   "source": [
    "BATCH_SIZE = 32\n",
    "TRAIN_SAMPLES_PER_TRACK = 128\n",
    "VALIDATE_SAMPLES_PER_TRACK = 4\n",
    "EPOCHS = 100"
   ]
  },
  {
   "cell_type": "code",
   "execution_count": 4,
   "metadata": {},
   "outputs": [],
   "source": [
    "model = NoteComposeNet()"
   ]
  },
  {
   "cell_type": "code",
   "execution_count": 5,
   "metadata": {},
   "outputs": [],
   "source": [
    "CSV_PATH = r'datasets/midi-dataset-mini.csv'\n",
    "df = pd.read_csv(CSV_PATH)\n",
    "train_midi = MidiDataset(df, context_len = model._context_len, samples_per_track=TRAIN_SAMPLES_PER_TRACK)\n",
    "vali_midi = MidiDataset(df, context_len= model._context_len, samples_per_track=VALIDATE_SAMPLES_PER_TRACK)\n",
    "del df"
   ]
  },
  {
   "cell_type": "code",
   "execution_count": 6,
   "metadata": {},
   "outputs": [],
   "source": [
    "loss_fn = torch.nn.CrossEntropyLoss()\n",
    "optimizer = torch.optim.AdamW(\n",
    "    model.parameters(), \n",
    "    lr=0.001, \n",
    "    weight_decay=0.004,\n",
    "    betas=(0.9, 0.999),\n",
    "    eps=1e-07, \n",
    "    amsgrad=False)\n",
    "train_loader = DataLoader(\n",
    "    train_midi, \n",
    "    batch_size=BATCH_SIZE,\n",
    "    num_workers=4,\n",
    "    shuffle=True, \n",
    ")\n",
    "validation_loader = DataLoader(\n",
    "    vali_midi, \n",
    "    batch_size=BATCH_SIZE,\n",
    "    num_workers=4,\n",
    "    shuffle=True\n",
    ")"
   ]
  },
  {
   "cell_type": "code",
   "execution_count": 7,
   "metadata": {},
   "outputs": [
    {
     "name": "stdout",
     "output_type": "stream",
     "text": [
      "EPOCH 1:\n",
      "  batch 1 loss: 4.88645900785923\n",
      "  batch 2 loss: 4.886491045355797\n",
      "  batch 3 loss: 4.88607856631279\n",
      "  batch 4 loss: 4.885797053575516\n",
      "  batch 5 loss: 4.885819911956787\n",
      "  batch 6 loss: 4.885721489787102\n",
      "  batch 7 loss: 4.886048048734665\n",
      "  batch 8 loss: 4.885497733950615\n",
      "  batch 9 loss: 4.885235980153084\n",
      "  batch 10 loss: 4.885341718792915\n",
      "  batch 11 loss: 4.885132327675819\n",
      "  batch 12 loss: 4.884786814451218\n",
      "  batch 13 loss: 4.884548336267471\n",
      "  batch 14 loss: 4.884933724999428\n",
      "  batch 15 loss: 4.884401947259903\n",
      "  batch 16 loss: 4.884033352136612\n",
      "  batch 17 loss: 4.884138315916061\n",
      "  batch 18 loss: 4.884180814027786\n",
      "  batch 19 loss: 4.883368223905563\n",
      "  batch 20 loss: 4.883040085434914\n",
      "  batch 21 loss: 4.883487179875374\n",
      "  batch 22 loss: 4.8831798285245895\n",
      "  batch 23 loss: 4.882603242993355\n",
      "  batch 24 loss: 4.882429331541061\n",
      "  batch 25 loss: 4.881964534521103\n",
      "  batch 26 loss: 4.882133200764656\n",
      "  batch 27 loss: 4.881354928016663\n",
      "  batch 28 loss: 4.881146058440208\n",
      "  batch 29 loss: 4.880946770310402\n",
      "  batch 30 loss: 4.881243750452995\n",
      "  batch 31 loss: 4.879901424050331\n",
      "  batch 32 loss: 4.880194872617722\n",
      "  batch 33 loss: 4.8792649656534195\n",
      "  batch 34 loss: 4.878518179059029\n",
      "  batch 35 loss: 4.879226833581924\n",
      "  batch 36 loss: 4.877943336963654\n",
      "  batch 37 loss: 4.877752974629402\n",
      "  batch 38 loss: 4.87739685177803\n",
      "  batch 39 loss: 4.877279356122017\n",
      "  batch 40 loss: 4.875272378325462\n",
      "  batch 41 loss: 4.875631242990494\n",
      "  batch 42 loss: 4.87454417347908\n",
      "  batch 43 loss: 4.8723510056734085\n",
      "  batch 44 loss: 4.875280484557152\n",
      "  batch 45 loss: 4.873888224363327\n",
      "  batch 46 loss: 4.874113813042641\n",
      "  batch 47 loss: 4.872238680720329\n",
      "  batch 48 loss: 4.871589228510857\n",
      "  batch 49 loss: 4.870060116052628\n",
      "  batch 50 loss: 4.871613964438438\n",
      "  batch 51 loss: 4.868047878146172\n",
      "  batch 52 loss: 4.867188364267349\n",
      "  batch 53 loss: 4.8695759028196335\n",
      "  batch 54 loss: 4.866200357675552\n",
      "  batch 55 loss: 4.8664006143808365\n",
      "  batch 56 loss: 4.864548400044441\n",
      "  batch 57 loss: 4.8612013310194016\n",
      "  batch 58 loss: 4.861219644546509\n",
      "  batch 59 loss: 4.85921947658062\n",
      "  batch 60 loss: 4.858561620116234\n",
      "  batch 61 loss: 4.857358857989311\n",
      "  batch 62 loss: 4.856363296508789\n",
      "  batch 63 loss: 4.851137951016426\n",
      "  batch 64 loss: 4.8516194224357605\n",
      "  batch 65 loss: 4.850935772061348\n",
      "  batch 66 loss: 4.8496996611356735\n",
      "  batch 67 loss: 4.841826394200325\n",
      "  batch 68 loss: 4.846056491136551\n",
      "  batch 69 loss: 4.842992514371872\n",
      "  batch 70 loss: 4.837212711572647\n",
      "  batch 71 loss: 4.836706146597862\n",
      "  batch 72 loss: 4.831092491745949\n",
      "  batch 73 loss: 4.8330348283052444\n",
      "  batch 74 loss: 4.825883448123932\n",
      "  batch 75 loss: 4.820422932505608\n",
      "  batch 76 loss: 4.824791505932808\n",
      "  batch 77 loss: 4.817307621240616\n",
      "  batch 78 loss: 4.811110436916351\n",
      "  batch 79 loss: 4.814200893044472\n",
      "  batch 80 loss: 4.8095235377550125\n",
      "  batch 81 loss: 4.800355166196823\n",
      "  batch 82 loss: 4.802128046751022\n",
      "  batch 83 loss: 4.78325954079628\n",
      "  batch 84 loss: 4.787654742598534\n",
      "  batch 85 loss: 4.781333029270172\n",
      "  batch 86 loss: 4.782174736261368\n",
      "  batch 87 loss: 4.771028324961662\n",
      "  batch 88 loss: 4.771807864308357\n",
      "  batch 89 loss: 4.753676235675812\n",
      "  batch 90 loss: 4.761860892176628\n",
      "  batch 91 loss: 4.761872619390488\n",
      "  batch 92 loss: 4.746064588427544\n",
      "  batch 93 loss: 4.733567327260971\n",
      "  batch 94 loss: 4.718093633651733\n",
      "  batch 95 loss: 4.711474984884262\n",
      "  batch 96 loss: 4.698665365576744\n",
      "  batch 97 loss: 4.7037584483623505\n",
      "  batch 98 loss: 4.6766669154167175\n",
      "  batch 99 loss: 4.670665204524994\n",
      "  batch 100 loss: 4.667672351002693\n",
      "  batch 101 loss: 4.672990247607231\n",
      "  batch 102 loss: 4.642836689949036\n",
      "  batch 103 loss: 4.6333465576171875\n",
      "  batch 104 loss: 4.614921867847443\n",
      "  batch 105 loss: 4.601144969463348\n",
      "  batch 106 loss: 4.599594712257385\n",
      "  batch 107 loss: 4.588689535856247\n",
      "  batch 108 loss: 4.569778323173523\n",
      "  batch 109 loss: 4.563483834266663\n",
      "  batch 110 loss: 4.54766571521759\n",
      "  batch 111 loss: 4.536758929491043\n",
      "  batch 112 loss: 4.511278077960014\n",
      "  batch 113 loss: 4.5108204036951065\n",
      "  batch 114 loss: 4.492184013128281\n",
      "  batch 115 loss: 4.467429801821709\n",
      "  batch 116 loss: 4.478128165006638\n",
      "  batch 117 loss: 4.440789997577667\n",
      "  batch 118 loss: 4.409161642193794\n",
      "  batch 119 loss: 4.408212065696716\n",
      "  batch 120 loss: 4.389085412025452\n",
      "  batch 121 loss: 4.379179686307907\n",
      "  batch 122 loss: 4.407096400856972\n",
      "  batch 123 loss: 4.362730950117111\n",
      "  batch 124 loss: 4.335138767957687\n",
      "  batch 125 loss: 4.325860947370529\n",
      "  batch 126 loss: 4.3495772033929825\n",
      "  batch 127 loss: 4.274908468127251\n",
      "  batch 128 loss: 4.283966392278671\n",
      "  batch 129 loss: 4.250456765294075\n",
      "  batch 130 loss: 4.25272037088871\n",
      "  batch 131 loss: 4.2696157693862915\n",
      "  batch 132 loss: 4.23104202747345\n",
      "  batch 133 loss: 4.271622076630592\n",
      "  batch 134 loss: 4.205697402358055\n",
      "  batch 135 loss: 4.1787364929914474\n",
      "  batch 136 loss: 4.21102249622345\n",
      "  batch 137 loss: 4.172632962465286\n",
      "  batch 138 loss: 4.162184461951256\n",
      "  batch 139 loss: 4.155908465385437\n",
      "  batch 140 loss: 4.153314560651779\n",
      "  batch 141 loss: 4.191254258155823\n",
      "  batch 142 loss: 4.1228366792202\n",
      "  batch 143 loss: 4.128669813275337\n",
      "  batch 144 loss: 4.12189008295536\n",
      "  batch 145 loss: 4.1175848841667175\n",
      "  batch 146 loss: 4.0855207443237305\n",
      "  batch 147 loss: 4.100805960595608\n",
      "  batch 148 loss: 4.107134208083153\n",
      "  batch 149 loss: 4.0995903462171555\n",
      "  batch 150 loss: 4.099957771599293\n",
      "  batch 151 loss: 4.0849243104457855\n",
      "  batch 152 loss: 4.062126852571964\n",
      "  batch 153 loss: 4.061283454298973\n",
      "  batch 154 loss: 4.070604138076305\n",
      "  batch 155 loss: 4.0863891169428825\n",
      "  batch 156 loss: 4.076476097106934\n",
      "  batch 157 loss: 4.050250880420208\n",
      "  batch 158 loss: 4.011891596019268\n",
      "  batch 159 loss: 4.053058683872223\n",
      "  batch 160 loss: 4.032471731305122\n",
      "  batch 161 loss: 4.0204097032547\n",
      "  batch 162 loss: 4.022730454802513\n",
      "  batch 163 loss: 4.03599938005209\n",
      "  batch 164 loss: 4.033903278410435\n",
      "  batch 165 loss: 4.009946063160896\n",
      "  batch 166 loss: 4.014957815408707\n",
      "  batch 167 loss: 4.00873614102602\n",
      "  batch 168 loss: 4.015793576836586\n",
      "  batch 169 loss: 4.013732731342316\n",
      "  batch 170 loss: 4.017438240349293\n",
      "  batch 171 loss: 3.9946651682257652\n",
      "  batch 172 loss: 3.986218012869358\n",
      "  batch 173 loss: 3.997145876288414\n",
      "  batch 174 loss: 3.9940494894981384\n",
      "  batch 175 loss: 3.99012191593647\n",
      "  batch 176 loss: 3.9922406896948814\n",
      "  batch 177 loss: 3.9790645763278008\n",
      "  batch 178 loss: 3.999606676399708\n",
      "  batch 179 loss: 3.983970731496811\n",
      "  batch 180 loss: 3.980863995850086\n",
      "  batch 181 loss: 4.0130255818367\n",
      "  batch 182 loss: 3.9758231043815613\n",
      "  batch 183 loss: 3.966924451291561\n",
      "  batch 184 loss: 3.988881826400757\n",
      "  batch 185 loss: 3.9645271226763725\n",
      "  batch 186 loss: 3.973412349820137\n",
      "  batch 187 loss: 3.9702781215310097\n",
      "  batch 188 loss: 3.9778715670108795\n",
      "  batch 189 loss: 3.9729773849248886\n",
      "  batch 190 loss: 3.9581339582800865\n",
      "  batch 191 loss: 3.9521254003047943\n",
      "  batch 192 loss: 3.963554248213768\n",
      "  batch 193 loss: 3.9623171985149384\n",
      "  batch 194 loss: 3.988549090921879\n",
      "  batch 195 loss: 3.97027937322855\n"
     ]
    },
    {
     "ename": "KeyboardInterrupt",
     "evalue": "",
     "output_type": "error",
     "traceback": [
      "\u001b[1;31m---------------------------------------------------------------------------\u001b[0m",
      "\u001b[1;31mKeyboardInterrupt\u001b[0m                         Traceback (most recent call last)",
      "Cell \u001b[1;32mIn[7], line 2\u001b[0m\n\u001b[0;32m      1\u001b[0m pipeline \u001b[39m=\u001b[39m TrainPipeline(train_loader, model, loss_fn, optimizer)\n\u001b[1;32m----> 2\u001b[0m pipeline\u001b[39m.\u001b[39;49mtrain(EPOCHS)\n",
      "File \u001b[1;32mc:\\Users\\Joaquin\\Desktop\\Playground\\ML\\Composer\\train.py:64\u001b[0m, in \u001b[0;36mTrainPipeline.train\u001b[1;34m(self, epochs)\u001b[0m\n\u001b[0;32m     62\u001b[0m \u001b[39m# Make sure gradient tracking is on, and do a pass over the data\u001b[39;00m\n\u001b[0;32m     63\u001b[0m \u001b[39mself\u001b[39m\u001b[39m.\u001b[39mmodel\u001b[39m.\u001b[39mtrain(\u001b[39mTrue\u001b[39;00m)\n\u001b[1;32m---> 64\u001b[0m avg_loss \u001b[39m=\u001b[39m \u001b[39mself\u001b[39;49m\u001b[39m.\u001b[39;49mtrain_one_epoch(epoch_number, writer)\n\u001b[0;32m     66\u001b[0m running_vloss \u001b[39m=\u001b[39m \u001b[39m0.0\u001b[39m\n\u001b[0;32m     67\u001b[0m \u001b[39m# Set the model to evaluation mode, disabling dropout and using population\u001b[39;00m\n\u001b[0;32m     68\u001b[0m \u001b[39m# statistics for batch normalization.\u001b[39;00m\n",
      "File \u001b[1;32mc:\\Users\\Joaquin\\Desktop\\Playground\\ML\\Composer\\train.py:35\u001b[0m, in \u001b[0;36mTrainPipeline.train_one_epoch\u001b[1;34m(self, epoch_index, tb_writer)\u001b[0m\n\u001b[0;32m     32\u001b[0m \u001b[39mfor\u001b[39;00m i, batch \u001b[39min\u001b[39;00m \u001b[39menumerate\u001b[39m(\u001b[39mself\u001b[39m\u001b[39m.\u001b[39mtrain_loader):\n\u001b[0;32m     33\u001b[0m     \u001b[39mself\u001b[39m\u001b[39m.\u001b[39moptimizer\u001b[39m.\u001b[39mzero_grad()\n\u001b[1;32m---> 35\u001b[0m     output_logits, notes_gt \u001b[39m=\u001b[39m \u001b[39mself\u001b[39;49m\u001b[39m.\u001b[39;49munpack_batch(batch)\n\u001b[0;32m     37\u001b[0m     loss \u001b[39m=\u001b[39m \u001b[39mself\u001b[39m\u001b[39m.\u001b[39mloss_fn(output_logits, notes_gt)\n\u001b[0;32m     38\u001b[0m     loss\u001b[39m.\u001b[39mbackward() \n",
      "File \u001b[1;32mc:\\Users\\Joaquin\\Desktop\\Playground\\ML\\Composer\\train.py:25\u001b[0m, in \u001b[0;36mTrainPipeline.unpack_batch\u001b[1;34m(self, batch)\u001b[0m\n\u001b[0;32m     22\u001b[0m notes \u001b[39m=\u001b[39m b[\u001b[39m'\u001b[39m\u001b[39mnotes\u001b[39m\u001b[39m'\u001b[39m]\u001b[39m.\u001b[39mto(\u001b[39mself\u001b[39m\u001b[39m.\u001b[39mmodel\u001b[39m.\u001b[39m_device)\n\u001b[0;32m     23\u001b[0m notes_gt \u001b[39m=\u001b[39m gt[\u001b[39m'\u001b[39m\u001b[39mnotes\u001b[39m\u001b[39m'\u001b[39m]\u001b[39m.\u001b[39mto(\u001b[39mself\u001b[39m\u001b[39m.\u001b[39mmodel\u001b[39m.\u001b[39m_device)\n\u001b[1;32m---> 25\u001b[0m output_logits \u001b[39m=\u001b[39m \u001b[39mself\u001b[39;49m\u001b[39m.\u001b[39;49mmodel\u001b[39m.\u001b[39;49mforward(notes)\n\u001b[0;32m     27\u001b[0m \u001b[39mreturn\u001b[39;00m output_logits, notes_gt\n",
      "File \u001b[1;32mc:\\Users\\Joaquin\\Desktop\\Playground\\ML\\Composer\\model.py:82\u001b[0m, in \u001b[0;36mNoteComposeNet.forward\u001b[1;34m(self, x_notes)\u001b[0m\n\u001b[0;32m     80\u001b[0m \u001b[39m# Note branch\u001b[39;00m\n\u001b[0;32m     81\u001b[0m \u001b[39mfor\u001b[39;00m i, layer \u001b[39min\u001b[39;00m \u001b[39menumerate\u001b[39m(\u001b[39mself\u001b[39m\u001b[39m.\u001b[39mnote_branch):\n\u001b[1;32m---> 82\u001b[0m     y_notes \u001b[39m=\u001b[39m layer(y_notes, src_mask \u001b[39m=\u001b[39;49m \u001b[39mself\u001b[39;49m\u001b[39m.\u001b[39;49mcausal_mask, is_causal \u001b[39m=\u001b[39;49m \u001b[39mTrue\u001b[39;49;00m)\n\u001b[0;32m     84\u001b[0m \u001b[39m# Get the next note\u001b[39;00m\n\u001b[0;32m     85\u001b[0m y_notes \u001b[39m=\u001b[39m \u001b[39mself\u001b[39m\u001b[39m.\u001b[39mnote_linear(y_notes[:, \u001b[39m-\u001b[39m\u001b[39m1\u001b[39m, :])\n",
      "File \u001b[1;32mc:\\Users\\Joaquin\\miniconda3\\envs\\agienv\\Lib\\site-packages\\torch\\nn\\modules\\module.py:1501\u001b[0m, in \u001b[0;36mModule._call_impl\u001b[1;34m(self, *args, **kwargs)\u001b[0m\n\u001b[0;32m   1496\u001b[0m \u001b[39m# If we don't have any hooks, we want to skip the rest of the logic in\u001b[39;00m\n\u001b[0;32m   1497\u001b[0m \u001b[39m# this function, and just call forward.\u001b[39;00m\n\u001b[0;32m   1498\u001b[0m \u001b[39mif\u001b[39;00m \u001b[39mnot\u001b[39;00m (\u001b[39mself\u001b[39m\u001b[39m.\u001b[39m_backward_hooks \u001b[39mor\u001b[39;00m \u001b[39mself\u001b[39m\u001b[39m.\u001b[39m_backward_pre_hooks \u001b[39mor\u001b[39;00m \u001b[39mself\u001b[39m\u001b[39m.\u001b[39m_forward_hooks \u001b[39mor\u001b[39;00m \u001b[39mself\u001b[39m\u001b[39m.\u001b[39m_forward_pre_hooks\n\u001b[0;32m   1499\u001b[0m         \u001b[39mor\u001b[39;00m _global_backward_pre_hooks \u001b[39mor\u001b[39;00m _global_backward_hooks\n\u001b[0;32m   1500\u001b[0m         \u001b[39mor\u001b[39;00m _global_forward_hooks \u001b[39mor\u001b[39;00m _global_forward_pre_hooks):\n\u001b[1;32m-> 1501\u001b[0m     \u001b[39mreturn\u001b[39;00m forward_call(\u001b[39m*\u001b[39;49margs, \u001b[39m*\u001b[39;49m\u001b[39m*\u001b[39;49mkwargs)\n\u001b[0;32m   1502\u001b[0m \u001b[39m# Do not call functions when jit is used\u001b[39;00m\n\u001b[0;32m   1503\u001b[0m full_backward_hooks, non_full_backward_hooks \u001b[39m=\u001b[39m [], []\n",
      "File \u001b[1;32mc:\\Users\\Joaquin\\miniconda3\\envs\\agienv\\Lib\\site-packages\\torch\\nn\\modules\\transformer.py:591\u001b[0m, in \u001b[0;36mTransformerEncoderLayer.forward\u001b[1;34m(self, src, src_mask, src_key_padding_mask, is_causal)\u001b[0m\n\u001b[0;32m    589\u001b[0m     x \u001b[39m=\u001b[39m x \u001b[39m+\u001b[39m \u001b[39mself\u001b[39m\u001b[39m.\u001b[39m_ff_block(\u001b[39mself\u001b[39m\u001b[39m.\u001b[39mnorm2(x))\n\u001b[0;32m    590\u001b[0m \u001b[39melse\u001b[39;00m:\n\u001b[1;32m--> 591\u001b[0m     x \u001b[39m=\u001b[39m \u001b[39mself\u001b[39m\u001b[39m.\u001b[39mnorm1(x \u001b[39m+\u001b[39m \u001b[39mself\u001b[39;49m\u001b[39m.\u001b[39;49m_sa_block(x, src_mask, src_key_padding_mask, is_causal\u001b[39m=\u001b[39;49mis_causal))\n\u001b[0;32m    592\u001b[0m     x \u001b[39m=\u001b[39m \u001b[39mself\u001b[39m\u001b[39m.\u001b[39mnorm2(x \u001b[39m+\u001b[39m \u001b[39mself\u001b[39m\u001b[39m.\u001b[39m_ff_block(x))\n\u001b[0;32m    594\u001b[0m \u001b[39mreturn\u001b[39;00m x\n",
      "File \u001b[1;32mc:\\Users\\Joaquin\\miniconda3\\envs\\agienv\\Lib\\site-packages\\torch\\nn\\modules\\transformer.py:599\u001b[0m, in \u001b[0;36mTransformerEncoderLayer._sa_block\u001b[1;34m(self, x, attn_mask, key_padding_mask, is_causal)\u001b[0m\n\u001b[0;32m    597\u001b[0m \u001b[39mdef\u001b[39;00m \u001b[39m_sa_block\u001b[39m(\u001b[39mself\u001b[39m, x: Tensor,\n\u001b[0;32m    598\u001b[0m               attn_mask: Optional[Tensor], key_padding_mask: Optional[Tensor], is_causal: \u001b[39mbool\u001b[39m \u001b[39m=\u001b[39m \u001b[39mFalse\u001b[39;00m) \u001b[39m-\u001b[39m\u001b[39m>\u001b[39m Tensor:\n\u001b[1;32m--> 599\u001b[0m     x \u001b[39m=\u001b[39m \u001b[39mself\u001b[39;49m\u001b[39m.\u001b[39;49mself_attn(x, x, x,\n\u001b[0;32m    600\u001b[0m                        attn_mask\u001b[39m=\u001b[39;49mattn_mask,\n\u001b[0;32m    601\u001b[0m                        key_padding_mask\u001b[39m=\u001b[39;49mkey_padding_mask,\n\u001b[0;32m    602\u001b[0m                        need_weights\u001b[39m=\u001b[39;49m\u001b[39mFalse\u001b[39;49;00m, is_causal\u001b[39m=\u001b[39;49mis_causal)[\u001b[39m0\u001b[39m]\n\u001b[0;32m    603\u001b[0m     \u001b[39mreturn\u001b[39;00m \u001b[39mself\u001b[39m\u001b[39m.\u001b[39mdropout1(x)\n",
      "File \u001b[1;32mc:\\Users\\Joaquin\\miniconda3\\envs\\agienv\\Lib\\site-packages\\torch\\nn\\modules\\module.py:1501\u001b[0m, in \u001b[0;36mModule._call_impl\u001b[1;34m(self, *args, **kwargs)\u001b[0m\n\u001b[0;32m   1496\u001b[0m \u001b[39m# If we don't have any hooks, we want to skip the rest of the logic in\u001b[39;00m\n\u001b[0;32m   1497\u001b[0m \u001b[39m# this function, and just call forward.\u001b[39;00m\n\u001b[0;32m   1498\u001b[0m \u001b[39mif\u001b[39;00m \u001b[39mnot\u001b[39;00m (\u001b[39mself\u001b[39m\u001b[39m.\u001b[39m_backward_hooks \u001b[39mor\u001b[39;00m \u001b[39mself\u001b[39m\u001b[39m.\u001b[39m_backward_pre_hooks \u001b[39mor\u001b[39;00m \u001b[39mself\u001b[39m\u001b[39m.\u001b[39m_forward_hooks \u001b[39mor\u001b[39;00m \u001b[39mself\u001b[39m\u001b[39m.\u001b[39m_forward_pre_hooks\n\u001b[0;32m   1499\u001b[0m         \u001b[39mor\u001b[39;00m _global_backward_pre_hooks \u001b[39mor\u001b[39;00m _global_backward_hooks\n\u001b[0;32m   1500\u001b[0m         \u001b[39mor\u001b[39;00m _global_forward_hooks \u001b[39mor\u001b[39;00m _global_forward_pre_hooks):\n\u001b[1;32m-> 1501\u001b[0m     \u001b[39mreturn\u001b[39;00m forward_call(\u001b[39m*\u001b[39;49margs, \u001b[39m*\u001b[39;49m\u001b[39m*\u001b[39;49mkwargs)\n\u001b[0;32m   1502\u001b[0m \u001b[39m# Do not call functions when jit is used\u001b[39;00m\n\u001b[0;32m   1503\u001b[0m full_backward_hooks, non_full_backward_hooks \u001b[39m=\u001b[39m [], []\n",
      "File \u001b[1;32mc:\\Users\\Joaquin\\miniconda3\\envs\\agienv\\Lib\\site-packages\\torch\\nn\\modules\\activation.py:1205\u001b[0m, in \u001b[0;36mMultiheadAttention.forward\u001b[1;34m(self, query, key, value, key_padding_mask, need_weights, attn_mask, average_attn_weights, is_causal)\u001b[0m\n\u001b[0;32m   1191\u001b[0m     attn_output, attn_output_weights \u001b[39m=\u001b[39m F\u001b[39m.\u001b[39mmulti_head_attention_forward(\n\u001b[0;32m   1192\u001b[0m         query, key, value, \u001b[39mself\u001b[39m\u001b[39m.\u001b[39membed_dim, \u001b[39mself\u001b[39m\u001b[39m.\u001b[39mnum_heads,\n\u001b[0;32m   1193\u001b[0m         \u001b[39mself\u001b[39m\u001b[39m.\u001b[39min_proj_weight, \u001b[39mself\u001b[39m\u001b[39m.\u001b[39min_proj_bias,\n\u001b[1;32m   (...)\u001b[0m\n\u001b[0;32m   1202\u001b[0m         average_attn_weights\u001b[39m=\u001b[39maverage_attn_weights,\n\u001b[0;32m   1203\u001b[0m         is_causal\u001b[39m=\u001b[39mis_causal)\n\u001b[0;32m   1204\u001b[0m \u001b[39melse\u001b[39;00m:\n\u001b[1;32m-> 1205\u001b[0m     attn_output, attn_output_weights \u001b[39m=\u001b[39m F\u001b[39m.\u001b[39;49mmulti_head_attention_forward(\n\u001b[0;32m   1206\u001b[0m         query, key, value, \u001b[39mself\u001b[39;49m\u001b[39m.\u001b[39;49membed_dim, \u001b[39mself\u001b[39;49m\u001b[39m.\u001b[39;49mnum_heads,\n\u001b[0;32m   1207\u001b[0m         \u001b[39mself\u001b[39;49m\u001b[39m.\u001b[39;49min_proj_weight, \u001b[39mself\u001b[39;49m\u001b[39m.\u001b[39;49min_proj_bias,\n\u001b[0;32m   1208\u001b[0m         \u001b[39mself\u001b[39;49m\u001b[39m.\u001b[39;49mbias_k, \u001b[39mself\u001b[39;49m\u001b[39m.\u001b[39;49mbias_v, \u001b[39mself\u001b[39;49m\u001b[39m.\u001b[39;49madd_zero_attn,\n\u001b[0;32m   1209\u001b[0m         \u001b[39mself\u001b[39;49m\u001b[39m.\u001b[39;49mdropout, \u001b[39mself\u001b[39;49m\u001b[39m.\u001b[39;49mout_proj\u001b[39m.\u001b[39;49mweight, \u001b[39mself\u001b[39;49m\u001b[39m.\u001b[39;49mout_proj\u001b[39m.\u001b[39;49mbias,\n\u001b[0;32m   1210\u001b[0m         training\u001b[39m=\u001b[39;49m\u001b[39mself\u001b[39;49m\u001b[39m.\u001b[39;49mtraining,\n\u001b[0;32m   1211\u001b[0m         key_padding_mask\u001b[39m=\u001b[39;49mkey_padding_mask,\n\u001b[0;32m   1212\u001b[0m         need_weights\u001b[39m=\u001b[39;49mneed_weights,\n\u001b[0;32m   1213\u001b[0m         attn_mask\u001b[39m=\u001b[39;49mattn_mask,\n\u001b[0;32m   1214\u001b[0m         average_attn_weights\u001b[39m=\u001b[39;49maverage_attn_weights,\n\u001b[0;32m   1215\u001b[0m         is_causal\u001b[39m=\u001b[39;49mis_causal)\n\u001b[0;32m   1216\u001b[0m \u001b[39mif\u001b[39;00m \u001b[39mself\u001b[39m\u001b[39m.\u001b[39mbatch_first \u001b[39mand\u001b[39;00m is_batched:\n\u001b[0;32m   1217\u001b[0m     \u001b[39mreturn\u001b[39;00m attn_output\u001b[39m.\u001b[39mtranspose(\u001b[39m1\u001b[39m, \u001b[39m0\u001b[39m), attn_output_weights\n",
      "File \u001b[1;32mc:\\Users\\Joaquin\\miniconda3\\envs\\agienv\\Lib\\site-packages\\torch\\nn\\functional.py:5288\u001b[0m, in \u001b[0;36mmulti_head_attention_forward\u001b[1;34m(query, key, value, embed_dim_to_check, num_heads, in_proj_weight, in_proj_bias, bias_k, bias_v, add_zero_attn, dropout_p, out_proj_weight, out_proj_bias, training, key_padding_mask, need_weights, attn_mask, use_separate_proj_weight, q_proj_weight, k_proj_weight, v_proj_weight, static_k, static_v, average_attn_weights, is_causal)\u001b[0m\n\u001b[0;32m   5286\u001b[0m     k \u001b[39m=\u001b[39m static_k\n\u001b[0;32m   5287\u001b[0m \u001b[39mif\u001b[39;00m static_v \u001b[39mis\u001b[39;00m \u001b[39mNone\u001b[39;00m:\n\u001b[1;32m-> 5288\u001b[0m     v \u001b[39m=\u001b[39m v\u001b[39m.\u001b[39;49mview(v\u001b[39m.\u001b[39;49mshape[\u001b[39m0\u001b[39;49m], bsz \u001b[39m*\u001b[39;49m num_heads, head_dim)\u001b[39m.\u001b[39mtranspose(\u001b[39m0\u001b[39m, \u001b[39m1\u001b[39m)\n\u001b[0;32m   5289\u001b[0m \u001b[39melse\u001b[39;00m:\n\u001b[0;32m   5290\u001b[0m     \u001b[39m# TODO finish disentangling control flow so we don't do in-projections when statics are passed\u001b[39;00m\n\u001b[0;32m   5291\u001b[0m     \u001b[39massert\u001b[39;00m static_v\u001b[39m.\u001b[39msize(\u001b[39m0\u001b[39m) \u001b[39m==\u001b[39m bsz \u001b[39m*\u001b[39m num_heads, \\\n\u001b[0;32m   5292\u001b[0m         \u001b[39mf\u001b[39m\u001b[39m\"\u001b[39m\u001b[39mexpecting static_v.size(0) of \u001b[39m\u001b[39m{\u001b[39;00mbsz\u001b[39m \u001b[39m\u001b[39m*\u001b[39m\u001b[39m \u001b[39mnum_heads\u001b[39m}\u001b[39;00m\u001b[39m, but got \u001b[39m\u001b[39m{\u001b[39;00mstatic_v\u001b[39m.\u001b[39msize(\u001b[39m0\u001b[39m)\u001b[39m}\u001b[39;00m\u001b[39m\"\u001b[39m\n",
      "\u001b[1;31mKeyboardInterrupt\u001b[0m: "
     ]
    }
   ],
   "source": [
    "pipeline = TrainPipeline(train_loader, validation_loader, model, loss_fn, optimizer)\n",
    "pipeline.train(EPOCHS)"
   ]
  }
 ],
 "metadata": {
  "kernelspec": {
   "display_name": "agienv",
   "language": "python",
   "name": "python3"
  },
  "language_info": {
   "codemirror_mode": {
    "name": "ipython",
    "version": 3
   },
   "file_extension": ".py",
   "mimetype": "text/x-python",
   "name": "python",
   "nbconvert_exporter": "python",
   "pygments_lexer": "ipython3",
   "version": "3.11.3"
  },
  "orig_nbformat": 4
 },
 "nbformat": 4,
 "nbformat_minor": 2
}
