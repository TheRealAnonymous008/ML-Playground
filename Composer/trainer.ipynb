{
 "cells": [
  {
   "cell_type": "markdown",
   "metadata": {},
   "source": [
    "# Training"
   ]
  },
  {
   "cell_type": "code",
   "execution_count": 1,
   "metadata": {},
   "outputs": [],
   "source": [
    "%load_ext autoreload\n",
    "%autoreload 2"
   ]
  },
  {
   "cell_type": "code",
   "execution_count": 2,
   "metadata": {},
   "outputs": [],
   "source": [
    "from models.data_split import MidiDataset, VOCABULARY\n",
    "from models.model import NoteComposeNet\n",
    "from torch.utils.data import DataLoader\n",
    "from train import TrainPipeline\n",
    "\n",
    "import torch\n",
    "import pandas as pd\n",
    "\n",
    "# PyTorch TensorBoard support\n",
    "from torch.utils.tensorboard import SummaryWriter\n",
    "from torch.optim.lr_scheduler import CosineAnnealingWarmRestarts\n",
    "from datetime import datetime\n",
    "\n",
    "import math"
   ]
  },
  {
   "cell_type": "code",
   "execution_count": 3,
   "metadata": {},
   "outputs": [],
   "source": [
    "BATCH_SIZE = 32\n",
    "TRAIN_SAMPLES_PER_TRACK = int(1e6)\n",
    "VALIDATE_SAMPLES_PER_TRACK = int(1e6 // 8)\n",
    "EPOCHS = 20\n",
    "EPOCHS_SO_FAR = 0\n",
    "GRADIENT_ACC = 16"
   ]
  },
  {
   "cell_type": "code",
   "execution_count": 4,
   "metadata": {},
   "outputs": [
    {
     "name": "stdout",
     "output_type": "stream",
     "text": [
      "model size: 0.386MB\n"
     ]
    }
   ],
   "source": [
    "CHECKPOINT = torch.load(r'checkpoints/model_20230905_160343_9')\n",
    "model = NoteComposeNet()\n",
    "model.load_state_dict(CHECKPOINT)\n",
    "\n",
    "param_size = 0\n",
    "for param in model.parameters():\n",
    "    param_size += param.nelement() * param.element_size()\n",
    "buffer_size = 0\n",
    "for buffer in model.buffers():\n",
    "    buffer_size += buffer.nelement() * buffer.element_size()\n",
    "\n",
    "size_all_mb = (param_size + buffer_size) / 1024**2\n",
    "print('model size: {:.3f}MB'.format(size_all_mb))"
   ]
  },
  {
   "cell_type": "code",
   "execution_count": 5,
   "metadata": {},
   "outputs": [],
   "source": [
    "CSV_PATH = r'datasets/midi-dataset-flat.csv'\n",
    "df = pd.read_csv(CSV_PATH)\n",
    "train_midi = MidiDataset(df, context_len = model._context_len, train_samples=TRAIN_SAMPLES_PER_TRACK, validate_samples=VALIDATE_SAMPLES_PER_TRACK, start_length=-1)\n",
    "del df"
   ]
  },
  {
   "cell_type": "code",
   "execution_count": 6,
   "metadata": {},
   "outputs": [],
   "source": [
    "loss_fn = torch.nn.CrossEntropyLoss(label_smoothing=0)\n",
    "\n",
    "optimizer = torch.optim.AdamW(\n",
    "    model.parameters(), \n",
    "    lr=0.0001,\n",
    "    weight_decay=0.1, \n",
    "    betas=(0.9, 0.95),\n",
    "    eps=1e-05,\n",
    "    amsgrad=False\n",
    "    )\n",
    "\n",
    "scheduler = CosineAnnealingWarmRestarts(\n",
    "    optimizer=optimizer, \n",
    "    T_0= int(math.ceil(len(train_midi) / (GRADIENT_ACC * BATCH_SIZE))),\n",
    "    eta_min=1e-6,\n",
    ")"
   ]
  },
  {
   "cell_type": "code",
   "execution_count": 7,
   "metadata": {},
   "outputs": [
    {
     "name": "stdout",
     "output_type": "stream",
     "text": [
      "Total samples:  20000000\n",
      "Total tokens: 40960000000\n",
      "Total updates per epoch 1954\n"
     ]
    }
   ],
   "source": [
    "print(\"Total samples: \", EPOCHS * len(train_midi))\n",
    "print(\"Total tokens:\", EPOCHS * len(train_midi) * 2048)\n",
    "print(\"Total updates per epoch\", int(math.ceil(len(train_midi) / (GRADIENT_ACC * BATCH_SIZE))))"
   ]
  },
  {
   "cell_type": "code",
   "execution_count": 8,
   "metadata": {},
   "outputs": [
    {
     "name": "stderr",
     "output_type": "stream",
     "text": [
      "Epoch 1: 100%|██████████| 31250/31250 [36:28<00:00, 14.28batch/s, train loss=3.24651, lr=[1.0002559089335674e-06]]\n",
      "Epoch 1: 100%|██████████| 3907/3907 [01:43<00:00, 37.76batch/s, val loss=3.25558]\n",
      "Epoch 2: 100%|██████████| 31250/31250 [37:11<00:00, 14.00batch/s, train loss=3.29312, lr=[1.0005757944803633e-06]]\n",
      "Epoch 2: 100%|██████████| 3907/3907 [01:42<00:00, 37.94batch/s, val loss=3.26462]\n",
      "Epoch 3: 100%|██████████| 31250/31250 [36:12<00:00, 14.39batch/s, train loss=3.35251, lr=[1.001023633088236e-06]] \n",
      "Epoch 3: 100%|██████████| 3907/3907 [01:42<00:00, 38.19batch/s, val loss=3.26055]\n",
      "Epoch 4: 100%|██████████| 31250/31250 [35:44<00:00, 14.57batch/s, train loss=3.37177, lr=[1.001599423599553e-06]] \n",
      "Epoch 4: 100%|██████████| 3907/3907 [01:42<00:00, 38.24batch/s, val loss=3.26159]\n",
      "Epoch 5: 100%|██████████| 31250/31250 [35:50<00:00, 14.53batch/s, train loss=3.32339, lr=[1.0023031645259293e-06]]\n",
      "Epoch 5: 100%|██████████| 3907/3907 [01:43<00:00, 37.65batch/s, val loss=3.25694]\n",
      "Epoch 6: 100%|██████████| 31250/31250 [35:56<00:00, 14.49batch/s, train loss=3.30450, lr=[1.0031348540482372e-06]]\n",
      "Epoch 6: 100%|██████████| 3907/3907 [01:42<00:00, 38.09batch/s, val loss=3.24977]\n",
      "Epoch 7: 100%|██████████| 31250/31250 [35:53<00:00, 14.51batch/s, train loss=3.21602, lr=[1.0040944900166022e-06]]\n",
      "Epoch 7: 100%|██████████| 3907/3907 [01:41<00:00, 38.54batch/s, val loss=3.25909]\n",
      "Epoch 8: 100%|██████████| 31250/31250 [35:18<00:00, 14.75batch/s, train loss=3.29414, lr=[1.0051820699504294e-06]]\n",
      "Epoch 8: 100%|██████████| 3907/3907 [01:42<00:00, 38.07batch/s, val loss=3.25155]\n",
      "Epoch 9: 100%|██████████| 31250/31250 [36:23<00:00, 14.31batch/s, train loss=3.37343, lr=[1.0063975910383878e-06]]\n",
      "Epoch 9: 100%|██████████| 3907/3907 [01:45<00:00, 37.12batch/s, val loss=3.25261]\n",
      "Epoch 10: 100%|██████████| 31250/31250 [35:44<00:00, 14.57batch/s, train loss=3.35698, lr=[1.0077410501384259e-06]]\n",
      "Epoch 10: 100%|██████████| 3907/3907 [01:41<00:00, 38.43batch/s, val loss=3.25509]\n",
      "Epoch 11:  43%|████▎     | 13407/31250 [15:22<20:46, 14.32batch/s, train loss=3.14869, lr=[6.23223478479707e-05]] "
     ]
    }
   ],
   "source": [
    "pipeline = TrainPipeline(train_midi, model, loss_fn, optimizer, validate=True, \n",
    "                         batch_size=BATCH_SIZE, scheduler = scheduler, grad_acc = GRADIENT_ACC)\n",
    "pipeline.train(EPOCHS)"
   ]
  },
  {
   "cell_type": "code",
   "execution_count": null,
   "metadata": {},
   "outputs": [],
   "source": []
  }
 ],
 "metadata": {
  "kernelspec": {
   "display_name": "agienv",
   "language": "python",
   "name": "python3"
  },
  "language_info": {
   "codemirror_mode": {
    "name": "ipython",
    "version": 3
   },
   "file_extension": ".py",
   "mimetype": "text/x-python",
   "name": "python",
   "nbconvert_exporter": "python",
   "pygments_lexer": "ipython3",
   "version": "3.11.3"
  },
  "orig_nbformat": 4
 },
 "nbformat": 4,
 "nbformat_minor": 2
}
