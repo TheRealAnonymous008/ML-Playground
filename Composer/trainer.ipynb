{
 "cells": [
  {
   "cell_type": "markdown",
   "metadata": {},
   "source": [
    "# Training"
   ]
  },
  {
   "cell_type": "code",
   "execution_count": 1,
   "metadata": {},
   "outputs": [],
   "source": [
    "%load_ext autoreload\n",
    "%autoreload 2"
   ]
  },
  {
   "cell_type": "code",
   "execution_count": 2,
   "metadata": {},
   "outputs": [],
   "source": [
    "from model import NoteComposeNet\n",
    "from dataset import MidiDataset, VOCABULARY\n",
    "from torch.utils.data import DataLoader\n",
    "from train import TrainPipeline\n",
    "\n",
    "import torch\n",
    "import pandas as pd\n",
    "\n",
    "# PyTorch TensorBoard support\n",
    "from torch.utils.tensorboard import SummaryWriter\n",
    "from torch.optim.lr_scheduler import CosineAnnealingWarmRestarts\n",
    "from datetime import datetime"
   ]
  },
  {
   "cell_type": "code",
   "execution_count": 3,
   "metadata": {},
   "outputs": [],
   "source": [
    "BATCH_SIZE = 32\n",
    "TRAIN_SAMPLES_PER_TRACK = 8\n",
    "VALIDATE_SAMPLES_PER_TRACK = 1\n",
    "EPOCHS = 8\n",
    "EPOCHS_SO_FAR = 0"
   ]
  },
  {
   "cell_type": "code",
   "execution_count": 4,
   "metadata": {},
   "outputs": [
    {
     "name": "stdout",
     "output_type": "stream",
     "text": [
      "model size: 16.142MB\n"
     ]
    }
   ],
   "source": [
    "#CHECKPOINT = torch.load(r'./checkpoints/model_20230801_152146_0')\n",
    "model = NoteComposeNet()\n",
    "#model.load_state_dict(CHECKPOINT)\n",
    "\n",
    "param_size = 0\n",
    "for param in model.parameters():\n",
    "    param_size += param.nelement() * param.element_size()\n",
    "buffer_size = 0\n",
    "for buffer in model.buffers():\n",
    "    buffer_size += buffer.nelement() * buffer.element_size()\n",
    "\n",
    "size_all_mb = (param_size + buffer_size) / 1024**2\n",
    "print('model size: {:.3f}MB'.format(size_all_mb))"
   ]
  },
  {
   "cell_type": "code",
   "execution_count": 5,
   "metadata": {},
   "outputs": [
    {
     "name": "stdout",
     "output_type": "stream",
     "text": [
      "16.298828125\n"
     ]
    }
   ],
   "source": [
    "torch.cuda.empty_cache()\n",
    "print(torch.cuda.memory_allocated() / 1024 ** 2)"
   ]
  },
  {
   "cell_type": "code",
   "execution_count": 6,
   "metadata": {},
   "outputs": [],
   "source": [
    "CSV_PATH = r'datasets/midi-dataset.csv'\n",
    "df = pd.read_csv(CSV_PATH)\n",
    "train_midi = MidiDataset(df, context_len = model._context_len, train_samples=TRAIN_SAMPLES_PER_TRACK, validate_samples=VALIDATE_SAMPLES_PER_TRACK)\n",
    "del df"
   ]
  },
  {
   "cell_type": "code",
   "execution_count": 7,
   "metadata": {},
   "outputs": [],
   "source": [
    "loss_fn = torch.nn.CrossEntropyLoss(ignore_index=VOCABULARY['PAD'], label_smoothing=0.1)\n",
    "\n",
    "optimizer = torch.optim.AdamW(\n",
    "    model.parameters(), \n",
    "    lr=0.0001,\n",
    "    weight_decay=0.1, \n",
    "    betas=(0.9, 0.95),\n",
    "    eps=1e-05,\n",
    "    amsgrad=False\n",
    "    )\n",
    "\n",
    "from torch.optim.lr_scheduler import CosineAnnealingWarmRestarts\n",
    "scheduler = CosineAnnealingWarmRestarts(\n",
    "    optimizer=optimizer, \n",
    "    T_0=2,\n",
    "    eta_min=0.0001,\n",
    ")\n",
    "\n",
    "for i in range(0, EPOCHS_SO_FAR):\n",
    "    scheduler.step()"
   ]
  },
  {
   "cell_type": "code",
   "execution_count": 8,
   "metadata": {},
   "outputs": [
    {
     "name": "stderr",
     "output_type": "stream",
     "text": [
      "Epoch 1: 100%|██████████| 41226/41226 [2:01:37<00:00,  5.65batch/s, train loss=4.64574]  \n",
      "Epoch 2:  85%|████████▍ | 34900/41226 [1:41:37<18:28,  5.71batch/s, train loss=4.64574]  "
     ]
    }
   ],
   "source": [
    "pipeline = TrainPipeline(train_midi, model, loss_fn, optimizer, validate=True, \n",
    "                         batch_size=BATCH_SIZE, scheduler = scheduler, grad_acc = 16)\n",
    "pipeline.train(EPOCHS)"
   ]
  },
  {
   "cell_type": "code",
   "execution_count": null,
   "metadata": {},
   "outputs": [],
   "source": []
  }
 ],
 "metadata": {
  "kernelspec": {
   "display_name": "agienv",
   "language": "python",
   "name": "python3"
  },
  "language_info": {
   "codemirror_mode": {
    "name": "ipython",
    "version": 3
   },
   "file_extension": ".py",
   "mimetype": "text/x-python",
   "name": "python",
   "nbconvert_exporter": "python",
   "pygments_lexer": "ipython3",
   "version": "3.11.3"
  },
  "orig_nbformat": 4
 },
 "nbformat": 4,
 "nbformat_minor": 2
}
