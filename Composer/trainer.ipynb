{
 "cells": [
  {
   "cell_type": "markdown",
   "metadata": {},
   "source": [
    "# Training"
   ]
  },
  {
   "cell_type": "code",
   "execution_count": 1,
   "metadata": {},
   "outputs": [],
   "source": [
    "%load_ext autoreload\n",
    "%autoreload 2"
   ]
  },
  {
   "cell_type": "code",
   "execution_count": 2,
   "metadata": {},
   "outputs": [],
   "source": [
    "from models.data_split import MidiDataset, VOCABULARY\n",
    "from models.model import NoteComposeNet\n",
    "from torch.utils.data import DataLoader\n",
    "from train import TrainPipeline\n",
    "\n",
    "import torch\n",
    "import pandas as pd\n",
    "\n",
    "# PyTorch TensorBoard support\n",
    "from torch.utils.tensorboard import SummaryWriter\n",
    "from torch.optim.lr_scheduler import CosineAnnealingWarmRestarts\n",
    "from datetime import datetime\n",
    "\n",
    "import math"
   ]
  },
  {
   "cell_type": "code",
   "execution_count": 3,
   "metadata": {},
   "outputs": [],
   "source": [
    "BATCH_SIZE = 32\n",
    "TRAIN_SAMPLES_PER_TRACK = int(1e6)\n",
    "VALIDATE_SAMPLES_PER_TRACK = int(1e5)\n",
    "EPOCHS = 20\n",
    "EPOCHS_SO_FAR = 0\n",
    "GRADIENT_ACC = 32"
   ]
  },
  {
   "cell_type": "code",
   "execution_count": 4,
   "metadata": {},
   "outputs": [
    {
     "name": "stdout",
     "output_type": "stream",
     "text": [
      "model size: 0.386MB\n"
     ]
    }
   ],
   "source": [
    "# CHECKPOINT = torch.load(r'checkpoints/model_20230811_063842_0')\n",
    "model = NoteComposeNet()\n",
    "# model.load_state_dict(CHECKPOINT)\n",
    "\n",
    "param_size = 0\n",
    "for param in model.parameters():\n",
    "    param_size += param.nelement() * param.element_size()\n",
    "buffer_size = 0\n",
    "for buffer in model.buffers():\n",
    "    buffer_size += buffer.nelement() * buffer.element_size()\n",
    "\n",
    "size_all_mb = (param_size + buffer_size) / 1024**2\n",
    "print('model size: {:.3f}MB'.format(size_all_mb))"
   ]
  },
  {
   "cell_type": "code",
   "execution_count": 5,
   "metadata": {},
   "outputs": [],
   "source": [
    "CSV_PATH = r'datasets/midi-dataset-flat.csv'\n",
    "df = pd.read_csv(CSV_PATH)\n",
    "train_midi = MidiDataset(df, context_len = model._context_len, train_samples=TRAIN_SAMPLES_PER_TRACK, validate_samples=VALIDATE_SAMPLES_PER_TRACK, start_length=-1)\n",
    "del df"
   ]
  },
  {
   "cell_type": "code",
   "execution_count": 6,
   "metadata": {},
   "outputs": [],
   "source": [
    "loss_fn = torch.nn.CrossEntropyLoss(label_smoothing=0.01)\n",
    "\n",
    "optimizer = torch.optim.AdamW(\n",
    "    model.parameters(), \n",
    "    lr=0.0001,\n",
    "    weight_decay=0.1, \n",
    "    betas=(0.9, 0.95),\n",
    "    eps=1e-05,\n",
    "    amsgrad=False\n",
    "    )\n",
    "\n",
    "scheduler = CosineAnnealingWarmRestarts(\n",
    "    optimizer=optimizer, \n",
    "    T_0= int(math.ceil(len(train_midi) / (GRADIENT_ACC * BATCH_SIZE))),\n",
    "    eta_min=1e-6,\n",
    ")"
   ]
  },
  {
   "cell_type": "code",
   "execution_count": 7,
   "metadata": {},
   "outputs": [
    {
     "name": "stdout",
     "output_type": "stream",
     "text": [
      "Total samples:  20000000\n",
      "Total tokens: 40960000000\n",
      "Total updates per epoch 977\n"
     ]
    }
   ],
   "source": [
    "print(\"Total samples: \", EPOCHS * len(train_midi))\n",
    "print(\"Total tokens:\", EPOCHS * len(train_midi) * 2048)\n",
    "print(\"Total updates per epoch\", int(math.ceil(len(train_midi) / (GRADIENT_ACC * BATCH_SIZE))))"
   ]
  },
  {
   "cell_type": "code",
   "execution_count": 8,
   "metadata": {},
   "outputs": [
    {
     "name": "stderr",
     "output_type": "stream",
     "text": [
      "Epoch 1: 100%|██████████| 31250/31250 [37:03<00:00, 14.06batch/s, train loss=4.09873, lr=[1.001023633088236e-06]] \n",
      "Epoch 1: 100%|██████████| 3125/3125 [01:25<00:00, 36.50batch/s, val loss=4.15298]\n",
      "Epoch 2: 100%|██████████| 31250/31250 [35:59<00:00, 14.47batch/s, train loss=3.98249, lr=[1.0023031645259293e-06]]\n",
      "Epoch 2: 100%|██████████| 3125/3125 [01:24<00:00, 37.07batch/s, val loss=3.97534]\n",
      "Epoch 3: 100%|██████████| 31250/31250 [35:55<00:00, 14.50batch/s, train loss=3.92029, lr=[1.0040944900166022e-06]]\n",
      "Epoch 3: 100%|██████████| 3125/3125 [01:23<00:00, 37.21batch/s, val loss=3.94870]\n",
      "Epoch 4: 100%|██████████| 31250/31250 [36:11<00:00, 14.39batch/s, train loss=3.96700, lr=[1.0063975910383878e-06]]\n",
      "Epoch 4: 100%|██████████| 3125/3125 [01:24<00:00, 36.99batch/s, val loss=3.94328]\n",
      "Epoch 5: 100%|██████████| 31250/31250 [35:56<00:00, 14.49batch/s, train loss=3.97733, lr=[1.009212443777784e-06]] \n",
      "Epoch 5: 100%|██████████| 3125/3125 [01:24<00:00, 37.14batch/s, val loss=3.93598]\n",
      "Epoch 6: 100%|██████████| 31250/31250 [36:35<00:00, 14.23batch/s, train loss=3.98489, lr=[1.012539019129913e-06]] \n",
      "Epoch 6: 100%|██████████| 3125/3125 [01:23<00:00, 37.54batch/s, val loss=3.94057]\n",
      "Epoch 7: 100%|██████████| 31250/31250 [36:46<00:00, 14.16batch/s, train loss=3.91878, lr=[1.0163772826987898e-06]]\n",
      "Epoch 7: 100%|██████████| 3125/3125 [01:23<00:00, 37.45batch/s, val loss=3.93848]\n",
      "Epoch 8: 100%|██████████| 31250/31250 [36:07<00:00, 14.42batch/s, train loss=3.90550, lr=[1.0207271947977178e-06]]\n",
      "Epoch 8:  10%|▉         | 302/3125 [00:15<01:24, 33.33batch/s, val loss=3.94483]"
     ]
    }
   ],
   "source": [
    "pipeline = TrainPipeline(train_midi, model, loss_fn, optimizer, validate=True, \n",
    "                         batch_size=BATCH_SIZE, scheduler = scheduler, grad_acc = GRADIENT_ACC)\n",
    "pipeline.train(EPOCHS)"
   ]
  },
  {
   "cell_type": "code",
   "execution_count": null,
   "metadata": {},
   "outputs": [],
   "source": []
  }
 ],
 "metadata": {
  "kernelspec": {
   "display_name": "agienv",
   "language": "python",
   "name": "python3"
  },
  "language_info": {
   "codemirror_mode": {
    "name": "ipython",
    "version": 3
   },
   "file_extension": ".py",
   "mimetype": "text/x-python",
   "name": "python",
   "nbconvert_exporter": "python",
   "pygments_lexer": "ipython3",
   "version": "3.11.3"
  },
  "orig_nbformat": 4
 },
 "nbformat": 4,
 "nbformat_minor": 2
}
