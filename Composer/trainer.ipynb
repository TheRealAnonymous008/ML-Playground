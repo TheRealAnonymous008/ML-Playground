{
 "cells": [
  {
   "cell_type": "code",
   "execution_count": 4,
   "metadata": {},
   "outputs": [],
   "source": [
    "from model import ComposeNet, VOCABULARY\n",
    "from dataset import MidiDataset\n",
    "from torch.utils.data import DataLoader\n",
    "\n",
    "import numpy as np\n",
    "import matplotlib.pyplot as plt\n",
    "import librosa \n",
    "import torch"
   ]
  },
  {
   "cell_type": "code",
   "execution_count": 11,
   "metadata": {},
   "outputs": [],
   "source": [
    "df = {\n",
    "    'notes': [torch.tensor([1 for i in range(0, 255)])],\n",
    "    'velocities': [torch.tensor([1 for i in range(0, 255)])],\n",
    "    'durations': [torch.tensor([1 for i in range(0, 255)])],\n",
    "    'times': [torch.tensor([1 for i in range(0, 255)])],     \n",
    "}"
   ]
  },
  {
   "cell_type": "code",
   "execution_count": 9,
   "metadata": {},
   "outputs": [],
   "source": [
    "model = ComposeNet()"
   ]
  },
  {
   "cell_type": "code",
   "execution_count": 21,
   "metadata": {},
   "outputs": [
    {
     "name": "stdout",
     "output_type": "stream",
     "text": [
      "Input Tensor =  torch.Size([1, 255]) torch.Size([1, 255]) torch.Size([1, 255])\n",
      "Output Tensor =  (1, 131) (1, 128) (1, 255, 1)\n",
      "Note =  C-1\n",
      "Velocity =  105\n",
      "Duration =  0\n"
     ]
    }
   ],
   "source": [
    "midi = MidiDataset(df, context_len = model._context_len)\n",
    "train_loader = DataLoader(midi, batch_size=1)\n",
    "\n",
    "data = next(iter(train_loader))\n",
    "note_tensor = data['notes'].to(\"cuda\")\n",
    "velocity_tensor = data['velocities'].to(\"cuda\")\n",
    "duration_tensor = data['durations'].to(\"cuda\")\n",
    "\n",
    "input = {\n",
    "    \"notes\": note_tensor,\n",
    "    \"velocities\": velocity_tensor,\n",
    "    \"durations\": duration_tensor \n",
    "}\n",
    "\n",
    "print(\"Input Tensor = \", note_tensor.shape, velocity_tensor.shape, duration_tensor.shape)\n",
    "\n",
    "output_notes, output_velocities, output_durations = model(input)\n",
    "\n",
    "output_notes = output_notes.cpu().detach().numpy()\n",
    "output_velocities = output_velocities.cpu().detach().numpy()\n",
    "output_durations = output_durations.cpu().detach().numpy()\n",
    "\n",
    "print(\"Output Tensor = \", output_notes.shape, output_velocities.shape, output_durations.shape)\n",
    "\n",
    "print(\"Note = \", librosa.midi_to_note(output_notes[0].argmax()))\n",
    "print(\"Velocity = \", output_velocities[0].argmax())\n",
    "print(\"Duration = \", output_durations[0].argmax())\n"
   ]
  },
  {
   "cell_type": "code",
   "execution_count": 13,
   "metadata": {},
   "outputs": [
    {
     "name": "stdout",
     "output_type": "stream",
     "text": [
      "model size: 0.119MB\n"
     ]
    }
   ],
   "source": [
    "# Model Specifications\n",
    "param_size = 0\n",
    "for param in model.parameters():\n",
    "    param_size += param.nelement() * param.element_size()\n",
    "buffer_size = 0\n",
    "for buffer in model.buffers():\n",
    "    buffer_size += buffer.nelement() * buffer.element_size()\n",
    "\n",
    "size_all_mb = (param_size + buffer_size) / 1024**2\n",
    "print('model size: {:.3f}MB'.format(size_all_mb))"
   ]
  },
  {
   "cell_type": "code",
   "execution_count": null,
   "metadata": {},
   "outputs": [],
   "source": [
    "plt.bar(np.linspace(0, len(VOCABULARY), len(VOCABULARY)), output_notes.reshape((-1,)))\n",
    "plt.show()"
   ]
  }
 ],
 "metadata": {
  "kernelspec": {
   "display_name": "agienv",
   "language": "python",
   "name": "python3"
  },
  "language_info": {
   "codemirror_mode": {
    "name": "ipython",
    "version": 3
   },
   "file_extension": ".py",
   "mimetype": "text/x-python",
   "name": "python",
   "nbconvert_exporter": "python",
   "pygments_lexer": "ipython3",
   "version": "3.11.3"
  },
  "orig_nbformat": 4
 },
 "nbformat": 4,
 "nbformat_minor": 2
}
