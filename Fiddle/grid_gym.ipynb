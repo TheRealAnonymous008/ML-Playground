{
 "cells": [
  {
   "cell_type": "code",
   "execution_count": 81,
   "metadata": {},
   "outputs": [
    {
     "name": "stdout",
     "output_type": "stream",
     "text": [
      "The autoreload extension is already loaded. To reload it, use:\n",
      "  %reload_ext autoreload\n"
     ]
    }
   ],
   "source": [
    "%load_ext autoreload\n",
    "%autoreload 2\n",
    "from gymnasium.envs.toy_text.frozen_lake import generate_random_map\n",
    "import gymnasium as gym\n",
    "import matplotlib.pyplot as plt\n",
    "import numpy as np\n",
    "\n",
    "from rl.dp import Policy, ValueIteration"
   ]
  },
  {
   "cell_type": "markdown",
   "metadata": {},
   "source": [
    "# Frozen Lake"
   ]
  },
  {
   "cell_type": "code",
   "execution_count": 41,
   "metadata": {},
   "outputs": [],
   "source": [
    "env = gym.make(\"FrozenLake-v1\", render_mode = \"human\", desc=generate_random_map(size=8), is_slippery = False)\n",
    "state, info = env.reset(seed=42)\n",
    "\n",
    "env.close()"
   ]
  },
  {
   "cell_type": "code",
   "execution_count": 42,
   "metadata": {},
   "outputs": [],
   "source": [
    "# Initialize policy and policy iterator \n",
    "policy : Policy = Policy(env.observation_space.n, env.action_space.n)\n",
    "vi : ValueIteration = ValueIteration(policy)"
   ]
  },
  {
   "cell_type": "code",
   "execution_count": 51,
   "metadata": {},
   "outputs": [
    {
     "name": "stdout",
     "output_type": "stream",
     "text": [
      "[[1 2 3 3 2 2 0 0]\n",
      " [1 0 0 0 2 1 0 1]\n",
      " [1 3 1 1 1 1 0 0]\n",
      " [0 0 2 2 1 1 0 0]\n",
      " [0 0 2 3 2 1 3 1]\n",
      " [1 1 0 0 2 0 0 2]\n",
      " [3 2 0 0 2 0 0 2]\n",
      " [0 2 1 1 2 1 1 0]]\n",
      "[[4.11232638e-02 4.38598825e-02 4.88752198e-02 6.16076970e-02\n",
      "  8.40677053e-02 8.57917104e-02 8.45151519e-02 4.91483342e-25]\n",
      " [4.48797921e-02 4.57697898e-02 2.33461653e-24 9.87657260e-25\n",
      "  9.56175485e-02 1.00614329e-01 9.65830909e-02 4.47580178e-02]\n",
      " [5.10760773e-02 5.57965037e-02 7.93536183e-02 9.95958744e-02\n",
      "  1.17268119e-01 1.25528819e-01 1.19869754e-01 5.96367744e-24]\n",
      " [5.44202947e-02 4.01471019e-24 9.51979955e-02 1.17891550e-01\n",
      "  1.45195683e-01 1.59268924e-01 1.56424155e-01 7.25799455e-24]\n",
      " [6.63571902e-02 8.57879342e-47 1.03380080e-01 1.27497549e-01\n",
      "  1.81352208e-01 2.01334659e-01 2.14832339e-01 3.20659098e-01]\n",
      " [8.87715369e-02 9.72825189e-02 1.03767868e-01 1.37073150e-23\n",
      "  2.26160840e-01 2.39609115e-01 2.90178633e-23 4.77116240e-01]\n",
      " [9.42771133e-02 1.14668550e-01 1.27025404e-01 1.40811520e-23\n",
      "  2.93230803e-01 3.29164863e-01 3.61465871e-23 7.08907526e-01]\n",
      " [7.62166387e-24 1.37803287e-01 1.82696437e-01 2.56436394e-01\n",
      "  3.70666308e-01 5.06628071e-01 7.22583740e-01 0.00000000e+00]]\n",
      "0 1\n",
      "1 2\n",
      "1 2\n",
      "9 0\n",
      "17 3\n",
      "16 1\n",
      "17 3\n",
      "18 1\n",
      "26 2\n",
      "27 2\n",
      "19 1\n",
      "27 2\n",
      "19 1\n",
      "27 2\n",
      "35 3\n",
      "27 2\n",
      "35 3\n",
      "34 2\n",
      "35 3\n",
      "34 2\n",
      "35 3\n",
      "34 2\n",
      "26 2\n",
      "18 1\n",
      "17 3\n",
      "9 0\n",
      "1 2\n",
      "9 0\n",
      "17 3\n",
      "16 1\n",
      "17 3\n",
      "18 1\n",
      "26 2\n",
      "27 2\n",
      "35 3\n",
      "36 2\n",
      "37 1\n",
      "36 2\n",
      "28 1\n",
      "36 2\n",
      "28 1\n",
      "29 1\n",
      "28 1\n",
      "29 1\n",
      "30 0\n",
      "29 1\n",
      "28 1\n",
      "29 1\n",
      "28 1\n",
      "27 2\n",
      "35 3\n",
      "34 2\n",
      "35 3\n",
      "34 2\n",
      "26 2\n",
      "27 2\n",
      "28 1\n",
      "27 2\n",
      "35 3\n",
      "34 2\n",
      "35 3\n",
      "27 2\n",
      "19 1\n",
      "27 2\n",
      "28 1\n",
      "36 2\n",
      "44 2\n",
      "52 2\n",
      "53 0\n",
      "45 0\n",
      "44 2\n",
      "36 2\n",
      "44 2\n",
      "52 2\n",
      "60 2\n",
      "60 2\n",
      "61 1\n",
      "61 1\n",
      "62 1\n",
      "62 1\n",
      "62 1\n"
     ]
    }
   ],
   "source": [
    "episode_count = 1\n",
    "env = gym.make(\"FrozenLake-v1\", render_mode = \"human\", desc=generate_random_map(size=8))\n",
    "state, info = env.reset(seed=42)\n",
    "\n",
    "policy = vi.forward(env, 1000)\n",
    "# Print the policy\n",
    "P = policy.policy\n",
    "print(np.array(P).reshape(8, 8))\n",
    "\n",
    "for _ in range(episode_count):\n",
    "    isStop = False\n",
    "\n",
    "    state, info = env.reset()\n",
    "\n",
    "    ctr = 0\n",
    "    while isStop is False and ctr < 100:\n",
    "        # Sample from a policy\n",
    "        action = policy.sample(state)\n",
    "\n",
    "        state, reward, isTerminated, isTruncated, info = env.step(action)\n",
    "\n",
    "        if isTerminated or isTruncated:\n",
    "            isStop = True\n",
    "\n",
    "        env.render()\n",
    "        ctr += 1\n",
    "\n",
    "    state, info = env.reset()\n",
    "\n",
    "env.close()"
   ]
  },
  {
   "cell_type": "code",
   "execution_count": 40,
   "metadata": {},
   "outputs": [],
   "source": [
    "env.close()"
   ]
  }
 ],
 "metadata": {
  "kernelspec": {
   "display_name": "agienv",
   "language": "python",
   "name": "python3"
  },
  "language_info": {
   "codemirror_mode": {
    "name": "ipython",
    "version": 3
   },
   "file_extension": ".py",
   "mimetype": "text/x-python",
   "name": "python",
   "nbconvert_exporter": "python",
   "pygments_lexer": "ipython3",
   "version": "3.11.3"
  },
  "orig_nbformat": 4
 },
 "nbformat": 4,
 "nbformat_minor": 2
}
