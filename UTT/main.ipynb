{
 "cells": [
  {
   "cell_type": "code",
   "execution_count": 1,
   "metadata": {},
   "outputs": [],
   "source": [
    "%load_ext autoreload\n",
    "%autoreload 2"
   ]
  },
  {
   "cell_type": "code",
   "execution_count": 110,
   "metadata": {},
   "outputs": [],
   "source": [
    "from game import Game\n",
    "from player import Player"
   ]
  },
  {
   "cell_type": "code",
   "execution_count": 134,
   "metadata": {},
   "outputs": [
    {
     "name": "stdout",
     "output_type": "stream",
     "text": [
      "0.2009\n"
     ]
    }
   ],
   "source": [
    "g = Game()\n",
    "p = Player(1)\n",
    "print(p.eval(g.state))"
   ]
  },
  {
   "cell_type": "code",
   "execution_count": 135,
   "metadata": {},
   "outputs": [
    {
     "name": "stdout",
     "output_type": "stream",
     "text": [
      "|- -- -- -|- -- -- -|- -- -- -|\n",
      "|- -- -- -|- -- -- -|- -- -- -|\n",
      "|- -- -- -|- -- -- -|- -- -- -|\n",
      "\n",
      "|- -- -- -|- -- -- -|- -- -- -|\n",
      "|- -- -- -|- -- -- -|- -- -- -|\n",
      "|- -- -- -|- -- -- -|- -- -- -|\n",
      "\n",
      "|- -- -- -|- -- -- -|- -- -- -|\n",
      "|-X-- -- -|- -- -- -|- -- -- -|\n",
      "|- -- -- -|- -- -- -|- -- -- -|\n",
      "\n"
     ]
    }
   ],
   "source": [
    "state, score = p.play(g)\n",
    "ng = Game(state)\n",
    "ng.print_board()"
   ]
  },
  {
   "cell_type": "code",
   "execution_count": null,
   "metadata": {},
   "outputs": [],
   "source": []
  }
 ],
 "metadata": {
  "kernelspec": {
   "display_name": "agienv",
   "language": "python",
   "name": "python3"
  },
  "language_info": {
   "codemirror_mode": {
    "name": "ipython",
    "version": 3
   },
   "file_extension": ".py",
   "mimetype": "text/x-python",
   "name": "python",
   "nbconvert_exporter": "python",
   "pygments_lexer": "ipython3",
   "version": "3.11.3"
  },
  "orig_nbformat": 4
 },
 "nbformat": 4,
 "nbformat_minor": 2
}
