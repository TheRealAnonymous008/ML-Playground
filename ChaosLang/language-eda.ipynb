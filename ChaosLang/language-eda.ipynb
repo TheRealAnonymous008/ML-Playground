{
 "cells": [
  {
   "cell_type": "code",
   "execution_count": 21,
   "metadata": {},
   "outputs": [
    {
     "name": "stdout",
     "output_type": "stream",
     "text": [
      "The autoreload extension is already loaded. To reload it, use:\n",
      "  %reload_ext autoreload\n"
     ]
    }
   ],
   "source": [
    "%load_ext autoreload\n",
    "%autoreload 2\n",
    "\n",
    "import pandas as pd\n",
    "import numpy as np\n",
    "from languages import LANGUAGES"
   ]
  },
  {
   "cell_type": "code",
   "execution_count": 22,
   "metadata": {},
   "outputs": [],
   "source": [
    "loaded_df = pd.read_csv(\"English_Processed.csv\")"
   ]
  },
  {
   "cell_type": "markdown",
   "metadata": {},
   "source": [
    "## Phonetic Inventory"
   ]
  },
  {
   "cell_type": "code",
   "execution_count": 23,
   "metadata": {},
   "outputs": [
    {
     "name": "stdout",
     "output_type": "stream",
     "text": [
      "126054\n"
     ]
    }
   ],
   "source": [
    "print(len(loaded_df))"
   ]
  },
  {
   "cell_type": "code",
   "execution_count": 24,
   "metadata": {},
   "outputs": [],
   "source": [
    "# Extract the list of pronunciations\n",
    "pronunciation_list = []\n",
    "for p in loaded_df['pronunciation']:\n",
    "    _pronunciations = p.split(',')\n",
    "    pronunciation_list.extend(_pronunciations)"
   ]
  },
  {
   "cell_type": "code",
   "execution_count": 25,
   "metadata": {},
   "outputs": [
    {
     "name": "stdout",
     "output_type": "stream",
     "text": [
      "126054\n"
     ]
    }
   ],
   "source": [
    "print(len(pronunciation_list))"
   ]
  },
  {
   "cell_type": "code",
   "execution_count": 26,
   "metadata": {},
   "outputs": [],
   "source": [
    "# Print a histogram of the different symbols\n",
    "symbols_hist = {}\n",
    "\n",
    "for P in pronunciation_list:\n",
    "    # Make use of only the narrow transcriptions.\n",
    "    for x in P:\n",
    "        if x in symbols_hist.keys():\n",
    "            symbols_hist[x] += 1\n",
    "        else:\n",
    "            symbols_hist[x] = 1  \n",
    "\n",
    "# Sort the symbols \n",
    "symbols = sorted(symbols_hist, key = lambda x: symbols_hist[x], reverse = True)"
   ]
  },
  {
   "cell_type": "code",
   "execution_count": 27,
   "metadata": {},
   "outputs": [
    {
     "name": "stdout",
     "output_type": "stream",
     "text": [
      "/ 243998\n",
      "ˈ 108659\n",
      "ə 87382\n",
      "ɪ 85400\n",
      "t 57628\n",
      "n 56618\n",
      ". 49403\n",
      "s 48654\n",
      "ɹ 47957\n",
      "l 44831\n",
      "k 41398\n",
      "d 37409\n",
      "ː 34861\n",
      "i 33967\n",
      "m 28404\n",
      "ʊ 24906\n",
      "ˌ 24905\n",
      "p 23985\n",
      "ɛ 23029\n",
      "æ 21925\n",
      "b 20264\n",
      "a 17685\n",
      "ɑ 16886\n",
      "e 15881\n",
      "f 14851\n",
      "z 13948\n",
      "ʃ 13700\n",
      "ɡ 12024\n",
      "ɔ 11077\n",
      "u 10912\n",
      "ɒ 10577\n",
      "( 10408\n",
      ") 10407\n",
      "v 10266\n",
      "o 9905\n",
      "  9800\n",
      "ʌ 9735\n",
      "͡ 9692\n",
      "j 8758\n",
      "ʒ 8510\n",
      "w 8090\n",
      "ŋ 7695\n",
      "h 6977\n",
      "ɚ 6367\n",
      "[ 3986\n",
      "] 3986\n",
      "θ 3872\n",
      "- 3370\n",
      "ɜ 3123\n",
      "̩ 2746\n",
      "ɝ 2029\n",
      "r 1733\n",
      "ð 1270\n",
      "ɾ 1218\n",
      "̯ 1148\n",
      "ɫ 827\n",
      "ʰ 799\n",
      "̃ 434\n",
      "ɐ 368\n",
      "ʔ 344\n",
      "ʉ 337\n",
      "ɘ 262\n",
      "x 250\n",
      "ʍ 229\n",
      "̥ 154\n",
      "‿ 135\n",
      "̠ 134\n",
      "ɨ 132\n",
      "̚ 126\n",
      "˦ 113\n",
      "̈ 103\n",
      "˨ 100\n",
      "̪ 91\n",
      "ʷ 86\n",
      "ä 74\n",
      "˧ 73\n",
      "ɵ 73\n",
      "̞ 61\n",
      "̊ 50\n",
      "ʁ 49\n",
      "̆ 46\n",
      "ɬ 41\n",
      "ˑ 38\n",
      "˩ 36\n",
      "ɱ 36\n",
      "ɯ 33\n",
      "˞ 31\n",
      "̟ 30\n",
      "y 30\n",
      "~ 30\n",
      "˥ 28\n",
      "ç 27\n",
      "ø 25\n",
      "ʈ 23\n",
      "ɻ 22\n",
      "˔ 21\n",
      "̬ 18\n",
      "ʲ 18\n",
      "̝ 17\n",
      "ɖ 17\n",
      "œ 17\n",
      "ˀ 15\n",
      "ʱ 15\n",
      "ɕ 15\n",
      "ɲ 15\n",
      "ɸ 15\n",
      "ʏ 13\n",
      "ᵊ 13\n",
      "ʋ 13\n",
      "χ 12\n",
      "ẽ 11\n",
      "ĩ 11\n",
      "‖ 11\n",
      "õ 10\n",
      "ˤ 9\n",
      "ũ 9\n",
      "̰ 9\n",
      "ɦ 9\n",
      "ʼ 8\n",
      "c 8\n",
      "| 8\n",
      "ã 8\n",
      "ɣ 6\n",
      "ǀ 6\n",
      "ⁿ 5\n",
      "̍ 5\n",
      "² 5\n",
      "ɳ 5\n",
      "β 5\n",
      "ŏ 5\n",
      "q 5\n",
      "ɞ 4\n",
      "ˠ 4\n",
      "ɤ 4\n",
      "ɟ 4\n",
      "ᵈ 4\n",
      "⁵ 4\n",
      "ǃ 3\n",
      "͜ 3\n",
      "ʙ 3\n",
      "ħ 3\n",
      "ă 3\n",
      "ɭ 3\n",
      "̀ 3\n",
      "ʀ 3\n",
      "ʎ 2\n",
      "↓ 2\n",
      "¹ 2\n",
      "̙ 2\n",
      "ï 2\n",
      "᷈ 2\n",
      "ā 2\n",
      "á 2\n",
      "ʟ 2\n",
      "' 2\n",
      "ö 2\n",
      "ʘ 2\n",
      "ˡ 2\n",
      "ᵻ 2\n",
      "ǁ 2\n",
      "ĭ 2\n",
      "ŭ 2\n",
      "ɥ 2\n",
      "ɴ 2\n",
      "ɓ 1\n",
      "̜ 1\n",
      "˗ 1\n",
      "͇ 1\n",
      "ü 1\n",
      "ʝ 1\n",
      "³ 1\n",
      "⁰ 1\n",
      "ʐ 1\n",
      "ḿ 1\n",
      "↗ 1\n",
      "︎ 1\n",
      "ʬ 1\n",
      "… 1\n",
      "́ 1\n",
      "ì 1\n",
      "ó 1\n",
      "̘ 1\n",
      "ō 1\n",
      "* 1\n",
      "ʂ 1\n",
      "⁴ 1\n",
      "ɽ 1\n",
      "̽ 1\n",
      "à 1\n",
      "ò 1\n",
      "ʩ 1\n",
      "𐞪 1\n"
     ]
    }
   ],
   "source": [
    "for x in symbols:\n",
    "    print(x, symbols_hist[x]) "
   ]
  },
  {
   "cell_type": "code",
   "execution_count": 28,
   "metadata": {},
   "outputs": [
    {
     "name": "stdout",
     "output_type": "stream",
     "text": [
      "ˈ\n",
      "ə\n",
      "ɪ\n",
      "t\n",
      "n\n",
      ".\n",
      "s\n",
      "ɹ\n",
      "l\n",
      "k\n",
      "d\n",
      "ː\n",
      "i\n",
      "m\n",
      "ʊ\n",
      "ˌ\n",
      "p\n",
      "ɛ\n",
      "æ\n",
      "b\n",
      "a\n",
      "ɑ\n",
      "e\n",
      "f\n",
      "z\n",
      "ʃ\n",
      "ɡ\n",
      "ɔ\n",
      "u\n",
      "ɒ\n",
      "(\n",
      ")\n",
      "v\n",
      "o\n",
      " \n",
      "ʌ\n",
      "͡\n",
      "j\n",
      "ʒ\n",
      "w\n",
      "ŋ\n",
      "h\n",
      "ɚ\n",
      "θ\n",
      "-\n",
      "ɜ\n",
      "̩\n",
      "ɝ\n",
      "r\n",
      "ð\n",
      "ɾ\n",
      "̯\n",
      "ɫ\n",
      "ʰ\n",
      "̃\n",
      "ɐ\n",
      "ʔ\n",
      "ʉ\n",
      "ɘ\n",
      "x\n",
      "ʍ\n",
      "̥\n",
      "‿\n",
      "̠\n",
      "ɨ\n",
      "̚\n",
      "˦\n",
      "̈\n",
      "˨\n",
      "̪\n",
      "ʷ\n",
      "ä\n",
      "˧\n",
      "ɵ\n",
      "̞\n",
      "̊\n",
      "ʁ\n",
      "̆\n",
      "ɬ\n",
      "ˑ\n",
      "˩\n",
      "ɱ\n",
      "ɯ\n",
      "˞\n",
      "̟\n",
      "y\n",
      "~\n",
      "˥\n",
      "ç\n",
      "ø\n",
      "ʈ\n",
      "ɻ\n",
      "˔\n",
      "̬\n",
      "ʲ\n",
      "̝\n",
      "ɖ\n",
      "œ\n",
      "ˀ\n",
      "ʱ\n",
      "ɕ\n",
      "ɲ\n",
      "ɸ\n",
      "ʏ\n",
      "ᵊ\n",
      "ʋ\n",
      "χ\n",
      "ẽ\n",
      "ĩ\n",
      "‖\n",
      "õ\n",
      "ˤ\n",
      "ũ\n",
      "̰\n",
      "ɦ\n",
      "ʼ\n",
      "c\n",
      "|\n",
      "ã\n",
      "ɣ\n",
      "ǀ\n",
      "ⁿ\n",
      "̍\n",
      "²\n",
      "ɳ\n",
      "β\n",
      "ŏ\n",
      "q\n",
      "ɞ\n",
      "ˠ\n",
      "ɤ\n",
      "ɟ\n",
      "ᵈ\n",
      "⁵\n",
      "ǃ\n",
      "͜\n",
      "ʙ\n",
      "ħ\n",
      "ă\n",
      "ɭ\n",
      "̀\n",
      "ʀ\n",
      "ʎ\n",
      "↓\n",
      "¹\n",
      "̙\n",
      "ï\n",
      "᷈\n",
      "ā\n",
      "á\n",
      "ʟ\n",
      "'\n",
      "ö\n",
      "ʘ\n",
      "ˡ\n",
      "ᵻ\n",
      "ǁ\n",
      "ĭ\n",
      "ŭ\n",
      "ɥ\n",
      "ɴ\n",
      "ɓ\n",
      "̜\n",
      "˗\n",
      "͇\n",
      "ü\n",
      "ʝ\n",
      "³\n",
      "⁰\n",
      "ʐ\n",
      "ḿ\n",
      "↗\n",
      "︎\n",
      "ʬ\n",
      "…\n",
      "́\n",
      "ì\n",
      "ó\n",
      "̘\n",
      "ō\n",
      "*\n",
      "ʂ\n",
      "⁴\n",
      "ɽ\n",
      "̽\n",
      "à\n",
      "ò\n",
      "ʩ\n",
      "𐞪\n"
     ]
    }
   ],
   "source": [
    "for s in symbols:\n",
    "    if s == \"/\" or s == \"[\" or s == \"]\":\n",
    "        continue \n",
    "    print(s)"
   ]
  },
  {
   "cell_type": "code",
   "execution_count": 29,
   "metadata": {},
   "outputs": [
    {
     "name": "stdout",
     "output_type": "stream",
     "text": [
      "192\n"
     ]
    }
   ],
   "source": [
    "print(len(symbols))"
   ]
  },
  {
   "cell_type": "markdown",
   "metadata": {},
   "source": [
    "# Tokenizer"
   ]
  },
  {
   "cell_type": "code",
   "execution_count": 30,
   "metadata": {},
   "outputs": [],
   "source": [
    "from tokenizers import Tokenizer, models, processors, decoders\n",
    "import pandas as pd \n",
    "import numpy as np\n",
    "from languages import LANGUAGES"
   ]
  },
  {
   "cell_type": "code",
   "execution_count": 31,
   "metadata": {},
   "outputs": [
    {
     "data": {
      "text/html": [
       "<div>\n",
       "<style scoped>\n",
       "    .dataframe tbody tr th:only-of-type {\n",
       "        vertical-align: middle;\n",
       "    }\n",
       "\n",
       "    .dataframe tbody tr th {\n",
       "        vertical-align: top;\n",
       "    }\n",
       "\n",
       "    .dataframe thead th {\n",
       "        text-align: right;\n",
       "    }\n",
       "</style>\n",
       "<table border=\"1\" class=\"dataframe\">\n",
       "  <thead>\n",
       "    <tr style=\"text-align: right;\">\n",
       "      <th></th>\n",
       "      <th>Unnamed: 0</th>\n",
       "      <th>pronunciation</th>\n",
       "      <th>word</th>\n",
       "      <th>language</th>\n",
       "    </tr>\n",
       "  </thead>\n",
       "  <tbody>\n",
       "    <tr>\n",
       "      <th>0</th>\n",
       "      <td>0</td>\n",
       "      <td>/pəˈsɛnt/</td>\n",
       "      <td>%</td>\n",
       "      <td>English</td>\n",
       "    </tr>\n",
       "    <tr>\n",
       "      <th>1</th>\n",
       "      <td>1</td>\n",
       "      <td>/pɚˈsɛnt/</td>\n",
       "      <td>%</td>\n",
       "      <td>English</td>\n",
       "    </tr>\n",
       "    <tr>\n",
       "      <th>2</th>\n",
       "      <td>2</td>\n",
       "      <td>/kʊŋ/</td>\n",
       "      <td>!kung</td>\n",
       "      <td>English</td>\n",
       "    </tr>\n",
       "    <tr>\n",
       "      <th>3</th>\n",
       "      <td>3</td>\n",
       "      <td>/ǃkʊŋ/</td>\n",
       "      <td>!kung</td>\n",
       "      <td>English</td>\n",
       "    </tr>\n",
       "    <tr>\n",
       "      <th>4</th>\n",
       "      <td>4</td>\n",
       "      <td>/ænd lɪt/</td>\n",
       "      <td>&amp;lit</td>\n",
       "      <td>English</td>\n",
       "    </tr>\n",
       "  </tbody>\n",
       "</table>\n",
       "</div>"
      ],
      "text/plain": [
       "   Unnamed: 0 pronunciation   word language\n",
       "0           0     /pəˈsɛnt/      %  English\n",
       "1           1     /pɚˈsɛnt/      %  English\n",
       "2           2         /kʊŋ/  !kung  English\n",
       "3           3        /ǃkʊŋ/  !kung  English\n",
       "4           4     /ænd lɪt/   &lit  English"
      ]
     },
     "execution_count": 31,
     "metadata": {},
     "output_type": "execute_result"
    }
   ],
   "source": [
    "loaded_df = pd.read_csv(\"English_Processed.csv\")\n",
    "symbols = np.load(\"symbols.npy\")\n",
    "loaded_df.head()"
   ]
  },
  {
   "cell_type": "code",
   "execution_count": 32,
   "metadata": {},
   "outputs": [],
   "source": [
    "from solution import CharacterTokenizer, PhoneticTransformer, generate_square_subsequent_mask, PhoneticsDataset\n",
    "import torch\n",
    "import torch.optim as optim\n",
    "import torch.nn as nn\n",
    "from torch.utils.data import DataLoader\n",
    "from tqdm import tqdm"
   ]
  },
  {
   "cell_type": "code",
   "execution_count": 33,
   "metadata": {},
   "outputs": [
    {
     "name": "stdout",
     "output_type": "stream",
     "text": [
      "cuda {'[CLS]': 0, '[SEP]': 1, '[BOS]': 2, '[MASK]': 3, '[PAD]': 4, '[RESERVED]': 5, '[UNK]': 6, '/': 7, '.': 8, 'ˈ': 9, 't': 10, 'a': 11, 'i': 12, 's': 13, '[': 14, ']': 15, 'n': 16, 'k': 17, 'e': 18, 'o': 19, 'ː': 20, 'l': 21, 'u': 22, 'm': 23, 'r': 24, 'p': 25, ' ': 26, 'ə': 27, 'd': 28, 'ɪ': 29, 'ʲ': 30, 'ɛ': 31, 'j': 32, '͡': 33, 'ɑ': 34, '⁵': 35, 'ɔ': 36, 'ɐ': 37, '̯': 38, 'b': 39, '²': 40, 'ɾ': 41, '³': 42, '¹': 43, 'v': 44, 'ˌ': 45, '̞': 46, '̪': 47, 'ʁ': 48, 'ɡ': 49, 'z': 50, '⁴': 51, 'f': 52, 'ʃ': 53, 'ʊ': 54, 'ŋ': 55, '⁻': 56, '̃': 57, 'ʰ': 58, 'ɨ': 59, 'ɕ': 60, '̠': 61, 'w': 62, 'h': 63, '̝': 64, ')': 65, '(': 66, 'ä': 67, 'y': 68, 'ʂ': 69, '˧': 70, 'ʒ': 71, 'æ': 72, 'x': 73, 'ɫ': 74, '̚': 75, 'ʔ': 76, 'ʋ': 77, '˨': 78, '˩': 79, 'ɲ': 80, 'ð': 81, '̟': 82, '˦': 83, 'ẽ': 84, 'ʐ': 85, 'ɒ': 86, 'ɹ': 87, 'θ': 88, '̩': 89, 'ø': 90, 'ĩ': 91, '˥': 92, 'ʈ': 93, 'ɦ': 94, 'ɣ': 95, 'ɯ': 96, '⁽': 97, '⁾': 98, 'ᵝ': 99, 'β': 100, 'ɤ': 101, 'õ': 102, 'ã': 103, 'ˣ': 104, 'ʎ': 105, 'ʌ': 106, 'ɵ': 107, 'χ': 108, 'ˠ': 109, 'ʑ': 110, 'ʝ': 111, 'œ': 112, 'ɻ': 113, 'ç': 114, 'c': 115, '̥': 116, 'ˀ': 117, '~': 118, 'ʏ': 119, 'ʷ': 120, '‿': 121, 'ʉ': 122, 'ʼ': 123, '̻': 124, 'ɥ': 125, '-': 126, 'ũ': 127, '̹': 128, 'ɗ': 129, 'ɓ': 130, 'ɴ': 131, 'ɟ': 132, '́': 133, 'ʱ': 134, 'ǎ': 135, 'ˑ': 136, 'í': 137, '͈': 138, 'ɭ': 139, 'à': 140, 'ǒ': 141, 'q': 142, 'á': 143, 'ɚ': 144, 'ǐ': 145, '̺': 146, 'ě': 147, '̊': 148, 'ˤ': 149, 'ǽ': 150, '̀': 151, 'ɖ': 152, '̍': 153, 'ɰ': 154, 'â': 155, 'ɳ': 156, 'ɽ': 157, 'ħ': 158, 'ɜ': 159, 'ê': 160, 'ɸ': 161, 'ú': 162, 'ǔ': 163, 'ì': 164, 'é': 165, 'ɱ': 166, 'ɬ': 167, '̬': 168, 'ô': 169, '*': 170, 'î': 171, 'ó': 172, 'ʀ': 173, 'ʕ': 174, 'ɝ': 175, 'û': 176, 'è': 177, 'ò': 178, '̄': 179, 'ï': 180, 'ɘ': 181, '̰': 182, 'ɮ': 183, 'ù': 184, '→': 185, 'ā': 186, 'ᵊ': 187, 'ˢ': 188, '̂': 189, '̆': 190, 'ō': 191, '|': 192, 'ᵑ': 193, 'ř': 194, '̤': 195, 'ⁿ': 196, 'ī': 197, 'ɢ': 198, 'ᵐ': 199, '\\xa0': 200, 'g': 201, '̜': 202, 'ʍ': 203, 'ē': 204, '̙': 205, 'ɧ': 206, 'ǃ': 207, 'ᵘ': 208, 'ˡ': 209, 'ḭ': 210, 'ṵ': 211, '̈': 212, 'ū': 213, 'ɠ': 214, 'ṹ': 215, 'ȵ': 216, 'ḿ': 217, 'ǀ': 218, 'ꜜ': 219, 'ɶ': 220, 'ɞ': 221, '͜': 222, '̽': 223, 'ǁ': 224, '∅': 225, 'ḛ': 226, '̌': 227, 'ṳ': 228, '⁰': 229, 'ỹ': 230, 'ạ': 231, 'ᶯ': 232, 'ᶢ': 233, '\\u2009': 234, '˕': 235, 'ŏ': 236, '᷈': 237, '͉': 238, '˞': 239, \"'\": 240, '>': 241, '˔': 242, 'ë': 243, 'ǣ': 244, 'ḁ': 245, 'ă': 246, 'N': 247, 'ᶬ': 248, 'ᶮ': 249, '‖': 250, '˗': 251, 'ü': 252, '…': 253, 'ŭ': 254, '̘': 255, 'ĕ': 256, '◌': 257, '˖': 258, 'C': 259, '︎': 260, '↗': 261, '\\u200c': 262, '͎': 263, 'ᵏ': 264, 'ö': 265, 'ʙ': 266, 'ĭ': 267, 'å': 268, '𝆑': 269, 'ʴ': 270, 'ŷ': 271, '一': 272, 'ń': 273, 'ᴜ': 274, '\\u200b': 275, 'Q': 276, 'ý': 277, 'ŕ': 278, 'V': 279, 'ʟ': 280, 'ᵈ': 281, '̣': 282, '͍': 283, 'ñ': 284, 'ʳ': 285, 'ǹ': 286, '၊': 287, '͇': 288, '↘': 289, 'ᶣ': 290, 'ာ': 291, 'ေ': 292, '်': 293, '1': 294, '↓': 295, 'ʘ': 296, 'ᵻ': 297, 'ʄ': 298, 'ỳ': 299, '̋': 300, 'ẹ': 301, 'ň': 302, 'ʜ': 303, 'ᵇ': 304, '᪽': 305, 'ရ': 306, 'ခ': 307, 'ျ': 308, 'င': 309, ';': 310, 'ဘ': 311, 'း': 312, '+': 313, '’': 314, 'မ': 315, 'ပ': 316, 'က': 317, '⁓': 318, '⁹': 319, 'ẑ': 320, '&': 321, '不': 322, 'ʬ': 323, 'ʩ': 324, '𐞪': 325, 'ṽ': 326, '꜔': 327, '%': 328, '᷇': 329, 'ɺ': 330, '᷆': 331, 'ȁ': 332, '͏': 333, 'ÿ': 334, 'ˇ': 335, 'ọ': 336, 'ỵ': 337, 'ᵄ': 338, 'ǿ': 339, ':': 340}\n"
     ]
    },
    {
     "name": "stderr",
     "output_type": "stream",
     "text": [
      "c:\\Users\\Joaquin\\miniconda3\\envs\\agi\\Lib\\site-packages\\transformers\\tokenization_utils_base.py:1601: FutureWarning: `clean_up_tokenization_spaces` was not set. It will be set to `True` by default. This behavior will be depracted in transformers v4.45, and will be then set to `False` by default. For more details check this issue: https://github.com/huggingface/transformers/issues/31884\n",
      "  warnings.warn(\n"
     ]
    }
   ],
   "source": [
    "pronunciation_tokenizer = CharacterTokenizer(symbols, 100)\n",
    "vocab = pronunciation_tokenizer.get_vocab()\n",
    "phonetics_model = PhoneticTransformer(len(vocab))\n",
    "\n",
    "device = torch.device(\"cuda\" if torch.cuda.is_available() else \"cpu\")\n",
    "print(device, vocab)\n",
    "\n",
    "phonetics_model = phonetics_model.to(device)"
   ]
  },
  {
   "cell_type": "code",
   "execution_count": 34,
   "metadata": {},
   "outputs": [],
   "source": [
    "dataset = []\n",
    "for i in range(0, len(loaded_df)):\n",
    "    x = loaded_df.iloc[i]\n",
    "    tok = pronunciation_tokenizer.encode(x[\"pronunciation\"])\n",
    "    row = []\n",
    "    for t in tok: \n",
    "        row.append(t)\n",
    "        # dataset.append(row.copy())      \n",
    "    dataset.append(tok)\n",
    "    \n",
    "phonetics_dataset = PhoneticsDataset(dataset, vocab, 100)\n",
    "\n",
    "BATCH_SIZE = 1024\n",
    "dataloader = DataLoader(phonetics_dataset, batch_size=BATCH_SIZE, shuffle=True)"
   ]
  },
  {
   "cell_type": "code",
   "execution_count": 42,
   "metadata": {},
   "outputs": [
    {
     "name": "stderr",
     "output_type": "stream",
     "text": [
      "100%|██████████| 124/124 [00:45<00:00,  2.75it/s]\n"
     ]
    },
    {
     "name": "stdout",
     "output_type": "stream",
     "text": [
      "Epoch 1 Loss: 2.350490323958858\n"
     ]
    },
    {
     "name": "stderr",
     "output_type": "stream",
     "text": [
      "100%|██████████| 124/124 [00:44<00:00,  2.77it/s]\n"
     ]
    },
    {
     "name": "stdout",
     "output_type": "stream",
     "text": [
      "Epoch 2 Loss: 2.2967006218048835\n"
     ]
    },
    {
     "name": "stderr",
     "output_type": "stream",
     "text": [
      "100%|██████████| 124/124 [00:45<00:00,  2.75it/s]\n"
     ]
    },
    {
     "name": "stdout",
     "output_type": "stream",
     "text": [
      "Epoch 3 Loss: 2.253999258241346\n"
     ]
    },
    {
     "name": "stderr",
     "output_type": "stream",
     "text": [
      "100%|██████████| 124/124 [00:44<00:00,  2.76it/s]\n"
     ]
    },
    {
     "name": "stdout",
     "output_type": "stream",
     "text": [
      "Epoch 4 Loss: 2.2160379982763723\n"
     ]
    },
    {
     "name": "stderr",
     "output_type": "stream",
     "text": [
      "100%|██████████| 124/124 [00:45<00:00,  2.75it/s]\n"
     ]
    },
    {
     "name": "stdout",
     "output_type": "stream",
     "text": [
      "Epoch 5 Loss: 2.1829415713587115\n"
     ]
    },
    {
     "name": "stderr",
     "output_type": "stream",
     "text": [
      "100%|██████████| 124/124 [00:44<00:00,  2.77it/s]\n"
     ]
    },
    {
     "name": "stdout",
     "output_type": "stream",
     "text": [
      "Epoch 6 Loss: 2.152017826034177\n"
     ]
    },
    {
     "name": "stderr",
     "output_type": "stream",
     "text": [
      "100%|██████████| 124/124 [00:45<00:00,  2.74it/s]\n"
     ]
    },
    {
     "name": "stdout",
     "output_type": "stream",
     "text": [
      "Epoch 7 Loss: 2.124942881445731\n"
     ]
    },
    {
     "name": "stderr",
     "output_type": "stream",
     "text": [
      "100%|██████████| 124/124 [00:45<00:00,  2.75it/s]\n"
     ]
    },
    {
     "name": "stdout",
     "output_type": "stream",
     "text": [
      "Epoch 8 Loss: 2.0978832167963826\n"
     ]
    },
    {
     "name": "stderr",
     "output_type": "stream",
     "text": [
      "100%|██████████| 124/124 [00:45<00:00,  2.75it/s]\n"
     ]
    },
    {
     "name": "stdout",
     "output_type": "stream",
     "text": [
      "Epoch 9 Loss: 2.071246110623883\n"
     ]
    },
    {
     "name": "stderr",
     "output_type": "stream",
     "text": [
      "100%|██████████| 124/124 [00:44<00:00,  2.77it/s]\n"
     ]
    },
    {
     "name": "stdout",
     "output_type": "stream",
     "text": [
      "Epoch 10 Loss: 2.048026729014612\n"
     ]
    },
    {
     "name": "stderr",
     "output_type": "stream",
     "text": [
      "100%|██████████| 124/124 [00:44<00:00,  2.76it/s]\n"
     ]
    },
    {
     "name": "stdout",
     "output_type": "stream",
     "text": [
      "Epoch 11 Loss: 2.0237581287660906\n"
     ]
    },
    {
     "name": "stderr",
     "output_type": "stream",
     "text": [
      "100%|██████████| 124/124 [00:45<00:00,  2.75it/s]\n"
     ]
    },
    {
     "name": "stdout",
     "output_type": "stream",
     "text": [
      "Epoch 12 Loss: 1.999888026906598\n"
     ]
    },
    {
     "name": "stderr",
     "output_type": "stream",
     "text": [
      "100%|██████████| 124/124 [00:44<00:00,  2.77it/s]\n"
     ]
    },
    {
     "name": "stdout",
     "output_type": "stream",
     "text": [
      "Epoch 13 Loss: 1.9771471811879067\n"
     ]
    },
    {
     "name": "stderr",
     "output_type": "stream",
     "text": [
      "100%|██████████| 124/124 [00:45<00:00,  2.75it/s]\n"
     ]
    },
    {
     "name": "stdout",
     "output_type": "stream",
     "text": [
      "Epoch 14 Loss: 1.9541971241274187\n"
     ]
    },
    {
     "name": "stderr",
     "output_type": "stream",
     "text": [
      "100%|██████████| 124/124 [00:44<00:00,  2.77it/s]\n"
     ]
    },
    {
     "name": "stdout",
     "output_type": "stream",
     "text": [
      "Epoch 15 Loss: 1.9304241413070309\n"
     ]
    },
    {
     "name": "stderr",
     "output_type": "stream",
     "text": [
      "100%|██████████| 124/124 [00:44<00:00,  2.77it/s]\n"
     ]
    },
    {
     "name": "stdout",
     "output_type": "stream",
     "text": [
      "Epoch 16 Loss: 1.9077423916709038\n"
     ]
    },
    {
     "name": "stderr",
     "output_type": "stream",
     "text": [
      "100%|██████████| 124/124 [00:44<00:00,  2.78it/s]\n"
     ]
    },
    {
     "name": "stdout",
     "output_type": "stream",
     "text": [
      "Epoch 17 Loss: 1.8837462855923561\n"
     ]
    },
    {
     "name": "stderr",
     "output_type": "stream",
     "text": [
      "100%|██████████| 124/124 [00:44<00:00,  2.76it/s]\n"
     ]
    },
    {
     "name": "stdout",
     "output_type": "stream",
     "text": [
      "Epoch 18 Loss: 1.8604084003356196\n"
     ]
    },
    {
     "name": "stderr",
     "output_type": "stream",
     "text": [
      "100%|██████████| 124/124 [00:44<00:00,  2.78it/s]\n"
     ]
    },
    {
     "name": "stdout",
     "output_type": "stream",
     "text": [
      "Epoch 19 Loss: 1.8351659409461483\n"
     ]
    },
    {
     "name": "stderr",
     "output_type": "stream",
     "text": [
      "100%|██████████| 124/124 [00:45<00:00,  2.74it/s]"
     ]
    },
    {
     "name": "stdout",
     "output_type": "stream",
     "text": [
      "Epoch 20 Loss: 1.8091837004307778\n"
     ]
    },
    {
     "name": "stderr",
     "output_type": "stream",
     "text": [
      "\n"
     ]
    }
   ],
   "source": [
    "optimizer = optim.Adam(phonetics_model.parameters(), lr = 0.0001)\n",
    "criterion = nn.CrossEntropyLoss(ignore_index=vocab.get(\"[PAD]\"))\n",
    "EPOCHS = 20\n",
    "\n",
    "for epoch in range(EPOCHS):\n",
    "    phonetics_model.train()\n",
    "    total_loss = 0\n",
    "\n",
    "    for i, (input_ids, target_ids) in tqdm(enumerate(dataloader), total=len(dataloader)):\n",
    "        input_ids = input_ids.to(device)\n",
    "        target_ids = target_ids.to(device)\n",
    "        optimizer.zero_grad()\n",
    "        tgt_mask = generate_square_subsequent_mask(input_ids.size(1)).to(device)\n",
    "\n",
    "        output = phonetics_model(input_ids, tgt_mask = tgt_mask)\n",
    "        loss = criterion(output.view(-1, len(vocab)), target_ids.contiguous().view(-1))\n",
    "        loss.backward()\n",
    "        optimizer.step()\n",
    "        \n",
    "        total_loss += loss.item()\n",
    "\n",
    "    print(f\"Epoch {epoch + 1} Loss: {total_loss / len(dataloader)}\")"
   ]
  },
  {
   "cell_type": "code",
   "execution_count": 43,
   "metadata": {},
   "outputs": [],
   "source": [
    "def generate_text(model, max_length = 100, start_token = \"[CLS]\", start_seq = [], end_token = \"[EOS]\", temperature = 2.0, p = 0.9):\n",
    "    generated_sequence = [start_token]\n",
    "    generated_sequence.extend(start_seq)\n",
    "    for _ in range(max_length - len(generated_sequence)):\n",
    "        input_ids = torch.tensor([generated_sequence], dtype=torch.long).to(device)\n",
    "        tgt_mask = generate_square_subsequent_mask(input_ids.size(1)).to(device)\n",
    "\n",
    "        with torch.no_grad():\n",
    "            output = model(input_ids, tgt_mask=tgt_mask)\n",
    "\n",
    "        next_token_logits = output[0, len(generated_sequence ) - 1, :] / temperature\n",
    "        probs = torch.nn.functional.softmax(next_token_logits, dim=-1)\n",
    "        sorted_probs, sorted_indices = torch.sort(probs, descending=True)\n",
    "        cum_prob = torch.cumsum(sorted_probs, dim=-1)\n",
    "        cutoff_index = torch.searchsorted(cum_prob, p)\n",
    "\n",
    "        sorted_probs = sorted_probs[:cutoff_index + 1]\n",
    "        sorted_indices = sorted_indices[:cutoff_index + 1]\n",
    "\n",
    "        next_token_id = sorted_indices[torch.multinomial(sorted_probs, num_samples=1)].item()\n",
    "        generated_sequence.append(next_token_id)\n",
    "\n",
    "        if next_token_id == end_token:\n",
    "            break \n",
    "\n",
    "    return generated_sequence"
   ]
  },
  {
   "cell_type": "code",
   "execution_count": 47,
   "metadata": {},
   "outputs": [
    {
     "name": "stdout",
     "output_type": "stream",
     "text": [
      "\n",
      "\n",
      "ː(ːˌˈ.i.iuː.buːˈn.ə..əʊə.ˈs..əˈdəˌˈ.kˈbɛ.p.ə.d.buː.l..n.n.mɛˈdʌə.bɹəuː.ː..n.ɹ..plʌəb.buː.m)ˈbɔbɑː.\n",
      "ɪˈˈˈənɒsnnˌɪɪˈn.ɪˈsə.ˈt.k.t(ʊn.ə(ɪnˈn.n(ɪsəsdəːnɪˈp.ə(ɹɪ.ɪmə.ə.ˈsnɪ.ˈn.ˈ..s.t.ɪn)s.əʊˈm ˈn.maɪəˈ\n",
      "\n",
      "əɹtːdɹːbˈkɹɪəə(ɹiːˈˌɹiːˈdjɹ)ʊ(ʊːɹɔːɹːɹ)əʊə)ɹː(ɹ)ˈ\n",
      "ɛŋŋɛʌsɛ.tɛsttɪstɪssstɪd.daɪntænssɪ.ttɪtʊteɪsnnsˈtˈmɪktɪsp.sˈpd͡sˌts.tɛnt.tə.sɪnt ˈdssˈsˈn ətɪntppˌ\n",
      "\n",
      "\n",
      "ŋ.ʌŋ.ə.s..ə.n.ə..ˈɪd..d....n.s.kɑː.əˈdɪˈm.ə.ə.ˈmæs.m.s.nə.ˈ.t.n.əˈˈp..d͡ʃən.stɪə.ˈb(æ.mʌəˈb.t.ə.dɪ\n"
     ]
    }
   ],
   "source": [
    "for _ in range(0, 10):\n",
    "    test = generate_text(phonetics_model, start_token=0, end_token=vocab[\"[SEP]\"], temperature = 1.2, p = 0.8)\n",
    "    print(pronunciation_tokenizer.decode(test[1:-1]))"
   ]
  },
  {
   "cell_type": "code",
   "execution_count": null,
   "metadata": {},
   "outputs": [],
   "source": []
  }
 ],
 "metadata": {
  "kernelspec": {
   "display_name": "agienv",
   "language": "python",
   "name": "python3"
  },
  "language_info": {
   "codemirror_mode": {
    "name": "ipython",
    "version": 3
   },
   "file_extension": ".py",
   "mimetype": "text/x-python",
   "name": "python",
   "nbconvert_exporter": "python",
   "pygments_lexer": "ipython3",
   "version": "3.12.4"
  },
  "orig_nbformat": 4
 },
 "nbformat": 4,
 "nbformat_minor": 2
}
