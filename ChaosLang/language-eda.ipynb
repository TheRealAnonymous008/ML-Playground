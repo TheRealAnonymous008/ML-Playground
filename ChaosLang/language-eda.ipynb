{
 "cells": [
  {
   "cell_type": "code",
   "execution_count": 133,
   "metadata": {},
   "outputs": [
    {
     "name": "stdout",
     "output_type": "stream",
     "text": [
      "The autoreload extension is already loaded. To reload it, use:\n",
      "  %reload_ext autoreload\n"
     ]
    }
   ],
   "source": [
    "%load_ext autoreload\n",
    "%autoreload 2\n",
    "\n",
    "import pandas as pd\n",
    "import numpy as np\n",
    "from languages import LANGUAGES"
   ]
  },
  {
   "cell_type": "code",
   "execution_count": 134,
   "metadata": {},
   "outputs": [],
   "source": [
    "loaded_df = pd.read_csv(\"English_Processed.csv\")"
   ]
  },
  {
   "cell_type": "markdown",
   "metadata": {},
   "source": [
    "## Phonetic Inventory"
   ]
  },
  {
   "cell_type": "code",
   "execution_count": 135,
   "metadata": {},
   "outputs": [
    {
     "name": "stdout",
     "output_type": "stream",
     "text": [
      "125938\n"
     ]
    }
   ],
   "source": [
    "print(len(loaded_df))"
   ]
  },
  {
   "cell_type": "code",
   "execution_count": 136,
   "metadata": {},
   "outputs": [],
   "source": [
    "# Extract the list of pronunciations\n",
    "pronunciation_list = []\n",
    "for p in loaded_df['pronunciation']:\n",
    "    pronunciation_list.append(str(p))"
   ]
  },
  {
   "cell_type": "code",
   "execution_count": 137,
   "metadata": {},
   "outputs": [
    {
     "name": "stdout",
     "output_type": "stream",
     "text": [
      "125938\n"
     ]
    }
   ],
   "source": [
    "print(len(pronunciation_list))"
   ]
  },
  {
   "cell_type": "code",
   "execution_count": 138,
   "metadata": {},
   "outputs": [],
   "source": [
    "# Print a histogram of the different symbols\n",
    "symbols_hist = {}\n",
    "\n",
    "for P in pronunciation_list:\n",
    "    # Make use of only the narrow transcriptions.\n",
    "    for x in P:\n",
    "        if x in symbols_hist.keys():\n",
    "            symbols_hist[x] += 1\n",
    "        else:\n",
    "            symbols_hist[x] = 1  \n",
    "\n",
    "# Sort the symbols \n",
    "symbols = sorted(symbols_hist, key = lambda x: symbols_hist[x], reverse = True)"
   ]
  },
  {
   "cell_type": "code",
   "execution_count": 139,
   "metadata": {},
   "outputs": [
    {
     "name": "stdout",
     "output_type": "stream",
     "text": [
      "['̃', 'ɐ', 'ʔ', 'ʉ', 'ɘ', 'x', 'ʍ', '̥', '‿', '̠', 'ɨ', '̚', '˦', '̈', '˨', '̪', 'ʷ', 'ä', '˧', 'ɵ', '̞', '̊', 'ʁ', '̆', 'ɬ', 'ˑ', '˩', 'ɱ', 'ɯ', '˞', '̟', 'y', '~', '˥', 'ç', 'ø', 'ʈ', 'ɻ', '˔', '̬', 'ʲ', '̝', 'ɖ', 'œ', 'ˀ', 'ʱ', 'ɕ', 'ɲ', 'ɸ', 'ʏ', 'ᵊ', 'ʋ', 'χ', 'ẽ', 'ĩ', '‖', 'õ', 'ˤ', 'ũ', '̰', 'ɦ', 'ʼ', 'c', '|', 'ã', 'ɣ', 'ǀ', 'ⁿ', '̍', '²', 'ɳ', 'β', 'ŏ', 'q', 'ɞ', 'ˠ', 'ɤ', 'ɟ', 'ᵈ', '⁵', 'ǃ', '͜', 'ʙ', 'ħ', 'ă', 'ɭ', '̀', 'ʀ', 'ʎ', '↓', '¹', '̙', 'ï', '᷈', 'ā', 'á', 'ʟ', \"'\", 'ö', 'ʘ', 'ˡ', 'ᵻ', 'ǁ', 'ĭ', 'ŭ', 'ɥ', 'ɴ', 'ɓ', '̜', '˗', '͇', 'ü', 'ʝ', '³', '⁰', 'ʐ', 'ḿ', '↗', '︎', 'ʬ', '…', '́', 'ì', 'ó', '̘', 'ō', '*', 'ʂ', '⁴', 'ɽ', '̽', 'à', 'ò', 'ʩ', '𐞪']\n"
     ]
    }
   ],
   "source": [
    "total = np.sum(list(symbols_hist.values()))\n",
    "rare_symbols = []\n",
    "uni_percent = 1/len(symbols_hist)\n",
    "for x in symbols:\n",
    "    percent = symbols_hist[x] / total * 100\n",
    "    zipf_factor = percent / (symbols_hist[symbols[0]] / total * 100)  \n",
    "    if (zipf_factor < uni_percent):\n",
    "        rare_symbols.append(x)\n",
    "        \n",
    "print(rare_symbols) "
   ]
  },
  {
   "cell_type": "code",
   "execution_count": 140,
   "metadata": {},
   "outputs": [],
   "source": [
    "# Remove entries with rare symbols from the dataset\n",
    "final_list = []\n",
    "for p in pronunciation_list:\n",
    "    x : str = p\n",
    "    banned = False\n",
    "    for rare in rare_symbols:\n",
    "        if x.find(rare) >= 0: \n",
    "            banned = True \n",
    "            break \n",
    "\n",
    "    if not banned:\n",
    "        final_list.append(x)"
   ]
  },
  {
   "cell_type": "code",
   "execution_count": 141,
   "metadata": {},
   "outputs": [
    {
     "name": "stdout",
     "output_type": "stream",
     "text": [
      "122576\n"
     ]
    }
   ],
   "source": [
    "pronunciation_list = final_list\n",
    "print(len(pronunciation_list))"
   ]
  },
  {
   "cell_type": "code",
   "execution_count": 142,
   "metadata": {},
   "outputs": [
    {
     "name": "stdout",
     "output_type": "stream",
     "text": [
      "ˈ\n",
      "ə\n",
      "ɪ\n",
      "t\n",
      "n\n",
      ".\n",
      "s\n",
      "ɹ\n",
      "l\n",
      "k\n",
      "d\n",
      "ː\n",
      "i\n",
      "m\n",
      "ʊ\n",
      "ˌ\n",
      "p\n",
      "ɛ\n",
      "æ\n",
      "b\n",
      "a\n",
      "ɑ\n",
      "e\n",
      "f\n",
      "z\n",
      "ʃ\n",
      "ɡ\n",
      "ɔ\n",
      "u\n",
      "ɒ\n",
      "(\n",
      ")\n",
      "v\n",
      "o\n",
      "ʌ\n",
      " \n",
      "͡\n",
      "j\n",
      "ʒ\n",
      "w\n",
      "ŋ\n",
      "h\n",
      "ɚ\n",
      "θ\n",
      "-\n",
      "ɜ\n",
      "̩\n",
      "ɝ\n",
      "r\n",
      "ð\n",
      "ɾ\n",
      "̯\n",
      "ɫ\n",
      "ʰ\n",
      "̃\n",
      "ɐ\n",
      "ʔ\n",
      "ʉ\n",
      "ɘ\n",
      "x\n",
      "ʍ\n",
      "̥\n",
      "‿\n",
      "̠\n",
      "ɨ\n",
      "̚\n",
      "˦\n",
      "̈\n",
      "˨\n",
      "̪\n",
      "ʷ\n",
      "ä\n",
      "˧\n",
      "ɵ\n",
      "̞\n",
      "̊\n",
      "ʁ\n",
      "̆\n",
      "ɬ\n",
      "ˑ\n",
      "˩\n",
      "ɱ\n",
      "ɯ\n",
      "˞\n",
      "̟\n",
      "y\n",
      "~\n",
      "˥\n",
      "ç\n",
      "ø\n",
      "ʈ\n",
      "ɻ\n",
      "˔\n",
      "̬\n",
      "ʲ\n",
      "̝\n",
      "ɖ\n",
      "œ\n",
      "ˀ\n",
      "ʱ\n",
      "ɕ\n",
      "ɲ\n",
      "ɸ\n",
      "ʏ\n",
      "ᵊ\n",
      "ʋ\n",
      "χ\n",
      "ẽ\n",
      "ĩ\n",
      "‖\n",
      "õ\n",
      "ˤ\n",
      "ũ\n",
      "̰\n",
      "ɦ\n",
      "ʼ\n",
      "c\n",
      "|\n",
      "ã\n",
      "ɣ\n",
      "ǀ\n",
      "ⁿ\n",
      "̍\n",
      "²\n",
      "ɳ\n",
      "β\n",
      "ŏ\n",
      "q\n",
      "ɞ\n",
      "ˠ\n",
      "ɤ\n",
      "ɟ\n",
      "ᵈ\n",
      "⁵\n",
      "ǃ\n",
      "͜\n",
      "ʙ\n",
      "ħ\n",
      "ă\n",
      "ɭ\n",
      "̀\n",
      "ʀ\n",
      "ʎ\n",
      "↓\n",
      "¹\n",
      "̙\n",
      "ï\n",
      "᷈\n",
      "ā\n",
      "á\n",
      "ʟ\n",
      "'\n",
      "ö\n",
      "ʘ\n",
      "ˡ\n",
      "ᵻ\n",
      "ǁ\n",
      "ĭ\n",
      "ŭ\n",
      "ɥ\n",
      "ɴ\n",
      "ɓ\n",
      "̜\n",
      "˗\n",
      "͇\n",
      "ü\n",
      "ʝ\n",
      "³\n",
      "⁰\n",
      "ʐ\n",
      "ḿ\n",
      "↗\n",
      "︎\n",
      "ʬ\n",
      "…\n",
      "́\n",
      "ì\n",
      "ó\n",
      "̘\n",
      "ō\n",
      "*\n",
      "ʂ\n",
      "⁴\n",
      "ɽ\n",
      "̽\n",
      "à\n",
      "ò\n",
      "ʩ\n",
      "𐞪\n"
     ]
    }
   ],
   "source": [
    "for s in symbols:\n",
    "    if s == \"/\" or s == \"[\" or s == \"]\":\n",
    "        continue \n",
    "    print(s)"
   ]
  },
  {
   "cell_type": "code",
   "execution_count": 143,
   "metadata": {},
   "outputs": [
    {
     "name": "stdout",
     "output_type": "stream",
     "text": [
      "189\n"
     ]
    }
   ],
   "source": [
    "print(len(symbols))"
   ]
  },
  {
   "cell_type": "markdown",
   "metadata": {},
   "source": [
    "# Tokenizer"
   ]
  },
  {
   "cell_type": "code",
   "execution_count": 144,
   "metadata": {},
   "outputs": [],
   "source": [
    "from tokenizers import Tokenizer, models, processors, decoders\n",
    "import pandas as pd \n",
    "import numpy as np\n",
    "from languages import LANGUAGES"
   ]
  },
  {
   "cell_type": "code",
   "execution_count": 145,
   "metadata": {},
   "outputs": [
    {
     "data": {
      "text/html": [
       "<div>\n",
       "<style scoped>\n",
       "    .dataframe tbody tr th:only-of-type {\n",
       "        vertical-align: middle;\n",
       "    }\n",
       "\n",
       "    .dataframe tbody tr th {\n",
       "        vertical-align: top;\n",
       "    }\n",
       "\n",
       "    .dataframe thead th {\n",
       "        text-align: right;\n",
       "    }\n",
       "</style>\n",
       "<table border=\"1\" class=\"dataframe\">\n",
       "  <thead>\n",
       "    <tr style=\"text-align: right;\">\n",
       "      <th></th>\n",
       "      <th>Unnamed: 0</th>\n",
       "      <th>pronunciation</th>\n",
       "      <th>word</th>\n",
       "      <th>language</th>\n",
       "    </tr>\n",
       "  </thead>\n",
       "  <tbody>\n",
       "    <tr>\n",
       "      <th>0</th>\n",
       "      <td>0</td>\n",
       "      <td>pəˈsɛnt</td>\n",
       "      <td>%</td>\n",
       "      <td>English</td>\n",
       "    </tr>\n",
       "    <tr>\n",
       "      <th>1</th>\n",
       "      <td>1</td>\n",
       "      <td>pɚˈsɛnt</td>\n",
       "      <td>%</td>\n",
       "      <td>English</td>\n",
       "    </tr>\n",
       "    <tr>\n",
       "      <th>2</th>\n",
       "      <td>2</td>\n",
       "      <td>kʊŋ</td>\n",
       "      <td>!kung</td>\n",
       "      <td>English</td>\n",
       "    </tr>\n",
       "    <tr>\n",
       "      <th>3</th>\n",
       "      <td>3</td>\n",
       "      <td>ǃkʊŋ</td>\n",
       "      <td>!kung</td>\n",
       "      <td>English</td>\n",
       "    </tr>\n",
       "    <tr>\n",
       "      <th>4</th>\n",
       "      <td>4</td>\n",
       "      <td>ænd lɪt</td>\n",
       "      <td>&amp;lit</td>\n",
       "      <td>English</td>\n",
       "    </tr>\n",
       "  </tbody>\n",
       "</table>\n",
       "</div>"
      ],
      "text/plain": [
       "   Unnamed: 0 pronunciation   word language\n",
       "0           0       pəˈsɛnt      %  English\n",
       "1           1       pɚˈsɛnt      %  English\n",
       "2           2           kʊŋ  !kung  English\n",
       "3           3          ǃkʊŋ  !kung  English\n",
       "4           4       ænd lɪt   &lit  English"
      ]
     },
     "execution_count": 145,
     "metadata": {},
     "output_type": "execute_result"
    }
   ],
   "source": [
    "loaded_df = pd.read_csv(\"English_Processed.csv\")\n",
    "loaded_df.head()"
   ]
  },
  {
   "cell_type": "code",
   "execution_count": 146,
   "metadata": {},
   "outputs": [],
   "source": [
    "from solution import CharacterTokenizer, PhoneticTransformer, generate_square_subsequent_mask, PhoneticsDataset\n",
    "import torch\n",
    "import torch.optim as optim\n",
    "import torch.nn as nn\n",
    "from torch.utils.data import DataLoader\n",
    "from tqdm import tqdm\n",
    "import matplotlib.pyplot as plt"
   ]
  },
  {
   "cell_type": "code",
   "execution_count": 147,
   "metadata": {},
   "outputs": [
    {
     "name": "stdout",
     "output_type": "stream",
     "text": [
      "10007\n"
     ]
    }
   ],
   "source": [
    "from tokenizers import Tokenizer, AddedToken\n",
    "from tokenizers.trainers import WordPieceTrainer\n",
    "\n",
    "pronunciation_tokenizer = Tokenizer(models.WordPiece(unk_token=\"[UNK]\"))\n",
    "pronunciation_tokenizer.train_from_iterator(pronunciation_list, WordPieceTrainer(vocab_size=200))\n",
    "pronunciation_tokenizer.add_special_tokens([\n",
    "    \"[BOS]\", \"[EOS]\", \"[SEP]\", \"[PAD]\", \"[MASK]\", \"[UNK]\", \"[CLS]\"\n",
    "    ])\n",
    "pronunciation_tokenizer.post_processor = processors.TemplateProcessing(\n",
    "    single = f\"[CLS]:0 $A:0 [SEP]:0\",\n",
    "    pair = f\"[CLS]:0 $A:0 [SEP]:0 $B:1 [SEP]:1\",\n",
    "    special_tokens=[(\"[CLS]\", pronunciation_tokenizer.get_vocab()[\"[CLS]\"]),\n",
    "                    (\"[SEP]\", pronunciation_tokenizer.get_vocab()[\"[SEP]\"])\n",
    "    ]\n",
    ")\n",
    "pronunciation_tokenizer.decoder = decoders.WordPiece()\n",
    "vocab = pronunciation_tokenizer.get_vocab()\n",
    "print(len(vocab))"
   ]
  },
  {
   "cell_type": "code",
   "execution_count": 148,
   "metadata": {},
   "outputs": [
    {
     "name": "stdout",
     "output_type": "stream",
     "text": [
      "cuda 10007\n"
     ]
    }
   ],
   "source": [
    "device = torch.device(\"cuda\" if torch.cuda.is_available() else \"cpu\")\n",
    "print(device, len(vocab))"
   ]
  },
  {
   "cell_type": "code",
   "execution_count": 149,
   "metadata": {},
   "outputs": [],
   "source": [
    "dataset = []\n",
    "for p in pronunciation_list:\n",
    "    tok = pronunciation_tokenizer.encode(p)\n",
    "    row = []\n",
    "    for t in tok.ids: \n",
    "        row.append(t)\n",
    "        # dataset.append(row.copy())      \n",
    "    dataset.append(row)"
   ]
  },
  {
   "cell_type": "code",
   "execution_count": 150,
   "metadata": {},
   "outputs": [
    {
     "name": "stdout",
     "output_type": "stream",
     "text": [
      "5.17491189139799 8.0 1.3558766139235021\n",
      "3 27\n"
     ]
    },
    {
     "data": {
      "text/plain": [
       "(array([2.7770e+03, 4.0478e+04, 4.0796e+04, 2.1949e+04, 9.9370e+03,\n",
       "        3.8290e+03, 1.5570e+03, 6.0800e+02, 2.8300e+02, 1.6100e+02,\n",
       "        6.4000e+01, 5.0000e+01, 2.9000e+01, 1.6000e+01, 8.0000e+00,\n",
       "        7.0000e+00, 7.0000e+00, 5.0000e+00, 4.0000e+00, 3.0000e+00,\n",
       "        0.0000e+00, 2.0000e+00, 1.0000e+00, 5.0000e+00]),\n",
       " array([ 3.,  4.,  5.,  6.,  7.,  8.,  9., 10., 11., 12., 13., 14., 15.,\n",
       "        16., 17., 18., 19., 20., 21., 22., 23., 24., 25., 26., 27.]),\n",
       " <BarContainer object of 24 artists>)"
      ]
     },
     "execution_count": 150,
     "metadata": {},
     "output_type": "execute_result"
    },
    {
     "data": {
      "image/png": "[encoded data removed]",
      "text/plain": [
       "<Figure size 640x480 with 1 Axes>"
      ]
     },
     "metadata": {},
     "output_type": "display_data"
    }
   ],
   "source": [
    "lengths = []\n",
    "for i in dataset: \n",
    "    lengths.append(len(i))\n",
    "\n",
    "print(np.mean(lengths), np.quantile(lengths, 0.975), np.std(lengths))\n",
    "print(np.min(lengths), np.max(lengths))\n",
    "plt.hist(lengths, np.max(lengths) - np.min(lengths))"
   ]
  },
  {
   "cell_type": "code",
   "execution_count": 151,
   "metadata": {},
   "outputs": [
    {
     "name": "stdout",
     "output_type": "stream",
     "text": [
      "119766\n"
     ]
    }
   ],
   "source": [
    "# Remove any outliers\n",
    "min_thresh = 3\n",
    "max_thresh = np.quantile(lengths, 0.975)\n",
    "\n",
    "work_set = []\n",
    "\n",
    "for p in dataset:\n",
    "    if len(p) >= min_thresh and len(p) <= max_thresh:\n",
    "        work_set.append(p)\n",
    "\n",
    "dataset = work_set\n",
    "\n",
    "print(len(dataset))"
   ]
  },
  {
   "cell_type": "code",
   "execution_count": 152,
   "metadata": {},
   "outputs": [
    {
     "name": "stdout",
     "output_type": "stream",
     "text": [
      "5.060768498572216 8.0 1.1090143012451683\n",
      "3 8\n"
     ]
    },
    {
     "data": {
      "text/plain": [
       "(array([ 2777., 40478., 40796., 21949., 13766.]),\n",
       " array([3., 4., 5., 6., 7., 8.]),\n",
       " <BarContainer object of 5 artists>)"
      ]
     },
     "execution_count": 152,
     "metadata": {},
     "output_type": "execute_result"
    },
    {
     "data": {
      "image/png": "[encoded data removed]",
      "text/plain": [
       "<Figure size 640x480 with 1 Axes>"
      ]
     },
     "metadata": {},
     "output_type": "display_data"
    }
   ],
   "source": [
    "lengths = []\n",
    "for i in dataset: \n",
    "    lengths.append(len(i))\n",
    "\n",
    "print(np.mean(lengths), np.quantile(lengths, 0.975), np.std(lengths))\n",
    "print(np.min(lengths), np.max(lengths))\n",
    "plt.hist(lengths, np.max(lengths) - np.min(lengths))"
   ]
  },
  {
   "cell_type": "code",
   "execution_count": 153,
   "metadata": {},
   "outputs": [],
   "source": [
    "SEQ_LEN = int(np.max(lengths))\n",
    "BATCH_SIZE = 1024"
   ]
  },
  {
   "cell_type": "code",
   "execution_count": 154,
   "metadata": {},
   "outputs": [
    {
     "name": "stdout",
     "output_type": "stream",
     "text": [
      "{63: 3127, 65: 2784, 78: 2631, 58: 2503, 72: 2345, 62: 2309, 70: 2224, 131: 1828, 80: 1812, 59: 1697, 81: 1637, 54: 1448, 56: 1299, 117: 1220, 109: 1178, 123: 1094, 75: 1039, 124: 1018, 113: 994, 61: 971, 146: 923, 92: 892, 158: 883, 127: 869, 136: 865, 95: 860, 140: 858, 84: 822, 149: 807, 108: 796, 148: 765, 137: 731, 93: 692, 87: 639, 114: 637, 100: 616, 64: 612, 21: 603, 14: 593, 142: 577, 122: 574, 284: 570, 37: 557, 177: 554, 154: 537, 208: 531, 150: 521, 110: 512, 116: 502, 67: 500, 175: 497, 120: 490, 198: 474, 162: 472, 9: 469, 134: 468, 169: 461, 42: 460, 179: 452, 18: 439, 223: 439, 216: 433, 119: 430, 167: 430, 271: 427, 71: 426, 112: 425, 315: 424, 196: 421, 202: 416, 300: 415, 238: 412, 77: 411, 219: 404, 184: 403, 329: 400, 249: 400, 115: 398, 144: 397, 181: 394, 350: 393, 125: 393, 82: 391, 244: 391, 130: 388, 250: 385, 344: 384, 330: 380, 94: 375, 206: 374, 91: 372, 193: 370, 24: 369, 360: 369, 165: 365, 139: 364, 310: 362, 322: 361, 361: 358, 156: 357, 431: 357, 143: 356, 781: 355, 180: 351, 229: 350, 2282: 345, 319: 344, 16: 344, 210: 341, 1300: 341, 218: 339, 152: 336, 201: 335, 20: 330, 296: 330, 40: 330, 452: 328, 170: 325, 176: 323, 199: 321, 10: 321, 23: 319, 236: 318, 379: 315, 163: 312, 191: 311, 369: 309, 243: 308, 185: 306, 376: 306, 221: 306, 2390: 302, 222: 302, 195: 301, 147: 301, 231: 300, 398: 298, 251: 297, 74: 295, 209: 294, 356: 293, 279: 293, 241: 292, 197: 291, 86: 289, 228: 289, 57: 286, 299: 285, 308: 284, 138: 282, 255: 280, 211: 280, 425: 278, 227: 277, 68: 275, 262: 275, 307: 274, 224: 273, 291: 271, 89: 270, 129: 270, 707: 268, 395: 268, 2512: 268, 12: 268, 7: 264, 305: 264, 459: 264, 273: 263, 99: 262, 128: 262, 405: 262, 367: 262, 270: 261, 15: 259, 339: 259, 298: 258, 312: 257, 160: 256, 253: 255, 248: 252, 311: 251, 207: 250, 414: 248, 276: 248, 380: 248, 205: 246, 448: 245, 403: 245, 234: 244, 294: 243, 410: 243, 419: 241, 1040: 240, 290: 239, 242: 239, 88: 239, 25: 238, 568: 238, 132: 238, 213: 235, 105: 235, 358: 234, 370: 234, 161: 234, 351: 234, 420: 233, 454: 232, 282: 232, 427: 232, 313: 231, 266: 230, 402: 230, 318: 230, 6: 230, 288: 230, 574: 229, 357: 228, 297: 228, 537: 228, 260: 227, 183: 226, 429: 226, 151: 225, 55: 225, 422: 222, 233: 222, 13: 221, 4183: 221, 546: 221, 69: 220, 366: 220, 263: 219, 408: 219, 387: 217, 436: 217, 626: 217, 378: 217, 492: 216, 385: 216, 192: 214, 280: 214, 648: 213, 467: 213, 439: 212, 159: 211, 559: 210, 417: 210, 268: 209, 321: 209, 352: 208, 309: 207, 337: 207, 481: 206, 286: 206, 272: 206, 691: 206, 3: 205, 359: 204, 386: 201, 189: 200, 460: 200, 335: 200, 375: 200, 256: 200, 232: 199, 341: 199, 539: 199, 190: 198, 633: 198, 76: 197, 6968: 196, 264: 196, 374: 196, 355: 195, 515: 195, 246: 193, 490: 193, 500: 193, 388: 192, 240: 192, 194: 191, 283: 190, 254: 190, 401: 189, 587: 189, 237: 189, 2176: 189, 336: 188, 301: 188, 744: 186, 850: 185, 560: 183, 557: 183, 489: 182, 348: 182, 381: 182, 513: 181, 53: 180, 349: 179, 914: 179, 342: 179, 710: 179, 441: 178, 607: 178, 178: 177, 8862: 177, 649: 177, 145: 177, 692: 177, 1387: 174, 486: 173, 520: 173, 47: 173, 787: 171, 187: 171, 488: 171, 785: 171, 316: 170, 79: 170, 259: 170, 475: 169, 407: 168, 118: 167, 324: 167, 362: 167, 727: 165, 642: 164, 400: 164, 566: 164, 347: 163, 647: 163, 438: 162, 811: 162, 121: 162, 225: 161, 2515: 161, 174: 160, 278: 160, 447: 160, 363: 158, 245: 158, 599: 158, 498: 157, 48: 157, 373: 157, 608: 157, 133: 156, 281: 156, 168: 156, 458: 156, 60: 155, 743: 155, 164: 155, 1467: 155, 765: 155, 326: 154, 392: 154, 391: 154, 580: 152, 462: 151, 397: 151, 2672: 151, 766: 150, 295: 149, 372: 148, 554: 148, 589: 148, 382: 148, 739: 147, 1989: 146, 676: 146, 605: 146, 804: 146, 3311: 145, 450: 145, 449: 145, 844: 145, 716: 145, 688: 144, 101: 144, 698: 144, 485: 143, 497: 143, 415: 143, 891: 143, 477: 143, 188: 143, 289: 142, 731: 142, 135: 142, 611: 141, 610: 141, 451: 140, 480: 140, 413: 140, 778: 140, 671: 140, 371: 139, 551: 139, 544: 139, 4185: 139, 561: 139, 760: 139, 83: 138, 478: 138, 524: 138, 665: 138, 34: 137, 182: 137, 96: 136, 1186: 136, 783: 136, 798: 135, 1149: 135, 501: 135, 173: 135, 655: 134, 3321: 134, 90: 134, 437: 134, 674: 134, 29: 133, 235: 133, 932: 133, 632: 132, 394: 132, 457: 132, 499: 131, 915: 131, 418: 131, 230: 130, 433: 130, 463: 130, 476: 130, 701: 130, 423: 129, 614: 129, 66: 129, 656: 129, 473: 129, 287: 129, 1087: 129, 302: 128, 257: 128, 277: 128, 364: 128, 103: 127, 849: 127, 1090: 126, 293: 125, 747: 125, 616: 125, 327: 125, 141: 125, 864: 124, 902: 124, 214: 124, 755: 124, 85: 124, 683: 124, 779: 124, 989: 124, 837: 124, 343: 123, 353: 123, 1085: 123, 696: 123, 6898: 123, 1099: 123, 800: 123, 153: 122, 314: 122, 495: 122, 368: 122, 797: 122, 320: 121, 292: 121, 594: 121, 399: 121, 416: 120, 507: 120, 623: 120, 845: 120, 471: 119, 923: 119, 483: 119, 1257: 119, 1252: 119, 411: 118, 576: 118, 532: 118, 2563: 118, 464: 117, 907: 117, 664: 117, 1260: 117, 1479: 117, 612: 117, 662: 117, 565: 117, 1231: 117, 543: 116, 217: 116, 600: 116, 516: 116, 472: 116, 482: 116, 338: 116, 659: 115, 1029: 115, 721: 114, 592: 114, 389: 114, 869: 114, 736: 114, 629: 113, 577: 113, 474: 113, 510: 113, 962: 113, 590: 113, 430: 113, 514: 112, 824: 112, 663: 112, 406: 112, 947: 112, 863: 112, 553: 112, 834: 112, 204: 112, 830: 112, 496: 111, 1299: 111, 697: 111, 842: 111, 752: 111, 1848: 111, 2513: 110, 393: 110, 265: 110, 540: 110, 728: 110, 865: 110, 556: 109, 555: 109, 843: 109, 949: 109, 107: 108, 26: 108, 832: 108, 597: 108, 618: 108, 1949: 108, 820: 108, 782: 108, 434: 107, 604: 107, 706: 107, 569: 107, 1685: 107, 883: 107, 466: 107, 803: 107, 677: 106, 285: 106, 340: 106, 898: 106, 493: 106, 929: 106, 508: 105, 805: 105, 583: 105, 470: 105, 835: 105, 8866: 105, 722: 105, 963: 105, 354: 105, 3594: 104, 528: 104, 426: 104, 1388: 104, 517: 104, 796: 104, 880: 104, 404: 104, 203: 103, 687: 103, 742: 103, 761: 103, 1050: 103, 732: 103, 738: 103, 693: 103, 667: 103, 1329: 103, 258: 102, 720: 102, 564: 102, 624: 102, 622: 102, 826: 102, 1344: 102, 8082: 102, 1621: 101, 584: 101, 931: 101, 1021: 101, 1466: 101, 641: 100, 412: 100, 684: 100, 506: 100, 912: 100, 396: 100, 4867: 100, 1104: 100, 526: 100, 1458: 100, 846: 100, 578: 100, 487: 99, 7806: 99, 328: 99, 527: 99, 38: 99, 32: 98, 1124: 98, 784: 98, 562: 98, 269: 98, 484: 98, 3058: 98, 11: 97, 628: 97, 777: 97, 825: 97, 873: 97, 1000: 97, 186: 97, 390: 96, 1645: 96, 686: 96, 1243: 96, 1746: 96, 521: 96, 822: 96, 491: 96, 704: 96, 261: 96, 1832: 96, 1376: 95, 155: 95, 3319: 95, 104: 95, 851: 95, 606: 95, 994: 95, 2094: 95, 681: 94, 758: 94, 325: 94, 699: 94, 1171: 94, 1646: 94, 858: 94, 2322: 94, 669: 93, 226: 93, 571: 93, 502: 93, 596: 93, 4247: 93, 586: 92, 602: 92, 987: 92, 504: 92, 786: 92, 827: 92, 690: 92, 1196: 92, 552: 92, 1546: 92, 839: 92, 545: 92, 1223: 92, 1606: 92, 1618: 92, 572: 91, 512: 91, 1193: 91, 511: 91, 630: 91, 943: 91, 3033: 91, 897: 90, 1059: 90, 435: 90, 1739: 90, 1472: 90, 172: 90, 821: 90, 239: 89, 8009: 89, 518: 89, 317: 89, 1548: 89, 675: 89, 456: 89, 2022: 89, 1782: 89, 751: 89, 432: 89, 1042: 89, 1002: 88, 377: 88, 6950: 88, 672: 88, 762: 87, 685: 87, 1114: 87, 1167: 87, 1648: 87, 2387: 87, 1033: 87, 1943: 87, 1238: 87, 1286: 86, 956: 86, 323: 86, 1298: 86, 525: 86, 6971: 86, 505: 86, 619: 86, 2654: 86, 1566: 85, 1036: 85, 879: 85, 1091: 85, 541: 85, 1262: 85, 1093: 85, 1119: 84, 819: 84, 875: 84, 5840: 84, 1345: 84, 792: 84, 636: 84, 1535: 84, 6553: 84, 1102: 84, 1163: 84, 942: 83, 679: 83, 1679: 83, 927: 83, 1638: 83, 694: 83, 670: 83, 1062: 83, 1135: 83, 3121: 83, 4999: 83, 874: 82, 1016: 82, 1012: 82, 1086: 82, 643: 82, 573: 82, 816: 82, 925: 82, 529: 82, 1220: 82, 1110: 82, 1123: 82, 997: 82, 2037: 81, 1270: 81, 1719: 81, 979: 81, 673: 81, 5393: 81, 1267: 81, 1031: 81, 1774: 81, 1469: 81, 2702: 81, 27: 81, 7174: 81, 2002: 81, 585: 80, 993: 80, 523: 80, 998: 80, 455: 80, 1810: 80, 960: 80, 646: 80, 1177: 80, 1165: 80, 6324: 80, 304: 80, 1026: 80, 2451: 80, 881: 80, 634: 80, 1190: 80, 944: 80, 1374: 80, 563: 80, 5118: 80, 1511: 80, 1911: 80, 1076: 80, 1728: 79, 212: 79, 740: 79, 854: 79, 3381: 79, 5351: 79, 1241: 79, 582: 79, 1239: 79, 445: 79, 1154: 79, 4378: 79, 1077: 79, 1111: 78, 812: 78, 627: 78, 959: 78, 421: 78, 1004: 78, 1018: 78, 444: 78, 733: 78, 705: 78, 840: 78, 1121: 78, 1517: 78, 860: 78, 3094: 78, 303: 78, 975: 78, 4372: 78, 1272: 78, 1044: 78, 1889: 78, 1752: 77, 717: 77, 937: 77, 1824: 77, 983: 77, 1175: 77, 1357: 77, 638: 77, 650: 77, 871: 77, 531: 77, 2075: 77, 1947: 77, 1015: 77, 776: 77, 967: 77, 5535: 77, 549: 77, 1216: 77, 1092: 77, 252: 76, 709: 76, 365: 76, 494: 76, 996: 76, 533: 76, 940: 76, 1580: 76, 6249: 76, 2976: 76, 4216: 76, 1721: 76, 1513: 76, 8769: 76, 8083: 76, 1201: 76, 598: 75, 443: 75, 1399: 75, 2035: 75, 7241: 75, 1030: 75, 6894: 75, 3954: 74, 1073: 74, 1115: 74, 538: 74, 657: 74, 1074: 74, 893: 74, 894: 74, 948: 74, 1498: 74, 981: 74, 461: 74, 603: 74, 2046: 74, 1643: 74, 660: 73, 4188: 73, 1501: 73, 866: 73, 976: 73, 754: 73, 106: 73, 1098: 73, 1057: 73, 1764: 73, 1261: 73, 770: 73, 8145: 73, 872: 73, 2263: 73, 645: 73, 680: 73, 1416: 73, 756: 73, 1209: 73, 593: 73, 1332: 72, 1236: 72, 9162: 72, 794: 72, 724: 72, 615: 72, 1744: 72, 1132: 72, 703: 72, 1053: 72, 661: 72, 2093: 72, 1234: 72, 1273: 72, 1829: 72, 1716: 72, 1278: 72, 1614: 71, 1324: 71, 1130: 71, 939: 71, 3020: 71, 1505: 71, 668: 71, 4681: 71, 1682: 71, 548: 71, 895: 71, 1291: 71, 1142: 71, 1275: 71, 2990: 71, 1095: 70, 1047: 70, 9079: 70, 1806: 70, 1256: 70, 6951: 70, 806: 70, 2222: 70, 275: 70, 1191: 70, 658: 70, 2842: 70, 1365: 70, 1455: 70, 1284: 70, 6925: 70, 1759: 70, 1281: 70, 1321: 69, 904: 69, 3305: 69, 763: 69, 980: 69, 1527: 69, 1265: 69, 909: 69, 1161: 69, 1335: 69, 1048: 69, 579: 69, 409: 69, 734: 69, 829: 69, 1028: 69, 567: 69, 1348: 69, 889: 69, 4688: 69, 2297: 69, 1271: 69, 1514: 69, 5572: 69, 6276: 69, 1818: 69, 2173: 69, 2230: 68, 999: 68, 764: 68, 916: 68, 966: 68, 44: 68, 1014: 68, 946: 68, 855: 68, 5128: 68, 995: 68, 920: 68, 3170: 68, 2118: 68, 1531: 68, 1263: 68, 1173: 68, 4364: 68, 1318: 68, 1315: 68, 1066: 68, 4152: 68, 8818: 67, 1023: 67, 2404: 67, 200: 67, 5587: 67, 1144: 67, 2850: 67, 581: 67, 1136: 67, 1307: 67, 2251: 67, 3168: 67, 4780: 67, 3172: 67, 1352: 67, 1337: 67, 8746: 67, 31: 66, 876: 66, 652: 66, 7304: 66, 773: 66, 4181: 66, 1449: 66, 1881: 66, 1394: 66, 1183: 66, 1227: 66, 1232: 66, 6746: 66, 1205: 65, 333: 65, 2371: 65, 1157: 65, 30: 65, 712: 65, 1341: 65, 1504: 65, 1160: 65, 1617: 65, 1419: 65, 5387: 65, 1336: 65, 1325: 65, 955: 65, 1555: 65, 4147: 65, 1454: 65, 653: 65, 3226: 65, 1423: 65, 1360: 65, 1155: 64, 1088: 64, 1873: 64, 884: 64, 985: 64, 870: 64, 6347: 64, 753: 64, 1431: 64, 913: 64, 1224: 64, 1340: 64, 2349: 64, 861: 64, 4822: 64, 2433: 64, 1134: 64, 8073: 64, 1003: 64, 2752: 64, 1487: 64, 6904: 64, 2255: 64, 1869: 63, 215: 63, 1381: 63, 1125: 63, 1309: 63, 749: 63, 711: 63, 737: 63, 992: 63, 1715: 63, 1108: 63, 644: 63, 890: 63, 9940: 63, 1742: 63, 1550: 63, 908: 63, 5519: 63, 1179: 63, 1397: 63, 2544: 63, 3834: 63, 1084: 62, 978: 62, 1432: 62, 8071: 62, 1145: 62, 1032: 62, 1221: 62, 767: 62, 972: 62, 965: 62, 911: 62, 1049: 62, 1433: 62, 791: 62, 5427: 62, 900: 62, 9654: 62, 9023: 62, 2325: 62, 4370: 62, 2250: 62, 2215: 62, 3447: 62, 1442: 62, 2619: 62, 3088: 62, 2216: 62, 1425: 62, 536: 61, 9320: 61, 453: 61, 6848: 61, 1017: 61, 892: 61, 1217: 61, 1103: 61, 1019: 61, 1187: 61, 1203: 61, 952: 61, 2558: 61, 1195: 61, 1468: 61, 1206: 61, 1198: 61, 1838: 61, 3960: 61, 1290: 61, 5783: 61, 2326: 61, 1495: 61, 1411: 61, 3918: 61, 1579: 61, 1553: 61, 2530: 61, 1403: 61, 1264: 61, 2543: 61, 1282: 61, 7928: 61, 2647: 61, 5516: 61, 2509: 61, 334: 61, 2366: 61, 1343: 60, 759: 60, 1064: 60, 2646: 60, 790: 60, 1396: 60, 1039: 60, 2356: 60, 1043: 60, 2396: 60, 1118: 60, 823: 60, 570: 60, 1981: 60, 1188: 60, 1561: 60, 2768: 60, 1207: 60, 1427: 60, 6855: 60, 2684: 60, 2523: 60, 1463: 60, 1641: 60, 5992: 60, 1199: 60, 2311: 60, 3937: 60, 2715: 60, 9236: 60, 3766: 59, 718: 59, 772: 59, 446: 59, 503: 59, 1138: 59, 1591: 59, 746: 59, 2852: 59, 8811: 59, 3567: 59, 2796: 59, 950: 59, 1669: 59, 2199: 59, 1898: 59, 3204: 59, 726: 58, 1005: 58, 1328: 58, 3604: 58, 2802: 58, 1140: 58, 2769: 58, 882: 58, 1056: 58, 817: 58, 789: 58, 1435: 58, 384: 58, 2324: 58, 2398: 58, 4144: 58, 2408: 58, 3479: 58, 6294: 58, 1490: 57, 2489: 57, 1293: 57, 1174: 57, 1450: 57, 1137: 57, 725: 57, 5145: 57, 1948: 57, 729: 57, 428: 57, 2309: 57, 617: 57, 853: 57, 4679: 57, 1477: 57, 1462: 57, 2435: 57, 1915: 57, 4279: 57, 1129: 57, 4271: 57, 2193: 57, 1628: 57, 1556: 57, 1034: 56, 750: 56, 1913: 56, 1545: 56, 1251: 56, 885: 56, 1060: 56, 1349: 56, 1369: 56, 631: 56, 1126: 56, 1821: 56, 640: 56, 1447: 56, 666: 56, 1266: 56, 1176: 56, 1982: 56, 852: 56, 678: 56, 1225: 56, 1045: 56, 933: 56, 601: 56, 2241: 56, 745: 56, 1434: 56, 1828: 56, 1342: 56, 6877: 56, 1438: 56, 1942: 56, 1326: 56, 1691: 56, 3922: 56, 971: 56, 6895: 56, 2184: 56, 2185: 56, 3271: 56, 8003: 56, 7277: 56, 1339: 55, 5600: 55, 1006: 55, 1192: 55, 4869: 55, 1632: 55, 922: 55, 1075: 55, 2336: 55, 1528: 55, 1615: 55, 3512: 55, 1518: 55, 2182: 55, 654: 55, 3855: 55, 2335: 55, 2298: 55, 1389: 55, 1554: 55, 1581: 55, 3490: 55, 1725: 55, 2881: 55, 7231: 55, 5001: 55, 2248: 55, 2003: 55, 1654: 55, 1918: 55, 4377: 55, 1398: 55, 613: 54, 6043: 54, 682: 54, 345: 54, 1258: 54, 1627: 54, 1054: 54, 969: 54, 2664: 54, 6051: 54, 2273: 54, 868: 54, 1139: 54, 5102: 54, 1208: 54, 4577: 54, 1985: 54, 3564: 54, 3745: 54, 2605: 54, 4142: 54, 1637: 54, 1631: 54, 1845: 54, 2995: 54, 8531: 54, 2984: 54, 901: 53, 2083: 53, 1762: 53, 1269: 53, 1214: 53, 4804: 53, 1116: 53, 5586: 53, 938: 53, 1280: 53, 934: 53, 7523: 53, 1147: 53, 702: 53, 2290: 53, 6348: 53, 1481: 53, 838: 53, 3193: 53, 1827: 53, 1542: 53, 1353: 53, 1730: 53, 6322: 53, 1758: 53, 1532: 53, 1407: 53, 1500: 53, 3491: 53, 6872: 53, 8108: 53, 4499: 53, 3923: 53, 3350: 53, 2789: 53, 2140: 53, 3796: 53, 1330: 53, 1586: 53, 2552: 52, 102: 52, 771: 52, 465: 52, 535: 52, 1350: 52, 1253: 52, 813: 52, 1101: 52, 1814: 52, 2883: 52, 1285: 52, 988: 52, 2865: 52, 2158: 52, 625: 52, 1408: 52, 4966: 52, 5033: 52, 1106: 52, 9042: 52, 4553: 52, 1530: 52, 3439: 52, 8259: 52, 1916: 52, 3276: 52, 1361: 52, 1655: 52, 3357: 52, 5534: 52, 1583: 52, 2155: 52, 1366: 52, 2982: 52, 2790: 52, 2143: 52, 3643: 52, 1001: 52, 4637: 51, 2819: 51, 522: 51, 2579: 51, 3529: 51, 1405: 51, 1603: 51, 1310: 51, 1128: 51, 1302: 51, 1803: 51, 815: 51, 2878: 51, 3890: 51, 3323: 51, 1061: 51, 1717: 51, 1998: 51, 1577: 51, 2291: 51, 2524: 51, 2426: 51, 2050: 51, 5823: 51, 1590: 51, 19: 51, 1813: 51, 4246: 51, 2936: 50, 1301: 50, 1081: 50, 1470: 50, 1953: 50, 331: 50, 1080: 50, 961: 50, 3005: 50, 1473: 50, 954: 50, 1046: 50, 808: 50, 8146: 50, 1218: 50, 3588: 50, 1020: 50, 1011: 50, 4143: 50, 1666: 50, 1063: 50, 1565: 50, 2624: 50, 5181: 50, 2439: 50, 1471: 50, 1737: 50, 1276: 50, 3208: 50, 1443: 50, 1592: 50, 2607: 50, 2150: 50, 1776: 50, 2567: 50, 2981: 50, 2096: 50, 4457: 50, 2164: 50, 45: 49, 918: 49, 1185: 49, 1885: 49, 1766: 49, 1417: 49, 1247: 49, 1569: 49, 968: 49, 1508: 49, 1534: 49, 1541: 49, 3223: 49, 3595: 49, 1459: 49, 1322: 49, 2156: 49, 1564: 49, 1430: 49, 1486: 49, 3546: 49, 1105: 49, 2086: 49, 1380: 49, 2843: 49, 730: 49, 936: 49, 1661: 49, 3016: 49, 2634: 49, 1660: 49, 1619: 49, 9997: 49, 1793: 49, 3747: 49, 2930: 49, 3740: 49, 2350: 49, 1488: 49, 1652: 49, 1653: 49, 1602: 49, 1960: 49, 1664: 49, 2265: 49, 3641: 49, 1611: 49, 1644: 49, 1796: 48, 1589: 48, 2078: 48, 1891: 48, 639: 48, 1771: 48, 741: 48, 1749: 48, 6105: 48, 534: 48, 1871: 48, 1013: 48, 1622: 48, 1204: 48, 1659: 48, 1830: 48, 2082: 48, 7833: 48, 1371: 48, 1543: 48, 991: 48, 8062: 48, 5773: 48, 6351: 48, 1412: 48, 1955: 48, 3359: 48, 3809: 48, 1694: 48, 2699: 48, 6027: 48, 2891: 48, 7715: 48, 5513: 48, 2877: 48, 3640: 48, 7723: 48, 1760: 47, 1588: 47, 700: 47, 828: 47, 768: 47, 1596: 47, 1120: 47, 1377: 47, 1560: 47, 1506: 47, 951: 47, 1440: 47, 6649: 47, 1906: 47, 8426: 47, 2017: 47, 1010: 47, 4361: 47, 1791: 47, 1897: 47, 1297: 47, 4648: 47, 7646: 47, 1480: 47, 6889: 47, 7665: 47, 1697: 47, 1822: 47, 1041: 46, 1843: 46, 1551: 46, 1356: 46, 3468: 46, 1279: 46, 899: 46, 1304: 46, 3961: 46, 1951: 46, 5445: 46, 5845: 46, 2593: 46, 1781: 46, 2039: 46, 6355: 46, 917: 46, 2073: 46, 2786: 46, 2098: 46, 1305: 46, 4135: 46, 1153: 46, 1571: 46, 8960: 46, 1917: 46, 9418: 46, 1696: 46, 1355: 46, 1143: 46, 3647: 46, 1798: 46, 2208: 46, 4510: 46, 2058: 46, 2006: 46, 3440: 46, 1777: 46, 3924: 46, 1670: 46, 1246: 46, 2692: 46, 2347: 46, 1751: 46, 2465: 46, 1089: 45, 3506: 45, 723: 45, 1346: 45, 8911: 45, 1127: 45, 1259: 45, 1795: 45, 1294: 45, 2339: 45, 2707: 45, 1503: 45, 4428: 45, 1702: 45, 4800: 45, 1146: 45, 1022: 45, 1872: 45, 1703: 45, 3116: 45, 1802: 45, 8213: 45, 5620: 45, 896: 45, 1587: 45, 1288: 45, 2994: 45, 1133: 45, 1483: 45, 4396: 45, 3755: 45, 1295: 45, 1600: 45, 5032: 45, 5338: 45, 1372: 45, 1765: 45, 2388: 45, 1698: 45, 1170: 45, 8863: 45, 3201: 45, 1131: 45, 4432: 45, 5503: 45, 5342: 45, 2186: 45, 1944: 45, 1539: 45, 3039: 45, 3391: 45, 3274: 45, 1831: 45, 1415: 45, 3921: 45, 8010: 45, 2556: 45, 1919: 45, 2137: 45, 9446: 45, 3286: 45, 1975: 45, 2949: 44, 1809: 44, 1482: 44, 1807: 44, 1164: 44, 1855: 44, 479: 44, 5616: 44, 1544: 44, 1585: 44, 1277: 44, 6571: 44, 7004: 44, 4278: 44, 1819: 44, 1413: 44, 3142: 44, 1359: 44, 714: 44, 2031: 44, 1769: 44, 8032: 44, 1166: 44, 3508: 44, 1937: 44, 1268: 44, 7838: 44, 5044: 44, 974: 44, 1815: 44, 1410: 44, 1406: 44, 5194: 44, 1912: 44, 1680: 44, 6260: 44, 1378: 44, 1797: 44, 6899: 44, 2109: 44, 2380: 44, 2172: 44, 7175: 44, 7307: 44, 3991: 44, 3480: 44, 2352: 44, 1974: 44, 1068: 43, 1962: 43, 5: 43, 2007: 43, 878: 43, 928: 43, 1745: 43, 8810: 43, 8064: 43, 7793: 43, 1804: 43, 708: 43, 1651: 43, 4415: 43, 1914: 43, 2979: 43, 886: 43, 1226: 43, 1180: 43, 4897: 43, 1426: 43, 2440: 43, 1156: 43, 1965: 43, 986: 43, 1761: 43, 1674: 43, 1255: 43, 1235: 43, 2694: 43, 1052: 43, 2045: 43, 1799: 43, 1860: 43, 9508: 43, 2780: 43, 1865: 43, 6258: 43, 4545: 43, 9169: 43, 2004: 43, 2327: 43, 8277: 43, 7067: 43, 8770: 43, 1850: 43, 1901: 43, 1414: 43, 2490: 43, 1189: 42, 558: 42, 2425: 42, 8840: 42, 5855: 42, 3315: 42, 1540: 42, 2170: 42, 1484: 42, 814: 42, 970: 42, 2431: 42, 346: 42, 774: 42, 1244: 42, 1474: 42, 935: 42, 958: 42, 5284: 42, 3912: 42, 3550: 42, 1866: 42, 1868: 42, 4156: 42, 2095: 42, 2781: 42, 4484: 42, 2536: 42, 4141: 42, 2382: 42, 1633: 42, 941: 42, 1900: 42, 1996: 42, 8738: 42, 1857: 42, 3375: 42, 2414: 42, 1572: 41, 1945: 41, 4140: 41, 2211: 41, 1904: 41, 799: 41, 867: 41, 3300: 41, 1956: 41, 5551: 41, 1757: 41, 2074: 41, 3516: 41, 1323: 41, 1756: 41, 1502: 41, 2175: 41, 1457: 41, 2134: 41, 3768: 41, 1878: 41, 945: 41, 1724: 41, 2275: 41, 1383: 41, 2236: 41, 3568: 41, 3334: 41, 8636: 41, 2918: 41, 1870: 41, 2985: 41, 3096: 41, 7677: 41, 9979: 41, 1924: 41, 4495: 41, 575: 41, 5950: 41, 1902: 41, 3224: 41, 2142: 41, 3632: 41, 2141: 41, 4019: 41, 1971: 41, 7107: 40, 1964: 40, 1024: 40, 2228: 40, 856: 40, 6983: 40, 810: 40, 1319: 40, 1647: 40, 1701: 40, 1568: 40, 3869: 40, 6972: 40, 2033: 40, 910: 40, 1379: 40, 3551: 40, 2392: 40, 1988: 40, 926: 40, 1097: 40, 247: 40, 2218: 40, 9397: 40, 1334: 40, 1707: 40, 1559: 40, 5504: 40, 2277: 40, 3022: 40, 1507: 40, 8821: 40, 4997: 40, 1678: 40, 1743: 40, 2163: 40, 2809: 40, 1094: 40, 2303: 40, 5131: 40, 2474: 40, 8684: 40, 2406: 40, 1899: 40, 6915: 40, 8551: 40, 9480: 40, 3986: 40, 2830: 40, 1456: 40, 1729: 40, 2026: 39, 2428: 39, 1650: 39, 635: 39, 2319: 39, 3871: 39, 442: 39, 1738: 39, 3231: 39, 3053: 39, 1516: 39, 1194: 39, 1065: 39, 2771: 39, 1159: 39, 1078: 39, 2124: 39, 2070: 39, 3999: 39, 1509: 39, 905: 39, 1096: 39, 5319: 39, 8022: 39, 2858: 39, 1316: 39, 1800: 39, 6376: 39, 7819: 39, 2821: 39, 2592: 39, 550: 39, 2059: 39, 1686: 39, 2693: 39, 306: 39, 1704: 39, 4691: 39, 2527: 39, 6891: 39, 2887: 39, 2749: 39, 2048: 39, 2021: 39, 2014: 39, 1740: 39, 2064: 39, 2411: 39, 5567: 39, 2615: 39, 1233: 38, 2174: 38, 1894: 38, 2479: 38, 1150: 38, 4039: 38, 1689: 38, 2052: 38, 1934: 38, 1820: 38, 1780: 38, 1608: 38, 4277: 38, 1382: 38, 795: 38, 1863: 38, 7123: 38, 1623: 38, 7288: 38, 2106: 38, 1314: 38, 1007: 38, 2713: 38, 2071: 38, 2991: 38, 3184: 38, 3762: 38, 1833: 38, 3616: 38, 1519: 38, 3820: 38, 973: 38, 2357: 38, 3298: 38, 5383: 38, 4747: 38, 1625: 38, 1601: 38, 4667: 38, 7230: 38, 2595: 38, 2650: 38, 5975: 38, 2065: 38, 2168: 38, 2384: 38, 2249: 38, 2122: 38, 8655: 38, 2054: 38, 2245: 38, 9980: 38, 3041: 38, 2055: 38, 6885: 38, 2301: 38, 4644: 38, 1620: 38, 1562: 38, 8708: 38, 4949: 38, 2467: 38, 1520: 38, 2320: 38, 2895: 38, 6247: 37, 3941: 37, 1327: 37, 1248: 37, 2286: 37, 2938: 37, 5238: 37, 1547: 37, 862: 37, 1966: 37, 5173: 37, 1100: 37, 4860: 37, 1801: 37, 6508: 37, 1658: 37, 1364: 37, 6366: 37, 3127: 37, 1237: 37, 1999: 37, 8374: 37, 8830: 37, 2099: 37, 1834: 37, 2862: 37, 1401: 37, 2492: 37, 1835: 37, 2279: 37, 5248: 37, 1529: 37, 8847: 37, 519: 37, 3010: 37, 1444: 37, 5410: 37, 2299: 37, 9345: 37, 4186: 37, 3281: 37, 1844: 37, 2422: 37, 2733: 37, 2306: 37, 3645: 37, 6490: 37, 4523: 37, 2246: 37, 2804: 37, 2296: 37, 3631: 37, 2782: 37, 2295: 37, 8319: 37, 3668: 37, 7717: 37, 2482: 37, 2483: 37, 903: 36, 4492: 36, 4871: 36, 2312: 36, 2027: 36, 5081: 36, 1961: 36, 2038: 36, 689: 36, 1461: 36, 588: 36, 1035: 36, 1775: 36, 1984: 36, 8297: 36, 1639: 36, 2906: 36, 809: 36, 6162: 36, 7812: 36, 1785: 36, 5690: 36, 1954: 36, 1478: 36, 5407: 36, 4232: 36, 2025: 36, 1722: 36, 1008: 36, 4814: 36, 2561: 36, 1772: 36, 887: 36, 1390: 36, 1354: 36, 2067: 36, 1465: 36, 651: 36, 2557: 36, 769: 36, 3701: 36, 8921: 36, 1612: 36, 1152: 36, 1158: 36, 2859: 36, 4138: 36, 3196: 36, 841: 36, 4632: 36, 3608: 36, 2970: 36, 1613: 36, 2119: 36, 3100: 36, 2146: 36, 5223: 36, 2145: 36, 2072: 36, 6261: 36, 2310: 36, 8047: 36, 2020: 36, 4014: 36, 2316: 36, 5124: 36, 4552: 36, 5920: 36, 3630: 36, 1846: 36, 2138: 36, 4880: 36, 6909: 36, 2178: 35, 2340: 35, 9438: 35, 4874: 35, 1229: 35, 2293: 35, 8: 35, 3471: 35, 2169: 35, 1250: 35, 1712: 35, 1274: 35, 1515: 35, 3464: 35, 3669: 35, 1986: 35, 2191: 35, 1938: 35, 2097: 35, 2212: 35, 2565: 35, 2259: 35, 4538: 35, 8154: 35, 5838: 35, 1485: 35, 2206: 35, 1162: 35, 780: 35, 2088: 35, 2961: 35, 7124: 35, 468: 35, 1576: 35, 5390: 35, 3914: 35, 977: 35, 2775: 35, 3911: 35, 2417: 35, 2669: 35, 2292: 35, 2237: 35, 1976: 35, 1536: 35, 2171: 35, 2330: 35, 2274: 35, 2620: 35, 5787: 35, 3573: 35, 5116: 35, 8707: 35, 3042: 35, 3661: 35, 4162: 35, 4324: 35, 1308: 35, 2121: 35, 9066: 35, 2049: 34, 1312: 34, 957: 34, 2391: 34, 2112: 34, 2689: 34, 1599: 34, 3659: 34, 2224: 34, 1851: 34, 2104: 34, 2181: 34, 2726: 34, 6334: 34, 1071: 34, 4189: 34, 1358: 34, 1245: 34, 2364: 34, 3454: 34, 7213: 34, 836: 34, 4179: 34, 1558: 34, 3455: 34, 8902: 34, 1197: 34, 5428: 34, 2272: 34, 1864: 34, 2313: 34, 1422: 34, 8040: 34, 1699: 34, 1905: 34, 4411: 34, 1384: 34, 1395: 34, 2261: 34, 4177: 34, 1817: 34, 2682: 34, 2053: 34, 1526: 34, 2091: 34, 4744: 34, 3083: 34, 2214: 34, 2167: 34, 4456: 34, 2434: 34, 4562: 34, 2267: 34, 1856: 34, 2135: 34, 4217: 34, 2851: 34, 8011: 34, 8649: 34, 2432: 34, 2304: 34, 5373: 34, 3579: 34, 2374: 34, 924: 34, 3091: 34, 2243: 34, 2242: 34, 3351: 34, 5015: 34, 8084: 34, 2120: 34, 9372: 34, 1862: 33, 5666: 33, 1446: 33, 4478: 33, 1668: 33, 1888: 33, 1363: 33, 2084: 33, 2213: 33, 1727: 33, 2028: 33, 1673: 33, 7254: 33, 2153: 33, 2507: 33, 3832: 33, 8952: 33, 2192: 33, 2116: 33, 4514: 33, 7476: 33, 801: 33, 1877: 33, 6963: 33, 6345: 33, 637: 33, 2590: 33, 5850: 33, 2285: 33, 3970: 33, 3272: 33, 8138: 33, 793: 33, 8220: 33, 9529: 33, 7108: 33, 2950: 33, 2633: 33, 4302: 33, 4379: 33, 2528: 33, 4448: 33, 2441: 33, 4365: 33, 2794: 33, 2698: 33, 1202: 33, 2933: 33, 2839: 33, 2697: 33, 1935: 33, 3113: 33, 4508: 33, 3279: 33, 2750: 33, 1726: 33, 2663: 33, 2359: 33, 2264: 33, 3442: 33, 2302: 33, 4643: 33, 1967: 33, 2160: 33, 2570: 33, 4251: 33, 2475: 33, 2266: 33, 4583: 33, 3488: 33, 2367: 33, 2154: 33, 1952: 32, 8895: 32, 2502: 32, 1242: 32, 3306: 32, 2495: 32, 1992: 32, 8917: 32, 2460: 32, 2606: 32, 1970: 32, 2217: 32, 1858: 32, 1451: 32, 1584: 32, 2946: 32, 1874: 32, 7438: 32, 7843: 32, 2318: 32, 921: 32, 1151: 32, 1475: 32, 7185: 32, 5841: 32, 2857: 32, 2103: 32, 1512: 32, 1067: 32, 3545: 32, 818: 32, 6359: 32, 3614: 32, 8885: 32, 4680: 32, 5465: 32, 1538: 32, 4283: 32, 2866: 32, 1228: 32, 5606: 32, 2394: 32, 2937: 32, 1907: 32, 6108: 32, 2582: 32, 2332: 32, 1445: 32, 2152: 32, 1672: 32, 2977: 32, 4150: 32, 2321: 32, 3072: 32, 3985: 32, 2779: 32, 3254: 32, 4836: 32, 2919: 32, 2971: 32, 9954: 32, 8023: 32, 6861: 32, 2986: 32, 2365: 32, 4532: 32, 4762: 32, 1790: 32, 5353: 32, 3438: 32, 2935: 32, 2107: 32, 6519: 32, 9049: 32, 2748: 32, 1525: 32, 2622: 32, 7204: 32, 2331: 32, 2418: 32, 2346: 32, 8721: 32, 8743: 32, 2481: 32, 3376: 32, 2740: 31, 2328: 31, 3080: 31, 2504: 31, 2867: 31, 5245: 31, 3310: 31, 3523: 31, 1773: 31, 8971: 31, 2344: 31, 1755: 31, 4837: 31, 3139: 31, 6037: 31, 1784: 31, 1812: 31, 2069: 31, 1882: 31, 1908: 31, 2323: 31, 2554: 31, 7789: 31, 2210: 31, 2459: 31, 2772: 31, 3390: 31, 1215: 31, 7357: 31, 1437: 31, 6948: 31, 6330: 31, 1958: 31, 3382: 31, 530: 31, 2034: 31, 3059: 31, 3085: 31, 3465: 31, 2376: 31, 3018: 31, 9278: 31, 609: 31, 1840: 31, 2410: 31, 4398: 31, 1212: 31, 1510: 31, 7345: 31, 2863: 31, 2060: 31, 2945: 31, 1713: 31, 5505: 31, 2491: 31, 1421: 31, 2687: 31, 2381: 31, 2220: 31, 2572: 31, 4652: 31, 5994: 31, 5092: 31, 2671: 31, 2594: 31, 1929: 31, 5645: 31, 2399: 31, 4341: 31, 6896: 31, 2438: 31, 2653: 31, 2662: 31, 9966: 31, 4006: 31, 43: 31, 4764: 31, 2262: 31, 1753: 31, 3362: 31, 3216: 31, 2541: 31, 2884: 31, 3499: 31, 3353: 31, 3853: 31, 2383: 31, 2462: 31, 2827: 31, 4001: 31, 2510: 30, 2437: 30, 4259: 30, 2235: 30, 2233: 30, 2675: 30, 1168: 30, 1837: 30, 5048: 30, 2538: 30, 4878: 30, 2276: 30, 1705: 30, 4846: 30, 2196: 30, 2498: 30, 3084: 30, 1439: 30, 3057: 30, 4694: 30, 4838: 30, 2256: 30, 1492: 30, 2080: 30, 1283: 30, 1441: 30, 2517: 30, 3549: 30, 2721: 30, 1313: 30, 1972: 30, 5595: 30, 1493: 30, 2413: 30, 2488: 30, 3217: 30, 2450: 30, 5930: 30, 2505: 30, 3877: 30, 4023: 30, 9030: 30, 3538: 30, 2445: 30, 2531: 30, 2704: 30, 2824: 30, 3348: 30, 3101: 30, 2745: 30, 2585: 30, 2569: 30, 3073: 30, 1808: 30, 2469: 30, 7145: 30, 2987: 30, 2921: 30, 1979: 30, 5968: 30, 9555: 30, 5010: 30, 5268: 30, 3108: 30, 2508: 30, 2499: 30, 4029: 30, 3366: 30, 4755: 30, 2630: 30, 2568: 30, 1681: 30, 5364: 30, 5363: 30, 3993: 30, 2477: 30, 2476: 30, 2803: 30, 2974: 30, 4953: 30, 4003: 30, 2466: 30, 2268: 30, 2464: 30, 6914: 30, 2940: 29, 4998: 29, 4529: 29, 3232: 29, 5129: 29, 1792: 29, 2674: 29, 1714: 29, 2189: 29, 5704: 29, 1428: 29, 1182: 29, 2334: 29, 9850: 29, 1109: 29, 2834: 29, 1630: 29, 8813: 29, 1287: 29, 2081: 29, 748: 29, 2732: 29, 2100: 29, 2284: 29, 2497: 29, 1940: 29, 3458: 29, 2057: 29, 1925: 29, 4206: 29, 1767: 29, 2941: 29, 1552: 29, 2722: 29, 1567: 29, 1609: 29, 5273: 29, 4788: 29, 2144: 29, 4190: 29, 2136: 29, 2712: 29, 3600: 29, 2855: 29, 1598: 29, 1879: 29, 6775: 29, 1521: 29, 4479: 29, 2063: 29, 3724: 29, 1847: 29, 8137: 29, 1932: 29, 1210: 29, 2956: 29, 2897: 29, 3141: 29, 2588: 29, 3049: 29, 1331: 29, 2575: 29, 2405: 29, 2358: 29, 1748: 29, 2308: 29, 6315: 29, 2047: 29, 1009: 29, 2015: 29, 4136: 29, 3034: 29, 3736: 29, 5887: 29, 4410: 29, 735: 29, 3267: 29, 2651: 29, 2333: 29, 2578: 29, 2289: 29, 2223: 29, 3166: 29, 3198: 29, 3915: 29, 6879: 29, 6880: 29, 2604: 29, 4317: 29, 1604: 29, 3690: 29, 1570: 29, 2496: 29, 2640: 29, 8668: 29, 2529: 29, 2162: 29, 2923: 29, 3017: 29, 2818: 29, 8650: 29, 3278: 29, 3737: 29, 2535: 29, 2051: 29, 6532: 29, 3114: 29, 2916: 29, 2992: 29, 2603: 29, 3925: 29, 5170: 29, 2573: 29, 1037: 29, 2559: 29, 1629: 29, 4551: 29, 2626: 29, 2062: 29, 3525: 29, 2645: 29, 4292: 29, 1303: 28, 1706: 28, 3260: 28, 3596: 28, 1222: 28, 440: 28, 1875: 28, 2997: 28, 1968: 28, 2209: 28, 2127: 28, 1148: 28, 1677: 28, 4705: 28, 6409: 28, 3378: 28, 2618: 28, 3177: 28, 4030: 28, 4204: 28, 1400: 28, 7894: 28, 2110: 28, 2397: 28, 1593: 28, 7251: 28, 4132: 28, 2151: 28, 4347: 28, 857: 28, 1476: 28, 2227: 28, 6350: 28, 9705: 28, 6062: 28, 1836: 28, 2013: 28, 1636: 28, 2126: 28, 3487: 28, 2129: 28, 2597: 28, 2696: 28, 3799: 28, 3237: 28, 2685: 28, 8173: 28, 3959: 28, 2581: 28, 3697: 28, 2894: 28, 1574: 28, 3102: 28, 8025: 28, 2621: 28, 4559: 28, 3648: 28, 36: 28, 424: 28, 3294: 28, 3422: 28, 2879: 28, 2703: 28, 2665: 28, 7128: 28, 2566: 28, 2792: 28, 5148: 28, 3212: 28, 2798: 28, 4262: 28, 2608: 28, 4971: 28, 2925: 28, 9549: 28, 5687: 28, 2611: 28, 2657: 28, 3089: 28, 5360: 28, 4242: 28, 1849: 28, 2791: 28, 3419: 28, 3117: 28, 3444: 28, 4990: 28, 2600: 28, 2635: 28, 2753: 28, 3489: 28, 4312: 28, 7713: 28, 2661: 27, 4640: 27, 2379: 27, 3503: 27, 1676: 27, 2030: 27, 8861: 27, 2452: 27, 6041: 27, 4224: 27, 2616: 27, 2427: 27, 1794: 27, 1306: 27, 1747: 27, 1663: 27, 2341: 27, 1805: 27, 1718: 27, 2638: 27, 5030: 27, 2111: 27, 1788: 27, 3719: 27, 1735: 27, 1789: 27, 2869: 27, 3154: 27, 3558: 27, 6511: 27, 2814: 27, 2838: 27, 7524: 27, 6607: 27, 2584: 27, 4435: 27, 1895: 27, 2503: 27, 2253: 27, 4291: 27, 2761: 27, 2317: 27, 4964: 27, 5411: 27, 8912: 27, 2300: 27, 2978: 27, 4698: 27, 1211: 27, 3769: 27, 4799: 27, 2695: 27, 3767: 27, 1839: 27, 4193: 27, 888: 27, 1695: 27, 7781: 27, 1859: 27, 2345: 27, 3346: 27, 2449: 27, 2258: 27, 1926: 27, 5355: 27, 1667: 27, 2659: 27, 2649: 27, 3012: 27, 877: 27, 7682: 27, 4917: 27, 3250: 27, 2526: 27, 2688: 27, 3335: 27, 2652: 27, 2113: 27, 1665: 27, 1347: 27, 7298: 27, 3810: 27, 2610: 27, 2660: 27, 2746: 27, 6292: 27, 2797: 27, 2656: 27, 2926: 27, 4992: 27, 4991: 27, 2658: 27, 2725: 27, 8217: 27, 7292: 27, 2691: 27, 2500: 27, 4293: 27, 3000: 27, 2546: 27, 1420: 26, 3423: 26, 1939: 26, 3290: 26, 9484: 26, 2539: 26, 3158: 26, 7076: 26, 2631: 26, 2068: 26, 1362: 26, 1690: 26, 2393: 26, 2478: 26, 2514: 26, 3302: 26, 2580: 26, 1027: 26, 2056: 26, 1649: 26, 2854: 26, 1112: 26, 7256: 26, 2853: 26, 591: 26, 1910: 26, 2870: 26, 2012: 26, 2762: 26, 2942: 26, 2239: 26, 3432: 26, 1219: 26, 2043: 26, 4700: 26, 7215: 26, 3908: 26, 5177: 26, 2105: 26, 1930: 26, 3591: 26, 6591: 26, 5522: 26, 1578: 26, 8904: 26, 1876: 26, 3401: 26, 3759: 26, 2201: 26, 3247: 26, 8812: 26, 2461: 26, 5986: 26, 3952: 26, 5158: 26, 2446: 26, 8336: 26, 2900: 26, 2338: 26, 2207: 26, 1993: 26, 3259: 26, 6248: 26, 2676: 26, 3800: 26, 2928: 26, 2743: 26, 3435: 26, 7765: 26, 3526: 26, 4098: 26, 2944: 26, 3881: 26, 953: 26, 2874: 26, 8172: 26, 2747: 26, 3038: 26, 4447: 26, 2471: 26, 1816: 26, 2973: 26, 5380: 26, 7280: 26, 3824: 26, 2929: 26, 2844: 26, 4638: 26, 3248: 26, 2988: 26, 8107: 26, 2760: 26, 2763: 26, 5967: 26, 7297: 26, 4263: 26, 5149: 26, 3288: 26, 3582: 26, 2706: 26, 2720: 26, 3090: 26, 3441: 26, 2484: 26, 5377: 26, 4045: 26, 4735: 26, 9326: 26, 6280: 26, 5919: 26, 2758: 26, 2757: 26, 3642: 26, 3143: 26, 2907: 26, 4025: 26, 4096: 26, 6637: 25, 3318: 25, 2468: 25, 3949: 25, 9183: 25, 3328: 25, 2238: 25, 4801: 25, 2493: 25, 3055: 25, 3509: 25, 4741: 25, 3316: 25, 3339: 25, 2401: 25, 3895: 25, 4906: 25, 5697: 25, 1826: 25, 2947: 25, 2738: 25, 3263: 25, 2549: 25, 3377: 25, 7167: 25, 9478: 25, 3386: 25, 7923: 25, 6597: 25, 1082: 25, 8450: 25, 3032: 25, 4425: 25, 3003: 25, 2363: 25, 2355: 25, 2996: 25, 2708: 25, 4401: 25, 1418: 25, 2089: 25, 3043: 25, 6014: 25, 3651: 25, 2280: 25, 2596: 25, 3513: 25, 4922: 25, 3230: 25, 3061: 25, 2177: 25, 3841: 25, 1386: 25, 4334: 25, 2943: 25, 4761: 25, 2914: 25, 9452: 25, 2744: 25, 2728: 25, 4745: 25, 6518: 25, 2776: 25, 5087: 25, 3476: 25, 2787: 25, 1994: 25, 3461: 25, 2342: 25, 4713: 25, 5418: 25, 2975: 25, 3515: 25, 3169: 25, 7930: 25, 4723: 25, 4349: 25, 2516: 25, 930: 25, 6254: 25, 6096: 25, 3103: 25, 3812: 25, 3559: 25, 4116: 25, 3675: 25, 2849: 25, 3292: 25, 2922: 25, 3806: 25, 3097: 25, 3368: 25, 3098: 25, 2751: 25, 3875: 25, 8762: 25, 7685: 25, 4028: 25, 2888: 25, 3213: 25, 3364: 25, 5705: 25, 4781: 25, 3367: 25, 2993: 25, 3396: 25, 2846: 25, 4112: 25, 7948: 25, 2623: 25, 1296: 25, 2817: 25, 3373: 25, 2847: 25, 8554: 25, 3528: 25, 3077: 25, 3205: 25, 1731: 25, 5865: 24, 1922: 24, 1178: 24, 4385: 24, 2041: 24, 6135: 24, 2040: 24, 3953: 24, 2609: 24, 3433: 24, 2354: 24, 5037: 24, 8350: 24, 2221: 24, 1537: 24, 1573: 24, 2716: 24, 1051: 24, 3431: 24, 2123: 24, 2190: 24, 7018: 24, 4295: 24, 2755: 24, 2029: 24, 3202: 24, 3054: 24, 3030: 24, 6072: 24, 3002: 24, 2436: 24, 5413: 24, 7239: 24, 831: 24, 8147: 24, 2764: 24, 3044: 24, 5012: 24, 2247: 24, 3776: 24, 2934: 24, 2724: 24, 2270: 24, 1169: 24, 4203: 24, 2232: 24, 1624: 24, 1959: 24, 2905: 24, 3070: 24, 3192: 24, 2777: 24, 1736: 24, 2240: 24, 1750: 24, 8823: 24, 4588: 24, 9282: 24, 2729: 24, 3126: 24, 8874: 24, 3067: 24, 3027: 24, 5453: 24, 775: 24, 2294: 24, 3557: 24, 2036: 24, 5035: 24, 2018: 24, 3167: 24, 3317: 24, 6468: 24, 3199: 24, 2485: 24, 4020: 24, 3906: 24, 2805: 24, 3236: 24, 1995: 24, 4729: 24, 4219: 24, 2969: 24, 8361: 24, 2628: 24, 2571: 24, 5093: 24, 9620: 24, 3620: 24, 1987: 24, 3180: 24, 7631: 24, 5523: 24, 2219: 24, 3717: 24, 2550: 24, 1320: 24, 6865: 24, 7129: 24, 3358: 24, 5391: 24, 4987: 24, 3152: 24, 3654: 24, 3944: 24, 1113: 24, 3443: 24, 3092: 24, 5951: 24, 3352: 24, 7668: 24, 2416: 24, 6476: 24, 2534: 24, 3176: 24, 1867: 24, 5493: 24, 4235: 24, 2719: 24, 4248: 24, 7209: 24, 4230: 24, 4458: 24, 3576: 24, 3518: 24, 3023: 24, 3252: 24, 8749: 24, 2613: 24, 4158: 23, 4157: 23, 1741: 23, 383: 23, 7326: 23, 2166: 23, 3524: 23, 4050: 23, 2639: 23, 2598: 23, 1928: 23, 4308: 23, 2547: 23, 1107: 23, 4397: 23, 6332: 23, 3133: 23, 2444: 23, 3864: 23, 4872: 23, 2583: 23, 4805: 23, 695: 23, 3846: 23, 3859: 23, 3211: 23, 6038: 23, 5698: 23, 9235: 23, 2128: 23, 2494: 23, 8867: 23, 3779: 23, 5849: 23, 2999: 23, 7023: 23, 2875: 23, 1852: 23, 2629: 23, 1921: 23, 2360: 23, 3163: 23, 620: 23, 4417: 23, 3228: 23, 4521: 23, 7860: 23, 4928: 23, 1969: 23, 1453: 23, 3291: 23, 4451: 23, 1991: 23, 9499: 23, 8939: 23, 3713: 23, 6331: 23, 4106: 23, 5621: 23, 4704: 23, 3955: 23, 1249: 23, 547: 23, 2400: 23, 5755: 23, 719: 23, 8975: 23, 2820: 23, 1370: 23, 5844: 23, 5052: 23, 3273: 23, 2681: 23, 1903: 23, 2783: 23, 3407: 23, 2200: 23, 3397: 23, 7066: 23, 2023: 23, 1549: 23, 1662: 23, 1936: 23, 3150: 23, 3112: 23, 4830: 23, 3013: 23, 6349: 23, 1711: 23, 2447: 23, 3434: 23, 2229: 23, 3197: 23, 8230: 23, 8826: 23, 3347: 23, 2601: 23, 3638: 23, 4420: 23, 3082: 23, 2076: 23, 8859: 23, 3656: 23, 2835: 23, 3330: 23, 3060: 23, 1333: 23, 5438: 23, 5119: 23, 9597: 23, 3074: 23, 3786: 23, 5802: 23, 8667: 23, 3037: 23, 1292: 23, 7901: 23, 3162: 23, 2188: 23, 3087: 23, 1734: 23, 2443: 23, 8998: 23, 6512: 23, 3036: 23, 3962: 23, 3035: 23, 3050: 23, 3716: 23, 4035: 23, 3583: 23, 2271: 23, 3051: 23, 3646: 23, 2149: 23, 3207: 23, 4496: 23, 4790: 23, 4270: 23, 4778: 23, 3124: 23, 4586: 23, 3843: 23, 4099: 23, 5267: 23, 7458: 23, 3111: 23, 3093: 23, 3040: 23, 5923: 23, 3797: 23, 8156: 23, 3481: 23, 3633: 23, 3136: 23, 3137: 23, 2714: 23, 5496: 23, 3048: 23, 3663: 23, 3517: 23, 6117: 23, 3794: 23, 4002: 23, 3047: 23, 3287: 23, 2614: 23, 2010: 22, 2455: 22, 6989: 22, 6488: 22, 3469: 22, 2092: 22, 4910: 22, 2125: 22, 982: 22, 5436: 22, 1778: 22, 2667: 22, 1409: 22, 3242: 22, 4528: 22, 5530: 22, 5253: 22, 4034: 22, 6195: 22, 2735: 22, 5799: 22, 2920: 22, 2412: 22, 4276: 22, 3682: 22, 3246: 22, 2204: 22, 1254: 22, 4315: 22, 4118: 22, 3585: 22, 1675: 22, 2800: 22, 1708: 22, 2281: 22, 1069: 22, 3105: 22, 2670: 22, 4439: 22, 2187: 22, 2032: 22, 2537: 22, 6374: 22, 6420: 22, 2314: 22, 3905: 22, 2139: 22, 22: 22, 6323: 22, 8825: 22, 3597: 22, 6984: 22, 4430: 22, 3063: 22, 2114: 22, 1770: 22, 1710: 22, 4387: 22, 9217: 22, 3453: 22, 4107: 22, 2179: 22, 2087: 22, 3522: 22, 3609: 22, 3200: 22, 5660: 22, 2765: 22, 3555: 22, 9288: 22, 4239: 22, 1892: 22, 6391: 22, 1983: 22, 3598: 22, 2860: 22, 1973: 22, 3570: 22, 3569: 22, 3280: 22, 2931: 22, 4653: 22, 2837: 22, 3571: 22, 4220: 22, 4611: 22, 2953: 22, 3233: 22, 4215: 22, 3314: 22, 2161: 22, 4617: 22, 7652: 22, 4975: 22, 5135: 22, 1523: 22, 4639: 22, 3258: 22, 4485: 22, 3851: 22, 1200: 22, 3429: 22, 3451: 22, 7558: 22, 4763: 22, 5677: 22, 3706: 22, 9419: 22, 4509: 22, 3660: 22, 3826: 22, 3365: 22, 5536: 22, 3514: 22, 3293: 22, 3394: 22, 9420: 22, 4015: 22, 3657: 22, 2848: 22, 9050: 22, 2983: 22, 3420: 22, 3171: 22, 3262: 22, 8706: 22, 3928: 22, 4046: 22, 3345: 22, 4236: 22, 5160: 22, 7211: 22, 3174: 22, 3829: 22, 3175: 22, 4380: 22, 3628: 22, 3239: 22, 3629: 22, 3173: 22, 3206: 22, 4004: 22, 8560: 22, 4655: 22, 3235: 22, 2679: 21, 1977: 21, 4853: 21, 3990: 21, 5408: 21, 2545: 21, 4084: 21, 2801: 21, 6094: 21, 2591: 21, 8850: 21, 8194: 21, 2389: 21, 4201: 21, 3816: 21, 5189: 21, 4017: 21, 2521: 21, 8903: 21, 3531: 21, 3052: 21, 3155: 21, 3665: 21, 5401: 21, 2351: 21, 2872: 21, 2709: 21, 5622: 21, 4101: 21, 3409: 21, 3066: 21, 1533: 21, 3295: 21, 5039: 21, 5409: 21, 3414: 21, 5214: 21, 3140: 21, 2283: 21, 7165: 21, 2453: 21, 2785: 21, 2972: 21, 3159: 21, 4202: 21, 9926: 21, 1311: 21, 2885: 21, 3897: 21, 3870: 21, 3502: 21, 9319: 21, 7766: 21, 3147: 21, 4609: 21, 2458: 21, 3178: 21, 5502: 21, 2899: 21, 3189: 21, 2133: 21, 2766: 21, 3496: 21, 6671: 21, 8932: 21, 4581: 21, 6042: 21, 4164: 21, 2307: 21, 6969: 21, 3486: 21, 2457: 21, 5179: 21, 1893: 21, 8149: 21, 3004: 21, 3120: 21, 4260: 21, 1597: 21, 3046: 21, 5831: 21, 3459: 21, 4668: 21, 1172: 21, 4332: 21, 4604: 21, 2711: 21, 4064: 21, 4079: 21, 7776: 21, 4868: 21, 3636: 21, 2518: 21, 3913: 21, 4137: 21, 2473: 21, 6471: 21, 4436: 21, 8926: 21, 7854: 21, 3765: 21, 3963: 21, 1055: 21, 2000: 21, 2737: 21, 4175: 21, 4731: 21, 3336: 21, 3075: 21, 8884: 21, 5733: 21, 3285: 21, 3342: 21, 3283: 21, 3689: 21, 509: 21, 2587: 21, 6982: 21, 2856: 21, 8887: 21, 3684: 21, 4218: 21, 3284: 21, 3241: 21, 3902: 21, 3894: 21, 4948: 21, 3110: 21, 3337: 21, 3845: 21, 1605: 21, 7831: 21, 4488: 21, 5976: 21, 9463: 21, 3495: 21, 3565: 21, 4007: 21, 3436: 21, 4013: 21, 2385: 21, 3297: 21, 3751: 21, 4367: 21, 3437: 21, 3277: 21, 3916: 21, 3492: 21, 4368: 21, 5350: 21, 4791: 21, 8074: 21, 3395: 21, 3372: 21, 7197: 21, 4100: 21, 4145: 21, 4264: 21, 5150: 21, 3731: 21, 4350: 21, 3725: 21, 9996: 21, 5789: 21, 8691: 21, 5953: 21, 3354: 21, 3355: 21, 3356: 21, 8544: 21, 7743: 21, 2348: 21, 7081: 21, 4460: 21, 3742: 21, 3344: 21, 4155: 21, 8710: 21, 3343: 21, 4376: 21, 4887: 21, 5127: 21, 4665: 21, 4512: 21, 4228: 21, 4231: 21, 5490: 21, 4253: 21, 6621: 21, 5958: 21, 6905: 21, 4758: 21, 7125: 21, 8739: 21, 3534: 21, 3446: 21, 6911: 21, 6132: 21, 2677: 20, 2678: 20, 2195: 20, 8908: 20, 3179: 20, 3980: 20, 6411: 20, 4821: 20, 2194: 20, 3322: 20, 9498: 20, 2599: 20, 3456: 20, 7322: 20, 8254: 20, 2998: 20, 3245: 20, 5566: 20, 2329: 20, 7758: 20, 3227: 20, 2419: 20, 4598: 20, 7470: 20, 5042: 20, 166: 20, 3622: 20, 4537: 20, 2532: 20, 7306: 20, 3182: 20, 6336: 20, 2005: 20, 1317: 20, 1289: 20, 3448: 20, 1141: 20, 3303: 20, 6198: 20, 4120: 20, 2147: 20, 4199: 20, 1957: 20, 1213: 20, 3449: 20, 9306: 20, 3909: 20, 3333: 20, 2197: 20, 1626: 20, 3672: 20, 3151: 20, 7186: 20, 5083: 20, 3107: 20, 9223: 20, 3589: 20, 2840: 20, 8380: 20, 2525: 20, 2108: 20, 3577: 20, 3619: 20, 4223: 20, 7821: 20, 4336: 20, 3795: 20, 3019: 20, 3384: 20, 3221: 20, 9527: 20, 5553: 20, 111: 20, 3153: 20, 2548: 20, 6592: 20, 3942: 20, 3452: 20, 1687: 20, 7360: 20, 3971: 20, 3024: 20, 5632: 20, 5932: 20, 2965: 20, 6413: 20, 1732: 20, 3995: 20, 4148: 20, 3475: 20, 7919: 20, 5876: 20, 4058: 20, 9491: 20, 5851: 20, 5381: 20, 6449: 20, 2386: 20, 4722: 20, 3700: 20, 3130: 20, 4771: 20, 6499: 20, 3493: 20, 3011: 20, 5220: 20, 3494: 20, 3811: 20, 7138: 20, 4165: 20, 4163: 20, 6301: 20, 3754: 20, 4482: 20, 6866: 20, 6867: 20, 3807: 20, 6002: 20, 3282: 20, 3363: 20, 3919: 20, 3821: 20, 3500: 20, 3203: 20, 6082: 20, 3803: 20, 6477: 20, 4053: 20, 3693: 20, 6278: 20, 4942: 20, 3992: 20, 3575: 20, 6456: 20, 3863: 20, 3532: 20, 3234: 20, 6127: 20, 3527: 20, 9206: 20, 3398: 20, 4272: 20, 3791: 20, 3478: 20, 6685: 20, 7126: 20, 2501: 20, 8638: 19, 3730: 19, 4113: 19, 3748: 19, 3623: 19, 3467: 19, 7898: 19, 5753: 19, 3251: 19, 5852: 19, 7888: 19, 3065: 19, 5743: 19, 2198: 19, 9045: 19, 6966: 19, 3240: 19, 4568: 19, 3253: 19, 4920: 19, 7866: 19, 7807: 19, 7294: 19, 2962: 19, 2225: 19, 906: 19, 8845: 19, 2288: 19, 4849: 19, 6728: 19, 5432: 19, 1393: 19, 4555: 19, 2044: 19, 3673: 19, 2680: 19, 6390: 19, 2648: 19, 6346: 19, 2520: 19, 4696: 19, 5237: 19, 6574: 19, 3621: 19, 3729: 19, 3903: 19, 4160: 19, 4692: 19, 4855: 19, 6125: 19, 2799: 19, 3256: 19, 3679: 19, 2343: 19, 3823: 19, 7844: 19, 2705: 19, 3403: 19, 3722: 19, 4542: 19, 757: 19, 3539: 19, 6938: 19, 8394: 19, 1607: 19, 17: 19, 4033: 19, 3969: 19, 2102: 19, 8871: 19, 7813: 19, 4875: 19, 5315: 19, 5061: 19, 2130: 19, 6730: 19, 3556: 19, 3309: 19, 2337: 19, 3710: 19, 7270: 19, 6196: 19, 3056: 19, 2727: 19, 2816: 19, 5897: 19, 6392: 19, 4390: 19, 4413: 19, 2576: 19, 3764: 19, 3996: 19, 4845: 19, 3939: 19, 3266: 19, 4192: 19, 3785: 19, 2788: 19, 5935: 19, 2903: 19, 3561: 19, 3950: 19, 3773: 19, 2632: 19, 5934: 19, 7095: 19, 5936: 19, 1842: 19, 1853: 19, 4466: 19, 6666: 19, 4221: 19, 3685: 19, 3972: 19, 7037: 19, 4995: 19, 4631: 19, 2487: 19, 6120: 19, 4651: 19, 4229: 19, 3460: 19, 2683: 19, 4102: 19, 5271: 19, 4936: 19, 6611: 19, 4139: 19, 5918: 19, 3275: 19, 2893: 19, 7141: 19, 4768: 19, 3850: 19, 5637: 19, 4383: 19, 8938: 19, 3704: 19, 9087: 19, 4018: 19, 3581: 19, 5199: 19, 8045: 19, 5821: 19, 3819: 19, 4779: 19, 5995: 19, 3655: 19, 4395: 19, 4939: 19, 3741: 19, 4593: 19, 5545: 19, 8063: 19, 3572: 19, 5546: 19, 6916: 19, 5792: 19, 4982: 19, 6081: 19, 5125: 19, 4981: 19, 6191: 19, 4645: 19, 3574: 19, 3445: 19, 3743: 19, 6460: 19, 4462: 19, 7946: 19, 4461: 19, 4594: 19, 3828: 19, 3580: 19, 5378: 19, 4862: 19, 5561: 19, 7351: 19, 5226: 19, 5626: 19, 5210: 19, 3627: 19, 5205: 19, 6487: 19, 5806: 19, 3644: 19, 1754: 19, 1184: 19, 5193: 19, 4047: 19, 3683: 19, 7222: 19, 4914: 18, 8648: 18, 4970: 18, 4557: 18, 2402: 18, 2759: 18, 4196: 18, 4169: 18, 6705: 18, 2430: 18, 1779: 18, 3025: 18, 2442: 18, 3331: 18, 3308: 18, 2506: 18, 6851: 18, 4095: 18, 5658: 18, 5296: 18, 3761: 18, 2077: 18, 2157: 18, 2420: 18, 3590: 18, 3790: 18, 9128: 18, 7859: 18, 5670: 18, 6389: 18, 2480: 18, 9122: 18, 3732: 18, 2564: 18, 1683: 18, 5707: 18, 3891: 18, 5492: 18, 3940: 18, 8330: 18, 4671: 18, 3610: 18, 3533: 18, 2939: 18, 6712: 18, 5650: 18, 3209: 18, 6325: 18, 5229: 18, 7800: 18, 1786: 18, 7896: 18, 7260: 18, 3463: 18, 2767: 18, 4923: 18, 2901: 18, 7827: 18, 5617: 18, 2132: 18, 4288: 18, 4212: 18, 8485: 18, 1883: 18, 3735: 18, 3563: 18, 4166: 18, 8090: 18, 6403: 18, 5289: 18, 2009: 18, 1575: 18, 2001: 18, 2117: 18, 3677: 18, 3125: 18, 2627: 18, 4093: 18, 7319: 18, 5019: 18, 4850: 18, 4480: 18, 3190: 18, 5594: 18, 4043: 18, 6957: 18, 9780: 18, 1436: 18, 3095: 18, 1861: 18, 7033: 18, 6771: 18, 3450: 18, 4608: 18, 5509: 18, 3415: 18, 2586: 18, 6953: 18, 5108: 18, 4080: 18, 8139: 18, 3222: 18, 4284: 18, 2812: 18, 3798: 18, 4903: 18, 3865: 18, 8829: 18, 3625: 18, 8936: 18, 4695: 18, 6352: 18, 7895: 18, 7422: 18, 4182: 18, 4060: 18, 9132: 18, 3698: 18, 2808: 18, 6031: 18, 3418: 18, 2617: 18, 3484: 18, 3884: 18, 3611: 18, 3138: 18, 2362: 18, 4945: 18, 4330: 18, 7096: 18, 1642: 18, 4149: 18, 4697: 18, 3982: 18, 3788: 18, 3664: 18, 5211: 18, 4371: 18, 4222: 18, 5801: 18, 3910: 18, 4408: 18, 4530: 18, 98: 18, 6882: 18, 5835: 18, 1494: 18, 3793: 18, 5231: 18, 3349: 18, 8302: 18, 4123: 18, 4453: 18, 3787: 18, 5357: 18, 8321: 18, 6658: 18, 3862: 18, 4770: 18, 5345: 18, 4008: 18, 6111: 18, 4601: 18, 3813: 18, 4255: 18, 5038: 18, 5036: 18, 3739: 18, 2710: 18, 3946: 18, 1946: 18, 3566: 18, 4481: 18, 6691: 18, 3738: 18, 4483: 18, 3805: 18, 6496: 18, 5820: 18, 3750: 18, 3412: 18, 8764: 18, 5555: 18, 8046: 18, 4265: 18, 2409: 18, 5151: 18, 4081: 18, 3752: 18, 5683: 18, 4266: 18, 3822: 18, 5547: 18, 3926: 18, 3804: 18, 4153: 18, 7477: 18, 5126: 18, 7669: 18, 6288: 18, 4524: 18, 4352: 18, 5797: 18, 3744: 18, 4237: 18, 4069: 18, 3249: 18, 4086: 18, 3988: 18, 6128: 18, 9636: 18, 3830: 18, 3858: 18, 3938: 18, 5242: 18, 6077: 18, 5204: 18, 4852: 18, 9818: 18, 3746: 18, 4250: 18, 5369: 18, 4757: 18, 4477: 18, 4252: 18, 3904: 18, 3866: 18, 2019: 18, 8102: 18, 3835: 18, 3289: 18, 5371: 17, 5132: 17, 4657: 17, 4238: 17, 4108: 17, 3753: 17, 6789: 17, 4561: 17, 6944: 17, 6774: 17, 3977: 17, 3069: 17, 3726: 17, 4078: 17, 5999: 17, 3838: 17, 2377: 17, 3104: 17, 1424: 17, 3109: 17, 6792: 17, 7981: 17, 2463: 17, 3482: 17, 5400: 17, 4059: 17, 1693: 17, 6811: 17, 2701: 17, 4345: 17, 5425: 17, 4286: 17, 3007: 17, 1404: 17, 9233: 17, 4304: 17, 8846: 17, 5439: 17, 4403: 17, 3132: 17, 3671: 17, 5154: 17, 3934: 17, 2641: 17, 7847: 17, 3191: 17, 8916: 17, 3584: 17, 2967: 17, 2101: 17, 3705: 17, 4109: 17, 2904: 17, 5384: 17, 5575: 17, 4214: 17, 2470: 17, 5623: 17, 3312: 17, 3477: 17, 9400: 17, 3548: 17, 7782: 17, 2375: 17, 2739: 17, 4776: 17, 3749: 17, 8941: 17, 4168: 17, 1963: 17, 8683: 17, 3943: 17, 3601: 17, 2472: 17, 3687: 17, 9735: 17, 4858: 17, 7278: 17, 4213: 17, 8834: 17, 6377: 17, 2254: 17, 2486: 17, 8202: 17, 5396: 17, 4172: 17, 2968: 17, 4406: 17, 3371: 17, 4040: 17, 6373: 17, 5581: 17, 1582: 17, 1933: 17, 3756: 17, 4348: 17, 3899: 17, 3887: 17, 4719: 17, 4826: 17, 4685: 17, 5965: 17, 3026: 17, 6387: 17, 4843: 17, 3157: 17, 5120: 17, 5843: 17, 4699: 17, 5769: 17, 1768: 17, 3758: 17, 8155: 17, 2574: 17, 5339: 17, 2951: 17, 3777: 17, 7945: 17, 4187: 17, 6354: 17, 7861: 17, 3408: 17, 8852: 17, 3770: 17, 2448: 17, 4128: 17, 3981: 17, 4131: 17, 8869: 17, 3917: 17, 2963: 17, 5095: 17, 7940: 17, 3987: 17, 4088: 17, 5034: 17, 3520: 17, 4574: 17, 2915: 17, 4076: 17, 4296: 17, 5784: 17, 3792: 17, 3592: 17, 4184: 17, 3123: 17, 4191: 17, 3637: 17, 6878: 17, 3707: 17, 2655: 17, 4978: 17, 2807: 17, 5295: 17, 7910: 17, 4487: 17, 3135: 17, 4073: 17, 1385: 17, 4044: 17, 5703: 17, 6079: 17, 4037: 17, 4036: 17, 4384: 17, 5725: 17, 4767: 17, 4765: 17, 5972: 17, 7130: 17, 6733: 17, 4254: 17, 4110: 17, 7133: 17, 4792: 17, 4234: 17, 2016: 17, 5537: 17, 4012: 17, 5152: 17, 3936: 17, 3714: 17, 4941: 17, 5016: 17, 5201: 17, 6421: 17, 7232: 17, 4811: 17, 4016: 17, 4268: 17, 4754: 17, 7994: 17, 3927: 17, 4282: 17, 4375: 17, 4129: 17, 3948: 17, 4623: 17, 7274: 17, 5111: 17, 5112: 17, 4888: 17, 3989: 17, 4841: 17, 5379: 17, 3931: 17, 4734: 17, 9644: 17, 4126: 17, 4316: 17, 8291: 17, 4051: 17, 4005: 17, 4760: 17, 6485: 17, 4759: 17, 6124: 17, 5247: 17, 4127: 17, 4354: 17, 5232: 17, 6058: 17, 4280: 17, 4026: 17, 5168: 17, 4518: 17, 6439: 16, 3313: 16, 6300: 16, 5002: 16, 3324: 16, 3393: 16, 3045: 16, 7271: 16, 2890: 16, 7243: 16, 5889: 16, 2958: 16, 4424: 16, 2825: 16, 3257: 16, 6364: 16, 3219: 16, 4194: 16, 4010: 16, 2959: 16, 7172: 16, 5185: 16, 3586: 16, 2269: 16, 4817: 16, 5466: 16, 5686: 16, 3958: 16, 919: 16, 984: 16, 6137: 16, 3801: 16, 3892: 16, 4161: 16, 3134: 16, 3639: 16, 7264: 16, 1825: 16, 5333: 16, 7220: 16, 5041: 16, 7820: 16, 3537: 16, 3676: 16, 3658: 16, 3667: 16, 4429: 16, 4032: 16, 4133: 16, 3388: 16, 6864: 16, 1634: 16, 2522: 16, 5163: 16, 2024: 16, 4504: 16, 6180: 16, 3998: 16, 5827: 16, 3402: 16, 9274: 16, 2806: 16, 7917: 16, 7370: 16, 2813: 16, 1072: 16, 2880: 16, 5297: 16, 6326: 16, 3678: 16, 1787: 16, 3836: 16, 3612: 16, 7797: 16, 5306: 16, 1083: 16, 4269: 16, 1240: 16, 1990: 16, 8344: 16, 9283: 16, 6303: 16, 4684: 16, 5839: 16, 5440: 16, 7255: 16, 3187: 16, 5072: 16, 6412: 16, 2395: 16, 6086: 16, 6640: 16, 6995: 16, 3979: 16, 1595: 16, 7771: 16, 3650: 16, 5018: 16, 3430: 16, 4337: 16, 4173: 16, 4548: 16, 8882: 16, 3771: 16, 9456: 16, 6405: 16, 5174: 16, 5446: 16, 3617: 16, 3634: 16, 1079: 16, 7626: 16, 1563: 16, 7399: 16, 7835: 16, 4063: 16, 5510: 16, 2828: 16, 4683: 16, 4589: 16, 6857: 16, 3772: 16, 4240: 16, 4976: 16, 4294: 16, 8440: 16, 4274: 16, 7325: 16, 7324: 16, 97: 16, 6517: 16, 4642: 16, 7077: 16, 1887: 16, 7039: 16, 3536: 16, 5107: 16, 3778: 16, 4151: 16, 6760: 16, 4346: 16, 5314: 16, 7364: 16, 5914: 16, 6425: 16, 8969: 16, 4591: 16, 3602: 16, 8967: 16, 3833: 16, 5471: 16, 8870: 16, 2876: 16, 3400: 16, 5241: 16, 4769: 16, 4167: 16, 4146: 16, 2756: 16, 6809: 16, 4171: 16, 9093: 16, 3808: 16, 9965: 16, 5521: 16, 4602: 16, 7132: 16, 6657: 16, 6170: 16, 8656: 16, 4497: 16, 9981: 16, 4335: 16, 3715: 16, 8453: 16, 7740: 16, 4094: 16, 4980: 16, 6267: 16, 4373: 16, 6266: 16, 4782: 16, 4783: 16, 8066: 16, 6520: 16, 4267: 16, 4244: 16, 4154: 16, 4054: 16, 5952: 16, 7119: 16, 7118: 16, 4299: 16, 4243: 16, 8389: 16, 4245: 16, 9054: 16, 5790: 16, 4000: 16, 4124: 16, 4649: 16, 5495: 16, 5110: 16, 5922: 16, 5109: 16, 8709: 16, 9564: 16, 7337: 16, 4571: 16, 4737: 16, 5162: 16, 5824: 16, 3261: 16, 4300: 16, 4797: 16, 4117: 16, 3930: 16, 5487: 16, 8724: 16, 4863: 16, 5489: 16, 3929: 16, 3078: 16, 8198: 16, 4249: 16, 3932: 16, 4170: 16, 4476: 16, 6906: 16, 4355: 16, 4313: 16, 4174: 16, 4314: 16, 5370: 16, 9333: 16, 6060: 16, 6556: 16, 2932: 16, 4808: 16, 5262: 16, 3933: 15, 2723: 15, 6917: 15, 4708: 15, 7407: 15, 3553: 15, 5004: 15, 6290: 15, 5482: 15, 4827: 15, 4207: 15, 1402: 15, 4226: 15, 3541: 15, 6693: 15, 7053: 15, 8868: 15, 7003: 15, 4353: 15, 4706: 15, 1709: 15, 4787: 15, 1688: 15, 1496: 15, 8889: 15, 5463: 15, 4576: 15, 2533: 15, 4052: 15, 3064: 15, 4357: 15, 5172: 15, 1656: 15, 2562: 15, 4414: 15, 3472: 15, 3763: 15, 3068: 15, 8573: 15, 3255: 15, 4536: 15, 3268: 15, 2244: 15, 4498: 15, 4661: 15, 1657: 15, 2042: 15, 4596: 15, 4582: 15, 8782: 15, 4674: 15, 5182: 15, 2257: 15, 4658: 15, 847: 15, 9708: 15, 4716: 15, 2252: 15, 1923: 15, 1616: 15, 5399: 15, 6650: 15, 6070: 15, 4297: 15, 7062: 15, 4225: 15, 4619: 15, 5045: 15, 3001: 15, 8312: 15, 7899: 15, 3307: 15, 8754: 15, 3860: 15, 4567: 15, 4090: 15, 3718: 15, 5832: 15, 3122: 15, 4963: 15, 3399: 15, 3076: 15, 3338: 15, 3129: 15, 4503: 15, 6050: 15, 5207: 15, 3008: 15, 5227: 15, 4615: 15, 4418: 15, 6469: 15, 6007: 15, 4633: 15, 7767: 15, 1886: 15, 4465: 15, 4363: 15, 5406: 15, 4311: 15, 9662: 15, 6442: 15, 4426: 15, 6732: 15, 4932: 15, 4575: 15, 595: 15, 5430: 15, 6182: 15, 4832: 15, 3544: 15, 5612: 15, 4636: 15, 9444: 15, 4802: 15, 5599: 15, 3119: 15, 4071: 15, 5213: 15, 1841: 15, 3965: 15, 5415: 15, 4404: 15, 4362: 15, 2540: 15, 5263: 15, 3695: 15, 6467: 15, 6937: 15, 7538: 15, 5583: 15, 7837: 15, 4449: 15, 5905: 15, 4275: 15, 4419: 15, 9953: 15, 5469: 15, 3635: 15, 7281: 15, 2287: 15, 5098: 15, 7653: 15, 3327: 15, 4077: 15, 5218: 15, 5917: 15, 7289: 15, 7705: 15, 4381: 15, 5488: 15, 4630: 15, 4882: 15, 5983: 15, 3543: 15, 5307: 15, 6423: 15, 6976: 15, 1367: 15, 4450: 15, 4610: 15, 8041: 15, 4720: 15, 8958: 15, 4721: 15, 6422: 15, 6952: 15, 8026: 15, 2948: 15, 4622: 15, 4540: 15, 9579: 15, 3507: 15, 6498: 15, 7394: 15, 4486: 15, 9955: 15, 7537: 15, 4662: 15, 7562: 15, 3688: 15, 5389: 15, 4673: 15, 4366: 15, 6868: 15, 8976: 15, 9085: 15, 4766: 15, 5165: 15, 4369: 15, 6762: 15, 4793: 15, 6533: 15, 7200: 15, 4507: 15, 5153: 15, 6262: 15, 3817: 15, 4669: 15, 4309: 15, 2882: 15, 4924: 15, 4546: 15, 3920: 15, 4500: 15, 6028: 15, 4501: 15, 4502: 15, 4374: 15, 6626: 15, 5955: 15, 8690: 15, 4475: 15, 4629: 15, 5574: 15, 4627: 15, 4388: 15, 4624: 15, 6599: 15, 6602: 15, 6601: 15, 5113: 15, 4736: 15, 5590: 15, 4558: 15, 7275: 15, 8278: 15, 7080: 15, 4918: 15, 1025: 15, 4513: 15, 5161: 15, 4273: 15, 8087: 15, 5760: 15, 4993: 15, 6076: 15, 8195: 15, 4676: 15, 5000: 15, 4386: 15, 4392: 15, 4835: 15, 8097: 15, 4806: 15, 6701: 14, 5668: 14, 3014: 14, 5713: 14, 2560: 14, 4405: 14, 5292: 14, 4564: 14, 6148: 14, 7484: 14, 4952: 14, 4959: 14, 3994: 14, 6752: 14, 4851: 14, 4616: 14, 8530: 14, 3062: 14, 5101: 14, 6011: 14, 5756: 14, 1522: 14, 4534: 14, 1460: 14, 8475: 14, 4712: 14, 7508: 14, 4940: 14, 4955: 14, 4950: 14, 4946: 14, 3188: 14, 4570: 14, 3734: 14, 3626: 14, 4726: 14, 6790: 14, 4614: 14, 3405: 14, 6749: 14, 3975: 14, 5479: 14, 4257: 14, 4455: 14, 7317: 14, 1700: 14, 3511: 14, 2429: 14, 4934: 14, 4493: 14, 5278: 14, 5722: 14, 5945: 14, 6404: 14, 5325: 14, 4469: 14, 2456: 14, 7406: 14, 7751: 14, 4393: 14, 7323: 14, 3760: 14, 9081: 14, 6246: 14, 5022: 14, 5332: 14, 3945: 14, 1368: 14, 4750: 14, 9633: 14, 3483: 14, 5281: 14, 3670: 14, 5007: 14, 6593: 14, 9317: 14, 9505: 14, 5005: 14, 5987: 14, 4947: 14, 5293: 14, 3225: 14, 5385: 14, 7027: 14, 6053: 14, 3880: 14, 3783: 14, 4565: 14, 1070: 14, 5421: 14, 1880: 14, 4422: 14, 8578: 14, 9846: 14, 4605: 14, 3470: 14, 5084: 14, 6337: 14, 807: 14, 5317: 14, 4516: 14, 2415: 14, 6631: 14, 5322: 14, 7840: 14, 7005: 14, 6577: 14, 6333: 14, 2784: 14, 5874: 14, 3406: 14, 5423: 14, 6704: 14, 4358: 14, 4159: 14, 7009: 14, 2815: 14, 4775: 14, 8151: 14, 8891: 14, 848: 14, 3269: 14, 9607: 14, 4022: 14, 4656: 14, 6932: 14, 4856: 14, 6958: 14, 4718: 14, 8133: 14, 6945: 14, 4753: 14, 2690: 14, 4898: 14, 5751: 14, 4951: 14, 4024: 14, 5552: 14, 3956: 14, 4634: 14, 7971: 14, 5507: 14, 5046: 14, 5320: 14, 4635: 14, 7411: 14, 7826: 14, 9585: 14, 4613: 14, 3691: 14, 7783: 14, 3427: 14, 3861: 14, 3530: 14, 5451: 14, 6382: 14, 5256: 14, 7845: 14, 5063: 14, 5651: 14, 3814: 14, 4326: 14, 6176: 14, 3244: 14, 3421: 14, 4774: 14, 4702: 14, 6032: 14, 4907: 14, 5542: 14, 4689: 14, 9024: 14, 1392: 14, 4977: 14, 5576: 14, 5340: 14, 5579: 14, 7042: 14, 5097: 14, 5094: 14, 4549: 14, 7070: 14, 5910: 14, 3818: 14, 4960: 14, 3457: 14, 2898: 14, 9492: 14, 5257: 14, 3599: 14, 6264: 14, 8365: 14, 3504: 14, 3194: 14, 7074: 14, 9140: 14, 7068: 14, 6073: 14, 5368: 14, 5664: 14, 7328: 14, 3879: 14, 4342: 14, 4935: 14, 5356: 14, 3868: 14, 4446: 14, 7045: 14, 3815: 14, 5040: 14, 6371: 14, 3374: 14, 5477: 14, 3686: 14, 5647: 14, 5047: 14, 4979: 14, 3964: 14, 6744: 14, 4572: 14, 4730: 14, 5347: 14, 8024: 14, 6285: 14, 8473: 14, 9163: 14, 5346: 14, 4876: 14, 4444: 14, 4833: 14, 4921: 14, 3425: 14, 4967: 14, 4893: 14, 5577: 14, 5735: 14, 8296: 14, 5362: 14, 4772: 14, 5486: 14, 5013: 14, 4659: 14, 6814: 14, 6192: 14, 5388: 14, 8535: 14, 5017: 14, 4391: 14, 2868: 14, 2519: 14, 4641: 14, 5974: 14, 3462: 14, 6493: 14, 3653: 14, 4281: 14, 4988: 14, 2861: 14, 4511: 14, 8827: 14, 5559: 14, 4660: 14, 5638: 14, 5200: 14, 7201: 14, 6554: 14, 7299: 14, 8192: 14, 8077: 14, 4812: 14, 5557: 14, 4905: 14, 5538: 14, 5352: 14, 6515: 14, 9871: 14, 4933: 14, 8393: 14, 5610: 14, 6655: 14, 6263: 14, 6525: 14, 4786: 14, 4784: 14, 7181: 14, 4785: 14, 5156: 14, 9170: 14, 5791: 14, 4647: 14, 4985: 14, 6481: 14, 4756: 14, 4956: 14, 4055: 14, 4854: 14, 6095: 14, 4989: 14, 6140: 14, 7716: 14, 7678: 14, 4813: 14, 6931: 14, 4382: 14, 5386: 14, 4672: 14, 4954: 14, 4463: 14, 2061: 14, 5366: 14, 4738: 14, 5589: 14, 5115: 14, 4650: 14, 4909: 14, 4740: 14, 4739: 14, 5656: 14, 4873: 14, 6231: 14, 4666: 14, 6539: 14, 4670: 14, 7481: 14, 267: 14, 3662: 14, 4798: 14, 4794: 14, 4796: 14, 4795: 14, 6447: 14, 4654: 14, 4996: 14, 4957: 14, 4733: 14, 4732: 14, 5663: 14, 5518: 14, 7414: 14, 6287: 14, 5258: 14, 1499: 14, 5299: 14, 5747: 14, 6107: 14, 9338: 14, 6910: 14, 6017: 14, 7403: 13, 5403: 13, 8018: 13, 5303: 13, 4421: 13, 4620: 13, 5659: 13, 4965: 13, 4938: 13, 8244: 13, 4944: 13, 5246: 13, 7400: 13, 4891: 13, 6679: 13, 9232: 13, 5240: 13, 6753: 13, 3341: 13, 5565: 13, 7863: 13, 8901: 13, 6415: 13, 6087: 13, 3547: 13, 5164: 13, 3852: 13, 8337: 13, 5916: 13, 5501: 13, 9867: 13, 5830: 13, 3340: 13, 5481: 13, 3885: 13, 3081: 13, 6986: 13, 1720: 13, 6417: 13, 4089: 13, 1351: 13, 3161: 13, 7515: 13, 6977: 13, 3593: 13, 5147: 13, 5009: 13, 5076: 13, 7114: 13, 6781: 13, 7745: 13, 7777: 13, 5715: 13, 2202: 13, 5029: 13, 5723: 13, 4041: 13, 5854: 13, 6039: 13, 5020: 13, 4727: 13, 6134: 13, 5856: 13, 2370: 13, 1640: 13, 4464: 13, 7246: 13, 5414: 13, 4233: 13, 6928: 13, 5424: 13, 6063: 13, 4554: 13, 3361: 13, 5212: 13, 2829: 13, 5564: 13, 5054: 13, 8390: 13, 2889: 13, 3692: 13, 6686: 13, 8060: 13, 2131: 13, 6015: 13, 5180: 13, 6026: 13, 9287: 13, 2203: 13, 6203: 13, 5003: 13, 8833: 13, 2625: 13, 4607: 13, 4566: 13, 7786: 13, 5090: 13, 4525: 13, 4693: 13, 6646: 13, 2954: 13, 5184: 13, 9598: 13, 4180: 13, 6955: 13, 6102: 13, 5533: 13, 3106: 13, 2369: 13, 5870: 13, 4321: 13, 1783: 13, 5710: 13, 5405: 13, 5235: 13, 5251: 13, 2165: 13, 1122: 13, 7547: 13, 2602: 13, 5607: 13, 5454: 13, 5183: 13, 6853: 13, 6344: 13, 2008: 13, 4438: 13, 6361: 13, 4962: 13, 5447: 13, 5943: 13, 5719: 13, 3978: 13, 9781: 13, 5775: 13, 5426: 13, 4027: 13, 8265: 13, 9947: 13, 4535: 13, 8382: 13, 6419: 13, 6975: 13, 3674: 13, 6470: 13, 3185: 13, 3997: 13, 5121: 13, 6255: 13, 5344: 13, 4677: 13, 8306: 13, 7814: 13, 3009: 13, 4711: 13, 8838: 13, 5933: 13, 6856: 13, 5892: 13, 4884: 13, 6784: 13, 6939: 13, 5937: 13, 3535: 13, 4701: 13, 4211: 13, 7344: 13, 5335: 13, 6202: 13, 6251: 13, 5395: 13, 5122: 13, 6997: 13, 3694: 13, 6428: 13, 9218: 13, 2553: 13, 2226: 13, 5099: 13, 2454: 13, 7147: 13, 5907: 13, 6271: 13, 2234: 13, 1890: 13, 4459: 13, 6444: 13, 9131: 13, 7072: 13, 5089: 13, 3703: 13, 5064: 13, 4301: 13, 6424: 13, 2373: 13, 5106: 13, 5140: 13, 3071: 13, 7939: 13, 4195: 13, 7379: 13, 3957: 13, 3474: 13, 2644: 13, 4724: 13, 8622: 13, 4339: 13, 5096: 13, 5473: 13, 5329: 13, 5908: 13, 8484: 13, 2845: 13, 5474: 13, 7546: 13, 7836: 13, 5224: 13, 6335: 13, 6440: 13, 5195: 13, 5608: 13, 2718: 13, 3784: 13, 7090: 13, 5431: 13, 4870: 13, 6061: 13, 5472: 13, 5100: 13, 5470: 13, 5301: 13, 6110: 13, 7430: 13, 7849: 13, 4467: 13, 5872: 13, 6956: 13, 8986: 13, 5348: 13, 5139: 13, 6353: 13, 9044: 13, 6193: 13, 3680: 13, 4442: 13, 7273: 13, 5137: 13, 5448: 13, 6009: 13, 4803: 13, 5136: 13, 8646: 13, 4198: 13, 5243: 13, 4969: 13, 6770: 13, 5977: 13, 5138: 13, 8950: 13, 5459: 13, 3935: 13, 5023: 13, 4675: 13, 4389: 13, 4664: 13, 3299: 13, 5326: 13, 6437: 13, 5133: 13, 9084: 13, 6491: 13, 6819: 13, 5134: 13, 6130: 13, 7587: 13, 5130: 13, 5556: 13, 6763: 13, 7473: 13, 5043: 13, 9201: 13, 6563: 13, 5573: 13, 5011: 13, 5684: 13, 8664: 13, 5993: 13, 9141: 13, 6514: 13, 4974: 13, 9149: 13, 6871: 13, 4973: 13, 6824: 13, 5321: 13, 4603: 13, 8392: 13, 8819: 13, 3947: 13, 6029: 13, 9537: 13, 8067: 13, 5091: 13, 6523: 13, 4984: 13, 6890: 13, 5954: 13, 4983: 13, 7673: 13, 7667: 13, 4986: 13, 4646: 13, 9053: 13, 9056: 13, 7120: 13, 7664: 13, 5956: 13, 9262: 13, 5795: 13, 5006: 13, 8786: 13, 5815: 13, 6312: 13, 6600: 13, 6282: 13, 5494: 13, 7955: 13, 6057: 13, 7960: 13, 6459: 13, 5926: 13, 5800: 13, 5365: 13, 5924: 13, 8280: 13, 5239: 13, 5746: 13, 6210: 13, 5114: 13, 5014: 13, 6543: 13, 8085: 13, 8089: 13, 5562: 13, 5105: 13, 5804: 13, 4864: 13, 6642: 13, 5711: 13, 1524: 13, 9373: 13, 9887: 13, 6321: 13, 5025: 13, 5254: 13, 5959: 13, 5259: 13, 2911: 13, 5260: 13, 7747: 13, 5592: 13, 5812: 13, 9244: 13, 6019: 13, 5169: 13, 6020: 13, 4517: 13, 8494: 13, 7696: 12, 3428: 12, 5065: 12, 7867: 12, 8796: 12, 5175: 12, 5848: 12, 4306: 12, 2555: 12, 5648: 12, 7327: 12, 8947: 12, 7169: 12, 5997: 12, 6024: 12, 5480: 12, 5882: 12, 4009: 12, 6576: 12, 5847: 12, 4606: 12, 1594: 12, 5159: 12, 9258: 12, 5167: 12, 5736: 12, 6399: 12, 7606: 12, 8909: 12, 8061: 12, 2368: 12, 7442: 12, 9295: 12, 6084: 12, 6055: 12, 6801: 12, 6823: 12, 3613: 12, 5780: 12, 5141: 12, 2148: 12, 5640: 12, 2810: 12, 3128: 12, 5680: 12, 2924: 12, 9318: 12, 7780: 12, 6580: 12, 9019: 12, 4789: 12, 5985: 12, 3552: 12, 5512: 12, 4773: 12, 6992: 12, 7265: 12, 7569: 12, 5334: 12, 4452: 12, 3410: 12, 5779: 12, 5718: 12, 7311: 12, 6940: 12, 4749: 12, 6756: 12, 5732: 12, 5021: 12, 7021: 12, 3473: 12, 2079: 12, 5584: 12, 1684: 12, 4818: 12, 3385: 12, 5203: 12, 3842: 12, 5729: 12, 5895: 12, 5008: 12, 5066: 12, 4327: 12, 6526: 12, 28: 12, 6244: 12, 6342: 12, 5990: 12, 4580: 12, 7521: 12, 4828: 12, 3145: 12, 8182: 12, 5550: 12, 8401: 12, 4111: 12, 7356: 12, 5485: 12, 4902: 12, 8488: 12, 5944: 12, 5902: 12, 6097: 12, 6154: 12, 5759: 12, 5543: 12, 4943: 12, 5188: 12, 3498: 12, 4600: 12, 2231: 12, 5508: 12, 4819: 12, 4709: 12, 4412: 12, 5846: 12, 5341: 12, 4176: 12, 2612: 12, 7060: 12, 5082: 12, 5343: 12, 6472: 12, 4519: 12, 1884: 12, 4443: 12, 4678: 12, 5506: 12, 6378: 12, 8815: 12, 7013: 12, 6089: 12, 6122: 12, 6780: 12, 4823: 12, 2700: 12, 5529: 12, 6386: 12, 7384: 12, 6549: 12, 5073: 12, 6250: 12, 7969: 12, 3229: 12, 5031: 12, 6365: 12, 5860: 12, 6338: 12, 5544: 12, 4178: 12, 5741: 12, 3789: 12, 5774: 12, 4824: 12, 8928: 12, 2913: 12, 5328: 12, 7796: 12, 5049: 12, 6569: 12, 9824: 12, 5901: 12, 5443: 12, 8091: 12, 4621: 12, 9025: 12, 6118: 12, 7580: 12, 3883: 12, 4881: 12, 5906: 12, 7371: 12, 6954: 12, 1635: 12, 2952: 12, 2773: 12, 3301: 12, 2159: 12, 8966: 12, 5475: 12, 5478: 12, 8982: 12, 6585: 12, 4913: 12, 5803: 12, 9304: 12, 6818: 12, 5661: 12, 5417: 12, 5768: 12, 7258: 12, 3029: 12, 2770: 12, 8722: 12, 2011: 12, 8513: 12, 5665: 12, 7478: 12, 9509: 12, 6356: 12, 3757: 12, 4440: 12, 6121: 12, 3099: 12, 9779: 12, 5202: 12, 9343: 12, 4584: 12, 8422: 12, 3774: 12, 3844: 12, 6429: 12, 6783: 12, 2686: 12, 4105: 12, 5476: 12, 1978: 12, 6175: 12, 4908: 12, 6881: 12, 6806: 12, 6427: 12, 5349: 12, 8028: 12, 7140: 12, 5468: 12, 5433: 12, 5776: 12, 7272: 12, 2734: 12, 4068: 12, 5642: 12, 3165: 12, 7342: 12, 6257: 12, 3886: 12, 6164: 12, 6256: 12, 5630: 12, 3896: 12, 6807: 12, 5028: 12, 5050: 12, 5524: 12, 5525: 12, 8644: 12, 6651: 12, 7633: 12, 6502: 12, 5372: 12, 5772: 12, 6305: 12, 5679: 12, 8802: 12, 5376: 12, 8150: 12, 6046: 12, 8339: 12, 6213: 12, 4344: 12, 4899: 12, 4394: 12, 5143: 12, 6212: 12, 9967: 12, 5970: 12, 6492: 12, 5520: 12, 9541: 12, 8458: 12, 6869: 12, 6970: 12, 3587: 12, 5973: 12, 7855: 12, 6171: 12, 9197: 12, 6535: 12, 5374: 12, 9363: 12, 2841: 12, 5558: 12, 7233: 12, 5685: 12, 4915: 12, 6224: 12, 4904: 12, 8033: 12, 6609: 12, 4810: 12, 9991: 12, 5539: 12, 4972: 12, 5540: 12, 5354: 12, 6360: 12, 6674: 12, 8050: 12, 5758: 12, 5382: 12, 6304: 12, 6047: 12, 6803: 12, 9695: 12, 7755: 12, 6708: 12, 6564: 12, 9039: 12, 8524: 12, 5358: 12, 7178: 12, 6886: 12, 6268: 12, 9176: 12, 5157: 12, 5359: 12, 5361: 12, 6479: 12, 6269: 12, 6272: 12, 4227: 12, 9849: 12, 5515: 12, 7115: 12, 9052: 12, 5794: 12, 7121: 12, 7993: 12, 5392: 12, 9459: 12, 8789: 12, 5024: 12, 8803: 12, 5754: 12, 7687: 12, 5925: 12, 7691: 12, 7688: 12, 5928: 12, 9822: 12, 5716: 12, 5498: 12, 5367: 12, 9003: 12, 5591: 12, 5497: 12, 5921: 12, 3847: 12, 5636: 12, 5635: 12, 6598: 12, 8711: 12, 5517: 12, 5929: 12, 6296: 12, 7207: 12, 6174: 12, 6540: 12, 9212: 12, 6004: 12, 8725: 12, 5601: 12, 5491: 12, 7697: 12, 5627: 12, 8196: 12, 1338: 12, 6216: 12, 6902: 12, 7527: 12, 5964: 12, 8308: 12, 5961: 12, 5807: 12, 5761: 12, 5752: 12, 5757: 12, 6185: 12, 6059: 12, 8160: 12, 7227: 12, 9239: 12, 8100: 12, 6022: 12, 6018: 12, 6559: 12, 9516: 11, 6562: 11, 5222: 11, 5881: 11, 7989: 11, 7528: 11, 5818: 11, 5834: 11, 4445: 11, 2793: 11, 2831: 11, 2960: 11, 6463: 11, 9017: 11, 8255: 11, 7219: 11, 3325: 11, 802: 11, 8338: 11, 8058: 11, 8842: 11, 9503: 11, 9439: 11, 6114: 11, 7437: 11, 5298: 11, 8853: 11, 5702: 11, 9064: 11, 4506: 11, 7091: 11, 6406: 11, 5618: 11, 8922: 11, 6998: 11, 5500: 11, 8351: 11, 4725: 11, 8511: 11, 7770: 11, 5778: 11, 8848: 11, 5728: 11, 5071: 11, 7445: 11, 7405: 11, 6214: 11, 6207: 11, 6850: 11, 7056: 11, 8307: 11, 5402: 11, 9729: 11, 7990: 11, 4861: 11, 6638: 11, 5069: 11, 6142: 11, 5738: 11, 5814: 11, 4686: 11, 4930: 11, 4427: 11, 6221: 11, 6947: 11, 4134: 11, 6049: 11, 4103: 11, 4491: 11, 5429: 11, 8897: 11, 3210: 11, 8801: 11, 5155: 11, 4402: 11, 4048: 11, 2183: 11, 3411: 11, 4590: 11, 9425: 11, 7002: 11, 6990: 11, 9168: 11, 4298: 11, 7982: 11, 6960: 11, 9821: 11, 2090: 11, 7768: 11, 6194: 11, 4592: 11, 7811: 11, 6384: 11, 3709: 11, 8381: 11, 9530: 11, 6223: 11, 8343: 11, 6659: 11, 3215: 11, 8898: 11, 3160: 11, 3220: 11, 5460: 11, 4049: 11, 4062: 11, 4075: 11, 4437: 11, 2407: 11, 2424: 11, 3878: 11, 2668: 11, 5219: 11, 5833: 11, 6385: 11, 9583: 11, 4290: 11, 6584: 11, 6123: 11, 4895: 11, 5777: 11, 5894: 11, 7263: 11, 5819: 11, 7252: 11, 8756: 11, 8445: 11, 8505: 11, 5829: 11, 7856: 11, 5766: 11, 5275: 11, 3966: 11, 8851: 11, 6179: 11, 5873: 11, 5770: 11, 4056: 11, 6988: 11, 6357: 11, 5560: 11, 7974: 11, 4515: 11, 6854: 11, 3666: 11, 6589: 11, 6765: 11, 7865: 11, 4746: 11, 8635: 11, 8242: 11, 6103: 11, 6098: 11, 7301: 11, 5899: 11, 5435: 11, 7112: 11, 6362: 11, 9034: 11, 3387: 11, 7979: 11, 7492: 11, 8860: 11, 4208: 11, 3867: 11, 5461: 11, 7424: 11, 7101: 11, 9029: 11, 2636: 11, 4857: 11, 6010: 11, 4707: 11, 9939: 11, 4083: 11, 6703: 11, 6466: 11, 7975: 11, 3951: 11, 5946: 11, 6252: 11, 2577: 11, 9686: 11, 8447: 11, 4682: 11, 7104: 11, 7875: 11, 5938: 11, 6676: 11, 5785: 11, 9764: 11, 8956: 11, 6796: 11, 3383: 11, 7041: 11, 9340: 11, 6201: 11, 7451: 11, 5912: 11, 9669: 11, 5909: 11, 7290: 11, 7913: 11, 9999: 11, 6040: 11, 4894: 11, 7984: 11, 5484: 11, 4416: 11, 8260: 11, 5885: 11, 3854: 11, 5826: 11, 4070: 11, 7387: 11, 7914: 11, 4065: 11, 6298: 11, 8930: 11, 4121: 11, 5966: 11, 7701: 11, 3485: 11, 6226: 11, 6239: 11, 4929: 11, 4082: 11, 5853: 11, 5654: 11, 5866: 11, 6974: 11, 3856: 11, 8479: 11, 5644: 11, 6012: 11, 6849: 11, 5532: 11, 9788: 11, 6672: 11, 5904: 11, 5911: 11, 2871: 11, 2795: 11, 8598: 11, 6713: 11, 7598: 11, 4748: 11, 5731: 11, 5176: 11, 7052: 11, 3404: 11, 6606: 11, 6431: 11, 6430: 11, 5582: 11, 6065: 11, 2908: 11, 6204: 11, 7142: 11, 1610: 11, 6099: 11, 8641: 11, 5979: 11, 7908: 11, 5980: 11, 6863: 11, 5585: 11, 6232: 11, 6501: 11, 5629: 11, 7139: 11, 2886: 11, 5978: 11, 8276: 11, 5981: 11, 4690: 11, 6165: 11, 8168: 11, 7413: 11, 6088: 11, 6241: 11, 9106: 11, 9412: 11, 8637: 11, 6772: 11, 7742: 11, 6311: 11, 5655: 11, 7348: 11, 7761: 11, 2754: 11, 7469: 11, 1909: 11, 8404: 11, 6048: 11, 8363: 11, 6293: 11, 4663: 11, 6188: 11, 9725: 11, 4505: 11, 9088: 11, 9089: 11, 5781: 11, 6149: 11, 9086: 11, 5051: 11, 6494: 11, 7544: 11, 5971: 11, 6700: 11, 6699: 11, 9542: 11, 9543: 11, 6113: 11, 7135: 11, 7134: 11, 7839: 11, 8020: 11, 5862: 11, 4539: 11, 6550: 11, 7131: 11, 5822: 11, 7199: 11, 6537: 11, 5554: 11, 8080: 11, 7731: 11, 8765: 11, 8191: 11, 6656: 11, 6003: 11, 7202: 11, 6034: 11, 5467: 11, 7223: 11, 6106: 11, 9145: 11, 7157: 11, 5782: 11, 6109: 11, 7154: 11, 9156: 11, 9655: 11, 6302: 11, 6933: 11, 5058: 11, 6071: 11, 6619: 11, 9556: 11, 8963: 11, 6426: 11, 7911: 11, 8065: 11, 9175: 11, 7176: 11, 6522: 11, 6720: 11, 6547: 11, 5998: 11, 7666: 11, 9869: 11, 6483: 11, 7116: 11, 7999: 11, 5957: 11, 6478: 11, 5767: 11, 6273: 11, 5793: 11, 7995: 11, 9051: 11, 7117: 11, 7996: 11, 5514: 11, 5615: 11, 8700: 11, 9265: 11, 7235: 11, 5209: 11, 5817: 11, 8784: 11, 6310: 11, 5816: 11, 5828: 11, 8795: 11, 6458: 11, 5798: 11, 7959: 11, 6283: 11, 5796: 11, 5927: 11, 6802: 11, 6457: 11, 6279: 11, 6144: 11, 6462: 11, 7086: 11, 6455: 11, 7338: 11, 5657: 11, 7686: 11, 6446: 11, 3131: 11, 6901: 11, 5962: 11, 4834: 11, 7610: 11, 6542: 11, 6544: 11, 6926: 11, 6005: 11, 6205: 11, 8212: 11, 6541: 11, 6211: 11, 8980: 11, 5825: 11, 9447: 11, 7738: 11, 5602: 11, 9812: 11, 5805: 11, 5963: 11, 8741: 11, 8005: 11, 6237: 11, 9078: 11, 8331: 11, 6220: 11, 6669: 11, 8266: 11, 5809: 11, 5811: 11, 6604: 11, 5810: 11, 9334: 11, 6021: 11, 6289: 11, 9242: 11, 9241: 11, 4809: 11, 7408: 10, 8243: 10, 6829: 10, 9097: 10, 5330: 10, 8416: 10, 5531: 10, 8285: 10, 6793: 10, 2731: 10, 9427: 10, 4097: 10, 4085: 10, 6075: 10, 8906: 10, 7817: 10, 3825: 10, 5763: 10, 0: 10, 6200: 10, 5863: 10, 3873: 10, 4490: 10, 7017: 10, 9544: 10, 6068: 10, 5420: 10, 6133: 10, 5611: 10, 6394: 10, 6813: 10, 6707: 10, 5649: 10, 5217: 10, 6678: 10, 7382: 10, 5276: 10, 6794: 10, 5871: 10, 5053: 10, 6317: 10, 4687: 10, 3497: 10, 2673: 10, 6567: 10, 6804: 10, 6432: 10, 5527: 10, 6229: 10, 5027: 10, 6187: 10, 7453: 10, 9561: 10, 8144: 10, 6973: 10, 7217: 10, 6573: 10, 5891: 10, 9139: 10, 2826: 10, 6157: 10, 5699: 10, 3304: 10, 4434: 10, 9220: 10, 7377: 10, 5191: 10, 6832: 10, 5146: 10, 6306: 10, 5142: 10, 4751: 10, 3028: 10, 6044: 10, 9534: 10, 5304: 10, 4328: 10, 5123: 10, 3802: 10, 9835: 10, 6929: 10, 2589: 10, 6722: 10, 6329: 10, 7499: 10, 5701: 10, 6358: 10, 6924: 10, 7212: 10, 9466: 10, 6316: 10, 6922: 10, 7744: 10, 8849: 10, 6173: 10, 7815: 10, 3144: 10, 5313: 10, 6711: 10, 5875: 10, 6845: 10, 2742: 10, 7822: 10, 7010: 10, 5750: 10, 6594: 10, 6634: 10, 5890: 10, 7011: 10, 5070: 10, 4829: 10, 5208: 10, 6586: 10, 6839: 10, 4563: 10, 9130: 10, 8273: 10, 7925: 10, 5104: 10, 6835: 10, 7189: 10, 2778: 10, 3723: 10, 9843: 10, 7540: 10, 6675: 10, 5026: 10, 6313: 10, 9622: 10, 8093: 10, 6363: 10, 7823: 10, 4494: 10, 7798: 10, 4343: 10, 7474: 10, 5931: 10, 7577: 10, 6745: 10, 5868: 10, 9632: 10, 8896: 10, 5857: 10, 5613: 10, 8905: 10, 4547: 10, 5462: 10, 4714: 10, 5088: 10, 7752: 10, 8997: 10, 5563: 10, 7166: 10, 7498: 10, 6735: 10, 5171: 10, 7452: 10, 4520: 10, 6155: 10, 3898: 10, 7850: 10, 5187: 10, 8899: 10, 9577: 10, 4205: 10, 4454: 10, 6008: 10, 8924: 10, 7032: 10, 6921: 10, 2811: 10, 4912: 10, 6379: 10, 9912: 10, 9082: 10, 6696: 10, 8092: 10, 6253: 10, 7153: 10, 9941: 10, 9028: 10, 8222: 10, 9932: 10, 7972: 10, 5867: 10, 6660: 10, 5057: 10, 9573: 10, 4320: 10, 6513: 10, 6181: 10, 5653: 10, 7350: 10, 7447: 10, 5737: 10, 5397: 10, 9032: 10, 7000: 10, 7100: 10, 6605: 10, 8449: 10, 7097: 10, 6143: 10, 6067: 10, 7094: 10, 6327: 10, 5877: 10, 6635: 10, 8104: 10, 9944: 10, 4433: 10, 7862: 10, 6166: 10, 9692: 10, 8831: 10, 4423: 10, 9035: 10, 7966: 10, 7419: 10, 5541: 10, 9832: 10, 3872: 10, 7098: 10, 6465: 10, 8345: 10, 8837: 10, 8671: 10, 6400: 10, 6883: 10, 7549: 10, 7046: 10, 5786: 10, 8875: 10, 6548: 10, 8959: 10, 8968: 10, 6340: 10, 7909: 10, 6265: 10, 7316: 10, 6820: 10, 7912: 10, 9275: 10, 7915: 10, 7040: 10, 9252: 10, 3183: 10, 7929: 10, 7073: 10, 8288: 10, 6445: 10, 6903: 10, 5748: 10, 8855: 10, 2966: 10, 3031: 10, 2833: 10, 7367: 10, 8261: 10, 5624: 10, 6908: 10, 3893: 10, 8844: 10, 6506: 10, 7038: 10, 7031: 10, 8955: 10, 8388: 10, 6372: 10, 6826: 10, 7168: 10, 9273: 10, 7938: 10, 6816: 10, 5290: 10, 4883: 10, 4815: 10, 3329: 10, 5745: 10, 6688: 10, 4331: 10, 9787: 10, 8961: 10, 6218: 10, 4541: 10, 9732: 10, 6836: 10, 7030: 10, 7657: 10, 8514: 10, 9784: 10, 8081: 10, 3827: 10, 6759: 10, 6842: 10, 8865: 10, 4717: 10, 6475: 10, 5628: 10, 6388: 10, 6727: 10, 2736: 10, 6531: 10, 8828: 10, 4847: 10, 7218: 10, 7431: 10, 9107: 10, 8030: 10, 7143: 10, 7632: 10, 6860: 10, 7505: 10, 8843: 10, 8640: 10, 5265: 10, 8949: 10, 5947: 10, 7295: 10, 3618: 10, 4743: 10, 6186: 10, 5056: 10, 7022: 10, 7026: 10, 9111: 10, 4471: 10, 8375: 10, 7393: 10, 4820: 10, 8294: 10, 6242: 10, 8295: 10, 7353: 10, 8193: 10, 6380: 10, 6667: 10, 5068: 10, 6500: 10, 7592: 10, 6595: 10, 7634: 10, 6716: 10, 5077: 10, 5059: 10, 2305: 10, 6319: 10, 6309: 10, 6723: 10, 7590: 10, 6840: 10, 6841: 10, 3578: 10, 6837: 10, 6751: 10, 6578: 10, 5941: 10, 6552: 10, 6786: 10, 9640: 10, 7661: 10, 6936: 10, 7536: 10, 9227: 10, 9699: 10, 9697: 10, 5652: 10, 9698: 10, 4752: 10, 8509: 10, 9096: 10, 9098: 10, 7642: 10, 8309: 10, 5969: 10, 9095: 10, 5913: 10, 6259: 10, 5055: 10, 7582: 10, 6090: 10, 6497: 10, 4831: 10, 6799: 10, 6761: 10, 8234: 10, 7198: 10, 6620: 10, 8078: 10, 6236: 10, 6757: 10, 6750: 10, 4441: 10, 6706: 10, 9202: 10, 6534: 10, 7425: 10, 6538: 10, 6536: 10, 7156: 10, 7648: 10, 5178: 10, 5940: 10, 6673: 10, 6516: 10, 8048: 10, 8052: 10, 7160: 10, 9144: 10, 9844: 10, 8591: 10, 6299: 10, 6702: 10, 5578: 10, 9738: 10, 6308: 10, 7773: 10, 3424: 10, 7300: 10, 7680: 10, 8111: 10, 8689: 10, 6888: 10, 7177: 10, 6524: 10, 5548: 10, 7182: 10, 6719: 10, 6521: 10, 7184: 10, 6981: 10, 6245: 10, 8693: 10, 6270: 10, 8692: 10, 6274: 10, 6627: 10, 5614: 10, 9823: 10, 6275: 10, 6747: 10, 9063: 10, 6628: 10, 6480: 10, 6843: 10, 7310: 10, 6484: 10, 8119: 10, 6277: 10, 7684: 10, 6715: 10, 8115: 10, 8109: 10, 8427: 10, 6318: 10, 6805: 10, 7079: 10, 9007: 10, 8501: 10, 6461: 10, 7954: 10, 9000: 10, 9009: 10, 9765: 10, 9834: 10, 9332: 10, 7953: 10, 7957: 10, 6056: 10, 5734: 10, 9001: 10, 6281: 10, 7087: 10, 9482: 10, 9013: 10, 8728: 10, 6900: 10, 6677: 10, 9519: 10, 8368: 10, 9209: 10, 6006: 10, 7205: 10, 6295: 10, 6297: 10, 7482: 10, 6639: 10, 6545: 10, 8981: 10, 7699: 10, 8776: 10, 9448: 10, 7071: 10, 7700: 10, 7707: 10, 6643: 10, 9907: 10, 6833: 10, 7533: 10, 6450: 10, 9500: 10, 9501: 10, 7391: 10, 6623: 10, 6622: 10, 6624: 10, 2741: 10, 6448: 10, 6284: 10, 6286: 10, 6486: 10, 8740: 10, 8008: 10, 6697: 10, 9067: 10, 9077: 10, 3874: 10, 6825: 10, 9827: 10, 9076: 10, 7416: 10, 6314: 10, 9902: 10, 6668: 10, 6227: 10, 6767: 10, 5808: 10, 9339: 10, 6913: 10, 6555: 10, 6558: 10, 8751: 10, 6557: 10, 9237: 10, 7720: 10, 8666: 10, 7418: 10, 8493: 10, 6320: 10, 8354: 9, 8227: 9, 7892: 9, 4305: 9, 9629: 9, 7730: 9, 7366: 9, 6690: 9, 7428: 9, 6529: 9, 7171: 9, 5337: 9, 7877: 9, 3782: 9, 7383: 9, 7439: 9, 9193: 9, 6812: 9, 9191: 9, 8880: 9, 6920: 9, 3369: 9, 8395: 9, 5062: 9, 1941: 9, 6847: 9, 9454: 9, 5499: 9, 6441: 9, 1489: 9, 9417: 9, 6393: 9, 4210: 9, 7111: 9, 6726: 9, 5272: 9, 7612: 9, 7283: 9, 6551: 9, 4351: 9, 5483: 9, 5739: 9, 7722: 9, 4409: 9, 8036: 9, 6343: 9, 8553: 9, 8623: 9, 5416: 9, 7432: 9, 4896: 9, 7897: 9, 6464: 9, 7261: 9, 7617: 9, 5074: 9, 4531: 9, 7769: 9, 8517: 9, 8507: 9, 7760: 9, 7253: 9, 8455: 9, 5633: 9, 9190: 9, 6074: 9, 7625: 9, 6414: 9, 9928: 9, 6648: 9, 3624: 9, 7266: 9, 6083: 9, 8856: 9, 5444: 9, 5264: 9, 7380: 9, 9346: 9, 6923: 9, 7247: 9, 5631: 9, 8753: 9, 7216: 9, 6473: 9, 7362: 9, 6965: 9, 6383: 9, 2542: 9, 7284: 9, 6709: 9, 7480: 9, 9603: 9, 5311: 9, 6178: 9, 7799: 9, 7361: 9, 7784: 9, 5880: 9, 7728: 9, 6408: 9, 9935: 9, 8918: 9, 8130: 9, 9860: 9, 7864: 9, 4407: 9, 4066: 9, 7417: 9, 6613: 9, 8783: 9, 5948: 9, 8386: 9, 1375: 9, 9119: 9, 7618: 9, 6769: 9, 8556: 9, 5625: 9, 5942: 9, 4560: 9, 4839: 9, 3615: 9, 5984: 9, 7589: 9, 8400: 9, 7553: 9, 7341: 9, 3389: 9, 7150: 9, 2717: 9, 3976: 9, 6183: 9, 5693: 9, 6052: 9, 7904: 9, 5103: 9, 7884: 9, 7779: 9, 6443: 9, 8096: 9, 6341: 9, 3984: 9, 5569: 9, 8397: 9, 5528: 9, 7794: 9, 6994: 9, 8978: 9, 7494: 9, 7805: 9, 7529: 9, 4900: 9, 5678: 9, 9475: 9, 9688: 9, 6209: 9, 7496: 9, 6934: 9, 7575: 9, 6013: 9, 4303: 9, 7604: 9, 3727: 9, 7970: 9, 2115: 9, 7973: 9, 6235: 9, 8094: 9, 6946: 9, 9512: 9, 8814: 9, 7099: 9, 7346: 9, 8946: 9, 7593: 9, 7594: 9, 7102: 9, 7627: 9, 7568: 9, 4612: 9, 4285: 9, 7857: 9, 4544: 9, 9929: 9, 7977: 9, 5086: 9, 5228: 9, 5605: 9, 8854: 9, 8893: 9, 7464: 9, 9794: 9, 8888: 9, 6240: 9, 5252: 9, 8167: 9, 8878: 9, 6100: 9, 9033: 9, 7801: 9, 7329: 9, 3466: 9, 4333: 9, 3968: 9, 6993: 9, 7103: 9, 8518: 9, 7164: 9, 8824: 9, 2955: 9, 7829: 9, 7421: 9, 7488: 9, 7514: 9, 6941: 9, 5996: 9, 7778: 9, 7932: 9, 7001: 9, 7170: 9, 6080: 9, 1181: 9, 9342: 9, 9778: 9, 6827: 9, 5864: 9, 7539: 9, 1117: 9, 2989: 9, 9828: 9, 6817: 9, 3360: 9, 5749: 9, 8057: 9, 7065: 9, 9793: 9, 7050: 9, 5991: 9, 5903: 9, 7388: 9, 7368: 9, 7093: 9, 7509: 9, 3379: 9, 8262: 9, 6033: 9, 8219: 9, 8166: 9, 8438: 9, 8779: 9, 4057: 9, 6546: 9, 6844: 9, 6509: 9, 4927: 9, 5285: 9, 9602: 9, 6163: 9, 7190: 9, 7586: 9, 9510: 9, 6367: 9, 6438: 9, 8245: 9, 6401: 9, 7048: 9, 8121: 9, 9522: 9, 5888: 9, 7051: 9, 9341: 9, 7824: 9, 6907: 9, 7049: 9, 7573: 9, 5696: 9, 8583: 9, 7542: 9, 7016: 9, 2980: 9, 7044: 9, 6590: 9, 7467: 9, 7916: 9, 7173: 9, 9368: 9, 3888: 9, 7616: 9, 5511: 9, 5588: 9, 9745: 9, 8962: 9, 7047: 9, 5727: 9, 5244: 9, 6852: 9, 9623: 9, 5593: 9, 9351: 9, 6695: 9, 9234: 9, 5878: 9, 4258: 9, 8506: 9, 9931: 9, 7144: 9, 7334: 9, 6859: 9, 8029: 9, 6126: 9, 9807: 9, 3218: 9, 6091: 9, 5323: 9, 7137: 9, 7113: 9, 6169: 9, 9080: 9, 7446: 9, 5455: 9, 220: 9, 6238: 9, 7343: 9, 3974: 9, 2315: 9, 7567: 9, 6436: 9, 7196: 9, 6959: 9, 7576: 9, 5449: 9, 9604: 9, 6737: 9, 8300: 9, 7146: 9, 7468: 9, 7395: 9, 7392: 9, 6644: 9, 8148: 9, 6831: 9, 8647: 9, 6243: 9, 5688: 9, 5060: 9, 7433: 9, 4472: 9, 5419: 9, 5989: 9, 3380: 9, 7075: 9, 8405: 9, 7732: 9, 8519: 9, 7034: 9, 8103: 9, 8491: 9, 7603: 9, 9773: 9, 7550: 9, 7564: 9, 6949: 9, 8572: 9, 7057: 9, 9970: 9, 6151: 9, 6495: 9, 8017: 9, 7644: 9, 8016: 9, 8890: 9, 9041: 9, 7161: 9, 7535: 9, 7028: 9, 7136: 9, 7385: 9, 6870: 9, 6633: 9, 9090: 9, 8378: 9, 8122: 9, 9199: 9, 4595: 9, 8079: 9, 7318: 9, 8117: 9, 7497: 9, 7602: 9, 8075: 9, 7426: 9, 9200: 9, 7158: 9, 7159: 9, 9148: 9, 7155: 9, 8267: 9, 8049: 9, 5457: 9, 8759: 9, 8051: 9, 7649: 9, 6874: 9, 9146: 9, 7650: 9, 8055: 9, 8056: 9, 9153: 9, 9142: 9, 8659: 9, 5375: 9, 7749: 9, 7591: 9, 7572: 9, 7559: 9, 9768: 9, 8311: 9, 7340: 9, 7502: 9, 7651: 9, 7234: 9, 8113: 9, 6887: 9, 9180: 9, 7659: 9, 7663: 9, 7465: 9, 9174: 9, 7180: 9, 7660: 9, 6219: 9, 9177: 9, 8539: 9, 7122: 9, 9055: 9, 7670: 9, 4879: 9, 7309: 9, 7308: 9, 8577: 9, 8694: 9, 9059: 9, 6893: 9, 8002: 9, 6482: 9, 9267: 9, 8231: 9, 6892: 9, 7436: 9, 7679: 9, 8112: 9, 7089: 9, 7435: 9, 7597: 9, 9263: 9, 7236: 9, 6930: 9, 7443: 9, 7187: 9, 7595: 9, 6375: 9, 7563: 9, 6307: 9, 7588: 9, 7951: 9, 9854: 9, 7949: 9, 7952: 9, 7689: 9, 7083: 9, 9006: 9, 7692: 9, 7956: 9, 6897: 9, 8014: 9, 6603: 9, 7088: 9, 8715: 9, 7082: 9, 7335: 9, 7336: 9, 8525: 9, 8281: 9, 7085: 9, 7554: 9, 7936: 9, 8732: 9, 7941: 9, 8730: 9, 7276: 9, 7410: 9, 7459: 9, 7460: 9, 7208: 9, 9210: 9, 7206: 9, 8523: 9, 7601: 9, 7210: 9, 7733: 9, 8086: 9, 9208: 9, 6927: 9, 7933: 9, 7069: 9, 8174: 9, 7937: 9, 7352: 9, 8248: 9, 7702: 9, 8218: 9, 7291: 9, 8292: 9, 9374: 9, 7369: 9, 8200: 9, 8201: 9, 6834: 9, 9805: 9, 7127: 9, 9075: 9, 8006: 9, 7764: 9, 7409: 9, 8007: 9, 7415: 9, 6935: 9, 6875: 9, 7375: 9, 9468: 9, 7711: 9, 9335: 9, 7750: 9, 8162: 9, 6912: 9, 7279: 9, 9243: 9, 7226: 9, 7225: 9, 8098: 9, 6918: 9, 7224: 9, 7609: 9, 6876: 9, 6919: 9, 7721: 9, 8750: 8, 7237: 8, 8414: 8, 7962: 8, 8043: 8, 3983: 8, 8283: 8, 8550: 8, 8557: 8, 8286: 8, 8492: 8, 7918: 8, 6530: 8, 9792: 8, 8432: 8, 6617: 8, 6979: 8, 8614: 8, 5879: 8, 8600: 8, 5310: 8, 2836: 8, 7803: 8, 9532: 8, 8559: 8, 6680: 8, 8284: 8, 8070: 8, 8876: 8, 8552: 8, 7427: 8, 8570: 8, 6776: 8, 9671: 8, 8605: 8, 4359: 8, 8858: 8, 8408: 8, 8263: 8, 4931: 8, 7608: 8, 6291: 8, 9525: 8, 8613: 8, 8548: 8, 9737: 8, 7110: 8, 7240: 8, 8612: 8, 157: 8, 9382: 8, 7885: 8, 7746: 8, 7372: 8, 8597: 8, 7624: 8, 8419: 8, 7024: 8, 4916: 8, 5571: 8, 8434: 8, 7846: 8, 7816: 8, 7483: 8, 8526: 8, 9251: 8, 9450: 8, 5915: 8, 4104: 8, 9311: 8, 6961: 8, 8615: 8, 7883: 8, 2910: 8, 9135: 8, 9115: 8, 7448: 8, 9451: 8, 7583: 8, 8355: 8, 7725: 8, 4468: 8, 6369: 8, 6395: 8, 7503: 8, 8342: 8, 4885: 8, 8496: 8, 8446: 8, 7486: 8, 4356: 8, 9321: 8, 8588: 8, 8791: 8, 8125: 8, 7287: 8, 8251: 8, 8224: 8, 7332: 8, 8142: 8, 7757: 8, 7858: 8, 7887: 8, 8463: 8, 7640: 8, 6575: 8, 7763: 8, 6141: 8, 6000: 8, 8626: 8, 8480: 8, 6402: 8, 4241: 8, 8352: 8, 8136: 8, 8820: 8, 9634: 8, 8315: 8, 6407: 8, 8095: 8, 9476: 8, 7441: 8, 8317: 8, 6714: 8, 8617: 8, 7244: 8, 9679: 8, 8298: 8, 8412: 8, 9616: 8, 8334: 8, 8822: 8, 5706: 8, 8497: 8, 7522: 8, 6846: 8, 8039: 8, 6147: 8, 3780: 8, 9184: 8, 8477: 8, 8630: 8, 8799: 8, 9820: 8, 6370: 8, 5266: 8, 5643: 8, 9222: 8, 4122: 8, 8203: 8, 7331: 8, 9316: 8, 6199: 8, 8379: 8, 7828: 8, 7810: 8, 4130: 8, 6434: 8, 7188: 8, 4114: 8, 7378: 8, 8841: 8, 9667: 8, 5225: 8, 6999: 8, 8585: 8, 8460: 8, 9280: 8, 6596: 8, 7753: 8, 5939: 8, 8520: 8, 7748: 8, 8576: 8, 7257: 8, 7398: 8, 7358: 8, 7832: 8, 8555: 8, 7628: 8, 6987: 8, 7926: 8, 7404: 8, 5117: 8, 9322: 8, 7878: 8, 9942: 8, 7014: 8, 7880: 8, 8329: 8, 2902: 8, 7293: 8, 7629: 8, 8536: 8, 5166: 8, 6798: 8, 3652: 8, 7012: 8, 6451: 8, 8512: 8, 7389: 8, 9740: 8, 4261: 8, 9022: 8, 6980: 8, 7630: 8, 7463: 8, 8385: 8, 9670: 8, 7054: 8, 6777: 8, 8717: 8, 9291: 8, 8335: 8, 4338: 8, 7980: 8, 9224: 8, 9511: 8, 8910: 8, 6381: 8, 5464: 8, 9547: 8, 7978: 8, 4325: 8, 9360: 8, 6662: 8, 5708: 8, 7795: 8, 7792: 8, 9506: 8, 5336: 8, 8305: 8, 8417: 8, 7420: 8, 7976: 8, 6115: 8, 6779: 8, 9945: 8, 3021: 8, 3857: 8, 6641: 8, 7092: 8, 7655: 8, 8951: 8, 8669: 8, 8164: 8, 8670: 8, 7656: 8, 7658: 8, 9289: 8, 9570: 8, 9136: 8, 8532: 8, 7775: 8, 8562: 8, 9638: 8, 9411: 8, 7434: 8, 8421: 8, 7654: 8, 8673: 8, 8318: 8, 9701: 8, 6625: 8, 8175: 8, 7412: 8, 9677: 8, 7698: 8, 4556: 8, 9684: 8, 8444: 8, 6418: 8, 7900: 8, 5422: 8, 7055: 8, 5456: 8, 8595: 8, 8574: 8, 7935: 8, 9624: 8, 7578: 8, 8991: 8, 8547: 8, 7809: 8, 8303: 8, 7581: 8, 5859: 8, 7495: 8, 8682: 8, 7043: 8, 7229: 8, 9440: 8, 6791: 8, 5452: 8, 8238: 8, 7920: 8, 9809: 8, 8883: 8, 9285: 8, 8957: 8, 8435: 8, 8358: 8, 2832: 8, 6978: 8, 9458: 8, 3900: 8, 6528: 8, 7339: 8, 7623: 8, 6614: 8, 9303: 8, 7543: 8, 8423: 8, 8620: 8, 7927: 8, 6962: 8, 8586: 8, 8131: 8, 9068: 8, 2372: 8, 8223: 8, 6156: 8, 9108: 8, 7635: 8, 8645: 8, 7636: 8, 9723: 8, 4042: 8, 9414: 8, 9430: 8, 5700: 8, 6565: 8, 8470: 8, 9429: 8, 8240: 8, 9434: 8, 9432: 8, 5215: 8, 8221: 8, 8239: 8, 5277: 8, 9956: 8, 2421: 8, 7869: 8, 9325: 8, 8027: 8, 8537: 8, 6398: 8, 8569: 8, 6570: 8, 5619: 8, 6582: 8, 6054: 8, 3426: 8, 5186: 8, 8413: 8, 6568: 8, 3882: 8, 9631: 8, 6862: 8, 5294: 8, 6838: 8, 9682: 8, 9364: 8, 7423: 8, 7802: 8, 7759: 8, 4533: 8, 3521: 8, 8788: 8, 8631: 8, 9678: 8, 8469: 8, 8616: 8, 7848: 8, 7250: 8, 8462: 8, 8793: 8, 9726: 8, 7729: 8, 8528: 8, 8510: 8, 8013: 8, 8611: 8, 8015: 8, 8012: 8, 8653: 8, 8376: 8, 8021: 8, 6797: 8, 7641: 8, 9094: 8, 9971: 8, 8271: 8, 9099: 8, 7772: 8, 9520: 8, 6030: 8, 8019: 8, 8763: 8, 7513: 8, 8233: 8, 5709: 8, 9615: 8, 9198: 8, 9196: 8, 8076: 8, 7922: 8, 9266: 8, 7347: 8, 8761: 8, 7376: 8, 8054: 8, 8053: 8, 9989: 8, 7647: 8, 9147: 8, 5287: 8, 7997: 8, 6228: 8, 7548: 8, 8269: 8, 9157: 8, 9151: 8, 9992: 8, 3831: 8, 8268: 8, 3296: 8, 7741: 8, 7756: 8, 8538: 8, 8580: 8, 6788: 8, 8808: 8, 8892: 8, 8719: 8, 8665: 8, 8703: 8, 8687: 8, 7179: 8, 39: 8, 8068: 8, 7963: 8, 8069: 8, 9172: 8, 8207: 8, 7183: 8, 7965: 8, 7662: 8, 7676: 8, 7998: 8, 9057: 8, 8123: 8, 8204: 8, 9058: 8, 7830: 8, 8696: 8, 7671: 8, 7674: 8, 8001: 8, 7672: 8, 7683: 8, 8205: 8, 8000: 8, 7675: 8, 8116: 8, 8114: 8, 8120: 8, 8110: 8, 7681: 8, 8290: 8, 9264: 8, 9270: 8, 8701: 8, 5308: 8, 8118: 8, 7790: 8, 8787: 8, 7373: 8, 8472: 8, 8415: 8, 7726: 8, 8487: 8, 8806: 8, 7727: 8, 7084: 8, 8157: 8, 9923: 8, 7958: 8, 5192: 8, 8713: 8, 7690: 8, 8596: 8, 7950: 8, 7947: 8, 8418: 8, 8420: 8, 8364: 8, 8712: 8, 7694: 8, 8158: 8, 9829: 8, 8279: 8, 7695: 8, 8282: 8, 7961: 8, 8508: 8, 9405: 8, 8228: 8, 7942: 8, 8323: 8, 9010: 8, 8367: 8, 8322: 8, 9215: 8, 8088: 8, 7737: 8, 9214: 8, 8406: 8, 7734: 8, 7735: 8, 9213: 8, 7736: 8, 8549: 8, 9836: 8, 7704: 8, 9861: 8, 7934: 8, 7931: 8, 9536: 8, 8992: 8, 8780: 8, 9392: 8, 7739: 8, 7238: 8, 9645: 8, 8177: 8, 7706: 8, 8293: 8, 8197: 8, 9376: 8, 8199: 8, 9908: 8, 9375: 8, 8985: 8, 7708: 8, 8004: 8, 9069: 8, 7709: 8, 7724: 8, 8320: 8, 7570: 8, 9071: 8, 8601: 8, 9065: 8, 7402: 8, 9073: 8, 8792: 8, 9674: 8, 7710: 8, 7714: 8, 8618: 8, 8545: 8, 8161: 8, 9238: 8, 9245: 8, 9250: 8, 8752: 8, 9759: 8, 7719: 8, 7718: 8, 8099: 8, 8101: 8, 8568: 8, 8777: 8, 8235: 8, 3079: 7, 8702: 7, 7868: 7, 7605: 7, 9406: 7, 8977: 7, 3837: 7, 9281: 7, 9558: 7, 9559: 7, 4115: 7, 9658: 7, 9355: 7, 8873: 7, 9817: 7, 9881: 7, 6636: 7, 8179: 7, 7842: 7, 8625: 7, 9219: 7, 9554: 7, 7025: 7, 9913: 7, 9659: 7, 9806: 7, 9312: 7, 8542: 7, 8979: 7, 8456: 7, 9841: 7, 9760: 7, 3711: 7, 6991: 7, 9485: 7, 9885: 7, 9486: 7, 9766: 7, 9802: 7, 4319: 7, 7191: 7, 9911: 7, 8502: 7, 1464: 7, 9186: 7, 9833: 7, 3876: 7, 8324: 7, 9581: 7, 4011: 7, 9557: 7, 8563: 7, 8180: 7, 7349: 7, 6217: 7, 9582: 7, 8143: 7, 8925: 7, 9936: 7, 9718: 7, 8943: 7, 6985: 7, 8425: 7, 8042: 7, 9315: 7, 8313: 7, 9905: 7, 8624: 7, 9192: 7, 5302: 7, 6416: 7, 8857: 7, 7006: 7, 9424: 7, 9307: 7, 3238: 7, 6131: 7, 8603: 7, 7058: 7, 9790: 7, 3115: 7, 6064: 7, 6618: 7, 4937: 7, 9617: 7, 8516: 7, 7551: 7, 9866: 7, 8253: 7, 4289: 7, 3164: 7, 9872: 7, 5634: 7, 6035: 7, 8948: 7, 3195: 7, 9904: 7, 9545: 7, 5691: 7, 9831: 7, 8474: 7, 5261: 7, 3146: 7, 5671: 7, 9369: 7, 9930: 7, 9159: 7, 9704: 7, 4816: 7, 9048: 7, 8387: 7, 5730: 7, 7363: 7, 5641: 7, 7193: 7, 6085: 7, 8441: 7, 9578: 7, 8034: 7, 5884: 7, 9595: 7, 8314: 7, 8357: 7, 9897: 7, 9896: 7, 9621: 7, 8628: 7, 9441: 7, 7501: 7, 964: 7, 9465: 7, 7882: 7, 5604: 7, 7303: 7, 9639: 7, 8972: 7, 5898: 7, 9185: 7, 1854: 7, 4919: 7, 5771: 7, 5233: 7, 5598: 7, 7245: 7, 9884: 7, 9279: 7, 5206: 7, 3006: 7, 9046: 7, 7579: 7, 9187: 7, 6808: 7, 6681: 7, 8178: 7, 8216: 7, 8437: 7, 7035: 7, 9741: 7, 9903: 7, 9580: 7, 9117: 7, 8996: 7, 8974: 7, 9894: 7, 9507: 7, 8126: 7, 9813: 7, 8758: 7, 8919: 7, 5695: 7, 8210: 7, 6632: 7, 9899: 7, 7891: 7, 6670: 7, 8543: 7, 8872: 7, 9026: 7, 9916: 7, 9031: 7, 9027: 7, 9562: 7, 8581: 7, 7192: 7, 7203: 7, 9036: 7, 8900: 7, 9652: 7, 7881: 7, 8633: 7, 9610: 7, 7834: 7, 6821: 7, 8328: 7, 8632: 7, 8031: 7, 9443: 7, 5609: 7, 3967: 7, 8634: 7, 9383: 7, 6197: 7, 6742: 7, 6810: 7, 7321: 7, 9037: 7, 5676: 7, 7517: 7, 7983: 7, 7992: 7, 6687: 7, 9770: 7, 7565: 7, 8325: 7, 7525: 7, 7390: 7, 6503: 7, 3603: 7, 9548: 7, 4892: 7, 9758: 7, 9943: 7, 9883: 7, 4889: 7, 9683: 7, 6768: 7, 9706: 7, 9204: 7, 8515: 7, 9408: 7, 4400: 7, 8439: 7, 9803: 7, 8584: 7, 9457: 7, 9461: 7, 3542: 7, 9038: 7, 8105: 7, 6230: 7, 6093: 7, 9166: 7, 8299: 7, 4925: 7, 9504: 7, 9402: 7, 7249: 7, 9398: 7, 9205: 7, 6112: 7, 7964: 7, 7019: 7, 9229: 7, 7516: 7, 8965: 7, 9730: 7, 8246: 7, 8185: 7, 7029: 7, 8679: 7, 8677: 7, 9650: 7, 6153: 7, 7921: 7, 6943: 7, 9673: 7, 8359: 7, 8128: 7, 8674: 7, 9847: 7, 3417: 7, 8366: 7, 8735: 7, 8723: 7, 8327: 7, 8729: 7, 9255: 7, 8778: 7, 9020: 7, 9462: 7, 9490: 7, 9021: 7, 8913: 7, 9393: 7, 8835: 7, 8781: 7, 8629: 7, 8672: 7, 7879: 7, 8215: 7, 9314: 7, 8163: 7, 9587: 7, 8341: 7, 6731: 7, 8733: 7, 9649: 7, 4715: 7, 7621: 7, 3849: 7, 9777: 7, 9590: 7, 9875: 7, 8990: 7, 9785: 7, 8984: 7, 9284: 7, 6160: 7, 9859: 7, 8304: 7, 8964: 7, 9851: 7, 8680: 7, 3214: 7, 7519: 7, 9123: 7, 6504: 7, 7818: 7, 7248: 7, 9733: 7, 8326: 7, 5982: 7, 9853: 7, 9231: 7, 6489: 7, 8301: 7, 8165: 7, 8877: 7, 6729: 7, 8953: 7, 9390: 7, 7987: 7, 7214: 7, 9917: 7, 9572: 7, 3148: 7, 6608: 7, 9922: 7, 6645: 7, 9528: 7, 8989: 7, 7374: 7, 8681: 7, 7874: 7, 7456: 7, 5441: 7, 7007: 7, 5198: 7, 8356: 7, 8468: 7, 9161: 7, 9112: 7, 7903: 7, 9113: 7, 8264: 7, 9110: 7, 9961: 7, 8934: 7, 6215: 7, 9433: 7, 9919: 7, 6139: 7, 7596: 7, 8639: 7, 1931: 7, 9722: 7, 9840: 7, 9431: 7, 9396: 7, 9734: 7, 9395: 7, 8907: 7, 7825: 7, 8642: 7, 9915: 7, 9109: 7, 9290: 7, 9605: 7, 4470: 7, 9782: 7, 8643: 7, 8451: 7, 9763: 7, 9776: 7, 9685: 7, 7162: 7, 2892: 7, 6815: 7, 7944: 7, 9105: 7, 9502: 7, 9775: 7, 9830: 7, 7967: 7, 9292: 7, 8704: 7, 1: 7, 8316: 7, 7639: 7, 7355: 7, 8362: 7, 9415: 7, 9413: 7, 8766: 7, 8804: 7, 8785: 7, 3560: 7, 8817: 7, 8587: 7, 8929: 7, 9728: 7, 8214: 7, 7036: 7, 9801: 7, 8072: 7, 4340: 7, 33: 7, 3118: 7, 8760: 7, 9724: 7, 8561: 7, 8652: 7, 8767: 7, 7518: 7, 8181: 7, 7643: 7, 9969: 7, 9102: 7, 9852: 7, 9091: 7, 9975: 7, 6692: 7, 7381: 7, 9394: 7, 8654: 7, 9601: 7, 7305: 7, 9707: 7, 9479: 7, 9103: 7, 9092: 7, 4961: 7, 9488: 7, 713: 7, 6587: 7, 9100: 7, 8651: 7, 8226: 7, 9612: 7, 9613: 7, 9614: 7, 5286: 7, 8132: 7, 8839: 7, 8490: 7, 8942: 7, 9909: 7, 7450: 7, 6507: 7, 6101: 7, 6741: 7, 7063: 7, 4587: 7, 9553: 7, 6069: 7, 7889: 7, 9305: 7, 9154: 7, 8662: 7, 9158: 7, 9984: 7, 9584: 7, 9118: 7, 9152: 7, 8661: 7, 8658: 7, 9391: 7, 9983: 7, 6527: 7, 8657: 7, 9150: 7, 8660: 7, 9891: 7, 8995: 7, 9464: 7, 9648: 7, 6717: 7, 5672: 7, 9879: 7, 9749: 7, 9301: 7, 8140: 7, 9300: 7, 9750: 7, 8208: 7, 9254: 7, 7754: 7, 9365: 7, 9421: 7, 9574: 7, 9422: 7, 9298: 7, 2864: 7, 8800: 7, 9181: 7, 8688: 7, 9286: 7, 5765: 7, 8035: 7, 9550: 7, 9179: 7, 9171: 7, 9826: 7, 8697: 7, 9797: 7, 8627: 7, 8698: 7, 8695: 7, 7808: 7, 9687: 7, 9404: 7, 9379: 7, 9062: 7, 9061: 7, 4474: 7, 9060: 7, 9857: 7, 9271: 7, 9268: 7, 9563: 7, 9890: 7, 9873: 7, 8755: 7, 8794: 7, 8809: 7, 9791: 7, 7762: 7, 1671: 7, 8159: 7, 8720: 7, 9327: 7, 9005: 7, 8714: 7, 7333: 7, 9011: 7, 5639: 7, 9008: 7, 8716: 7, 9331: 7, 8310: 7, 9358: 7, 9663: 7, 9002: 7, 9565: 7, 7622: 7, 9329: 7, 9004: 7, 9012: 7, 9416: 7, 9481: 7, 9889: 7, 9483: 7, 9876: 7, 9015: 7, 9014: 7, 9539: 7, 9856: 7, 9344: 7, 8797: 7, 9211: 7, 8771: 7, 9761: 7, 9892: 7, 8773: 7, 9642: 7, 9762: 7, 8775: 7, 7485: 7, 9637: 7, 8772: 7, 8774: 7, 9216: 7, 8731: 7, 8736: 7, 8994: 7, 9226: 7, 9449: 7, 9535: 7, 8734: 7, 8988: 7, 9353: 7, 8737: 7, 9814: 7, 8993: 7, 9898: 7, 8983: 7, 9886: 7, 9712: 7, 9517: 7, 8742: 7, 9074: 7, 8744: 7, 9070: 7, 9072: 7, 9514: 7, 9513: 7, 9515: 7, 9816: 7, 8790: 7, 9469: 7, 9675: 7, 9470: 7, 9467: 7, 9845: 7, 9336: 7, 7712: 7, 9337: 7, 8748: 7, 8747: 7, 9910: 7, 9249: 7, 9248: 7, 8807: 7, 9240: 7, 9874: 7, 9882: 7, 9247: 7, 9474: 6, 9972: 6, 9101: 6, 7530: 6, 7968: 6, 4323: 6, 8565: 6, 9165: 6, 8879: 6, 4710: 6, 6233: 6, 2066: 6, 4021: 6, 8459: 6, 9121: 6, 5837: 6, 9445: 6, 6610: 6, 9808: 6, 7500: 6, 5434: 6, 9918: 6, 9691: 6, 9167: 6, 332: 6, 9357: 6, 4848: 6, 3848: 6, 6684: 6, 3270: 6, 7064: 6, 9933: 6, 9256: 6, 8546: 6, 7607: 6, 7152: 6, 9385: 6, 9719: 6, 7545: 6, 9702: 6, 7985: 6, 9377: 6, 9927: 6, 2896: 6, 9566: 6, 8579: 6, 9225: 6, 9798: 6, 8521: 6, 9370: 6, 8486: 6, 9842: 6, 6234: 6, 4728: 6, 4197: 6, 7871: 6, 1058: 6, 6066: 6, 4901: 6, 8575: 6, 8275: 6, 5720: 6, 5570: 6, 8442: 6, 6435: 6, 9752: 6, 7555: 6, 9924: 6, 8211: 6, 5949: 6, 5394: 6, 6159: 6, 6773: 6, 6119: 6, 7619: 6, 8443: 6, 4618: 6, 8805: 6, 5190: 6, 5067: 6, 4844: 6, 7986: 6, 7791: 6, 6612: 6, 9657: 6, 9900: 6, 6739: 6, 7852: 6, 9302: 6, 9276: 6, 3320: 6, 9403: 6, 9680: 6, 8237: 6, 8430: 6, 9951: 6, 1557: 6, 9950: 6, 6129: 6, 7870: 6, 9804: 6, 9625: 6, 4626: 6, 5896: 6, 1723: 6, 4038: 6, 9795: 6, 8478: 6, 5836: 6, 6754: 6, 6474: 6, 4287: 6, 9952: 6, 6996: 6, 9946: 6, 9546: 6, 7851: 6, 7320: 6, 9388: 6, 9569: 6, 6629: 6, 9948: 6, 5316: 6, 8476: 6, 9324: 6, 8407: 6, 6560: 6, 8411: 6, 9646: 6, 8621: 6, 7787: 6, 5280: 6, 4209: 6, 9230: 6, 9381: 6, 8383: 6, 5305: 6, 9194: 6, 9043: 6, 2774: 6, 9560: 6, 9810: 6, 8675: 6, 8373: 6, 7163: 6, 6208: 6, 9665: 6, 8129: 6, 7991: 6, 7105: 6, 7541: 6, 5714: 6, 7315: 6, 9134: 6, 7611: 6, 4994: 6, 6116: 6, 9998: 6, 7943: 6, 9742: 6, 9651: 6, 9676: 6, 9714: 6, 8489: 6, 7296: 6, 8609: 6, 621: 6, 1823: 6, 6778: 6, 8428: 6, 6967: 6, 9189: 6, 9129: 6, 5597: 6, 9387: 6, 6663: 6, 9934: 6, 8589: 6, 6830: 6, 6615: 6, 8973: 6, 9959: 6, 9160: 6, 5300: 6, 7788: 6, 8933: 6, 8920: 6, 9596: 6, 9040: 6, 4072: 6, 9435: 6, 6078: 6, 9487: 6, 7906: 6, 8349: 6, 9960: 6, 6743: 6, 9920: 6, 9963: 6, 9962: 6, 7440: 6, 9958: 6, 8152: 6, 5900: 6, 7359: 6, 9721: 6, 8384: 6, 9477: 6, 8999: 6, 5331: 6, 7599: 6, 5694: 6, 4074: 6, 4310: 6, 6734: 6, 7462: 6, 9994: 6, 2361: 6, 1927: 6, 9599: 6, 8798: 6, 8141: 6, 8529: 6, 7600: 6, 6016: 6, 8257: 6, 9164: 6, 9974: 6, 9978: 6, 9977: 6, 7059: 6, 5324: 6, 9976: 6, 9968: 6, 4865: 6, 3696: 6, 6452: 6, 6167: 6, 8937: 6, 9973: 6, 6581: 6, 5712: 6, 7556: 6, 9521: 6, 7491: 6, 7061: 6, 9442: 6, 3681: 6, 6572: 6, 4091: 6, 9126: 6, 9789: 6, 3840: 6, 7534: 6, 9203: 6, 9982: 6, 9987: 6, 9986: 6, 6766: 6, 9985: 6, 9143: 6, 6873: 6, 9990: 6, 6104: 6, 9988: 6, 9155: 6, 5893: 6, 8864: 6, 9938: 6, 9472: 6, 8886: 6, 6172: 6, 9188: 6, 9744: 6, 6698: 6, 8663: 6, 7148: 6, 8540: 6, 8594: 6, 9937: 6, 9825: 6, 9423: 6, 5234: 6, 3708: 6, 9178: 6, 9173: 6, 4926: 6, 8686: 6, 5788: 6, 8699: 6, 9269: 6, 8705: 6, 9207: 6, 7444: 6, 7693: 6, 9328: 6, 9921: 6, 8718: 6, 7396: 6, 9330: 6, 8567: 6, 9538: 6, 8726: 6, 8727: 6, 7703: 6, 8987: 6, 8954: 6, 7571: 6, 5667: 6, 8745: 6, 4585: 6, 4200: 5, 7429: 5, 5288: 5, 9120: 5, 9694: 5, 9713: 5, 8464: 5, 8935: 5, 8571: 5, 4087: 5, 5692: 5, 5291: 5, 9496: 5, 8377: 5, 7552: 5, 9551: 5, 6168: 5, 6410: 5, 9389: 5, 4911: 5, 9125: 5, 3149: 5, 7313: 5, 9815: 5, 9720: 5, 6748: 5, 9664: 5, 9767: 5, 8944: 5, 6964: 5, 8106: 5, 9906: 5, 8209: 5, 8454: 5, 3720: 5, 8236: 5, 7267: 5, 7526: 5, 9848: 5, 9495: 5, 5673: 5, 5861: 5, 5842: 5, 5398: 5, 6755: 5, 9533: 5, 8169: 5, 8483: 5, 8186: 5, 5646: 5, 8347: 5, 8604: 5, 7262: 5, 8232: 5, 7490: 5, 7449: 5, 5674: 5, 8353: 5, 5274: 5, 5742: 5, 8183: 5, 8894: 5, 6718: 5, 4119: 5, 9949: 5, 5282: 5, 5883: 5, 8431: 5, 5675: 5, 9407: 5, 2423: 5, 3332: 5, 9399: 5, 2912: 5, 6758: 5, 8403: 5, 7475: 5, 9437: 5, 9606: 5, 6092: 5, 4526: 5, 9272: 5, 6822: 5, 6736: 5, 1452: 5, 5269: 5, 7890: 5, 8467: 5, 6785: 5, 8676: 5, 9426: 5, 6339: 5, 8533: 5, 4842: 5, 8044: 5, 2730: 5, 8522: 5, 7584: 5, 9568: 5, 9586: 5, 2642: 5, 9731: 5, 4579: 5, 7466: 5, 3702: 5, 7269: 5, 9736: 5, 8348: 5, 7471: 5, 6630: 5, 8678: 5, 9453: 5, 7195: 5, 9661: 5, 7330: 5, 9526: 5, 8970: 5, 9350: 5, 9323: 5, 9700: 5, 9727: 5, 9716: 5, 7472: 5, 9277: 5, 9748: 5, 2964: 5, 7988: 5, 8153: 5, 9756: 5, 6158: 5, 9460: 5, 8189: 5, 9296: 5, 4473: 5, 9643: 5, 6665: 5, 5662: 5, 7561: 5, 9799: 5, 9293: 5, 9083: 5, 4569: 5, 2917: 5, 8187: 5, 9618: 5, 5681: 5, 9647: 5, 6725: 5, 8768: 5, 5682: 5, 2260: 5, 2180: 5, 6150: 5, 7532: 5, 2666: 5, 5450: 5, 6189: 5, 7886: 5, 9865: 5, 9600: 5, 5762: 5, 9294: 5, 9746: 5, 8931: 5, 3540: 5, 9116: 5, 3015: 5, 9297: 5, 6588: 5, 788: 5, 4703: 5, 5740: 5, 8258: 5, 6795: 5, 8250: 5, 8402: 5, 8433: 5, 7493: 5, 3775: 5, 8685: 5, 9361: 5, 8465: 5, 8457: 5, 8398: 5, 9575: 5, 9253: 5, 9138: 5, 6647: 5, 7645: 5, 9386: 5, 8176: 5, 9690: 5, 9641: 5, 9352: 5, 9518: 5, 9246: 5, 3649: 4, 9800: 4, 5279: 4, 5078: 4, 9681: 4, 6145: 4, 9308: 4, 8481: 4, 1980: 4, 5603: 4, 6433: 4, 8608: 4, 1763: 4, 8372: 4, 9668: 4, 8836: 4, 7008: 4, 9888: 4, 8135: 4, 2822: 4, 7259: 4, 8409: 4, 5869: 4, 8566: 4, 8602: 4, 8607: 4, 4628: 4, 5596: 4, 7905: 4, 8927: 4, 3264: 4, 7876: 4, 4550: 4, 6583: 4, 8915: 4, 9471: 4, 5270: 4, 8757: 4, 4522: 4, 7314: 4, 5721: 4, 7853: 4, 9309: 4, 7512: 4, 6942: 4, 9709: 4, 5412: 4, 9436: 4, 6225: 4, 8914: 4, 9739: 4, 7574: 4, 9260: 4, 9497: 4, 9755: 4, 9016: 4, 7312: 4, 8945: 4, 5144: 4, 9127: 4, 7504: 4, 7109: 4, 9627: 4, 8171: 4, 9367: 4, 2823: 4, 9626: 4, 3086: 4, 6146: 4, 9609: 4, 8170: 4, 9299: 4, 7020: 4, 9689: 4, 8369: 4, 9611: 4, 5216: 4, 6787: 4, 5744: 4, 9858: 4, 9656: 4, 5196: 4, 8424: 4, 2353: 4, 6664: 4, 9693: 4, 9957: 4, 8190: 4, 8124: 4, 9380: 4, 9531: 4, 1491: 4, 6800: 4, 7228: 4, 8606: 4, 6136: 4, 5988: 4, 9366: 4, 3889: 4, 9783: 4, 6724: 4, 9666: 4, 7194: 4, 6683: 4, 7620: 4, 9993: 4, 7401: 4, 9786: 4, 8940: 4, 9362: 4, 5526: 4, 9195: 4, 8272: 4, 9047: 4, 4840: 4, 9870: 4, 8127: 4, 9619: 4, 8410: 4, 6184: 4, 8270: 4, 6561: 4, 126: 4, 8495: 4, 9410: 4, 7585: 4, 8184: 4, 6152: 4, 3907: 4, 6161: 4, 9401: 4, 7774: 4, 9133: 4, 8206: 4, 8399: 4, 8592: 4, 8333: 4, 9182: 4, 9591: 4, 7614: 4, 4322: 4, 9757: 4, 4307: 4, 8391: 4, 1920: 4, 9868: 4, 8503: 4, 9221: 4, 5085: 4, 4825: 4, 5255: 4, 6190: 4, 4877: 4, 5568: 4, 4807: 4, 9455: 4, 5318: 4, 3699: 3, 3519: 3, 8134: 3, 2378: 3, 6138: 3, 9878: 3, 8340: 3, 9964: 3, 7531: 3, 6036: 3, 9348: 3, 9753: 3, 5764: 3, 9893: 3, 9837: 3, 8504: 3, 6510: 3, 8332: 3, 4777: 3, 5309: 3, 4125: 3, 4061: 3, 9313: 3, 5404: 3, 9540: 3, 4489: 3, 2909: 3, 5283: 3, 8371: 3, 7151: 3, 3501: 3, 8360: 3, 8881: 3, 9524: 3, 8452: 3, 6454: 3, 7286: 3, 2511: 3, 7507: 3, 7455: 3, 4599: 3, 542: 3, 6654: 3, 9660: 3, 1997: 3, 4431: 3, 7365: 3, 4031: 3, 6682: 3, 3733: 3, 3413: 3, 5726: 3, 8429: 3, 5724: 3, 5689: 3, 7282: 3, 9378: 3, 4092: 3, 7520: 3, 9864: 3, 8558: 3, 3156: 3, 6653: 3, 6023: 3, 6453: 3, 5197: 3, 7479: 3, 9715: 3, 9592: 3, 4968: 3, 7638: 3, 9769: 3, 8471: 3, 9995: 3, 7149: 3, 8037: 3, 2205: 3, 35: 3, 7804: 3, 5327: 3, 8816: 3, 5221: 3, 6025: 3, 7397: 3, 7285: 3, 9259: 3, 3973: 3, 8610: 3, 9774: 3, 9771: 3, 9494: 3, 3510: 3, 9838: 3, 8498: 3, 2551: 3, 9711: 3, 8482: 3, 9877: 3, 171: 3, 6738: 3, 7902: 3, 6694: 3, 4742: 3, 5669: 3, 7489: 3, 7242: 3, 9796: 3, 6710: 3, 3721: 3, 9354: 3, 8346: 3, 6782: 3, 9473: 3, 41: 3, 9567: 3, 3392: 3, 5230: 3, 9895: 3, 4578: 3, 4318: 2, 9696: 2, 7302: 2, 8923: 2, 3901: 2, 7454: 2, 9576: 2, 9747: 2, 2403: 2, 6396: 2, 5249: 2, 8436: 2, 9137: 2, 7457: 2, 73: 2, 6001: 2, 4866: 2, 6566: 2, 9489: 2, 5717: 2, 9703: 2, 9811: 2, 9743: 2, 7511: 2, 8289: 2, 8500: 2, 3605: 2, 9257: 2, 6884: 2, 8188: 2, 9124: 2, 4256: 2, 9523: 2, 5250: 2, 8619: 2, 9310: 2, 7637: 2, 9384: 2, 4573: 2, 3505: 2, 9114: 2, 8448: 2, 8059: 2, 5236: 2, 9863: 2, 9571: 2, 9880: 2, 9608: 2, 9672: 2, 8593: 2, 9772: 2, 9628: 2, 8832: 2, 9901: 2, 8252: 2, 6045: 2, 6579: 2, 2643: 2, 7268: 2, 4527: 2, 5549: 2, 9347: 2, 8396: 2, 3326: 2, 4543: 2, 8461: 2, 7386: 2, 6652: 2, 7506: 2, 6764: 2, 7510: 2, 4886: 2, 8287: 2, 5312: 2, 8247: 2, 9589: 2, 9862: 2, 6721: 2, 2957: 2, 8466: 2, 5960: 2, 8370: 2, 5075: 2, 6828: 2, 9751: 2, 8241: 2, 7613: 2, 6689: 1, 6505: 1, 1950: 1, 5813: 1, 9349: 1, 9428: 1, 2873: 1, 4: 1, 9925: 1, 6206: 1, 8582: 1, 6858: 1, 1692: 1, 3728: 1, 9359: 1, 5079: 1, 8527: 1, 8038: 1, 7566: 1, 6328: 1, 3243: 1, 833: 1, 990: 1, 7487: 1, 7893: 1, 8249: 1, 9261: 1, 7106: 1, 9914: 1, 9594: 1, 7221: 1, 7461: 1, 6661: 1, 4067: 1, 7015: 1, 9018: 1, 8564: 1, 8225: 1, 7785: 1, 4597: 1, 8274: 1, 1733: 1, 8541: 1, 9588: 1, 7841: 1, 5886: 1, 9104: 1, 5458: 1, 3265: 1, 49: 1, 9356: 1, 9855: 1, 5080: 1, 3186: 1, 9409: 1}\n"
     ]
    },
    {
     "data": {
      "text/plain": [
       "<BarContainer object of 9923 artists>"
      ]
     },
     "execution_count": 154,
     "metadata": {},
     "output_type": "execute_result"
    },
    {
     "data": {
      "image/png": "[encoded data removed]",
      "text/plain": [
       "<Figure size 640x480 with 1 Axes>"
      ]
     },
     "metadata": {},
     "output_type": "display_data"
    }
   ],
   "source": [
    "symbols_hist = {}\n",
    "for d in dataset:\n",
    "    for x in d[1:-1]:\n",
    "        if x in symbols_hist.keys():\n",
    "            symbols_hist[x] += 1\n",
    "        else:\n",
    "            symbols_hist[x] = 1  \n",
    "sorted_hist =dict(sorted(symbols_hist.items(), key=lambda item: item[1], reverse=True)) \n",
    "print(sorted_hist)\n",
    "plt.bar(sorted_hist.keys(), sorted_hist.values())"
   ]
  },
  {
   "cell_type": "code",
   "execution_count": null,
   "metadata": {},
   "outputs": [],
   "source": []
  },
  {
   "cell_type": "code",
   "execution_count": 22,
   "metadata": {},
   "outputs": [],
   "source": [
    "# final = []\n",
    "# for d in dataset:\n",
    "#     row = []\n",
    "#     for t in d: \n",
    "#         row.append(t)\n",
    "#         final.append(row.copy())      \n",
    "#     row.reverse()\n",
    "\n",
    "# dataset = final"
   ]
  },
  {
   "cell_type": "code",
   "execution_count": 23,
   "metadata": {},
   "outputs": [
    {
     "name": "stderr",
     "output_type": "stream",
     "text": [
      "c:\\Users\\Joaquin\\miniconda3\\envs\\agi\\Lib\\site-packages\\torch\\nn\\modules\\transformer.py:307: UserWarning: enable_nested_tensor is True, but self.use_nested_tensor is False because encoder_layer.self_attn.batch_first was not True(use batch_first for better inference performance)\n",
      "  warnings.warn(f\"enable_nested_tensor is True, but self.use_nested_tensor is False because {why_not_sparsity_fast_path}\")\n"
     ]
    }
   ],
   "source": [
    "phonetics_dataset = PhoneticsDataset(dataset, vocab, SEQ_LEN)\n",
    "dataloader = DataLoader(phonetics_dataset, batch_size=BATCH_SIZE, shuffle=True)\n",
    "phonetics_model = PhoneticTransformer(len(vocab), max_seq_len=SEQ_LEN)\n",
    "phonetics_model = phonetics_model.to(device)"
   ]
  },
  {
   "cell_type": "code",
   "execution_count": 24,
   "metadata": {},
   "outputs": [
    {
     "name": "stderr",
     "output_type": "stream",
     "text": [
      "  0%|          | 0/118 [00:00<?, ?it/s]c:\\Users\\Joaquin\\miniconda3\\envs\\agi\\Lib\\site-packages\\torch\\nn\\functional.py:5560: UserWarning: 1Torch was not compiled with flash attention. (Triggered internally at C:\\cb\\pytorch_1000000000000\\work\\aten\\src\\ATen\\native\\transformers\\cuda\\sdp_utils.cpp:555.)\n",
      "  attn_output = scaled_dot_product_attention(q, k, v, attn_mask, dropout_p, is_causal)\n",
      "100%|██████████| 118/118 [00:11<00:00,  9.90it/s]\n"
     ]
    },
    {
     "name": "stdout",
     "output_type": "stream",
     "text": [
      "Epoch 1 Train Loss: 4.006681341235921\n"
     ]
    },
    {
     "name": "stderr",
     "output_type": "stream",
     "text": [
      "100%|██████████| 118/118 [00:11<00:00, 10.25it/s]\n"
     ]
    },
    {
     "name": "stdout",
     "output_type": "stream",
     "text": [
      "Epoch 2 Train Loss: 3.3384860956062705\n"
     ]
    },
    {
     "name": "stderr",
     "output_type": "stream",
     "text": [
      "100%|██████████| 118/118 [00:11<00:00, 10.40it/s]\n"
     ]
    },
    {
     "name": "stdout",
     "output_type": "stream",
     "text": [
      "Epoch 3 Train Loss: 3.0107477357832053\n"
     ]
    },
    {
     "name": "stderr",
     "output_type": "stream",
     "text": [
      "100%|██████████| 118/118 [00:11<00:00, 10.16it/s]\n"
     ]
    },
    {
     "name": "stdout",
     "output_type": "stream",
     "text": [
      "Epoch 4 Train Loss: 2.8214422949289872\n"
     ]
    },
    {
     "name": "stderr",
     "output_type": "stream",
     "text": [
      "100%|██████████| 118/118 [00:11<00:00, 10.16it/s]\n"
     ]
    },
    {
     "name": "stdout",
     "output_type": "stream",
     "text": [
      "Epoch 5 Train Loss: 2.7011484372413763\n"
     ]
    },
    {
     "name": "stderr",
     "output_type": "stream",
     "text": [
      "100%|██████████| 118/118 [00:11<00:00, 10.21it/s]\n"
     ]
    },
    {
     "name": "stdout",
     "output_type": "stream",
     "text": [
      "Epoch 6 Train Loss: 2.6192490266541304\n"
     ]
    },
    {
     "name": "stderr",
     "output_type": "stream",
     "text": [
      "100%|██████████| 118/118 [00:11<00:00, 10.21it/s]\n"
     ]
    },
    {
     "name": "stdout",
     "output_type": "stream",
     "text": [
      "Epoch 7 Train Loss: 2.562621308585345\n"
     ]
    },
    {
     "name": "stderr",
     "output_type": "stream",
     "text": [
      "100%|██████████| 118/118 [00:11<00:00, 10.36it/s]\n"
     ]
    },
    {
     "name": "stdout",
     "output_type": "stream",
     "text": [
      "Epoch 8 Train Loss: 2.5193269070932423\n"
     ]
    },
    {
     "name": "stderr",
     "output_type": "stream",
     "text": [
      "100%|██████████| 118/118 [00:11<00:00, 10.22it/s]\n"
     ]
    },
    {
     "name": "stdout",
     "output_type": "stream",
     "text": [
      "Epoch 9 Train Loss: 2.4871014982967052\n"
     ]
    },
    {
     "name": "stderr",
     "output_type": "stream",
     "text": [
      "100%|██████████| 118/118 [00:11<00:00, 10.22it/s]\n"
     ]
    },
    {
     "name": "stdout",
     "output_type": "stream",
     "text": [
      "Epoch 10 Train Loss: 2.4604618933241245\n"
     ]
    },
    {
     "name": "stderr",
     "output_type": "stream",
     "text": [
      "100%|██████████| 118/118 [00:11<00:00, 10.40it/s]\n"
     ]
    },
    {
     "name": "stdout",
     "output_type": "stream",
     "text": [
      "Epoch 11 Train Loss: 2.437775559344534\n"
     ]
    },
    {
     "name": "stderr",
     "output_type": "stream",
     "text": [
      "100%|██████████| 118/118 [00:11<00:00, 10.23it/s]\n"
     ]
    },
    {
     "name": "stdout",
     "output_type": "stream",
     "text": [
      "Epoch 12 Train Loss: 2.4196644718364135\n"
     ]
    },
    {
     "name": "stderr",
     "output_type": "stream",
     "text": [
      "100%|██████████| 118/118 [00:11<00:00, 10.05it/s]\n"
     ]
    },
    {
     "name": "stdout",
     "output_type": "stream",
     "text": [
      "Epoch 13 Train Loss: 2.4039304054389565\n"
     ]
    },
    {
     "name": "stderr",
     "output_type": "stream",
     "text": [
      "100%|██████████| 118/118 [00:11<00:00, 10.06it/s]\n"
     ]
    },
    {
     "name": "stdout",
     "output_type": "stream",
     "text": [
      "Epoch 14 Train Loss: 2.3889349012051597\n"
     ]
    },
    {
     "name": "stderr",
     "output_type": "stream",
     "text": [
      "100%|██████████| 118/118 [00:11<00:00, 10.24it/s]\n"
     ]
    },
    {
     "name": "stdout",
     "output_type": "stream",
     "text": [
      "Epoch 15 Train Loss: 2.376896658186185\n"
     ]
    },
    {
     "name": "stderr",
     "output_type": "stream",
     "text": [
      "100%|██████████| 118/118 [00:11<00:00, 10.10it/s]\n"
     ]
    },
    {
     "name": "stdout",
     "output_type": "stream",
     "text": [
      "Epoch 16 Train Loss: 2.3658764726024564\n"
     ]
    },
    {
     "name": "stderr",
     "output_type": "stream",
     "text": [
      "100%|██████████| 118/118 [00:11<00:00, 10.07it/s]\n"
     ]
    },
    {
     "name": "stdout",
     "output_type": "stream",
     "text": [
      "Epoch 17 Train Loss: 2.354857466988644\n"
     ]
    },
    {
     "name": "stderr",
     "output_type": "stream",
     "text": [
      "100%|██████████| 118/118 [00:11<00:00, 10.06it/s]\n"
     ]
    },
    {
     "name": "stdout",
     "output_type": "stream",
     "text": [
      "Epoch 18 Train Loss: 2.346973493947821\n"
     ]
    },
    {
     "name": "stderr",
     "output_type": "stream",
     "text": [
      "100%|██████████| 118/118 [00:11<00:00, 10.06it/s]\n"
     ]
    },
    {
     "name": "stdout",
     "output_type": "stream",
     "text": [
      "Epoch 19 Train Loss: 2.3382870241747065\n"
     ]
    },
    {
     "name": "stderr",
     "output_type": "stream",
     "text": [
      "100%|██████████| 118/118 [00:11<00:00, 10.01it/s]\n"
     ]
    },
    {
     "name": "stdout",
     "output_type": "stream",
     "text": [
      "Epoch 20 Train Loss: 2.331240237769434\n"
     ]
    },
    {
     "name": "stderr",
     "output_type": "stream",
     "text": [
      "100%|██████████| 118/118 [00:11<00:00, 10.22it/s]\n"
     ]
    },
    {
     "name": "stdout",
     "output_type": "stream",
     "text": [
      "Epoch 21 Train Loss: 2.3249458781743453\n"
     ]
    },
    {
     "name": "stderr",
     "output_type": "stream",
     "text": [
      "100%|██████████| 118/118 [00:11<00:00, 10.05it/s]\n"
     ]
    },
    {
     "name": "stdout",
     "output_type": "stream",
     "text": [
      "Epoch 22 Train Loss: 2.318533499362105\n"
     ]
    },
    {
     "name": "stderr",
     "output_type": "stream",
     "text": [
      "100%|██████████| 118/118 [00:11<00:00, 10.05it/s]\n"
     ]
    },
    {
     "name": "stdout",
     "output_type": "stream",
     "text": [
      "Epoch 23 Train Loss: 2.313190916837272\n"
     ]
    },
    {
     "name": "stderr",
     "output_type": "stream",
     "text": [
      "100%|██████████| 118/118 [00:11<00:00, 10.04it/s]\n"
     ]
    },
    {
     "name": "stdout",
     "output_type": "stream",
     "text": [
      "Epoch 24 Train Loss: 2.306380615396015\n"
     ]
    },
    {
     "name": "stderr",
     "output_type": "stream",
     "text": [
      "100%|██████████| 118/118 [00:11<00:00, 10.05it/s]\n"
     ]
    },
    {
     "name": "stdout",
     "output_type": "stream",
     "text": [
      "Epoch 25 Train Loss: 2.302239973666304\n"
     ]
    },
    {
     "name": "stderr",
     "output_type": "stream",
     "text": [
      "100%|██████████| 118/118 [00:11<00:00, 10.02it/s]\n"
     ]
    },
    {
     "name": "stdout",
     "output_type": "stream",
     "text": [
      "Epoch 26 Train Loss: 2.29769454770169\n"
     ]
    },
    {
     "name": "stderr",
     "output_type": "stream",
     "text": [
      "100%|██████████| 118/118 [00:11<00:00, 10.24it/s]\n"
     ]
    },
    {
     "name": "stdout",
     "output_type": "stream",
     "text": [
      "Epoch 27 Train Loss: 2.291584332110518\n"
     ]
    },
    {
     "name": "stderr",
     "output_type": "stream",
     "text": [
      "100%|██████████| 118/118 [00:11<00:00, 10.07it/s]\n"
     ]
    },
    {
     "name": "stdout",
     "output_type": "stream",
     "text": [
      "Epoch 28 Train Loss: 2.2875417188062506\n"
     ]
    },
    {
     "name": "stderr",
     "output_type": "stream",
     "text": [
      "100%|██████████| 118/118 [00:11<00:00, 10.05it/s]\n"
     ]
    },
    {
     "name": "stdout",
     "output_type": "stream",
     "text": [
      "Epoch 29 Train Loss: 2.2840903007378013\n"
     ]
    },
    {
     "name": "stderr",
     "output_type": "stream",
     "text": [
      "100%|██████████| 118/118 [00:11<00:00, 10.01it/s]\n"
     ]
    },
    {
     "name": "stdout",
     "output_type": "stream",
     "text": [
      "Epoch 30 Train Loss: 2.2792990793616084\n"
     ]
    },
    {
     "name": "stderr",
     "output_type": "stream",
     "text": [
      "100%|██████████| 118/118 [00:11<00:00,  9.84it/s]\n"
     ]
    },
    {
     "name": "stdout",
     "output_type": "stream",
     "text": [
      "Epoch 31 Train Loss: 2.2752212003125982\n"
     ]
    },
    {
     "name": "stderr",
     "output_type": "stream",
     "text": [
      "100%|██████████| 118/118 [00:12<00:00,  9.78it/s]\n"
     ]
    },
    {
     "name": "stdout",
     "output_type": "stream",
     "text": [
      "Epoch 32 Train Loss: 2.2719943341562305\n"
     ]
    },
    {
     "name": "stderr",
     "output_type": "stream",
     "text": [
      "100%|██████████| 118/118 [00:12<00:00,  9.67it/s]\n"
     ]
    },
    {
     "name": "stdout",
     "output_type": "stream",
     "text": [
      "Epoch 33 Train Loss: 2.268444746227588\n"
     ]
    },
    {
     "name": "stderr",
     "output_type": "stream",
     "text": [
      "100%|██████████| 118/118 [00:12<00:00,  9.71it/s]\n"
     ]
    },
    {
     "name": "stdout",
     "output_type": "stream",
     "text": [
      "Epoch 34 Train Loss: 2.264727580345283\n"
     ]
    },
    {
     "name": "stderr",
     "output_type": "stream",
     "text": [
      "100%|██████████| 118/118 [00:11<00:00,  9.94it/s]\n"
     ]
    },
    {
     "name": "stdout",
     "output_type": "stream",
     "text": [
      "Epoch 35 Train Loss: 2.2614204297631475\n"
     ]
    },
    {
     "name": "stderr",
     "output_type": "stream",
     "text": [
      "100%|██████████| 118/118 [00:11<00:00,  9.97it/s]\n"
     ]
    },
    {
     "name": "stdout",
     "output_type": "stream",
     "text": [
      "Epoch 36 Train Loss: 2.258627935991449\n"
     ]
    },
    {
     "name": "stderr",
     "output_type": "stream",
     "text": [
      "100%|██████████| 118/118 [00:11<00:00, 10.00it/s]\n"
     ]
    },
    {
     "name": "stdout",
     "output_type": "stream",
     "text": [
      "Epoch 37 Train Loss: 2.2568243843013955\n"
     ]
    },
    {
     "name": "stderr",
     "output_type": "stream",
     "text": [
      "100%|██████████| 118/118 [00:11<00:00, 10.12it/s]\n"
     ]
    },
    {
     "name": "stdout",
     "output_type": "stream",
     "text": [
      "Epoch 38 Train Loss: 2.252844976166547\n"
     ]
    },
    {
     "name": "stderr",
     "output_type": "stream",
     "text": [
      "100%|██████████| 118/118 [00:11<00:00,  9.98it/s]\n"
     ]
    },
    {
     "name": "stdout",
     "output_type": "stream",
     "text": [
      "Epoch 39 Train Loss: 2.2504394539331987\n"
     ]
    },
    {
     "name": "stderr",
     "output_type": "stream",
     "text": [
      "100%|██████████| 118/118 [00:11<00:00,  9.95it/s]\n"
     ]
    },
    {
     "name": "stdout",
     "output_type": "stream",
     "text": [
      "Epoch 40 Train Loss: 2.2471205905332403\n"
     ]
    },
    {
     "name": "stderr",
     "output_type": "stream",
     "text": [
      "100%|██████████| 118/118 [00:11<00:00,  9.96it/s]\n"
     ]
    },
    {
     "name": "stdout",
     "output_type": "stream",
     "text": [
      "Epoch 41 Train Loss: 2.2445887347399176\n"
     ]
    },
    {
     "name": "stderr",
     "output_type": "stream",
     "text": [
      "100%|██████████| 118/118 [00:11<00:00, 10.14it/s]\n"
     ]
    },
    {
     "name": "stdout",
     "output_type": "stream",
     "text": [
      "Epoch 42 Train Loss: 2.24174511836747\n"
     ]
    },
    {
     "name": "stderr",
     "output_type": "stream",
     "text": [
      "100%|██████████| 118/118 [00:11<00:00,  9.92it/s]\n"
     ]
    },
    {
     "name": "stdout",
     "output_type": "stream",
     "text": [
      "Epoch 43 Train Loss: 2.24115635985035\n"
     ]
    },
    {
     "name": "stderr",
     "output_type": "stream",
     "text": [
      "100%|██████████| 118/118 [00:11<00:00,  9.97it/s]\n"
     ]
    },
    {
     "name": "stdout",
     "output_type": "stream",
     "text": [
      "Epoch 44 Train Loss: 2.2393176919322904\n"
     ]
    },
    {
     "name": "stderr",
     "output_type": "stream",
     "text": [
      "100%|██████████| 118/118 [00:11<00:00, 10.00it/s]\n"
     ]
    },
    {
     "name": "stdout",
     "output_type": "stream",
     "text": [
      "Epoch 45 Train Loss: 2.234912288390984\n"
     ]
    },
    {
     "name": "stderr",
     "output_type": "stream",
     "text": [
      "100%|██████████| 118/118 [00:11<00:00,  9.98it/s]\n"
     ]
    },
    {
     "name": "stdout",
     "output_type": "stream",
     "text": [
      "Epoch 46 Train Loss: 2.234192929025424\n"
     ]
    },
    {
     "name": "stderr",
     "output_type": "stream",
     "text": [
      "100%|██████████| 118/118 [00:11<00:00, 10.13it/s]\n"
     ]
    },
    {
     "name": "stdout",
     "output_type": "stream",
     "text": [
      "Epoch 47 Train Loss: 2.2317794925075467\n"
     ]
    },
    {
     "name": "stderr",
     "output_type": "stream",
     "text": [
      "100%|██████████| 118/118 [00:11<00:00,  9.91it/s]\n"
     ]
    },
    {
     "name": "stdout",
     "output_type": "stream",
     "text": [
      "Epoch 48 Train Loss: 2.2295165910559187\n"
     ]
    },
    {
     "name": "stderr",
     "output_type": "stream",
     "text": [
      "100%|██████████| 118/118 [00:11<00:00,  9.96it/s]\n"
     ]
    },
    {
     "name": "stdout",
     "output_type": "stream",
     "text": [
      "Epoch 49 Train Loss: 2.2278733152454184\n"
     ]
    },
    {
     "name": "stderr",
     "output_type": "stream",
     "text": [
      "100%|██████████| 118/118 [00:11<00:00,  9.98it/s]"
     ]
    },
    {
     "name": "stdout",
     "output_type": "stream",
     "text": [
      "Epoch 50 Train Loss: 2.2256674503875993\n"
     ]
    },
    {
     "name": "stderr",
     "output_type": "stream",
     "text": [
      "\n"
     ]
    }
   ],
   "source": [
    "optimizer = optim.Adam(phonetics_model.parameters(), lr = 0.0001)\n",
    "criterion = nn.CrossEntropyLoss(ignore_index=vocab.get(\"[PAD]\"))\n",
    "EPOCHS = 50\n",
    "\n",
    "for epoch in range(EPOCHS):\n",
    "    phonetics_model.train()\n",
    "    total_loss = 0\n",
    "\n",
    "    for i, (input_ids, target_ids) in tqdm(enumerate(dataloader), total=len(dataloader)):\n",
    "        input_ids = input_ids.to(device)\n",
    "        target_ids = target_ids.to(device)\n",
    "        optimizer.zero_grad()\n",
    "        tgt_mask = generate_square_subsequent_mask(input_ids.size(1)).to(device)\n",
    "\n",
    "        output = phonetics_model(input_ids, tgt_mask = tgt_mask)\n",
    "        loss = criterion(output.permute(1, 2, 0), target_ids)\n",
    "        loss.backward()\n",
    "        optimizer.step()\n",
    "        \n",
    "        total_loss += loss.item()\n",
    "\n",
    "    if ((epoch + 1) % 10 == 0):\n",
    "        torch.save(phonetics_model.state_dict(), f\"model{(epoch//10)}\")\n",
    "        \n",
    "    print(f\"Epoch {epoch + 1} Train Loss: {total_loss / len(dataloader)}\")"
   ]
  },
  {
   "cell_type": "code",
   "execution_count": 25,
   "metadata": {},
   "outputs": [],
   "source": [
    "def generate_text(model, max_length=100, start_seq=[], end_token=\"[EOS]\", temperature=1.0, p=0.9, beam_width=5):\n",
    "    # Initialize beams with the start token and start_seq\n",
    "    beams = [(start_seq, 0)]  # Each beam is a tuple (sequence, score)\n",
    "    final_list = []\n",
    "    for _ in range(max_length):\n",
    "        all_candidates = []\n",
    "        \n",
    "        # Expand each beam\n",
    "        for seq, score in beams:\n",
    "            if end_token in seq and len(seq) > 5:\n",
    "                final_list.append((seq, score))\n",
    "            elif len(seq) >= max_length:\n",
    "                final_list.append((seq, score))\n",
    "            else:  \n",
    "                input_ids = torch.tensor([seq], dtype=torch.long).to(device)\n",
    "                tgt_mask = generate_square_subsequent_mask(input_ids.size(1)).to(device)\n",
    "                \n",
    "                with torch.no_grad():\n",
    "                    output = model(input_ids, tgt_mask)\n",
    "                    \n",
    "                next_token_logits = output[0, -1] / temperature\n",
    "                probs = torch.nn.functional.softmax(next_token_logits, dim=-1)\n",
    "                sorted_probs, sorted_indices = torch.sort(probs, descending=True)\n",
    "                cum_prob = torch.cumsum(sorted_probs, dim=-1)\n",
    "                cutoff_index = torch.searchsorted(cum_prob, p)\n",
    "                \n",
    "                sorted_probs = sorted_probs[:cutoff_index + 1]\n",
    "                sorted_indices = sorted_indices[:cutoff_index + 1]\n",
    "                \n",
    "                toks_to_choose = torch.multinomial(sorted_probs, min(beam_width, len(sorted_probs) - 1))\n",
    "                # Generate candidates from current beam\n",
    "                for tok in toks_to_choose:\n",
    "                    next_token_id = sorted_indices[tok].item()\n",
    "                    candidate_seq = seq + [next_token_id]\n",
    "                    candidate_score = (score + torch.log(sorted_probs[tok]).item()) / (len(candidate_seq))\n",
    "                    \n",
    "                    all_candidates.append((candidate_seq, candidate_score))\n",
    "        \n",
    "        # Select top beam_width candidates\n",
    "        all_candidates.sort(key=lambda x: x[1], reverse=True)\n",
    "        beams = all_candidates[:beam_width]\n",
    "    \n",
    "    # Return the sequence with the highest score\n",
    "    beams = beams + final_list\n",
    "    beams.sort(key = lambda x : x[1], reverse = True)\n",
    "    return beams[0]\n"
   ]
  },
  {
   "cell_type": "code",
   "execution_count": 26,
   "metadata": {},
   "outputs": [
    {
     "name": "stdout",
     "output_type": "stream",
     "text": [
      "346867\n"
     ]
    }
   ],
   "source": [
    "params = sum(p.numel() for p in phonetics_model.parameters())\n",
    "print(params)"
   ]
  },
  {
   "cell_type": "code",
   "execution_count": 28,
   "metadata": {},
   "outputs": [
    {
     "name": "stdout",
     "output_type": "stream",
     "text": [
      "19 -0.03645364715687176 fæɹ ˈ ˈ ˈ ˈ ˈ ˈ ˈ ˈ ˈ ˈ ˈ ˈ ˈ ˈ ˈ ˈ ˈ\n",
      "19 -0.03645364715687176 fæɹ ˈ ˈ ˈ ˈ ˈ ˈ ˈ ˈ ˈ ˈ ˈ ˈ ˈ ˈ ˈ ˈ ˈ\n",
      "19 -0.03645364715687176 fæɹ s ˈ ˈ ˈ ˈ ˈ ˈ ˈ ˈ ˈ ˈ ˈ ˈ ˈ ˈ ˈ ˈ\n",
      "19 -0.03645364715687176 fæɹ ˈ ˈ ˈ ˈ ˈ ˈ ˈ ˈ ˈ ˈ ˈ ˈ ˈ ˈ ˈ ˈ ˈ\n",
      "19 -0.03645364715687176 fæɹ ˈ ˈ ˈ ˈ ˈ ˈ ˈ ˈ ˈ ˈ ˈ ˈ ˈ ˈ ˈ ˈ ˈ\n",
      "19 -0.03645364715687176 fæɹ ˈ ˈ ˈ ˈ ˈ ˈ ˈ ˈ ˈ ˈ ˈ ˈ ˈ ˈ ˈ ˈ ˈ\n",
      "19 -0.03645364715687176 fæɹ k ˈ ˈ ˈ ˈ ˈ ˈ ˈ ˈ ˈ ˈ ˈ ˈ ˈ ˈ ˈ ˈ\n",
      "19 -0.03645364715687176 fæɹ ˈ ˈ ˈ ˈ ˈ ˈ ˈ ˈ ˈ ˈ ˈ ˈ ˈ ˈ ˈ ˈ ˈ\n",
      "19 -0.03645364715687176 fæɹ ˈ ˈ ˈ ˈ ˈ ˈ ˈ ˈ ˈ ˈ ˈ ˈ ˈ ˈ ˈ ˈ ˈ\n",
      "19 -0.03645364715687176 fæɹ ˈ ˈ ˈ ˈ ˈ ˈ ˈ ˈ ˈ ˈ ˈ ˈ ˈ ˈ ˈ ˈ ˈ\n"
     ]
    }
   ],
   "source": [
    "# phonetics_model = PhoneticTransformer(len(vocab), max_seq_len=SEQ_LEN)\n",
    "# phonetics_model.load_state_dict(torch.load(\"model5\"))\n",
    "phonetics_model.eval()\n",
    "phonetics_model.to(device)\n",
    "for _ in range(0, 10):\n",
    "    start_seq = pronunciation_tokenizer.encode(\"fæɹ\").ids[:-1]\n",
    "\n",
    "    test, score = generate_text(phonetics_model, max_length=SEQ_LEN, start_seq=start_seq, end_token=vocab[\"[SEP]\"], temperature = 1.0, p = 0.95, beam_width=5)\n",
    "    print(len(test) - 2, score, pronunciation_tokenizer.decode(test))"
   ]
  },
  {
   "cell_type": "code",
   "execution_count": null,
   "metadata": {},
   "outputs": [],
   "source": []
  }
 ],
 "metadata": {
  "kernelspec": {
   "display_name": "agienv",
   "language": "python",
   "name": "python3"
  },
  "language_info": {
   "codemirror_mode": {
    "name": "ipython",
    "version": 3
   },
   "file_extension": ".py",
   "mimetype": "text/x-python",
   "name": "python",
   "nbconvert_exporter": "python",
   "pygments_lexer": "ipython3",
   "version": "3.12.4"
  },
  "orig_nbformat": 4
 },
 "nbformat": 4,
 "nbformat_minor": 2
}
