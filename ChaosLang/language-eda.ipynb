{
 "cells": [
  {
   "cell_type": "code",
   "execution_count": 23,
   "metadata": {},
   "outputs": [
    {
     "name": "stdout",
     "output_type": "stream",
     "text": [
      "The autoreload extension is already loaded. To reload it, use:\n",
      "  %reload_ext autoreload\n"
     ]
    }
   ],
   "source": [
    "%load_ext autoreload\n",
    "%autoreload 2\n",
    "\n",
    "import pandas as pd\n",
    "import numpy as np\n",
    "from collections import Counter\n",
    "import re\n",
    "from itertools import chain"
   ]
  },
  {
   "cell_type": "code",
   "execution_count": 24,
   "metadata": {},
   "outputs": [
    {
     "name": "stdout",
     "output_type": "stream",
     "text": [
      "3026808\n"
     ]
    }
   ],
   "source": [
    "df = pd.read_csv(\"mid_data/Multi_v1.csv\")\n",
    "print(len(df))"
   ]
  },
  {
   "cell_type": "markdown",
   "metadata": {},
   "source": [
    "## Phonetic Inventory"
   ]
  },
  {
   "cell_type": "code",
   "execution_count": 25,
   "metadata": {},
   "outputs": [
    {
     "name": "stdout",
     "output_type": "stream",
     "text": [
      "3026808\n"
     ]
    }
   ],
   "source": [
    "pronunciation_list = df['pronunciation'].astype(str).tolist()\n",
    "print(len(pronunciation_list))"
   ]
  },
  {
   "cell_type": "code",
   "execution_count": 26,
   "metadata": {},
   "outputs": [
    {
     "name": "stdout",
     "output_type": "stream",
     "text": [
      "Counter({'.': 2331183, 'ˈ': 2082090, 't': 1794688, 'i': 1774784, 'a': 1733310, 's': 1466936, 'n': 1214294, 'e': 1153513, 'k': 1125613, 'o': 935331, 'l': 867256, 'u': 845742, 'ː': 832902, 'm': 769420, ' ': 708263, 'r': 700426, 'p': 684523, 'ɪ': 662916, 'ə': 655840, 'ʲ': 639642, 'd': 601858, '⁵': 588894, 'j': 580664, 'ɑ': 539246, 'ɛ': 518156, '͡': 501419, '²': 431884, '̯': 430753, '¹': 423412, 'ɔ': 419807, 'ɐ': 414784, '³': 395020, 'ˌ': 389312, '̞': 384255, 'ʁ': 380408, 'b': 371144, 'v': 353763, '⁴': 347418, '̪': 334499, 'ɾ': 328391, 'f': 288676, 'z': 278801, '⁻': 265036, 'ʊ': 262827, 'ɡ': 261644, '̃': 258300, 'ɨ': 243684, 'ɕ': 241172, 'ŋ': 230890, '̠': 221737, 'ʃ': 217900, '̝': 189769, 'ʰ': 177794, ')': 171051, '(': 171047, 'w': 168435, 'h': 158618, 'ʂ': 154290, '˧': 146649, 'y': 145155, 'ä': 140429, 'æ': 132456, 'x': 117439, 'ʒ': 115892, '̚': 114992, 'ɫ': 104752, 'ʔ': 97716, 'ʋ': 92895, '˨': 78486, '˩': 78226, 'ɲ': 68642, '˦': 65315, 'ð': 64493, 'ʐ': 60856, 'ẽ': 60406, '̟': 59777, 'ɒ': 52412, 'ɹ': 49527, 'θ': 45490, 'ø': 42962, 'ĩ': 42554, '̩': 41784, 'ʈ': 38565, '˥': 36626, '⁽': 35239, '⁾': 35239, 'ᵝ': 34885, 'β': 31340, 'õ': 31146, 'ɦ': 31119, 'ɯ': 30935, 'ɤ': 30206, 'ɣ': 28515, 'ã': 28305, 'ˣ': 26876, 'ʝ': 21117, 'ʌ': 20497, 'ɵ': 19721, 'ɻ': 18731, 'ʑ': 18700, 'ʎ': 16823, 'ç': 15950, 'œ': 13110, '~': 12928, ']': 12843, '[': 12843, 'ʉ': 12477, 'χ': 12205, '‿': 11399, 'ɥ': 11275, '̹': 10709, 'ɗ': 10084, '-': 9900, 'ũ': 9475, 'ɓ': 9395, 'ˀ': 8763, 'ʏ': 8370, 'c': 7924, '͈': 7796, 'ʷ': 6867, 'ɚ': 6656, 'ɟ': 6645, 'ɴ': 6493, 'ɭ': 6012, 'ʱ': 5709, 'ɰ': 4587, '̥': 4563, '̍': 4459, 'ˑ': 3818, '̊': 3384, 'ɸ': 3207, 'ɜ': 3149, '̬': 2758, 'ˤ': 2711, '/': 2656, 'ɽ': 2608, 'ɱ': 2519, 'q': 2466, 'ɝ': 2032, 'ʕ': 1865, 'ɖ': 1790, 'ɳ': 1632, 'ï': 1627, 'ħ': 1478, '→': 1308, 'ɘ': 1292, 'ᵊ': 903, '|': 627, 'ʀ': 399, 'ɧ': 352, 'ᵘ': 319, '\\xa0': 308, 'ʍ': 229, 'ɬ': 221, 'ᵑ': 211, 'ˡ': 195, 'g': 194, 'ᵐ': 179, '∅': 115, '̈': 107, 'ⁿ': 104, '͜': 65, '̆': 57, '⁰': 39, '˞': 35, '*': 31, 'ꜜ': 28, '˔': 26, '̂': 25, 'ỹ': 21, 'N': 21, 'ǀ': 19, '́': 18, 'ă': 17, 'í': 16, '̰': 15, 'á': 15, '>': 15, '…': 12, 'ó': 12, '̺': 12, '̜': 11, '‖': 11, 'é': 10, 'ʼ': 9, '̀': 9, 'à': 8, '̌': 8, 'ˠ': 7, 'ɶ': 7, 'å': 7, '𝆑': 7, '一': 6, 'ʙ': 6, 'ŏ': 6, 'ú': 6, 'â': 6, '↗': 5, '̘': 5, 'ò': 5, 'Q': 5, 'ɞ': 4, '︎': 4, 'ì': 4, 'ᵈ': 4, '͍': 4, 'ñ': 4, 'ɮ': 3, 'ǃ': 3, \"'\": 3, 'ŭ': 3, 'î': 3, 'ĕ': 3, 'C': 3, '̄': 3, 'ō': 2, '1': 2, '↓': 2, '̙': 2, '˗': 2, '᷈': 2, 'ü': 2, 'ā': 2, 'ʟ': 2, 'ö': 2, 'ʘ': 2, 'ᵻ': 2, 'ǁ': 2, 'ĭ': 2, 'ù': 2, 'ě': 2, 'ô': 2, 'ǐ': 2, 'ǎ': 2, 'ê': 2, 'û': 2, 'ý': 2, 'ǽ': 2, 'ŷ': 2, 'ỳ': 2, 'ʜ': 1, '⁹': 1, 'ū': 1, 'ẑ': 1, 'V': 1, '&': 1, '不': 1, '͇': 1, 'ḿ': 1, 'ʬ': 1, '̽': 1, 'ʩ': 1, '𐞪': 1, '↘': 1, '꜔': 1, '\\u200b': 1, 'ḁ': 1, '%': 1, '˕': 1, '◌': 1, '᷇': 1, 'ɺ': 1, 'ÿ': 1, 'ˇ': 1, 'ọ': 1, 'ǒ': 1, 'ỵ': 1})\n"
     ]
    }
   ],
   "source": [
    "\n",
    "# Use Counter to efficiently count symbols\n",
    "symbols_hist = Counter(\"\".join(pronunciation_list))\n",
    "\n",
    "# Sort the symbols by frequency in descending order\n",
    "symbols = sorted(symbols_hist, key=symbols_hist.get, reverse=True)\n",
    "languages = (1.0 / df[\"language\"].value_counts(normalize=True)).to_dict()\n",
    "print(symbols_hist)"
   ]
  },
  {
   "cell_type": "code",
   "execution_count": 27,
   "metadata": {},
   "outputs": [],
   "source": [
    "# Initialize dictionaries to store frequencies of symbols per language\n",
    "language_symbols_hist = {lang: {}.fromkeys(symbols_hist, 0) for lang in languages}\n",
    "language_symbols = {}.fromkeys(languages, 0)\n",
    "\n",
    "# Fill in the frequency data for each language from the DataFrame\n",
    "for lang in languages:\n",
    "    lang_df : pd.DataFrame = df[df['language'] == lang]\n",
    "    lang_df_hist = Counter(\"\".join(lang_df['pronunciation'].astype(str).tolist()))\n",
    "    total_symbols = sum(lang_df_hist.values())\n",
    "    normalized_hist = {symbol: count / total_symbols for symbol, count in lang_df_hist.items()}\n",
    "\n",
    "    for symbol in symbols_hist.keys():\n",
    "        if symbol in normalized_hist:\n",
    "            language_symbols_hist[lang][symbol] = normalized_hist[symbol]\n",
    "            language_symbols[lang] += 1\n",
    "\n",
    "    \n"
   ]
  },
  {
   "cell_type": "code",
   "execution_count": 28,
   "metadata": {},
   "outputs": [
    {
     "name": "stdout",
     "output_type": "stream",
     "text": [
      "['̍', '/', 'ɱ', 'ï', '→', 'ᵊ', '|', 'ʀ', 'ᵘ', '\\xa0', 'ʍ', 'ɬ', 'ᵑ', 'ˡ', 'g', 'ᵐ', '∅', '̈', 'ⁿ', '͜', '̆', '⁰', '˞', '*', 'ꜜ', '˔', '̂', 'ỹ', 'N', 'ǀ', '́', 'ă', 'í', '̰', 'á', '>', '…', 'ó', '̺', '̜', '‖', 'é', 'ʼ', '̀', 'à', '̌', 'ˠ', 'ɶ', 'å', '𝆑', '一', 'ʙ', 'ŏ', 'ú', 'â', '↗', '̘', 'ò', 'Q', 'ɞ', '︎', 'ì', 'ᵈ', '͍', 'ñ', 'ɮ', 'ǃ', \"'\", 'ŭ', 'î', 'ĕ', 'C', '̄', 'ō', '1', '↓', '̙', '˗', '᷈', 'ü', 'ā', 'ʟ', 'ö', 'ʘ', 'ᵻ', 'ǁ', 'ĭ', 'ù', 'ě', 'ô', 'ǐ', 'ǎ', 'ê', 'û', 'ý', 'ǽ', 'ŷ', 'ỳ', 'ʜ', '⁹', 'ū', 'ẑ', 'V', '&', '不', '͇', 'ḿ', 'ʬ', '̽', 'ʩ', '𐞪', '↘', '꜔', '\\u200b', 'ḁ', '%', '˕', '◌', '᷇', 'ɺ', 'ÿ', 'ˇ', 'ọ', 'ǒ', 'ỵ']\n"
     ]
    }
   ],
   "source": [
    "total = np.sum(list(symbols_hist.values()))\n",
    "rare_symbols = []\n",
    "final_symbols = []\n",
    "\n",
    "rarity_threshold = 1 / (len(symbols_hist) * len(languages))  * 100\n",
    "\n",
    "for x in symbols:\n",
    "    percent = symbols_hist[x] / total * 100\n",
    "    if percent < rarity_threshold:\n",
    "        is_not_rare_in_some_language = False \n",
    "        for language in languages: \n",
    "            symbol_freq = language_symbols_hist[language][x]\n",
    "            zipf_freq = symbol_freq / max(language_symbols_hist[language].values())\n",
    "            if zipf_freq >= 1.0 / language_symbols[language]:\n",
    "                is_not_rare_in_some_language = True \n",
    "                break \n",
    "        if is_not_rare_in_some_language:\n",
    "            final_symbols.append(x)\n",
    "        else: \n",
    "            rare_symbols.append(x)\n",
    "    else:\n",
    "        final_symbols.append(x)\n",
    "\n",
    "print(rare_symbols)\n",
    "symbols = final_symbols"
   ]
  },
  {
   "cell_type": "code",
   "execution_count": 29,
   "metadata": {},
   "outputs": [],
   "source": [
    "pattern = re.compile('|'.join(map(re.escape, rare_symbols)))\n",
    "\n",
    "# Use apply to filter rows containing rare symbols\n",
    "df_filtered = df[~df['pronunciation'].apply(lambda x: bool(pattern.search(str(x))))]\n",
    "df = df_filtered"
   ]
  },
  {
   "cell_type": "code",
   "execution_count": 30,
   "metadata": {},
   "outputs": [
    {
     "name": "stdout",
     "output_type": "stream",
     "text": [
      "3012774\n"
     ]
    }
   ],
   "source": [
    "pronunciation_list = df\n",
    "print(len(pronunciation_list))"
   ]
  },
  {
   "cell_type": "code",
   "execution_count": 31,
   "metadata": {},
   "outputs": [
    {
     "name": "stdout",
     "output_type": "stream",
     "text": [
      "142\n"
     ]
    }
   ],
   "source": [
    "print(len(symbols))"
   ]
  },
  {
   "cell_type": "markdown",
   "metadata": {},
   "source": [
    "# Tokenizer"
   ]
  },
  {
   "cell_type": "code",
   "execution_count": 32,
   "metadata": {},
   "outputs": [],
   "source": [
    "from solution.model import CharacterTokenizer, PhoneticTransformer, generate_square_subsequent_mask, PhoneticsDataset\n",
    "import torch\n",
    "import torch.optim as optim\n",
    "import torch.nn as nn\n",
    "from torch.utils.data import DataLoader\n",
    "from tqdm import tqdm\n",
    "import numpy as np\n",
    "import matplotlib.pyplot as plt"
   ]
  },
  {
   "cell_type": "code",
   "execution_count": 33,
   "metadata": {},
   "outputs": [
    {
     "name": "stderr",
     "output_type": "stream",
     "text": [
      "c:\\Users\\Joaquin\\miniconda3\\envs\\agi\\Lib\\site-packages\\transformers\\tokenization_utils_base.py:1601: FutureWarning: `clean_up_tokenization_spaces` was not set. It will be set to `True` by default. This behavior will be depracted in transformers v4.45, and will be then set to `False` by default. For more details check this issue: https://github.com/huggingface/transformers/issues/31884\n",
      "  warnings.warn(\n"
     ]
    }
   ],
   "source": [
    "pronunciation_tokenizer = CharacterTokenizer(symbols, 100)\n",
    "vocab = pronunciation_tokenizer.get_vocab()"
   ]
  },
  {
   "cell_type": "code",
   "execution_count": 34,
   "metadata": {},
   "outputs": [
    {
     "name": "stdout",
     "output_type": "stream",
     "text": [
      "cuda 149\n"
     ]
    }
   ],
   "source": [
    "device = torch.device(\"cuda\" if torch.cuda.is_available() else \"cpu\")\n",
    "print(device, len(vocab))"
   ]
  },
  {
   "cell_type": "code",
   "execution_count": 35,
   "metadata": {},
   "outputs": [],
   "source": [
    "dataset = pronunciation_list.copy()  \n",
    "\n",
    "dataset['pronunciation'] = dataset['pronunciation'].apply(lambda p: pronunciation_tokenizer.encode(str(p)).ids)\n"
   ]
  },
  {
   "cell_type": "code",
   "execution_count": 36,
   "metadata": {},
   "outputs": [
    {
     "name": "stdout",
     "output_type": "stream",
     "text": [
      "14.70335942888514 29.0 5.894667774037606\n",
      "3 397\n"
     ]
    },
    {
     "data": {
      "image/png": "[encoded data removed]",
      "text/plain": [
       "<Figure size 640x480 with 1 Axes>"
      ]
     },
     "metadata": {},
     "output_type": "display_data"
    }
   ],
   "source": [
    "QUANTILE_THRESHOLD = 0.975\n",
    "\n",
    "lengths = dataset[\"pronunciation\"].apply(lambda x: len(x)).tolist()\n",
    "\n",
    "print(np.mean(lengths), np.quantile(lengths, QUANTILE_THRESHOLD), np.std(lengths))\n",
    "print(np.min(lengths), np.max(lengths))\n",
    "plt.hist(lengths, np.max(lengths) - np.min(lengths))\n",
    "plt.show()"
   ]
  },
  {
   "cell_type": "code",
   "execution_count": 37,
   "metadata": {},
   "outputs": [
    {
     "name": "stdout",
     "output_type": "stream",
     "text": [
      "2944133\n"
     ]
    }
   ],
   "source": [
    "# Remove any outliers\n",
    "min_thresh = 3\n",
    "max_thresh = np.quantile(lengths, QUANTILE_THRESHOLD)\n",
    "\n",
    "mask = dataset[\"pronunciation\"].apply(len).between(min_thresh, max_thresh)\n",
    "filtered_dataset = dataset[mask]\n",
    "\n",
    "dataset = filtered_dataset\n",
    "print(len(dataset))"
   ]
  },
  {
   "cell_type": "code",
   "execution_count": 38,
   "metadata": {},
   "outputs": [
    {
     "name": "stdout",
     "output_type": "stream",
     "text": [
      "14.19110855385949 25.0 4.679203234846722\n",
      "3 29\n"
     ]
    },
    {
     "data": {
      "image/png": "[encoded data removed]",
      "text/plain": [
       "<Figure size 640x480 with 1 Axes>"
      ]
     },
     "metadata": {},
     "output_type": "display_data"
    }
   ],
   "source": [
    "lengths = dataset[\"pronunciation\"].apply(lambda x: len(x)).tolist()\n",
    "\n",
    "print(np.mean(lengths), np.quantile(lengths, 0.975), np.std(lengths))\n",
    "print(np.min(lengths), np.max(lengths))\n",
    "plt.hist(lengths, np.max(lengths) - np.min(lengths))\n",
    "plt.show()"
   ]
  },
  {
   "cell_type": "code",
   "execution_count": 39,
   "metadata": {},
   "outputs": [],
   "source": [
    "SEQ_LEN = int(np.max(lengths))\n",
    "BATCH_SIZE = 1024"
   ]
  },
  {
   "cell_type": "code",
   "execution_count": 40,
   "metadata": {},
   "outputs": [
    {
     "data": {
      "image/png": "[encoded data removed]",
      "text/plain": [
       "<Figure size 640x480 with 1 Axes>"
      ]
     },
     "metadata": {},
     "output_type": "display_data"
    }
   ],
   "source": [
    "symbols_hist = {}\n",
    "all_pronunciations = list(chain.from_iterable(dataset[\"pronunciation\"].apply(lambda x: x[1:-1])))\n",
    "symbols_hist = Counter(all_pronunciations)\n",
    "sorted_hist =dict(sorted(symbols_hist.items(), key=lambda item: item[1], reverse=True)) \n",
    "plt.bar(sorted_hist.keys(), sorted_hist.values())\n",
    "plt.show()"
   ]
  },
  {
   "cell_type": "code",
   "execution_count": 41,
   "metadata": {},
   "outputs": [
    {
     "name": "stdout",
     "output_type": "stream",
     "text": [
      "{'Russian': 425128, 'French': 371170, 'Chinese': 326359, 'Finnish': 305573, 'Portuguese': 294741, 'Spanish': 257412, 'Latin': 174876, 'Polish': 133896, 'English': 124898, 'Italian': 78277, 'German': 70131, 'Hungarian': 64102, 'Vietnamese': 59673, 'Japanese': 50461, 'Czech': 45161, 'Hindi': 44506, 'Dutch': 44087, 'Korean': 22479, 'Greek': 15926, 'Thai': 15462, 'Arabic': 12313, 'Swedish': 5319, 'Hebrew': 2183}\n"
     ]
    }
   ],
   "source": [
    "languages = (dataset[\"language\"].value_counts()).to_dict()\n",
    "print(languages)"
   ]
  },
  {
   "cell_type": "code",
   "execution_count": 42,
   "metadata": {},
   "outputs": [
    {
     "name": "stdout",
     "output_type": "stream",
     "text": [
      "4863488\n"
     ]
    }
   ],
   "source": [
    "phonetics_model = PhoneticTransformer(vocab, SEQ_LEN, languages)\n",
    "print(sum(p.numel() for p in phonetics_model.parameters()))"
   ]
  },
  {
   "cell_type": "code",
   "execution_count": 43,
   "metadata": {},
   "outputs": [],
   "source": [
    "# Save the parameters\n",
    "phonetics_model.save_model_init_params(\"model_params\")"
   ]
  },
  {
   "cell_type": "code",
   "execution_count": 21,
   "metadata": {},
   "outputs": [
    {
     "name": "stdout",
     "output_type": "stream",
     "text": [
      "Loading Russian\n",
      "Loading French\n",
      "Loading Chinese\n",
      "Loading Finnish\n",
      "Loading Portuguese\n",
      "Loading Spanish\n",
      "Loading Latin\n",
      "Loading Polish\n",
      "Loading English\n",
      "Loading Italian\n",
      "Loading German\n",
      "Loading Hungarian\n",
      "Loading Vietnamese\n",
      "Loading Japanese\n",
      "Loading Czech\n",
      "Loading Hindi\n",
      "Loading Dutch\n",
      "Loading Korean\n",
      "Loading Greek\n",
      "Loading Thai\n",
      "Loading Arabic\n",
      "Loading Swedish\n",
      "Loading Hebrew\n",
      "23\n"
     ]
    }
   ],
   "source": [
    "phonetics_dataset = PhoneticsDataset(dataset, pronunciation_tokenizer, SEQ_LEN, BATCH_SIZE)\n",
    "dataloaders = phonetics_dataset.get_data_loaders()\n",
    "print(len(dataloaders))"
   ]
  },
  {
   "cell_type": "code",
   "execution_count": 22,
   "metadata": {},
   "outputs": [],
   "source": [
    "optimizers = {}\n",
    "max_len_epochs = 0\n",
    "for x in languages.keys():\n",
    "    optimizers[x] = optim.Adam(phonetics_model.get_language_gpt(x).parameters(), lr = 0.0001)\n",
    "    max_len_epochs = max(max_len_epochs, len(dataloaders[x]))\n"
   ]
  },
  {
   "cell_type": "code",
   "execution_count": 24,
   "metadata": {},
   "outputs": [
    {
     "name": "stderr",
     "output_type": "stream",
     "text": [
      "                                                        \r"
     ]
    },
    {
     "name": "stdout",
     "output_type": "stream",
     "text": [
      "Epoch: 1 Lang: Russian Train Loss: 1.7760584695407977\n"
     ]
    },
    {
     "name": "stderr",
     "output_type": "stream",
     "text": [
      "                                                        \r"
     ]
    },
    {
     "name": "stdout",
     "output_type": "stream",
     "text": [
      "Epoch: 1 Lang: French Train Loss: 1.8459343266552801\n"
     ]
    },
    {
     "name": "stderr",
     "output_type": "stream",
     "text": [
      "                                                        \r"
     ]
    },
    {
     "name": "stdout",
     "output_type": "stream",
     "text": [
      "Epoch: 1 Lang: Chinese Train Loss: 1.4387906539402786\n"
     ]
    },
    {
     "name": "stderr",
     "output_type": "stream",
     "text": [
      "                                                        \r"
     ]
    },
    {
     "name": "stdout",
     "output_type": "stream",
     "text": [
      "Epoch: 1 Lang: Finnish Train Loss: 1.8310484774535316\n"
     ]
    },
    {
     "name": "stderr",
     "output_type": "stream",
     "text": [
      "                                                        \r"
     ]
    },
    {
     "name": "stdout",
     "output_type": "stream",
     "text": [
      "Epoch: 1 Lang: Portuguese Train Loss: 1.9071650749279394\n"
     ]
    },
    {
     "name": "stderr",
     "output_type": "stream",
     "text": [
      "                                                        \r"
     ]
    },
    {
     "name": "stdout",
     "output_type": "stream",
     "text": [
      "Epoch: 1 Lang: Spanish Train Loss: 1.9041882426965804\n"
     ]
    },
    {
     "name": "stderr",
     "output_type": "stream",
     "text": [
      "                                                        \r"
     ]
    },
    {
     "name": "stdout",
     "output_type": "stream",
     "text": [
      "Epoch: 1 Lang: Latin Train Loss: 1.8811169848804585\n"
     ]
    },
    {
     "name": "stderr",
     "output_type": "stream",
     "text": [
      "                                                        \r"
     ]
    },
    {
     "name": "stdout",
     "output_type": "stream",
     "text": [
      "Epoch: 1 Lang: Polish Train Loss: 1.7912720802782753\n"
     ]
    },
    {
     "name": "stderr",
     "output_type": "stream",
     "text": [
      "                                                        \r"
     ]
    },
    {
     "name": "stdout",
     "output_type": "stream",
     "text": [
      "Epoch: 1 Lang: English Train Loss: 2.3814717244580796\n"
     ]
    },
    {
     "name": "stderr",
     "output_type": "stream",
     "text": [
      "                                                      \r"
     ]
    },
    {
     "name": "stdout",
     "output_type": "stream",
     "text": [
      "Epoch: 1 Lang: Italian Train Loss: 1.6194624467329546\n"
     ]
    },
    {
     "name": "stderr",
     "output_type": "stream",
     "text": [
      "                                                      \r"
     ]
    },
    {
     "name": "stdout",
     "output_type": "stream",
     "text": [
      "Epoch: 1 Lang: German Train Loss: 2.0965706524641616\n"
     ]
    },
    {
     "name": "stderr",
     "output_type": "stream",
     "text": [
      "                                                      \r"
     ]
    },
    {
     "name": "stdout",
     "output_type": "stream",
     "text": [
      "Epoch: 1 Lang: Hungarian Train Loss: 2.0401765316251725\n"
     ]
    },
    {
     "name": "stderr",
     "output_type": "stream",
     "text": [
      "                                                      \r"
     ]
    },
    {
     "name": "stdout",
     "output_type": "stream",
     "text": [
      "Epoch: 1 Lang: Vietnamese Train Loss: 1.398073787839303\n"
     ]
    },
    {
     "name": "stderr",
     "output_type": "stream",
     "text": [
      "                                                      \r"
     ]
    },
    {
     "name": "stdout",
     "output_type": "stream",
     "text": [
      "Epoch: 1 Lang: Japanese Train Loss: 1.517370694875717\n"
     ]
    },
    {
     "name": "stderr",
     "output_type": "stream",
     "text": [
      "                                                      \r"
     ]
    },
    {
     "name": "stdout",
     "output_type": "stream",
     "text": [
      "Epoch: 1 Lang: Czech Train Loss: 1.976824465504399\n"
     ]
    },
    {
     "name": "stderr",
     "output_type": "stream",
     "text": [
      "                                                      \r"
     ]
    },
    {
     "name": "stdout",
     "output_type": "stream",
     "text": [
      "Epoch: 1 Lang: Hindi Train Loss: 1.5824779982518669\n"
     ]
    },
    {
     "name": "stderr",
     "output_type": "stream",
     "text": [
      "                                                      \r"
     ]
    },
    {
     "name": "stdout",
     "output_type": "stream",
     "text": [
      "Epoch: 1 Lang: Dutch Train Loss: 1.8648370197325042\n"
     ]
    },
    {
     "name": "stderr",
     "output_type": "stream",
     "text": [
      "                                                      \r"
     ]
    },
    {
     "name": "stdout",
     "output_type": "stream",
     "text": [
      "Epoch: 1 Lang: Korean Train Loss: 1.4783865451210676\n"
     ]
    },
    {
     "name": "stderr",
     "output_type": "stream",
     "text": [
      "                                                      \r"
     ]
    },
    {
     "name": "stdout",
     "output_type": "stream",
     "text": [
      "Epoch: 1 Lang: Greek Train Loss: 1.8037891920942526\n"
     ]
    },
    {
     "name": "stderr",
     "output_type": "stream",
     "text": [
      "                                                      \r"
     ]
    },
    {
     "name": "stdout",
     "output_type": "stream",
     "text": [
      "Epoch: 1 Lang: Thai Train Loss: 1.333888293745426\n"
     ]
    },
    {
     "name": "stderr",
     "output_type": "stream",
     "text": [
      "                                                      \r"
     ]
    },
    {
     "name": "stdout",
     "output_type": "stream",
     "text": [
      "Epoch: 1 Lang: Arabic Train Loss: 1.8145950359220688\n"
     ]
    },
    {
     "name": "stderr",
     "output_type": "stream",
     "text": [
      "                                                    \r"
     ]
    },
    {
     "name": "stdout",
     "output_type": "stream",
     "text": [
      "Epoch: 1 Lang: Swedish Train Loss: 2.341911542242852\n"
     ]
    },
    {
     "name": "stderr",
     "output_type": "stream",
     "text": [
      "                                                    \r"
     ]
    },
    {
     "name": "stdout",
     "output_type": "stream",
     "text": [
      "Epoch: 1 Lang: Hebrew Train Loss: 2.1135692115567157\n"
     ]
    },
    {
     "name": "stderr",
     "output_type": "stream",
     "text": [
      "                                                        \r"
     ]
    },
    {
     "name": "stdout",
     "output_type": "stream",
     "text": [
      "Epoch: 2 Lang: Russian Train Loss: 1.7420556536660745\n"
     ]
    },
    {
     "name": "stderr",
     "output_type": "stream",
     "text": [
      "                                                        \r"
     ]
    },
    {
     "name": "stdout",
     "output_type": "stream",
     "text": [
      "Epoch: 2 Lang: French Train Loss: 1.8172459786260096\n"
     ]
    },
    {
     "name": "stderr",
     "output_type": "stream",
     "text": [
      "                                                        \r"
     ]
    },
    {
     "name": "stdout",
     "output_type": "stream",
     "text": [
      "Epoch: 2 Lang: Chinese Train Loss: 1.3912365369288526\n"
     ]
    },
    {
     "name": "stderr",
     "output_type": "stream",
     "text": [
      "                                                        \r"
     ]
    },
    {
     "name": "stdout",
     "output_type": "stream",
     "text": [
      "Epoch: 2 Lang: Finnish Train Loss: 1.7871986763134449\n"
     ]
    },
    {
     "name": "stderr",
     "output_type": "stream",
     "text": [
      "                                                        \r"
     ]
    },
    {
     "name": "stdout",
     "output_type": "stream",
     "text": [
      "Epoch: 2 Lang: Portuguese Train Loss: 1.8593338508572843\n"
     ]
    },
    {
     "name": "stderr",
     "output_type": "stream",
     "text": [
      "                                                        \r"
     ]
    },
    {
     "name": "stdout",
     "output_type": "stream",
     "text": [
      "Epoch: 2 Lang: Spanish Train Loss: 1.8518217839891948\n"
     ]
    },
    {
     "name": "stderr",
     "output_type": "stream",
     "text": [
      "                                                        \r"
     ]
    },
    {
     "name": "stdout",
     "output_type": "stream",
     "text": [
      "Epoch: 2 Lang: Latin Train Loss: 1.8370977190502904\n"
     ]
    },
    {
     "name": "stderr",
     "output_type": "stream",
     "text": [
      "                                                        \r"
     ]
    },
    {
     "name": "stdout",
     "output_type": "stream",
     "text": [
      "Epoch: 2 Lang: Polish Train Loss: 1.7576231468118177\n"
     ]
    },
    {
     "name": "stderr",
     "output_type": "stream",
     "text": [
      "                                                        \r"
     ]
    },
    {
     "name": "stdout",
     "output_type": "stream",
     "text": [
      "Epoch: 2 Lang: English Train Loss: 2.351709756694856\n"
     ]
    },
    {
     "name": "stderr",
     "output_type": "stream",
     "text": [
      "                                                      \r"
     ]
    },
    {
     "name": "stdout",
     "output_type": "stream",
     "text": [
      "Epoch: 2 Lang: Italian Train Loss: 1.5846018989364823\n"
     ]
    },
    {
     "name": "stderr",
     "output_type": "stream",
     "text": [
      "                                                      \r"
     ]
    },
    {
     "name": "stdout",
     "output_type": "stream",
     "text": [
      "Epoch: 2 Lang: German Train Loss: 2.062216653915995\n"
     ]
    },
    {
     "name": "stderr",
     "output_type": "stream",
     "text": [
      "                                                      \r"
     ]
    },
    {
     "name": "stdout",
     "output_type": "stream",
     "text": [
      "Epoch: 2 Lang: Hungarian Train Loss: 2.0038812406479365\n"
     ]
    },
    {
     "name": "stderr",
     "output_type": "stream",
     "text": [
      "                                                      \r"
     ]
    },
    {
     "name": "stdout",
     "output_type": "stream",
     "text": [
      "Epoch: 2 Lang: Vietnamese Train Loss: 1.3736893513012163\n"
     ]
    },
    {
     "name": "stderr",
     "output_type": "stream",
     "text": [
      "                                                      \r"
     ]
    },
    {
     "name": "stdout",
     "output_type": "stream",
     "text": [
      "Epoch: 2 Lang: Japanese Train Loss: 1.496139484345913\n"
     ]
    },
    {
     "name": "stderr",
     "output_type": "stream",
     "text": [
      "                                                      \r"
     ]
    },
    {
     "name": "stdout",
     "output_type": "stream",
     "text": [
      "Epoch: 2 Lang: Czech Train Loss: 1.9453907787063975\n"
     ]
    },
    {
     "name": "stderr",
     "output_type": "stream",
     "text": [
      "                                                      \r"
     ]
    },
    {
     "name": "stdout",
     "output_type": "stream",
     "text": [
      "Epoch: 2 Lang: Hindi Train Loss: 1.5483067442070355\n"
     ]
    },
    {
     "name": "stderr",
     "output_type": "stream",
     "text": [
      "                                                      \r"
     ]
    },
    {
     "name": "stdout",
     "output_type": "stream",
     "text": [
      "Epoch: 2 Lang: Dutch Train Loss: 1.8372479881903139\n"
     ]
    },
    {
     "name": "stderr",
     "output_type": "stream",
     "text": [
      "                                                      \r"
     ]
    },
    {
     "name": "stdout",
     "output_type": "stream",
     "text": [
      "Epoch: 2 Lang: Korean Train Loss: 1.4432788328690962\n"
     ]
    },
    {
     "name": "stderr",
     "output_type": "stream",
     "text": [
      "                                                      \r"
     ]
    },
    {
     "name": "stdout",
     "output_type": "stream",
     "text": [
      "Epoch: 2 Lang: Greek Train Loss: 1.762397762387991\n"
     ]
    },
    {
     "name": "stderr",
     "output_type": "stream",
     "text": [
      "                                                      \r"
     ]
    },
    {
     "name": "stdout",
     "output_type": "stream",
     "text": [
      "Epoch: 2 Lang: Thai Train Loss: 1.3134374876434987\n"
     ]
    },
    {
     "name": "stderr",
     "output_type": "stream",
     "text": [
      "                                                      \r"
     ]
    },
    {
     "name": "stdout",
     "output_type": "stream",
     "text": [
      "Epoch: 2 Lang: Arabic Train Loss: 1.7887299083746397\n"
     ]
    },
    {
     "name": "stderr",
     "output_type": "stream",
     "text": [
      "                                                    \r"
     ]
    },
    {
     "name": "stdout",
     "output_type": "stream",
     "text": [
      "Epoch: 2 Lang: Swedish Train Loss: 2.2898921235172067\n"
     ]
    },
    {
     "name": "stderr",
     "output_type": "stream",
     "text": [
      "                                                    \r"
     ]
    },
    {
     "name": "stdout",
     "output_type": "stream",
     "text": [
      "Epoch: 2 Lang: Hebrew Train Loss: 2.035500034617917\n"
     ]
    },
    {
     "name": "stderr",
     "output_type": "stream",
     "text": [
      "                                                        \r"
     ]
    },
    {
     "name": "stdout",
     "output_type": "stream",
     "text": [
      "Epoch: 3 Lang: Russian Train Loss: 1.7166843411441033\n"
     ]
    },
    {
     "name": "stderr",
     "output_type": "stream",
     "text": [
      "                                                        \r"
     ]
    },
    {
     "name": "stdout",
     "output_type": "stream",
     "text": [
      "Epoch: 3 Lang: French Train Loss: 1.7952735781998017\n"
     ]
    },
    {
     "name": "stderr",
     "output_type": "stream",
     "text": [
      "                                                        \r"
     ]
    },
    {
     "name": "stdout",
     "output_type": "stream",
     "text": [
      "Epoch: 3 Lang: Chinese Train Loss: 1.356119961200463\n"
     ]
    },
    {
     "name": "stderr",
     "output_type": "stream",
     "text": [
      "                                                        \r"
     ]
    },
    {
     "name": "stdout",
     "output_type": "stream",
     "text": [
      "Epoch: 3 Lang: Finnish Train Loss: 1.7538318490503624\n"
     ]
    },
    {
     "name": "stderr",
     "output_type": "stream",
     "text": [
      "                                                        \r"
     ]
    },
    {
     "name": "stdout",
     "output_type": "stream",
     "text": [
      "Epoch: 3 Lang: Portuguese Train Loss: 1.8233820245497756\n"
     ]
    },
    {
     "name": "stderr",
     "output_type": "stream",
     "text": [
      "                                                        \r"
     ]
    },
    {
     "name": "stdout",
     "output_type": "stream",
     "text": [
      "Epoch: 3 Lang: Spanish Train Loss: 1.813471544829626\n"
     ]
    },
    {
     "name": "stderr",
     "output_type": "stream",
     "text": [
      "                                                        \r"
     ]
    },
    {
     "name": "stdout",
     "output_type": "stream",
     "text": [
      "Epoch: 3 Lang: Latin Train Loss: 1.802838315043533\n"
     ]
    },
    {
     "name": "stderr",
     "output_type": "stream",
     "text": [
      "                                                        \r"
     ]
    },
    {
     "name": "stdout",
     "output_type": "stream",
     "text": [
      "Epoch: 3 Lang: Polish Train Loss: 1.7326364972209203\n"
     ]
    },
    {
     "name": "stderr",
     "output_type": "stream",
     "text": [
      "                                                        \r"
     ]
    },
    {
     "name": "stdout",
     "output_type": "stream",
     "text": [
      "Epoch: 3 Lang: English Train Loss: 2.329176418768252\n"
     ]
    },
    {
     "name": "stderr",
     "output_type": "stream",
     "text": [
      "                                                      \r"
     ]
    },
    {
     "name": "stdout",
     "output_type": "stream",
     "text": [
      "Epoch: 3 Lang: Italian Train Loss: 1.5596809442941244\n"
     ]
    },
    {
     "name": "stderr",
     "output_type": "stream",
     "text": [
      "                                                      \r"
     ]
    },
    {
     "name": "stdout",
     "output_type": "stream",
     "text": [
      "Epoch: 3 Lang: German Train Loss: 2.034374135127966\n"
     ]
    },
    {
     "name": "stderr",
     "output_type": "stream",
     "text": [
      "                                                      \r"
     ]
    },
    {
     "name": "stdout",
     "output_type": "stream",
     "text": [
      "Epoch: 3 Lang: Hungarian Train Loss: 1.9746899201125694\n"
     ]
    },
    {
     "name": "stderr",
     "output_type": "stream",
     "text": [
      "                                                      \r"
     ]
    },
    {
     "name": "stdout",
     "output_type": "stream",
     "text": [
      "Epoch: 3 Lang: Vietnamese Train Loss: 1.3542505147670718\n"
     ]
    },
    {
     "name": "stderr",
     "output_type": "stream",
     "text": [
      "                                                      \r"
     ]
    },
    {
     "name": "stdout",
     "output_type": "stream",
     "text": [
      "Epoch: 3 Lang: Japanese Train Loss: 1.480067105293274\n"
     ]
    },
    {
     "name": "stderr",
     "output_type": "stream",
     "text": [
      "                                                      \r"
     ]
    },
    {
     "name": "stdout",
     "output_type": "stream",
     "text": [
      "Epoch: 3 Lang: Czech Train Loss: 1.9206221012421596\n"
     ]
    },
    {
     "name": "stderr",
     "output_type": "stream",
     "text": [
      "                                                      \r"
     ]
    },
    {
     "name": "stdout",
     "output_type": "stream",
     "text": [
      "Epoch: 3 Lang: Hindi Train Loss: 1.5220662436702035\n"
     ]
    },
    {
     "name": "stderr",
     "output_type": "stream",
     "text": [
      "                                                      \r"
     ]
    },
    {
     "name": "stdout",
     "output_type": "stream",
     "text": [
      "Epoch: 3 Lang: Dutch Train Loss: 1.8166042259245208\n"
     ]
    },
    {
     "name": "stderr",
     "output_type": "stream",
     "text": [
      "                                                      \r"
     ]
    },
    {
     "name": "stdout",
     "output_type": "stream",
     "text": [
      "Epoch: 3 Lang: Korean Train Loss: 1.415676479989832\n"
     ]
    },
    {
     "name": "stderr",
     "output_type": "stream",
     "text": [
      "                                                      \r"
     ]
    },
    {
     "name": "stdout",
     "output_type": "stream",
     "text": [
      "Epoch: 3 Lang: Greek Train Loss: 1.7276084589270444\n"
     ]
    },
    {
     "name": "stderr",
     "output_type": "stream",
     "text": [
      "                                                      \r"
     ]
    },
    {
     "name": "stdout",
     "output_type": "stream",
     "text": [
      "Epoch: 3 Lang: Thai Train Loss: 1.297815320870051\n"
     ]
    },
    {
     "name": "stderr",
     "output_type": "stream",
     "text": [
      "                                                      \r"
     ]
    },
    {
     "name": "stdout",
     "output_type": "stream",
     "text": [
      "Epoch: 3 Lang: Arabic Train Loss: 1.768931741324755\n"
     ]
    },
    {
     "name": "stderr",
     "output_type": "stream",
     "text": [
      "                                                    \r"
     ]
    },
    {
     "name": "stdout",
     "output_type": "stream",
     "text": [
      "Epoch: 3 Lang: Swedish Train Loss: 2.247235383388501\n"
     ]
    },
    {
     "name": "stderr",
     "output_type": "stream",
     "text": [
      "                                                    \r"
     ]
    },
    {
     "name": "stdout",
     "output_type": "stream",
     "text": [
      "Epoch: 3 Lang: Hebrew Train Loss: 1.9608528591008578\n"
     ]
    },
    {
     "name": "stderr",
     "output_type": "stream",
     "text": [
      "                                                        \r"
     ]
    },
    {
     "name": "stdout",
     "output_type": "stream",
     "text": [
      "Epoch: 4 Lang: Russian Train Loss: 1.6961742857327828\n"
     ]
    },
    {
     "name": "stderr",
     "output_type": "stream",
     "text": [
      "                                                        \r"
     ]
    },
    {
     "name": "stdout",
     "output_type": "stream",
     "text": [
      "Epoch: 4 Lang: French Train Loss: 1.7773693241692115\n"
     ]
    },
    {
     "name": "stderr",
     "output_type": "stream",
     "text": [
      "                                                        \r"
     ]
    },
    {
     "name": "stdout",
     "output_type": "stream",
     "text": [
      "Epoch: 4 Lang: Chinese Train Loss: 1.3297815812418827\n"
     ]
    },
    {
     "name": "stderr",
     "output_type": "stream",
     "text": [
      "                                                        \r"
     ]
    },
    {
     "name": "stdout",
     "output_type": "stream",
     "text": [
      "Epoch: 4 Lang: Finnish Train Loss: 1.727487946832459\n"
     ]
    },
    {
     "name": "stderr",
     "output_type": "stream",
     "text": [
      "                                                        \r"
     ]
    },
    {
     "name": "stdout",
     "output_type": "stream",
     "text": [
      "Epoch: 4 Lang: Portuguese Train Loss: 1.7957341343992286\n"
     ]
    },
    {
     "name": "stderr",
     "output_type": "stream",
     "text": [
      "                                                        \r"
     ]
    },
    {
     "name": "stdout",
     "output_type": "stream",
     "text": [
      "Epoch: 4 Lang: Spanish Train Loss: 1.7842501803996071\n"
     ]
    },
    {
     "name": "stderr",
     "output_type": "stream",
     "text": [
      "                                                        \r"
     ]
    },
    {
     "name": "stdout",
     "output_type": "stream",
     "text": [
      "Epoch: 4 Lang: Latin Train Loss: 1.776200959208416\n"
     ]
    },
    {
     "name": "stderr",
     "output_type": "stream",
     "text": [
      "                                                        \r"
     ]
    },
    {
     "name": "stdout",
     "output_type": "stream",
     "text": [
      "Epoch: 4 Lang: Polish Train Loss: 1.7130292732903671\n"
     ]
    },
    {
     "name": "stderr",
     "output_type": "stream",
     "text": [
      "                                                        \r"
     ]
    },
    {
     "name": "stdout",
     "output_type": "stream",
     "text": [
      "Epoch: 4 Lang: English Train Loss: 2.3111082523898347\n"
     ]
    },
    {
     "name": "stderr",
     "output_type": "stream",
     "text": [
      "                                                      \r"
     ]
    },
    {
     "name": "stdout",
     "output_type": "stream",
     "text": [
      "Epoch: 4 Lang: Italian Train Loss: 1.5408446630874237\n"
     ]
    },
    {
     "name": "stderr",
     "output_type": "stream",
     "text": [
      "                                                      \r"
     ]
    },
    {
     "name": "stdout",
     "output_type": "stream",
     "text": [
      "Epoch: 4 Lang: German Train Loss: 2.0112697539698097\n"
     ]
    },
    {
     "name": "stderr",
     "output_type": "stream",
     "text": [
      "                                                      \r"
     ]
    },
    {
     "name": "stdout",
     "output_type": "stream",
     "text": [
      "Epoch: 4 Lang: Hungarian Train Loss: 1.9508405841847576\n"
     ]
    },
    {
     "name": "stderr",
     "output_type": "stream",
     "text": [
      "                                                      \r"
     ]
    },
    {
     "name": "stdout",
     "output_type": "stream",
     "text": [
      "Epoch: 4 Lang: Vietnamese Train Loss: 1.3397613498258245\n"
     ]
    },
    {
     "name": "stderr",
     "output_type": "stream",
     "text": [
      "                                                      \r"
     ]
    },
    {
     "name": "stdout",
     "output_type": "stream",
     "text": [
      "Epoch: 4 Lang: Japanese Train Loss: 1.4679833891987801\n"
     ]
    },
    {
     "name": "stderr",
     "output_type": "stream",
     "text": [
      "                                                      \r"
     ]
    },
    {
     "name": "stdout",
     "output_type": "stream",
     "text": [
      "Epoch: 4 Lang: Czech Train Loss: 1.900890694429845\n"
     ]
    },
    {
     "name": "stderr",
     "output_type": "stream",
     "text": [
      "                                                      \r"
     ]
    },
    {
     "name": "stdout",
     "output_type": "stream",
     "text": [
      "Epoch: 4 Lang: Hindi Train Loss: 1.500553075412307\n"
     ]
    },
    {
     "name": "stderr",
     "output_type": "stream",
     "text": [
      "                                                      \r"
     ]
    },
    {
     "name": "stdout",
     "output_type": "stream",
     "text": [
      "Epoch: 4 Lang: Dutch Train Loss: 1.799247311823296\n"
     ]
    },
    {
     "name": "stderr",
     "output_type": "stream",
     "text": [
      "                                                      \r"
     ]
    },
    {
     "name": "stdout",
     "output_type": "stream",
     "text": [
      "Epoch: 4 Lang: Korean Train Loss: 1.3948066902883125\n"
     ]
    },
    {
     "name": "stderr",
     "output_type": "stream",
     "text": [
      "                                                      \r"
     ]
    },
    {
     "name": "stdout",
     "output_type": "stream",
     "text": [
      "Epoch: 4 Lang: Greek Train Loss: 1.6981693961872504\n"
     ]
    },
    {
     "name": "stderr",
     "output_type": "stream",
     "text": [
      "                                                      \r"
     ]
    },
    {
     "name": "stdout",
     "output_type": "stream",
     "text": [
      "Epoch: 4 Lang: Thai Train Loss: 1.2851787375716062\n"
     ]
    },
    {
     "name": "stderr",
     "output_type": "stream",
     "text": [
      "                                                      \r"
     ]
    },
    {
     "name": "stdout",
     "output_type": "stream",
     "text": [
      "Epoch: 4 Lang: Arabic Train Loss: 1.7584864591749816\n"
     ]
    },
    {
     "name": "stderr",
     "output_type": "stream",
     "text": [
      "                                                    \r"
     ]
    },
    {
     "name": "stdout",
     "output_type": "stream",
     "text": [
      "Epoch: 4 Lang: Swedish Train Loss: 2.2049024191455566\n"
     ]
    },
    {
     "name": "stderr",
     "output_type": "stream",
     "text": [
      "                                                    \r"
     ]
    },
    {
     "name": "stdout",
     "output_type": "stream",
     "text": [
      "Epoch: 4 Lang: Hebrew Train Loss: 1.8912344405040649\n"
     ]
    },
    {
     "name": "stderr",
     "output_type": "stream",
     "text": [
      "                                                        \r"
     ]
    },
    {
     "name": "stdout",
     "output_type": "stream",
     "text": [
      "Epoch: 5 Lang: Russian Train Loss: 1.6788573067348738\n"
     ]
    },
    {
     "name": "stderr",
     "output_type": "stream",
     "text": [
      "                                                        \r"
     ]
    },
    {
     "name": "stdout",
     "output_type": "stream",
     "text": [
      "Epoch: 5 Lang: French Train Loss: 1.763049802504295\n"
     ]
    },
    {
     "name": "stderr",
     "output_type": "stream",
     "text": [
      "                                                        \r"
     ]
    },
    {
     "name": "stdout",
     "output_type": "stream",
     "text": [
      "Epoch: 5 Lang: Chinese Train Loss: 1.309171369456946\n"
     ]
    },
    {
     "name": "stderr",
     "output_type": "stream",
     "text": [
      "                                                        \r"
     ]
    },
    {
     "name": "stdout",
     "output_type": "stream",
     "text": [
      "Epoch: 5 Lang: Finnish Train Loss: 1.705667706237589\n"
     ]
    },
    {
     "name": "stderr",
     "output_type": "stream",
     "text": [
      "                                                        \r"
     ]
    },
    {
     "name": "stdout",
     "output_type": "stream",
     "text": [
      "Epoch: 5 Lang: Portuguese Train Loss: 1.7739558948410883\n"
     ]
    },
    {
     "name": "stderr",
     "output_type": "stream",
     "text": [
      "                                                        \r"
     ]
    },
    {
     "name": "stdout",
     "output_type": "stream",
     "text": [
      "Epoch: 5 Lang: Spanish Train Loss: 1.7613478932115767\n"
     ]
    },
    {
     "name": "stderr",
     "output_type": "stream",
     "text": [
      "                                                        \r"
     ]
    },
    {
     "name": "stdout",
     "output_type": "stream",
     "text": [
      "Epoch: 5 Lang: Latin Train Loss: 1.7542272513372856\n"
     ]
    },
    {
     "name": "stderr",
     "output_type": "stream",
     "text": [
      "                                                        \r"
     ]
    },
    {
     "name": "stdout",
     "output_type": "stream",
     "text": [
      "Epoch: 5 Lang: Polish Train Loss: 1.69662051376799\n"
     ]
    },
    {
     "name": "stderr",
     "output_type": "stream",
     "text": [
      "                                                        \r"
     ]
    },
    {
     "name": "stdout",
     "output_type": "stream",
     "text": [
      "Epoch: 5 Lang: English Train Loss: 2.295575442209921\n"
     ]
    },
    {
     "name": "stderr",
     "output_type": "stream",
     "text": [
      "                                                      \r"
     ]
    },
    {
     "name": "stdout",
     "output_type": "stream",
     "text": [
      "Epoch: 5 Lang: Italian Train Loss: 1.5259121910318152\n"
     ]
    },
    {
     "name": "stderr",
     "output_type": "stream",
     "text": [
      "                                                      \r"
     ]
    },
    {
     "name": "stdout",
     "output_type": "stream",
     "text": [
      "Epoch: 5 Lang: German Train Loss: 1.9912931464144572\n"
     ]
    },
    {
     "name": "stderr",
     "output_type": "stream",
     "text": [
      "                                                      \r"
     ]
    },
    {
     "name": "stdout",
     "output_type": "stream",
     "text": [
      "Epoch: 5 Lang: Hungarian Train Loss: 1.9302373358181544\n"
     ]
    },
    {
     "name": "stderr",
     "output_type": "stream",
     "text": [
      "                                                      \r"
     ]
    },
    {
     "name": "stdout",
     "output_type": "stream",
     "text": [
      "Epoch: 5 Lang: Vietnamese Train Loss: 1.3288166344021481\n"
     ]
    },
    {
     "name": "stderr",
     "output_type": "stream",
     "text": [
      "                                                      \r"
     ]
    },
    {
     "name": "stdout",
     "output_type": "stream",
     "text": [
      "Epoch: 5 Lang: Japanese Train Loss: 1.4582502093911172\n"
     ]
    },
    {
     "name": "stderr",
     "output_type": "stream",
     "text": [
      "                                                      \r"
     ]
    },
    {
     "name": "stdout",
     "output_type": "stream",
     "text": [
      "Epoch: 5 Lang: Czech Train Loss: 1.8837541777410625\n"
     ]
    },
    {
     "name": "stderr",
     "output_type": "stream",
     "text": [
      "                                                      \r"
     ]
    },
    {
     "name": "stdout",
     "output_type": "stream",
     "text": [
      "Epoch: 5 Lang: Hindi Train Loss: 1.4822898561304265\n"
     ]
    },
    {
     "name": "stderr",
     "output_type": "stream",
     "text": [
      "                                                      \r"
     ]
    },
    {
     "name": "stdout",
     "output_type": "stream",
     "text": [
      "Epoch: 5 Lang: Dutch Train Loss: 1.783776713140083\n"
     ]
    },
    {
     "name": "stderr",
     "output_type": "stream",
     "text": [
      "                                                      \r"
     ]
    },
    {
     "name": "stdout",
     "output_type": "stream",
     "text": [
      "Epoch: 5 Lang: Korean Train Loss: 1.378673156403532\n"
     ]
    },
    {
     "name": "stderr",
     "output_type": "stream",
     "text": [
      "                                                      \r"
     ]
    },
    {
     "name": "stdout",
     "output_type": "stream",
     "text": [
      "Epoch: 5 Lang: Greek Train Loss: 1.6717715501212156\n"
     ]
    },
    {
     "name": "stderr",
     "output_type": "stream",
     "text": [
      "                                                      \r"
     ]
    },
    {
     "name": "stdout",
     "output_type": "stream",
     "text": [
      "Epoch: 5 Lang: Thai Train Loss: 1.2746241061160197\n"
     ]
    },
    {
     "name": "stderr",
     "output_type": "stream",
     "text": [
      "                                                      \r"
     ]
    },
    {
     "name": "stdout",
     "output_type": "stream",
     "text": [
      "Epoch: 5 Lang: Arabic Train Loss: 1.742937105206343\n"
     ]
    },
    {
     "name": "stderr",
     "output_type": "stream",
     "text": [
      "                                                    \r"
     ]
    },
    {
     "name": "stdout",
     "output_type": "stream",
     "text": [
      "Epoch: 5 Lang: Swedish Train Loss: 2.1659401839482038\n"
     ]
    },
    {
     "name": "stderr",
     "output_type": "stream",
     "text": [
      "                                                    "
     ]
    },
    {
     "name": "stdout",
     "output_type": "stream",
     "text": [
      "Epoch: 5 Lang: Hebrew Train Loss: 1.8274296838880162\n"
     ]
    },
    {
     "name": "stderr",
     "output_type": "stream",
     "text": [
      "\r"
     ]
    }
   ],
   "source": [
    "criterion = nn.CrossEntropyLoss(ignore_index=vocab.get(\"[PAD]\"))\n",
    "EPOCHS = 5\n",
    "EPOCH_SAVE_FREQUENCY = 1\n",
    "\n",
    "for epoch in range(EPOCHS):\n",
    "    for lang, dataloader in dataloaders.items():\n",
    "        optimizer = optimizers[lang]\n",
    "        total_loss = 0\n",
    "        \n",
    "        model = phonetics_model.get_language_gpt(lang)\n",
    "        model.train()\n",
    "        model.to(device)\n",
    "\n",
    "        mini_epochs = int(np.floor(max_len_epochs / len(dataloader)))\n",
    "        for m in range(mini_epochs):\n",
    "            for i, (input_ids, target_ids) in tqdm(enumerate(dataloader), total=len(dataloader), desc='Batch', leave=False):\n",
    "                optimizer.zero_grad()\n",
    "                input_ids = input_ids.to(device)\n",
    "                target_ids = target_ids.to(device)\n",
    "                tgt_mask = generate_square_subsequent_mask(input_ids.size(1)).to(device)\n",
    "\n",
    "                output = model(input_ids).logits\n",
    "\n",
    "                loss = criterion(output.permute(0, 2, 1), target_ids)\n",
    "                loss.backward()\n",
    "                optimizer.step()\n",
    "                total_loss += loss.item()\n",
    "\n",
    "        print(f\"Epoch: {epoch + 1} Lang: {lang} Train Loss: {total_loss / (mini_epochs * len(dataloader))}\")\n",
    "        model.to(\"cpu\")\n",
    "        model.eval()\n",
    "\n",
    "    if ((epoch + 1) % EPOCH_SAVE_FREQUENCY == 0):\n",
    "        torch.save(phonetics_model.state_dict(), f\"model{(int(4 + epoch/EPOCH_SAVE_FREQUENCY))}\")\n",
    "        "
   ]
  },
  {
   "cell_type": "code",
   "execution_count": 25,
   "metadata": {},
   "outputs": [],
   "source": [
    "def generate(model, pad_token_id, top_k = 50, top_p = 0.95, language_temps = None, temperature = 1.0):\n",
    "    input_ids = pronunciation_tokenizer.encode(\"\").ids[:-1]\n",
    "    output = model.generate(\n",
    "        input_ids,\n",
    "        pad_token_id = pad_token_id,\n",
    "        no_repeat_ngram_size=0,  # Prevent repetition\n",
    "        do_sample = True,\n",
    "        top_k=top_k,  # Limits the sampling pool to top_k tokens\n",
    "        top_p=top_p,  # Cumulative probability for nucleus sampling\n",
    "        language_temps = language_temps,\n",
    "        temperature=temperature,  # Adjust the randomness of predictions,\n",
    "    )\n",
    "    output = pronunciation_tokenizer.decode(output[0][1:-1].cpu().numpy())\n",
    "    return output"
   ]
  },
  {
   "cell_type": "code",
   "execution_count": 26,
   "metadata": {},
   "outputs": [
    {
     "name": "stderr",
     "output_type": "stream",
     "text": [
      "C:\\Users\\Joaquin\\AppData\\Local\\Temp\\ipykernel_19888\\987338028.py:3: FutureWarning: You are using `torch.load` with `weights_only=False` (the current default value), which uses the default pickle module implicitly. It is possible to construct malicious pickle data which will execute arbitrary code during unpickling (See https://github.com/pytorch/pytorch/blob/main/SECURITY.md#untrusted-models for more details). In a future release, the default value for `weights_only` will be flipped to `True`. This limits the functions that could be executed during unpickling. Arbitrary objects will no longer be allowed to be loaded via this mode unless they are explicitly allowlisted by the user via `torch.serialization.add_safe_globals`. We recommend you start setting `weights_only=True` for any use case where you don't have full control of the loaded file. Please open an issue on GitHub for any issues related to this experimental feature.\n",
      "  phonetics_model.load_state_dict(torch.load(\"model8\"))\n"
     ]
    },
    {
     "name": "stdout",
     "output_type": "stream",
     "text": [
      "²\n",
      "ˈtɛ(ː)lʊt͡nɛ\n",
      "ma̠ʊ²iː)œoəɯ\n",
      "ʉːl\n",
      "oːrtʰ\n",
      "a¹ɧuːn\n",
      "tuː\n",
      "ɕɧɛjleː)]r\n",
      "ɛkɪ²iːla\n",
      "hɛrːtʰːn\n"
     ]
    }
   ],
   "source": [
    "languages = (1.0 / df[\"language\"].value_counts(normalize=True)).to_dict()\n",
    "phonetics_model = PhoneticTransformer(vocab, SEQ_LEN, languages)\n",
    "phonetics_model.load_state_dict(torch.load(\"model8\"))\n",
    "phonetics_model.to_device(\"cpu\")\n",
    "phonetics_model.eval()\n",
    "languages = {\n",
    "    \"Korean\": 1,\n",
    "    \"Swedish\": 2,\n",
    "}\n",
    "temps = {\n",
    "    \"German\": 0.2\n",
    "}\n",
    "\n",
    "phonetics_model.set_language_weights(languages)\n",
    "for _ in range(10):\n",
    "    o = generate(phonetics_model, vocab[\"[PAD]\"], top_k=50, top_p=0.95, language_temps = temps, temperature=1.0)\n",
    "    print(o)"
   ]
  },
  {
   "cell_type": "code",
   "execution_count": 27,
   "metadata": {},
   "outputs": [],
   "source": [
    "pronunciation_tokenizer.save_pretrained(\"C:\\\\Users\\\\Joaquin\\\\Desktop\\\\Playground\\\\ML\\\\ChaosLang\\\\models\")"
   ]
  }
 ],
 "metadata": {
  "kernelspec": {
   "display_name": "agienv",
   "language": "python",
   "name": "python3"
  },
  "language_info": {
   "codemirror_mode": {
    "name": "ipython",
    "version": 3
   },
   "file_extension": ".py",
   "mimetype": "text/x-python",
   "name": "python",
   "nbconvert_exporter": "python",
   "pygments_lexer": "ipython3",
   "version": "3.12.4"
  },
  "orig_nbformat": 4
 },
 "nbformat": 4,
 "nbformat_minor": 2
}
