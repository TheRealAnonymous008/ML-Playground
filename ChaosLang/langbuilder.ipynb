{
 "cells": [
  {
   "cell_type": "code",
   "execution_count": 8,
   "metadata": {},
   "outputs": [
    {
     "name": "stdout",
     "output_type": "stream",
     "text": [
      "The autoreload extension is already loaded. To reload it, use:\n",
      "  %reload_ext autoreload\n"
     ]
    }
   ],
   "source": [
    "%load_ext autoreload\n",
    "%autoreload 2\n",
    "from solution.model import * \n",
    "from solution.romanizer import *"
   ]
  },
  {
   "cell_type": "code",
   "execution_count": 9,
   "metadata": {},
   "outputs": [
    {
     "name": "stdout",
     "output_type": "stream",
     "text": [
      "{'[CLS]': 0, '[SEP]': 1, '[BOS]': 2, '[MASK]': 3, '[PAD]': 4, '[UNK]': 5, '[EOS]': 6, '.': 7, 'ˈ': 8, 't': 9, 'i': 10, 'a': 11, 's': 12, 'n': 13, 'e': 14, 'k': 15, 'o': 16, 'l': 17, 'u': 18, 'ː': 19, 'm': 20, ' ': 21, 'r': 22, 'p': 23, 'ɪ': 24, 'ə': 25, 'ʲ': 26, 'd': 27, '⁵': 28, 'j': 29, 'ɑ': 30, 'ɛ': 31, '͡': 32, '²': 33, '̯': 34, '¹': 35, 'ɔ': 36, 'ɐ': 37, '³': 38, 'ˌ': 39, '̞': 40, 'ʁ': 41, 'b': 42, 'v': 43, '⁴': 44, '̪': 45, 'ɾ': 46, 'f': 47, 'z': 48, '⁻': 49, 'ʊ': 50, 'ɡ': 51, '̃': 52, 'ɨ': 53, 'ɕ': 54, 'ŋ': 55, '̠': 56, 'ʃ': 57, '̝': 58, 'ʰ': 59, ')': 60, '(': 61, 'w': 62, 'h': 63, 'ʂ': 64, '˧': 65, 'y': 66, 'ä': 67, 'æ': 68, 'x': 69, 'ʒ': 70, '̚': 71, 'ɫ': 72, 'ʔ': 73, 'ʋ': 74, '˨': 75, '˩': 76, 'ɲ': 77, '˦': 78, 'ð': 79, 'ʐ': 80, 'ẽ': 81, '̟': 82, 'ɒ': 83, 'ɹ': 84, 'θ': 85, 'ø': 86, 'ĩ': 87, '̩': 88, 'ʈ': 89, '˥': 90, '⁽': 91, '⁾': 92, 'ᵝ': 93, 'β': 94, 'õ': 95, 'ɦ': 96, 'ɯ': 97, 'ɤ': 98, 'ɣ': 99, 'ã': 100, 'ˣ': 101, 'ʝ': 102, 'ʌ': 103, 'ɵ': 104, 'ɻ': 105, 'ʑ': 106, 'ʎ': 107, 'ç': 108, 'œ': 109, '~': 110, ']': 111, '[': 112, 'ʉ': 113, 'χ': 114, '‿': 115, 'ɥ': 116, '̹': 117, 'ɗ': 118, '-': 119, 'ũ': 120, 'ɓ': 121, 'ˀ': 122, 'ʏ': 123, 'c': 124, '͈': 125, 'ʷ': 126, 'ɚ': 127, 'ɟ': 128, 'ɴ': 129, 'ɭ': 130, 'ʱ': 131, 'ɰ': 132, '̥': 133, 'ˑ': 134, '̊': 135, 'ɸ': 136, 'ɜ': 137, '̬': 138, 'ˤ': 139, 'ɽ': 140, 'q': 141, 'ɝ': 142, 'ʕ': 143, 'ɖ': 144, 'ɳ': 145, 'ħ': 146, 'ɘ': 147, 'ɧ': 148}\n"
     ]
    },
    {
     "name": "stderr",
     "output_type": "stream",
     "text": [
      "C:\\Users\\Joaquin\\AppData\\Local\\Temp\\ipykernel_20068\\3745097377.py:7: FutureWarning: You are using `torch.load` with `weights_only=False` (the current default value), which uses the default pickle module implicitly. It is possible to construct malicious pickle data which will execute arbitrary code during unpickling (See https://github.com/pytorch/pytorch/blob/main/SECURITY.md#untrusted-models for more details). In a future release, the default value for `weights_only` will be flipped to `True`. This limits the functions that could be executed during unpickling. Arbitrary objects will no longer be allowed to be loaded via this mode unless they are explicitly allowlisted by the user via `torch.serialization.add_safe_globals`. We recommend you start setting `weights_only=True` for any use case where you don't have full control of the loaded file. Please open an issue on GitHub for any issues related to this experimental feature.\n",
      "  phonetics_model.load_state_dict(torch.load(\"models/base/base_v1\"))\n"
     ]
    },
    {
     "data": {
      "text/plain": [
       "PhoneticTransformer(\n",
       "  (gpts): ModuleList(\n",
       "    (0-22): 23 x GPT2LMHeadModel(\n",
       "      (transformer): GPT2Model(\n",
       "        (wte): Embedding(149, 64)\n",
       "        (wpe): Embedding(29, 64)\n",
       "        (drop): Dropout(p=0.1, inplace=False)\n",
       "        (h): ModuleList(\n",
       "          (0-3): 4 x GPT2Block(\n",
       "            (ln_1): LayerNorm((64,), eps=1e-05, elementwise_affine=True)\n",
       "            (attn): GPT2SdpaAttention(\n",
       "              (c_attn): Conv1D()\n",
       "              (c_proj): Conv1D()\n",
       "              (attn_dropout): Dropout(p=0.1, inplace=False)\n",
       "              (resid_dropout): Dropout(p=0.1, inplace=False)\n",
       "            )\n",
       "            (ln_2): LayerNorm((64,), eps=1e-05, elementwise_affine=True)\n",
       "            (mlp): GPT2MLP(\n",
       "              (c_fc): Conv1D()\n",
       "              (c_proj): Conv1D()\n",
       "              (act): NewGELUActivation()\n",
       "              (dropout): Dropout(p=0.1, inplace=False)\n",
       "            )\n",
       "          )\n",
       "        )\n",
       "        (ln_f): LayerNorm((64,), eps=1e-05, elementwise_affine=True)\n",
       "      )\n",
       "      (lm_head): Linear(in_features=64, out_features=149, bias=False)\n",
       "    )\n",
       "  )\n",
       ")"
      ]
     },
     "execution_count": 9,
     "metadata": {},
     "output_type": "execute_result"
    }
   ],
   "source": [
    "pronunciation_tokenizer = CharacterTokenizer.from_pretrained(\"models/base\")\n",
    "print(pronunciation_tokenizer.get_vocab())\n",
    "\n",
    "vocab = pronunciation_tokenizer.get_vocab()\n",
    "\n",
    "phonetics_model = PhoneticTransformer(vocab, pikl=\"models/base/model_params.pkl\")\n",
    "phonetics_model.load_state_dict(torch.load(\"models/base/base_v1\"))\n",
    "phonetics_model.to_device(\"cpu\")\n",
    "phonetics_model.eval()"
   ]
  },
  {
   "cell_type": "code",
   "execution_count": 10,
   "metadata": {},
   "outputs": [],
   "source": [
    "def generate(model, pad_token_id, top_k = 50, top_p = 0.95, language_temps = None, temperature = 1.0):\n",
    "    input_ids = pronunciation_tokenizer.encode(\"\").ids[:-1]\n",
    "    output = model.generate(\n",
    "        input_ids,\n",
    "        pad_token_id = pad_token_id,\n",
    "        no_repeat_ngram_size=0,  # Prevent repetition\n",
    "        do_sample = True,\n",
    "        top_k=top_k,  # Limits the sampling pool to top_k tokens\n",
    "        top_p=top_p,  # Cumulative probability for nucleus sampling\n",
    "        language_temps = language_temps,\n",
    "        temperature=temperature,  # Adjust the randomness of predictions,\n",
    "    )\n",
    "    output = pronunciation_tokenizer.decode(output[0][1:-1].cpu().numpy())\n",
    "    return output"
   ]
  },
  {
   "cell_type": "code",
   "execution_count": 11,
   "metadata": {},
   "outputs": [],
   "source": [
    "GENERATED_LANGUAGE_SIZE = 1000"
   ]
  },
  {
   "cell_type": "code",
   "execution_count": 12,
   "metadata": {},
   "outputs": [],
   "source": [
    "languages = {\n",
    "    \"English\": 1,\n",
    "}\n",
    "temps = {\n",
    "    \"German\": 0.2\n",
    "}\n",
    "\n",
    "phonetics_model.set_language_weights(languages)\n",
    "language_sounds = []\n",
    "for _ in range(GENERATED_LANGUAGE_SIZE):\n",
    "    o = generate(phonetics_model, vocab[\"[PAD]\"], top_k=50, top_p=0.95, language_temps = temps, temperature=1.0)\n",
    "    language_sounds.append(o)"
   ]
  },
  {
   "cell_type": "code",
   "execution_count": 13,
   "metadata": {},
   "outputs": [
    {
     "name": "stdout",
     "output_type": "stream",
     "text": [
      "Encountered unknown symbol : ̬\n",
      "Encountered unknown symbol : ̬\n"
     ]
    }
   ],
   "source": [
    "language_vocabulary = {}\n",
    "for x in language_sounds:\n",
    "    y = romanize(x)\n",
    "    language_vocabulary[x] = y\n",
    "    print(y, x)"
   ]
  },
  {
   "cell_type": "code",
   "execution_count": null,
   "metadata": {},
   "outputs": [],
   "source": []
  }
 ],
 "metadata": {
  "kernelspec": {
   "display_name": "agi",
   "language": "python",
   "name": "python3"
  },
  "language_info": {
   "codemirror_mode": {
    "name": "ipython",
    "version": 3
   },
   "file_extension": ".py",
   "mimetype": "text/x-python",
   "name": "python",
   "nbconvert_exporter": "python",
   "pygments_lexer": "ipython3",
   "version": "3.12.4"
  }
 },
 "nbformat": 4,
 "nbformat_minor": 2
}
