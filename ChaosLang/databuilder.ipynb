{
 "cells": [
  {
   "cell_type": "code",
   "execution_count": 11,
   "metadata": {},
   "outputs": [
    {
     "name": "stdout",
     "output_type": "stream",
     "text": [
      "The autoreload extension is already loaded. To reload it, use:\n",
      "  %reload_ext autoreload\n"
     ]
    }
   ],
   "source": [
    "%load_ext autoreload\n",
    "%autoreload 2\n",
    "\n",
    "import pandas as pd\n",
    "import numpy as np\n",
    "from languages import LANGUAGES"
   ]
  },
  {
   "cell_type": "code",
   "execution_count": 12,
   "metadata": {},
   "outputs": [],
   "source": [
    "FILE_DIR = \"./langdata/\"\n",
    "\n",
    "def split_pronunciation(row, lang):\n",
    "    pronunciations : list[str] = row[\"pronunciation\"].split(',')\n",
    "    \n",
    "    # Remove all broad transcriptions\n",
    "    broad_transcriptions = []\n",
    "    for p in pronunciations: \n",
    "        if p.startswith(\"/\") and p.endswith(\"/\"):\n",
    "            broad_transcriptions.append(p[1:-1])\n",
    "        elif p.startswith(\"[\") and p.endswith(\"]\"):\n",
    "            broad_transcriptions.append(p[1:-1])\n",
    "\n",
    "    return pd.DataFrame({\"pronunciation\": broad_transcriptions, \n",
    "                         \"word\": [row[\"word\"]] * len(broad_transcriptions), \n",
    "                         \"language\": [lang] * len(broad_transcriptions)})\n",
    "\n",
    "def process_language(lang):\n",
    "    lang_df = pd.DataFrame({\"pronunciation\": [], \"word\": [], \"language\": []}) \n",
    "\n",
    "    df = pd.read_csv(FILE_DIR + lang + \".csv\")\n",
    "    \n",
    "    for i in range(len(df)):\n",
    "        x = df.iloc[i]\n",
    "        P = split_pronunciation(x, lang)\n",
    "        lang_df  = pd.concat([lang_df, P], ignore_index=True)\n",
    "\n",
    "        del P \n",
    "\n",
    "    return lang_df"
   ]
  },
  {
   "cell_type": "code",
   "execution_count": 13,
   "metadata": {},
   "outputs": [],
   "source": [
    "df = process_language(\"Japanese\")\n",
    "df = pd.concat([df, process_language(\"English\")], ignore_index=True)\n",
    "\n",
    "df.to_csv(\"Japanese_English_Processed.csv\")\n"
   ]
  },
  {
   "cell_type": "code",
   "execution_count": null,
   "metadata": {},
   "outputs": [],
   "source": []
  },
  {
   "cell_type": "markdown",
   "metadata": {},
   "source": [
    "# Process All Languages"
   ]
  },
  {
   "cell_type": "code",
   "execution_count": null,
   "metadata": {},
   "outputs": [],
   "source": [
    "loaded_df = pd.DataFrame({\"pronunciation\": [], \"word\": [], \"language\": []}) \n",
    "ctr = 0\n",
    "lang_ctr = 7\n",
    "\n",
    "start_idx = lang_ctr * 10 + ctr \n",
    "for lang in [LANGUAGES[start_idx:]]:\n",
    "    ctr += 1\n",
    "    print(lang_ctr * 10 + ctr - 1, lang)\n",
    "\n",
    "    df = pd.read_csv(FILE_DIR + lang + \".csv\")\n",
    "    \n",
    "    for i in range(len(df)):\n",
    "        x = df.iloc[i]\n",
    "        P = split_pronunciation(x, lang)\n",
    "        loaded_df  = pd.concat([loaded_df, P], ignore_index=True)\n",
    "\n",
    "        del P \n",
    "    \n",
    "    if ctr == 10: \n",
    "        loaded_df.to_csv(f\"full_dataset_v0_{lang_ctr}.csv\")\n",
    "        loaded_df = pd.DataFrame({\"pronunciation\": [], \"word\": [], \"language\": []}) \n",
    "        lang_ctr += 1\n",
    "        ctr = 0\n",
    "    del df"
   ]
  },
  {
   "cell_type": "code",
   "execution_count": null,
   "metadata": {},
   "outputs": [],
   "source": [
    "merged_df = pd.DataFrame({\"pronunciation\": [], \"word\": [], \"language\": []}) \n",
    "# Merge all entries \n",
    "for i in range(0, 12):\n",
    "    file = f\"dataset/full_dataset_v0_{i}.csv\"\n",
    "    df = pd.read_csv(file)\n",
    "    merged_df = pd.concat([merged_df, df[[\"pronunciation\", \"word\", \"language\"]]], ignore_index=True)\n",
    "\n",
    "    del df \n",
    "\n",
    "merged_df.to_csv(\"full_dataset_v0.csv\")"
   ]
  },
  {
   "cell_type": "code",
   "execution_count": null,
   "metadata": {},
   "outputs": [],
   "source": [
    "print(merged_df['pronunciation'].str.len().max())"
   ]
  }
 ],
 "metadata": {
  "kernelspec": {
   "display_name": "agi",
   "language": "python",
   "name": "python3"
  },
  "language_info": {
   "codemirror_mode": {
    "name": "ipython",
    "version": 3
   },
   "file_extension": ".py",
   "mimetype": "text/x-python",
   "name": "python",
   "nbconvert_exporter": "python",
   "pygments_lexer": "ipython3",
   "version": "3.12.4"
  }
 },
 "nbformat": 4,
 "nbformat_minor": 2
}
